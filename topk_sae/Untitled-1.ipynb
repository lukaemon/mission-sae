{
 "cells": [
  {
   "cell_type": "code",
   "execution_count": 1,
   "metadata": {},
   "outputs": [],
   "source": [
    "import torch\n",
    "import blobfile as bf\n",
    "import transformer_lens\n",
    "import sparse_autoencoder"
   ]
  },
  {
   "cell_type": "code",
   "execution_count": 2,
   "metadata": {},
   "outputs": [
    {
     "name": "stderr",
     "output_type": "stream",
     "text": [
      "/home/lukaemon/miniconda3/envs/topk_sae/lib/python3.11/site-packages/huggingface_hub/file_download.py:1132: FutureWarning: `resume_download` is deprecated and will be removed in version 1.0.0. Downloads always resume when possible. If you want to force a new download, use `force_download=True`.\n",
      "  warnings.warn(\n"
     ]
    },
    {
     "name": "stdout",
     "output_type": "stream",
     "text": [
      "Loaded pretrained model gpt2 into HookedTransformer\n"
     ]
    }
   ],
   "source": [
    "# Extract neuron activations with transformer_lens\n",
    "model = transformer_lens.HookedTransformer.from_pretrained(\"gpt2\", center_writing_weights=False)\n",
    "device = next(model.parameters()).device"
   ]
  },
  {
   "cell_type": "code",
   "execution_count": 3,
   "metadata": {},
   "outputs": [
    {
     "name": "stdout",
     "output_type": "stream",
     "text": [
      "gpt2 has 163,049,041 params\n"
     ]
    }
   ],
   "source": [
    "n = sum([p.numel() for p in model.parameters()])\n",
    "print(f\"gpt2 has {n:,} params\")"
   ]
  },
  {
   "cell_type": "code",
   "execution_count": 4,
   "metadata": {},
   "outputs": [],
   "source": [
    "layer_index = 6\n",
    "location = \"resid_post_mlp\"\n",
    "\n",
    "transformer_lens_loc = {\n",
    "    \"mlp_post_act\": f\"blocks.{layer_index}.mlp.hook_post\",\n",
    "    \"resid_delta_attn\": f\"blocks.{layer_index}.hook_attn_out\",\n",
    "    \"resid_post_attn\": f\"blocks.{layer_index}.hook_resid_mid\",\n",
    "    \"resid_delta_mlp\": f\"blocks.{layer_index}.hook_mlp_out\",\n",
    "    \"resid_post_mlp\": f\"blocks.{layer_index}.hook_resid_post\",\n",
    "}[location]\n",
    "\n",
    "with bf.BlobFile(sparse_autoencoder.paths.v5_32k(location, layer_index), mode=\"rb\") as f:\n",
    "    state_dict = torch.load(f)\n",
    "    autoencoder = sparse_autoencoder.Autoencoder.from_state_dict(state_dict)\n",
    "    autoencoder.to(device)"
   ]
  },
  {
   "cell_type": "code",
   "execution_count": 5,
   "metadata": {},
   "outputs": [
    {
     "data": {
      "text/plain": [
       "Autoencoder(\n",
       "  (encoder): Linear(in_features=768, out_features=32768, bias=False)\n",
       "  (activation): TopK(\n",
       "    (postact_fn): ReLU()\n",
       "  )\n",
       "  (decoder): Linear(in_features=32768, out_features=768, bias=False)\n",
       ")"
      ]
     },
     "execution_count": 5,
     "metadata": {},
     "output_type": "execute_result"
    }
   ],
   "source": [
    "autoencoder"
   ]
  },
  {
   "cell_type": "code",
   "execution_count": 6,
   "metadata": {},
   "outputs": [
    {
     "name": "stdout",
     "output_type": "stream",
     "text": [
      "SAE has 50,365,184 params\n"
     ]
    }
   ],
   "source": [
    "n = sum([p.numel() for p in autoencoder.parameters()])\n",
    "print(f\"SAE has {n:,} params\")"
   ]
  },
  {
   "cell_type": "code",
   "execution_count": 7,
   "metadata": {},
   "outputs": [
    {
     "data": {
      "text/plain": [
       "torch.Size([1, 9])"
      ]
     },
     "execution_count": 7,
     "metadata": {},
     "output_type": "execute_result"
    }
   ],
   "source": [
    "prompt = \"This is an example of a prompt that\"\n",
    "tokens = model.to_tokens(prompt)  # (1, n_tokens)\n",
    "tokens.shape"
   ]
  },
  {
   "cell_type": "code",
   "execution_count": 8,
   "metadata": {},
   "outputs": [],
   "source": [
    "with torch.no_grad():\n",
    "    logits, activation_cache = model.run_with_cache(tokens, remove_batch_dim=True)"
   ]
  },
  {
   "cell_type": "code",
   "execution_count": 9,
   "metadata": {},
   "outputs": [],
   "source": [
    "\n",
    "input_tensor = activation_cache[transformer_lens_loc]\n",
    "input_tensor_ln = input_tensor"
   ]
  },
  {
   "cell_type": "code",
   "execution_count": 10,
   "metadata": {},
   "outputs": [],
   "source": [
    "with torch.no_grad():\n",
    "    latent_activations, info = autoencoder.encode(input_tensor_ln)\n",
    "    reconstructed_activations = autoencoder.decode(latent_activations, info)"
   ]
  },
  {
   "cell_type": "code",
   "execution_count": 11,
   "metadata": {},
   "outputs": [
    {
     "data": {
      "text/plain": [
       "(torch.Size([9, 768]), torch.Size([9, 768]))"
      ]
     },
     "execution_count": 11,
     "metadata": {},
     "output_type": "execute_result"
    }
   ],
   "source": [
    "input_tensor.shape, reconstructed_activations.shape"
   ]
  },
  {
   "cell_type": "code",
   "execution_count": 12,
   "metadata": {},
   "outputs": [
    {
     "data": {
      "text/plain": [
       "tensor([6.4423e-05, 3.9219e-02, 3.1569e-02, 4.6318e-02, 7.1058e-02, 4.7744e-02,\n",
       "        6.2675e-02, 6.7039e-02, 7.5507e-02], device='cuda:0')"
      ]
     },
     "execution_count": 12,
     "metadata": {},
     "output_type": "execute_result"
    }
   ],
   "source": [
    "normalized_mse = (reconstructed_activations - input_tensor).pow(2).sum(dim=1) / (input_tensor).pow(2).sum(dim=1)\n",
    "normalized_mse"
   ]
  },
  {
   "cell_type": "code",
   "execution_count": 13,
   "metadata": {},
   "outputs": [
    {
     "data": {
      "text/plain": [
       "tensor(0.0490, device='cuda:0')"
      ]
     },
     "execution_count": 13,
     "metadata": {},
     "output_type": "execute_result"
    }
   ],
   "source": [
    "from sparse_autoencoder.loss import normalized_mean_squared_error\n",
    "\n",
    "normalized_mean_squared_error(reconstructed_activations, input_tensor)"
   ]
  },
  {
   "cell_type": "code",
   "execution_count": 14,
   "metadata": {},
   "outputs": [
    {
     "data": {
      "text/plain": [
       "tensor(0.0490, device='cuda:0')"
      ]
     },
     "execution_count": 14,
     "metadata": {},
     "output_type": "execute_result"
    }
   ],
   "source": [
    "normalized_mse.mean()"
   ]
  }
 ],
 "metadata": {
  "kernelspec": {
   "display_name": "topk_sae",
   "language": "python",
   "name": "python3"
  },
  "language_info": {
   "codemirror_mode": {
    "name": "ipython",
    "version": 3
   },
   "file_extension": ".py",
   "mimetype": "text/x-python",
   "name": "python",
   "nbconvert_exporter": "python",
   "pygments_lexer": "ipython3",
   "version": "3.11.9"
  }
 },
 "nbformat": 4,
 "nbformat_minor": 2
}
