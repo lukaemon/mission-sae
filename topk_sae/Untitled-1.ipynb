{
 "cells": [
  {
   "cell_type": "code",
   "execution_count": 1,
   "metadata": {},
   "outputs": [
    {
     "data": {
      "application/vnd.jupyter.widget-view+json": {
       "model_id": "c50f560473b642e4b63351670a0c78fc",
       "version_major": 2,
       "version_minor": 0
      },
      "text/plain": [
       "Loading dataset from disk:   0%|          | 0/152 [00:00<?, ?it/s]"
      ]
     },
     "metadata": {},
     "output_type": "display_data"
    },
    {
     "name": "stdout",
     "output_type": "stream",
     "text": [
      "Loaded 8,013,769 sample texts from data/owt_tokenized\n"
     ]
    },
    {
     "name": "stderr",
     "output_type": "stream",
     "text": [
      "/home/lukaemon/miniconda3/envs/topk_sae/lib/python3.11/site-packages/huggingface_hub/file_download.py:1132: FutureWarning: `resume_download` is deprecated and will be removed in version 1.0.0. Downloads always resume when possible. If you want to force a new download, use `force_download=True`.\n",
      "  warnings.warn(\n"
     ]
    },
    {
     "name": "stdout",
     "output_type": "stream",
     "text": [
      "Loaded pretrained model gpt2 into HookedTransformer\n",
      "Loaded pretrained SAE data/sae/v5_32k_location_resid_post_mlp_layer_6.pt\n"
     ]
    }
   ],
   "source": [
    "\"\"\"dimension annotation\n",
    "b: batch\n",
    "t: token position\n",
    "d: d_model\n",
    "\n",
    "t64 means it's still a t dimension with size of 64\n",
    "\"\"\"\n",
    "\n",
    "from functools import partial\n",
    "\n",
    "import numpy as np\n",
    "import torch\n",
    "\n",
    "import transformer_lens.utils as utils\n",
    "from transformer_lens import HookedTransformer\n",
    "from tqdm import tqdm\n",
    "\n",
    "from openwebtext import load_owt, sample\n",
    "from pretrained_sae import load_sae\n",
    "\n",
    "torch.set_grad_enabled(False)\n",
    "\n",
    "layer_index = 6\n",
    "location = \"resid_post_mlp\"\n",
    "device = utils.get_device()\n",
    "\n",
    "ds = load_owt()\n",
    "gpt2 = HookedTransformer.from_pretrained(\"gpt2\", center_writing_weights=False)\n",
    "\n",
    "sae_32k = load_sae(32, location, layer_index, device)"
   ]
  },
  {
   "cell_type": "code",
   "execution_count": 2,
   "metadata": {},
   "outputs": [],
   "source": [
    "text = 'hello world'\n",
    "logit, cache = gpt2.run_with_cache(text)"
   ]
  },
  {
   "cell_type": "code",
   "execution_count": 3,
   "metadata": {},
   "outputs": [
    {
     "data": {
      "text/plain": [
       "torch.Size([1, 3, 768])"
      ]
     },
     "execution_count": 3,
     "metadata": {},
     "output_type": "execute_result"
    }
   ],
   "source": [
    "act = cache[utils.get_act_name('resid_post', layer_index)]\n",
    "act.shape"
   ]
  },
  {
   "cell_type": "code",
   "execution_count": 4,
   "metadata": {},
   "outputs": [
    {
     "data": {
      "text/plain": [
       "torch.Size([1, 3, 32768])"
      ]
     },
     "execution_count": 4,
     "metadata": {},
     "output_type": "execute_result"
    }
   ],
   "source": [
    "latent, info = sae_32k.encode(act)\n",
    "latent.shape"
   ]
  },
  {
   "cell_type": "code",
   "execution_count": 5,
   "metadata": {},
   "outputs": [
    {
     "data": {
      "text/plain": [
       "tensor(32, device='cuda:0')"
      ]
     },
     "execution_count": 5,
     "metadata": {},
     "output_type": "execute_result"
    }
   ],
   "source": [
    "ac = latent[:, -1].squeeze()\n",
    "(ac > 0).sum()"
   ]
  },
  {
   "cell_type": "code",
   "execution_count": 6,
   "metadata": {},
   "outputs": [
    {
     "data": {
      "text/plain": [
       "torch.return_types.sort(\n",
       "values=tensor([ 0.6257,  0.6353,  0.6438,  0.6447,  0.6533,  0.6673,  0.6822,  0.6850,\n",
       "         0.6969,  0.7092,  0.7192,  0.9029,  1.0088,  1.3280,  1.3359,  1.4029,\n",
       "         1.4076,  1.5862,  1.7696,  1.7775,  1.7857,  1.7971,  2.0181,  2.2895,\n",
       "         2.3179,  2.4288,  3.0338,  3.2050,  3.5099,  3.5882,  4.3947, 10.1609],\n",
       "       device='cuda:0'),\n",
       "indices=tensor([ 1,  8,  3,  4,  6, 14, 19, 26,  2, 17, 21, 18, 11,  0, 25, 27,  9, 28,\n",
       "        12, 15,  7, 10, 22, 30, 31, 23,  5, 16, 24, 29, 20, 13],\n",
       "       device='cuda:0'))"
      ]
     },
     "execution_count": 6,
     "metadata": {},
     "output_type": "execute_result"
    }
   ],
   "source": [
    "torch.sort(ac[ac >0])"
   ]
  },
  {
   "cell_type": "code",
   "execution_count": null,
   "metadata": {},
   "outputs": [],
   "source": []
  }
 ],
 "metadata": {
  "kernelspec": {
   "display_name": "topk_sae",
   "language": "python",
   "name": "python3"
  },
  "language_info": {
   "codemirror_mode": {
    "name": "ipython",
    "version": 3
   },
   "file_extension": ".py",
   "mimetype": "text/x-python",
   "name": "python",
   "nbconvert_exporter": "python",
   "pygments_lexer": "ipython3",
   "version": "3.11.9"
  }
 },
 "nbformat": 4,
 "nbformat_minor": 2
}
