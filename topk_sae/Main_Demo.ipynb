{
  "cells": [
    {
      "cell_type": "markdown",
      "metadata": {
        "id": "T0nq-i9ObRkZ"
      },
      "source": [
        "<a target=\"_blank\" href=\"https://colab.research.google.com/github/TransformerLensOrg/TransformerLens/blob/main/demos/Main_Demo.ipynb\">\n",
        "  <img src=\"https://colab.research.google.com/assets/colab-badge.svg\" alt=\"Open In Colab\"/>\n",
        "</a>"
      ]
    },
    {
      "cell_type": "markdown",
      "metadata": {
        "id": "bnnxCo8vbRkb"
      },
      "source": [
        "# Transformer Lens Main Demo Notebook\n",
        "\n",
        "<b style=\"color: red\">To use this notebook, go to Runtime > Change Runtime Type and select GPU as the hardware accelerator.</b>\n",
        "\n",
        "This is a reference notebook covering the main features of the [TransformerLens](https://github.com/TransformerLensOrg/TransformerLens) library for mechanistic interpretability. See [Callum McDougall's tutorial](https://transformerlens-intro.streamlit.app/TransformerLens_&_induction_circuits) for a more structured and gentler introduction to the library"
      ]
    },
    {
      "cell_type": "markdown",
      "metadata": {
        "id": "DtN8l0HDbRkb"
      },
      "source": [
        "**Tips for reading this Colab:**\n",
        "* You can run all this code for yourself!\n",
        "* The graphs are interactive!\n",
        "* Use the table of contents pane in the sidebar to navigate\n",
        "* Collapse irrelevant sections with the dropdown arrows\n",
        "* Search the page using the search in the sidebar, not CTRL+F"
      ]
    },
    {
      "cell_type": "markdown",
      "metadata": {
        "id": "1PbbCcI5bRkc"
      },
      "source": [
        "# Setup\n",
        "(No need to read)"
      ]
    },
    {
      "cell_type": "code",
      "execution_count": 63,
      "metadata": {
        "colab": {
          "base_uri": "https://localhost:8080/"
        },
        "id": "aJA15pNebRkc",
        "outputId": "a70168e1-a564-43ce-c4d4-b2722d11cbe3"
      },
      "outputs": [],
      "source": [
        "import os\n",
        "DEVELOPMENT_MODE = False\n",
        "# Detect if we're running in Google Colab\n",
        "try:\n",
        "    import google.colab\n",
        "    IN_COLAB = True\n",
        "    print(\"Running as a Colab notebook\")\n",
        "except:\n",
        "    IN_COLAB = False\n",
        "\n",
        "# Install if in Colab\n",
        "if IN_COLAB:\n",
        "    %pip install transformer_lens\n",
        "    %pip install circuitsvis\n",
        "    # Install a faster Node version\n",
        "    !curl -fsSL https://deb.nodesource.com/setup_16.x | sudo -E bash -; sudo apt-get install -y nodejs  # noqa\n",
        "\n",
        "# Hot reload in development mode & not running on the CD\n",
        "if not IN_COLAB:\n",
        "    from IPython import get_ipython\n",
        "    ip = get_ipython()\n",
        "    if not ip.extension_manager.loaded:\n",
        "        ip.extension_manager.load('autoreload')\n",
        "        %autoreload 2\n",
        "\n",
        "IN_GITHUB = os.getenv(\"GITHUB_ACTIONS\") == \"true\"\n"
      ]
    },
    {
      "cell_type": "code",
      "execution_count": 64,
      "metadata": {
        "colab": {
          "base_uri": "https://localhost:8080/"
        },
        "id": "n-_WFd6ibRkc",
        "outputId": "64b3c334-e7ff-48b1-82cd-d9ca74cb0140"
      },
      "outputs": [
        {
          "name": "stdout",
          "output_type": "stream",
          "text": [
            "Using renderer: notebook_connected\n"
          ]
        }
      ],
      "source": [
        "# Plotly needs a different renderer for VSCode/Notebooks vs Colab argh\n",
        "import plotly.io as pio\n",
        "pio.renderers.default = \"notebook_connected\"\n",
        "print(f\"Using renderer: {pio.renderers.default}\")"
      ]
    },
    {
      "cell_type": "code",
      "execution_count": 65,
      "metadata": {
        "colab": {
          "base_uri": "https://localhost:8080/",
          "height": 64
        },
        "id": "txLFVSTibRkd",
        "outputId": "0bfb7fe4-de51-4c0d-e16f-f3fa4cdcd368"
      },
      "outputs": [
        {
          "data": {
            "text/html": [
              "<div id=\"circuits-vis-74502310-c0e1\" style=\"margin: 15px 0;\"/>\n",
              "    <script crossorigin type=\"module\">\n",
              "    import { render, Hello } from \"https://unpkg.com/circuitsvis@1.43.2/dist/cdn/esm.js\";\n",
              "    render(\n",
              "      \"circuits-vis-74502310-c0e1\",\n",
              "      Hello,\n",
              "      {\"name\": \"Neel\"}\n",
              "    )\n",
              "    </script>"
            ],
            "text/plain": [
              "<circuitsvis.utils.render.RenderedHTML at 0x7ec73726c590>"
            ]
          },
          "execution_count": 65,
          "metadata": {},
          "output_type": "execute_result"
        }
      ],
      "source": [
        "import circuitsvis as cv\n",
        "# Testing that the library works\n",
        "cv.examples.hello(\"Neel\")"
      ]
    },
    {
      "cell_type": "code",
      "execution_count": 66,
      "metadata": {
        "id": "iUz5CfkebRke"
      },
      "outputs": [],
      "source": [
        "# Import stuff\n",
        "import torch\n",
        "import torch.nn as nn\n",
        "import einops\n",
        "from fancy_einsum import einsum\n",
        "import tqdm.auto as tqdm\n",
        "import plotly.express as px\n",
        "\n",
        "from jaxtyping import Float\n",
        "from functools import partial"
      ]
    },
    {
      "cell_type": "code",
      "execution_count": 67,
      "metadata": {
        "id": "QAfPKO6WbRke"
      },
      "outputs": [],
      "source": [
        "# import transformer_lens\n",
        "import transformer_lens.utils as utils\n",
        "from transformer_lens.hook_points import (\n",
        "    HookPoint,\n",
        ")  # Hooking utilities\n",
        "from transformer_lens import HookedTransformer, FactoredMatrix"
      ]
    },
    {
      "cell_type": "markdown",
      "metadata": {
        "id": "EkxGXtO3bRke"
      },
      "source": [
        "We turn automatic differentiation off, to save GPU memory, as this notebook focuses on model inference not model training."
      ]
    },
    {
      "cell_type": "code",
      "execution_count": 68,
      "metadata": {
        "colab": {
          "base_uri": "https://localhost:8080/"
        },
        "id": "ZWMPXUyFbRke",
        "outputId": "d4f3c2bb-7b40-45b4-b33c-8c5252162878"
      },
      "outputs": [
        {
          "data": {
            "text/plain": [
              "<torch.autograd.grad_mode.set_grad_enabled at 0x7ec737163690>"
            ]
          },
          "execution_count": 68,
          "metadata": {},
          "output_type": "execute_result"
        }
      ],
      "source": [
        "torch.set_grad_enabled(False)"
      ]
    },
    {
      "cell_type": "markdown",
      "metadata": {
        "id": "uL2Z_wcfbRkf"
      },
      "source": [
        "Plotting helper functions:"
      ]
    },
    {
      "cell_type": "code",
      "execution_count": 69,
      "metadata": {
        "id": "fj9TgSFNbRkf"
      },
      "outputs": [],
      "source": [
        "def imshow(tensor, renderer=None, xaxis=\"\", yaxis=\"\", **kwargs):\n",
        "    px.imshow(utils.to_numpy(tensor), color_continuous_midpoint=0.0, color_continuous_scale=\"RdBu\", labels={\"x\":xaxis, \"y\":yaxis}, **kwargs).show(renderer)\n",
        "\n",
        "def line(tensor, renderer=None, xaxis=\"\", yaxis=\"\", **kwargs):\n",
        "    px.line(utils.to_numpy(tensor), labels={\"x\":xaxis, \"y\":yaxis}, **kwargs).show(renderer)\n",
        "\n",
        "def scatter(x, y, xaxis=\"\", yaxis=\"\", caxis=\"\", renderer=None, **kwargs):\n",
        "    x = utils.to_numpy(x)\n",
        "    y = utils.to_numpy(y)\n",
        "    px.scatter(y=y, x=x, labels={\"x\":xaxis, \"y\":yaxis, \"color\":caxis}, **kwargs).show(renderer)"
      ]
    },
    {
      "cell_type": "markdown",
      "metadata": {
        "id": "c35luAQ2bRkf"
      },
      "source": [
        "# Introduction"
      ]
    },
    {
      "cell_type": "markdown",
      "metadata": {
        "id": "OlLYXbYobRkf"
      },
      "source": [
        "This is a demo notebook for [TransformerLens](https://github.com/TransformerLensOrg/TransformerLens), **a library I ([Neel Nanda](https://neelnanda.io)) wrote for doing [mechanistic interpretability](https://distill.pub/2020/circuits/zoom-in/) of GPT-2 Style language models.** The goal of mechanistic interpretability is to take a trained model and reverse engineer the algorithms the model learned during training from its weights. It is a fact about the world today that we have computer programs that can essentially speak English at a human level (GPT-3, PaLM, etc), yet we have no idea how they work nor how to write one ourselves. This offends me greatly, and I would like to solve this! Mechanistic interpretability is a very young and small field, and there are a *lot* of open problems - if you would like to help, please try working on one! **If you want to skill up, check out [my guide to getting started](https://neelnanda.io/getting-started), and if you want to jump into an open problem check out my sequence [200 Concrete Open Problems in Mechanistic Interpretability](https://neelnanda.io/concrete-open-problems).**\n",
        "\n",
        "I wrote this library because after I left the Anthropic interpretability team and started doing independent research, I got extremely frustrated by the state of open source tooling. There's a lot of excellent infrastructure like HuggingFace and DeepSpeed to *use* or *train* models, but very little to dig into their internals and reverse engineer how they work. **This library tries to solve that**, and to make it easy to get into the field even if you don't work at an industry org with real infrastructure! The core features were heavily inspired by [Anthropic's excellent Garcon tool](https://transformer-circuits.pub/2021/garcon/index.html). Credit to Nelson Elhage and Chris Olah for building Garcon and showing me the value of good infrastructure for accelerating exploratory research!\n",
        "\n",
        "The core design principle I've followed is to enable exploratory analysis - one of the most fun parts of mechanistic interpretability compared to normal ML is the extremely short feedback loops! The point of this library is to keep the gap between having an experiment idea and seeing the results as small as possible, to make it easy for **research to feel like play** and to enter a flow state. This notebook demonstrates how the library works and how to use it, but if you want to see how well it works for exploratory research, check out [my notebook analysing Indirect Objection Identification](https://neelnanda.io/exploratory-analysis-demo) or [my recording of myself doing research](https://www.youtube.com/watch?v=yo4QvDn-vsU)!"
      ]
    },
    {
      "cell_type": "markdown",
      "metadata": {
        "id": "wZLJ9ACMbRkf"
      },
      "source": [
        "## Loading and Running Models\n",
        "\n",
        "TransformerLens comes loaded with >40 open source GPT-style models. You can load any of them in with `HookedTransformer.from_pretrained(MODEL_NAME)`. For this demo notebook we'll look at GPT-2 Small, an 80M parameter model, see the Available Models section for info on the rest."
      ]
    },
    {
      "cell_type": "code",
      "execution_count": 70,
      "metadata": {
        "id": "N3KlnX7fbRkf"
      },
      "outputs": [],
      "source": [
        "device = utils.get_device()"
      ]
    },
    {
      "cell_type": "code",
      "execution_count": 71,
      "metadata": {
        "colab": {
          "base_uri": "https://localhost:8080/",
          "height": 493,
          "referenced_widgets": [
            "697029b4409b43bca8f3172f69da401c",
            "ef5e3d8a9bc0496ab4ad1c4ada942206",
            "ea8ffd96454b4d96ab332522420e5220",
            "0d701fc7e6284132ba8d87ac9d2a6308",
            "06e86995a9544e5abb1284c381ac0473",
            "a5d059ea824d419b992609c18ca72615",
            "72afcf5c2e32494bb9759c8d50a2c8b0",
            "7c20cca3da7a4e40a4d93cdcac4d41cb",
            "4010626477de4b7584a97c9b9991cc4b",
            "96f1137137514b50a5681b9abf2bd52a",
            "da614f89f3a744c0991424e655053c46",
            "69b214040a914aa09e470fc15b638fad",
            "46f66b4293ab4213846d974ac17e2d29",
            "25725301769c4ed4beca437f73a860f0",
            "7d996e6a43544bfea4d81206f9ed5341",
            "514ec6eccc1a4c589252ca41fc9e166d",
            "bc1b09a276814b779ab7d40f7a2a4252",
            "e2e8ffdc58a244e298a784d7292b5329",
            "2e9f9ff2e4c648939a3d5b4ab6561529",
            "76c249a6339d4c1ea066e06b6067c4a9",
            "bf2bab9075684050b39ebcfc2e27b84e",
            "c46a0051a4454bc9a1e277deb3e11969",
            "455ec39384fe4a5fb42911ee84a6043e",
            "a74b6c1ae41b4d71b3ad2e22dd4e67da",
            "4e3a301b5d064f84a53abe6ce65fde98",
            "6560c262d86f49ba9b04ea48e8d96d6f",
            "c3d60de08edd493a8f07eb3c9d9ff0ec",
            "7cfce651c7664982ac1c2bc9c4606077",
            "84ae561c89034794af7345c2d4553c25",
            "0ddfbc2efa0b4e708bfcfd3e4f18671e",
            "de932a5df085404aa87bc7b14291eb21",
            "caf5ad38bfd647fb867bd4e7958bd900",
            "d1569561995f4bb2bcec020fd3330ca4",
            "0561f377fb504d1a9022116b29228e1f",
            "ee9aaa3201404ceeb0c4e0218720cbfb",
            "909c23e863a54ddc980a0a36daabab40",
            "ebeba379e63c455dbf5df4c6bffd6b00",
            "38cc002474384348b33e2e82c0d90eea",
            "9281e146d98f4841886af6894bcc684b",
            "9066fd55cc0940bb87cebc425afe0f55",
            "c0cfca6863e34585b5aa1dfe969c5d83",
            "192f3d55486840079c64781abdfec658",
            "609e102f4a2941cfa88e03c9a746e014",
            "e5bfc73ff1004b2ea9e5ee85a04927c9",
            "11d04f97937f49599add9052707ba4c3",
            "4796ccd2bafa433a9af50de02fe6c78d",
            "03d47b90327e4fdd9985e48fcdae8e25",
            "60fe3118c48541f9a36da1bee0fe160d",
            "2b6f8aff3ef54f13b4dfb8ea872549a6",
            "a7b6ab7755de44d2a0b076cf79857c3d",
            "acb15e9f757f458dab15cfd52092fa2e",
            "f2ad8c7d2ed64e808cd6ed587643d234",
            "41d991faadee46e3bc547acf4bbd4830",
            "2344bb856de24fde847248e7357327e5",
            "d8d302937fb847f0bf2a53e41cae34b3",
            "6366c14586ae45148768493fefdcd5da",
            "78b2901343bc4a4f979e4c6c40dba9c3",
            "00140e12a26b40a0b72faa2ac6826248",
            "5c2b46eee6e44247a54d104737a81900",
            "3fd6935cb01f41c3868854c13580b888",
            "1452f3c0bd2d4cd5995718e40f27fde7",
            "451cc91bbd2940c782d5197bf53667dc",
            "ae0cf2774fde46bf9f970b10007db87c",
            "48ebc3da72eb44ac8f2af5800c1f1dcb",
            "a629324eccc7408ab2ae97f430e1f71d",
            "bd48ae00fea9432681dae469dc5e5d7e",
            "98c496fffd9a42778802574331bdfcc5",
            "2872176dc7664548b137082ce36104a7",
            "53dcaa7de1ec4e7eae667aef05ce45e6",
            "3e63f9dc7745403c93fc7a68171bd861",
            "a22ebaed3b2548b7a456152d82ae7bb3",
            "d13786462f5d418f9a7cfcebfa5bfa76",
            "79049b6f2aee43e788e447ce577c2299",
            "fab84b2560214155b0c61ff40a05b8ef",
            "43394f0c79124317a9a5804e20de8d11",
            "70922681ed1d4a119a71dba2ae3efd82",
            "feca77f950bf45d0a9408d50e645da70"
          ]
        },
        "id": "0vI6AWvRbRkf",
        "outputId": "9f9240f1-6cb9-40ae-ffd0-3d5339ead05f"
      },
      "outputs": [
        {
          "name": "stderr",
          "output_type": "stream",
          "text": [
            "/home/lukaemon/miniconda3/envs/topk_sae/lib/python3.11/site-packages/huggingface_hub/file_download.py:1132: FutureWarning:\n",
            "\n",
            "`resume_download` is deprecated and will be removed in version 1.0.0. Downloads always resume when possible. If you want to force a new download, use `force_download=True`.\n",
            "\n"
          ]
        },
        {
          "name": "stdout",
          "output_type": "stream",
          "text": [
            "Loaded pretrained model gpt2-small into HookedTransformer\n"
          ]
        }
      ],
      "source": [
        "# NBVAL_IGNORE_OUTPUT\n",
        "model = HookedTransformer.from_pretrained(\"gpt2-small\", device=device)"
      ]
    },
    {
      "cell_type": "markdown",
      "metadata": {
        "id": "hBQTmu_abRkf"
      },
      "source": [
        "To try the model out, let's find the loss on this text! Models can be run on a single string or a tensor of tokens (shape: [batch, position], all integers), and the possible return types are:\n",
        "* \"logits\" (shape [batch, position, d_vocab], floats),\n",
        "* \"loss\" (the cross-entropy loss when predicting the next token),\n",
        "* \"both\" (a tuple of (logits, loss))\n",
        "* None (run the model, but don't calculate the logits - this is faster when we only want to use intermediate activations)"
      ]
    },
    {
      "cell_type": "code",
      "execution_count": 72,
      "metadata": {
        "colab": {
          "base_uri": "https://localhost:8080/"
        },
        "id": "ql6n7BcCbRkf",
        "outputId": "42eb772d-2d3c-4f1b-da95-58b4791a3e48"
      },
      "outputs": [
        {
          "name": "stdout",
          "output_type": "stream",
          "text": [
            "Model loss: tensor(4.1307, device='cuda:0')\n"
          ]
        }
      ],
      "source": [
        "model_description_text = \"\"\"## Loading Models\n",
        "\n",
        "HookedTransformer comes loaded with >40 open source GPT-style models. You can load any of them in with `HookedTransformer.from_pretrained(MODEL_NAME)`. See my explainer for documentation of all supported models, and this table for hyper-parameters and the name used to load them. Each model is loaded into the consistent HookedTransformer architecture, designed to be clean, consistent and interpretability-friendly.\n",
        "\n",
        "For this demo notebook we'll look at GPT-2 Small, an 80M parameter model. To try the model the model out, let's find the loss on this paragraph!\"\"\"\n",
        "loss = model(model_description_text, return_type=\"loss\")\n",
        "print(\"Model loss:\", loss)"
      ]
    },
    {
      "cell_type": "markdown",
      "metadata": {
        "id": "nzC4VuB4bRkf"
      },
      "source": [
        "## Caching all Activations\n",
        "\n",
        "The first basic operation when doing mechanistic interpretability is to break open the black box of the model and look at all of the internal activations of a model. This can be done with `logits, cache = model.run_with_cache(tokens)`. Let's try this out on the first line of the abstract of the GPT-2 paper.\n",
        "\n",
        "<details><summary>On `remove_batch_dim`</summary>\n",
        "\n",
        "Every activation inside the model begins with a batch dimension. Here, because we only entered a single batch dimension, that dimension is always length 1 and kinda annoying, so passing in the `remove_batch_dim=True` keyword removes it. `gpt2_cache_no_batch_dim = gpt2_cache.remove_batch_dim()` would have achieved the same effect.\n",
        "</details?>"
      ]
    },
    {
      "cell_type": "code",
      "execution_count": 73,
      "metadata": {
        "colab": {
          "base_uri": "https://localhost:8080/"
        },
        "id": "e3MxzQ0SbRkf",
        "outputId": "c37437d7-4e8d-474f-924c-4bda9edcad78"
      },
      "outputs": [
        {
          "name": "stdout",
          "output_type": "stream",
          "text": [
            "cuda:0\n"
          ]
        }
      ],
      "source": [
        "gpt2_text = \"Natural language processing tasks, such as question answering, machine translation, reading comprehension, and summarization, are typically approached with supervised learning on taskspecific datasets.\"\n",
        "gpt2_tokens = model.to_tokens(gpt2_text)\n",
        "print(gpt2_tokens.device)\n",
        "gpt2_logits, gpt2_cache = model.run_with_cache(gpt2_tokens, remove_batch_dim=True)"
      ]
    },
    {
      "cell_type": "markdown",
      "metadata": {
        "id": "XLMoXinEbRkf"
      },
      "source": [
        "Let's visualize the attention pattern of all the heads in layer 0, using [Alan Cooney's CircuitsVis library](https://github.com/alan-cooney/CircuitsVis) (based on [Anthropic's PySvelte library](https://github.com/anthropics/PySvelte)).\n",
        "\n",
        "We look this the attention pattern in `gpt2_cache`, an `ActivationCache` object, by entering in the name of the activation, followed by the layer index (here, the activation is called \"attn\" and the layer index is 0). This has shape [head_index, destination_position, source_position], and we use the `model.to_str_tokens` method to convert the text to a list of tokens as strings, since there is an attention weight between each pair of tokens.\n",
        "\n",
        "This visualization is interactive! Try hovering over a token or head, and click to lock. The grid on the top left and for each head is the attention pattern as a destination position by source position grid. It's lower triangular because GPT-2 has **causal attention**, attention can only look backwards, so information can only move forwards in the network.\n",
        "\n",
        "See the ActivationCache section for more on what `gpt2_cache` can do."
      ]
    },
    {
      "cell_type": "code",
      "execution_count": 74,
      "metadata": {
        "colab": {
          "base_uri": "https://localhost:8080/"
        },
        "id": "isrTORCVbRkf",
        "outputId": "aa3d5118-01de-4de4-e1cd-c93f9965c429"
      },
      "outputs": [
        {
          "name": "stdout",
          "output_type": "stream",
          "text": [
            "<class 'transformer_lens.ActivationCache.ActivationCache'>\n",
            "torch.Size([12, 33, 33])\n"
          ]
        }
      ],
      "source": [
        "print(type(gpt2_cache))\n",
        "attention_pattern = gpt2_cache[\"pattern\", 0, \"attn\"]\n",
        "print(attention_pattern.shape)\n",
        "gpt2_str_tokens = model.to_str_tokens(gpt2_text)"
      ]
    },
    {
      "cell_type": "code",
      "execution_count": 75,
      "metadata": {
        "colab": {
          "base_uri": "https://localhost:8080/",
          "height": 400
        },
        "id": "8fEwlkSObRkf",
        "outputId": "2dbdb1d2-565e-460c-df52-c783feea4e59"
      },
      "outputs": [
        {
          "name": "stdout",
          "output_type": "stream",
          "text": [
            "Layer 0 Head Attention Patterns:\n"
          ]
        },
        {
          "data": {
            "text/html": [
              "<div id=\"circuits-vis-cbde91aa-7435\" style=\"margin: 15px 0;\"/>\n",
              "    <script crossorigin type=\"module\">\n",
              "    import { render, AttentionPatterns } from \"https://unpkg.com/circuitsvis@1.43.2/dist/cdn/esm.js\";\n",
              "    render(\n",
              "      \"circuits-vis-cbde91aa-7435\",\n",
              "      AttentionPatterns,\n",
              "      {\"tokens\": [\"<|endoftext|>\", \"Natural\", \" language\", \" processing\", \" tasks\", \",\", \" such\", \" as\", \" question\", \" answering\", \",\", \" machine\", \" translation\", \",\", \" reading\", \" comprehension\", \",\", \" and\", \" summar\", \"ization\", \",\", \" are\", \" typically\", \" approached\", \" with\", \" supervised\", \" learning\", \" on\", \" tasks\", \"pe\", \"cific\", \" datasets\", \".\"], \"attention\": [[[1.0, 0.0, 0.0, 0.0, 0.0, 0.0, 0.0, 0.0, 0.0, 0.0, 0.0, 0.0, 0.0, 0.0, 0.0, 0.0, 0.0, 0.0, 0.0, 0.0, 0.0, 0.0, 0.0, 0.0, 0.0, 0.0, 0.0, 0.0, 0.0, 0.0, 0.0, 0.0, 0.0], [0.9639418721199036, 0.03605814650654793, 0.0, 0.0, 0.0, 0.0, 0.0, 0.0, 0.0, 0.0, 0.0, 0.0, 0.0, 0.0, 0.0, 0.0, 0.0, 0.0, 0.0, 0.0, 0.0, 0.0, 0.0, 0.0, 0.0, 0.0, 0.0, 0.0, 0.0, 0.0, 0.0, 0.0, 0.0], [0.8389374017715454, 0.1182878389954567, 0.04277482628822327, 0.0, 0.0, 0.0, 0.0, 0.0, 0.0, 0.0, 0.0, 0.0, 0.0, 0.0, 0.0, 0.0, 0.0, 0.0, 0.0, 0.0, 0.0, 0.0, 0.0, 0.0, 0.0, 0.0, 0.0, 0.0, 0.0, 0.0, 0.0, 0.0, 0.0], [0.4743611812591553, 0.13382022082805634, 0.27371746301651, 0.11810113489627838, 0.0, 0.0, 0.0, 0.0, 0.0, 0.0, 0.0, 0.0, 0.0, 0.0, 0.0, 0.0, 0.0, 0.0, 0.0, 0.0, 0.0, 0.0, 0.0, 0.0, 0.0, 0.0, 0.0, 0.0, 0.0, 0.0, 0.0, 0.0, 0.0], [0.3560645282268524, 0.10184913128614426, 0.23054206371307373, 0.20397405326366425, 0.10757026821374893, 0.0, 0.0, 0.0, 0.0, 0.0, 0.0, 0.0, 0.0, 0.0, 0.0, 0.0, 0.0, 0.0, 0.0, 0.0, 0.0, 0.0, 0.0, 0.0, 0.0, 0.0, 0.0, 0.0, 0.0, 0.0, 0.0, 0.0, 0.0], [0.6660143733024597, 0.16866381466388702, 0.04535672441124916, 0.03885500878095627, 0.06775478273630142, 0.013355262577533722, 0.0, 0.0, 0.0, 0.0, 0.0, 0.0, 0.0, 0.0, 0.0, 0.0, 0.0, 0.0, 0.0, 0.0, 0.0, 0.0, 0.0, 0.0, 0.0, 0.0, 0.0, 0.0, 0.0, 0.0, 0.0, 0.0, 0.0], [0.38626956939697266, 0.285109281539917, 0.07609007507562637, 0.05908382311463356, 0.07223350554704666, 0.03979635611176491, 0.08141737431287766, 0.0, 0.0, 0.0, 0.0, 0.0, 0.0, 0.0, 0.0, 0.0, 0.0, 0.0, 0.0, 0.0, 0.0, 0.0, 0.0, 0.0, 0.0, 0.0, 0.0, 0.0, 0.0, 0.0, 0.0, 0.0, 0.0], [0.3775394558906555, 0.18838825821876526, 0.11723988503217697, 0.08685597777366638, 0.0666918233036995, 0.035000160336494446, 0.09693001210689545, 0.03135441243648529, 0.0, 0.0, 0.0, 0.0, 0.0, 0.0, 0.0, 0.0, 0.0, 0.0, 0.0, 0.0, 0.0, 0.0, 0.0, 0.0, 0.0, 0.0, 0.0, 0.0, 0.0, 0.0, 0.0, 0.0, 0.0], [0.4869753420352936, 0.06781317293643951, 0.07952870428562164, 0.08480788767337799, 0.1590261310338974, 0.029577819630503654, 0.02568591944873333, 0.016474610194563866, 0.05011039972305298, 0.0, 0.0, 0.0, 0.0, 0.0, 0.0, 0.0, 0.0, 0.0, 0.0, 0.0, 0.0, 0.0, 0.0, 0.0, 0.0, 0.0, 0.0, 0.0, 0.0, 0.0, 0.0, 0.0, 0.0], [0.2906549870967865, 0.0401349775493145, 0.14614859223365784, 0.09940597414970398, 0.1538919359445572, 0.03900162875652313, 0.024988975375890732, 0.03184129670262337, 0.10222817957401276, 0.07170350104570389, 0.0, 0.0, 0.0, 0.0, 0.0, 0.0, 0.0, 0.0, 0.0, 0.0, 0.0, 0.0, 0.0, 0.0, 0.0, 0.0, 0.0, 0.0, 0.0, 0.0, 0.0, 0.0, 0.0], [0.39624103903770447, 0.09694177657365799, 0.027270644903182983, 0.02355135604739189, 0.03723449632525444, 0.006502412259578705, 0.08118756860494614, 0.01308845542371273, 0.06990594416856766, 0.24043098092079163, 0.007645339239388704, 0.0, 0.0, 0.0, 0.0, 0.0, 0.0, 0.0, 0.0, 0.0, 0.0, 0.0, 0.0, 0.0, 0.0, 0.0, 0.0, 0.0, 0.0, 0.0, 0.0, 0.0, 0.0], [0.24864797294139862, 0.1380205899477005, 0.09235323965549469, 0.08676130324602127, 0.1381969153881073, 0.059141967445611954, 0.03223858401179314, 0.03158239275217056, 0.030489442870020866, 0.03873483091592789, 0.06671832501888275, 0.0371144637465477, 0.0, 0.0, 0.0, 0.0, 0.0, 0.0, 0.0, 0.0, 0.0, 0.0, 0.0, 0.0, 0.0, 0.0, 0.0, 0.0, 0.0, 0.0, 0.0, 0.0, 0.0], [0.19148443639278412, 0.1617259532213211, 0.07445933669805527, 0.07740950584411621, 0.021961094811558723, 0.03392128273844719, 0.05125017091631889, 0.01951923780143261, 0.031324442476034164, 0.04020152613520622, 0.03874269500374794, 0.2157885730266571, 0.04221167042851448, 0.0, 0.0, 0.0, 0.0, 0.0, 0.0, 0.0, 0.0, 0.0, 0.0, 0.0, 0.0, 0.0, 0.0, 0.0, 0.0, 0.0, 0.0, 0.0, 0.0], [0.3704317510128021, 0.08681419491767883, 0.024584677070379257, 0.021616315469145775, 0.032388731837272644, 0.00542273186147213, 0.0727522075176239, 0.011272789910435677, 0.06329694390296936, 0.21726810932159424, 0.006367160473018885, 0.02960382029414177, 0.05099847540259361, 0.007182059809565544, 0.0, 0.0, 0.0, 0.0, 0.0, 0.0, 0.0, 0.0, 0.0, 0.0, 0.0, 0.0, 0.0, 0.0, 0.0, 0.0, 0.0, 0.0, 0.0], [0.19737650454044342, 0.04603998363018036, 0.043999820947647095, 0.1337345838546753, 0.05424819141626358, 0.025475719943642616, 0.027563491836190224, 0.021570933982729912, 0.05171819031238556, 0.06458096206188202, 0.028064651414752007, 0.2355160266160965, 0.019129812717437744, 0.02996351197361946, 0.02101767621934414, 0.0, 0.0, 0.0, 0.0, 0.0, 0.0, 0.0, 0.0, 0.0, 0.0, 0.0, 0.0, 0.0, 0.0, 0.0, 0.0, 0.0, 0.0], [0.08907239139080048, 0.01928834058344364, 0.16653525829315186, 0.07281257957220078, 0.047386426478624344, 0.02448791079223156, 0.0289873369038105, 0.019370362162590027, 0.026673024520277977, 0.0731663629412651, 0.025704577565193176, 0.04242356866598129, 0.05869462713599205, 0.028932694345712662, 0.18119077384471893, 0.09527374804019928, 0.0, 0.0, 0.0, 0.0, 0.0, 0.0, 0.0, 0.0, 0.0, 0.0, 0.0, 0.0, 0.0, 0.0, 0.0, 0.0, 0.0], [0.2816729247570038, 0.0644129067659378, 0.01800854317843914, 0.01616961508989334, 0.023183884099125862, 0.0037532951682806015, 0.054722413420677185, 0.007909768261015415, 0.04616471752524376, 0.16947264969348907, 0.004361645318567753, 0.021011343225836754, 0.03549071028828621, 0.004932571202516556, 0.0955522209405899, 0.14726324379444122, 0.005917451810091734, 0.0, 0.0, 0.0, 0.0, 0.0, 0.0, 0.0, 0.0, 0.0, 0.0, 0.0, 0.0, 0.0, 0.0, 0.0, 0.0], [0.2130548357963562, 0.059123702347278595, 0.033820874989032745, 0.027476875111460686, 0.028393579646945, 0.008422902785241604, 0.04008528217673302, 0.011629265733063221, 0.05295193940401077, 0.15404640138149261, 0.009831815958023071, 0.036101944744586945, 0.04737291857600212, 0.011069194413721561, 0.09972479194402695, 0.13971345126628876, 0.013185339979827404, 0.013994940556585789, 0.0, 0.0, 0.0, 0.0, 0.0, 0.0, 0.0, 0.0, 0.0, 0.0, 0.0, 0.0, 0.0, 0.0, 0.0], [0.15871694684028625, 0.04387890174984932, 0.08712145686149597, 0.08998466283082962, 0.03073856793344021, 0.034148938953876495, 0.02491725981235504, 0.031391941010951996, 0.024823853746056557, 0.019790325313806534, 0.036254845559597015, 0.020694410428404808, 0.04284070432186127, 0.038209009915590286, 0.06234659627079964, 0.10919706523418427, 0.041376009583473206, 0.04916762188076973, 0.054400913417339325, 0.0, 0.0, 0.0, 0.0, 0.0, 0.0, 0.0, 0.0, 0.0, 0.0, 0.0, 0.0, 0.0, 0.0], [0.10485509783029556, 0.12122289836406708, 0.06487482786178589, 0.087687186896801, 0.0343405045568943, 0.017483940348029137, 0.03415178880095482, 0.015289143659174442, 0.023312125355005264, 0.0283065065741539, 0.018720464780926704, 0.028111955150961876, 0.04190533235669136, 0.02098958007991314, 0.04678509384393692, 0.08659641444683075, 0.023631837218999863, 0.024273177608847618, 0.1670239269733429, 0.010438226163387299, 0.0, 0.0, 0.0, 0.0, 0.0, 0.0, 0.0, 0.0, 0.0, 0.0, 0.0, 0.0, 0.0], [0.22901977598667145, 0.051843829452991486, 0.013585176318883896, 0.012337234802544117, 0.018005426973104477, 0.002770358696579933, 0.042381275445222855, 0.005856250412762165, 0.03614488244056702, 0.13039222359657288, 0.0031534263398498297, 0.015672579407691956, 0.02780042588710785, 0.0035543248523026705, 0.07460815459489822, 0.11298275738954544, 0.004272265359759331, 0.006832202896475792, 0.18569737672805786, 0.018073631450533867, 0.00501635205000639, 0.0, 0.0, 0.0, 0.0, 0.0, 0.0, 0.0, 0.0, 0.0, 0.0, 0.0, 0.0], [0.18869926035404205, 0.03438713029026985, 0.02234475128352642, 0.019972732290625572, 0.016354026272892952, 0.006856556516140699, 0.020859066396951675, 0.005696003325283527, 0.034159157425165176, 0.07260987907648087, 0.007857220247387886, 0.01804024912416935, 0.026904460042715073, 0.009020399302244186, 0.06876448541879654, 0.1757873147726059, 0.010720068588852882, 0.009284544736146927, 0.19256393611431122, 0.02518032304942608, 0.012639068998396397, 0.02129935845732689, 0.0, 0.0, 0.0, 0.0, 0.0, 0.0, 0.0, 0.0, 0.0, 0.0, 0.0], [0.11958310753107071, 0.022259419783949852, 0.03294714167714119, 0.02017022669315338, 0.03565329313278198, 0.01345990039408207, 0.01751646399497986, 0.01005786657333374, 0.025856437161564827, 0.05955953523516655, 0.015084493905305862, 0.015008736401796341, 0.0531746968626976, 0.016597600653767586, 0.041555266827344894, 0.13129347562789917, 0.019296683371067047, 0.015855032950639725, 0.17925092577934265, 0.016183815896511078, 0.02229553461074829, 0.015463389456272125, 0.10187696665525436, 0.0, 0.0, 0.0, 0.0, 0.0, 0.0, 0.0, 0.0, 0.0, 0.0], [0.14615540206432343, 0.02672751434147358, 0.016624564304947853, 0.018987687304615974, 0.06278638541698456, 0.01531717274338007, 0.019792232662439346, 0.014227773062884808, 0.02545817196369171, 0.045303527265787125, 0.016364354640245438, 0.03749304264783859, 0.013288639485836029, 0.017496539279818535, 0.039945799857378006, 0.0588175393640995, 0.01926097832620144, 0.02461601421236992, 0.03821968659758568, 0.021577803418040276, 0.02094990201294422, 0.07973215728998184, 0.05017607659101486, 0.1706809401512146, 0.0, 0.0, 0.0, 0.0, 0.0, 0.0, 0.0, 0.0, 0.0], [0.11321664601564407, 0.036746371537446976, 0.011786575429141521, 0.010274868458509445, 0.020370658487081528, 0.005243884399533272, 0.01591883972287178, 0.005266786552965641, 0.024891745299100876, 0.06593257933855057, 0.005933662410825491, 0.018209045752882957, 0.021020211279392242, 0.006667501758784056, 0.03482880815863609, 0.13742117583751678, 0.007927054539322853, 0.008618667721748352, 0.1137719377875328, 0.013557428494095802, 0.009277835488319397, 0.02612137608230114, 0.08499350398778915, 0.19073909521102905, 0.011263743042945862, 0.0, 0.0, 0.0, 0.0, 0.0, 0.0, 0.0, 0.0], [0.1333770751953125, 0.02621660754084587, 0.038271497935056686, 0.07152571529150009, 0.05317768454551697, 0.013925849460065365, 0.007084183394908905, 0.013450153172016144, 0.009841447696089745, 0.011789773590862751, 0.013537585735321045, 0.03815498575568199, 0.041933055967092514, 0.013882292434573174, 0.03707144409418106, 0.138384610414505, 0.01484633143991232, 0.03156954050064087, 0.05598169565200806, 0.015536699444055557, 0.015956368297338486, 0.04545555263757706, 0.016699662432074547, 0.02532576024532318, 0.0367189422249794, 0.08028542995452881, 0.0, 0.0, 0.0, 0.0, 0.0, 0.0, 0.0], [0.10608965903520584, 0.019107719883322716, 0.024468664079904556, 0.02749638818204403, 0.01636580377817154, 0.005011426284909248, 0.010413105599582195, 0.0060811396688222885, 0.005301062949001789, 0.011143160052597523, 0.004565387032926083, 0.018969913944602013, 0.0043211146257817745, 0.004814978688955307, 0.029409386217594147, 0.028682025149464607, 0.005097253248095512, 0.007234353106468916, 0.0341259241104126, 0.010370591655373573, 0.005643261596560478, 0.007283586543053389, 0.029389549046754837, 0.010038790293037891, 0.009134515188634396, 0.5466632843017578, 0.012777918949723244, 0.0, 0.0, 0.0, 0.0, 0.0, 0.0], [0.10467308759689331, 0.03321940824389458, 0.015341255813837051, 0.009373549371957779, 0.02659543976187706, 0.005787807982414961, 0.013571342453360558, 0.004554884973913431, 0.028058920055627823, 0.02610723115503788, 0.006353440228849649, 0.013315831311047077, 0.026628242805600166, 0.0068888794630765915, 0.06204751878976822, 0.05890703201293945, 0.00806804932653904, 0.0075570945627987385, 0.0852278470993042, 0.017075752839446068, 0.009256886318325996, 0.01969575695693493, 0.12617811560630798, 0.13061513006687164, 0.011351024731993675, 0.08984370529651642, 0.046381477266550064, 0.00732529629021883, 0.0, 0.0, 0.0, 0.0, 0.0], [0.08561897277832031, 0.02143893390893936, 0.05641252547502518, 0.05706663802266121, 0.019802194088697433, 0.006727496162056923, 0.005809160880744457, 0.004516264423727989, 0.003164749126881361, 0.01761520653963089, 0.006174596957862377, 0.08767972886562347, 0.012299860827624798, 0.006350455339998007, 0.017522137612104416, 0.14295218884944916, 0.006585485301911831, 0.007875688374042511, 0.030078910291194916, 0.013907491229474545, 0.007376693654805422, 0.007684784010052681, 0.022160831838846207, 0.012385030277073383, 0.01189005933701992, 0.08669779449701309, 0.19902534782886505, 0.013594488613307476, 0.02958623133599758, 0.0, 0.0, 0.0, 0.0], [0.14064589142799377, 0.0132987005636096, 0.015702951699495316, 0.01735786534845829, 0.02233150415122509, 0.029672253876924515, 0.041720811277627945, 0.01899542659521103, 0.038277097046375275, 0.048635631799697876, 0.030946901068091393, 0.016023894771933556, 0.020880887284874916, 0.03243822976946831, 0.030558137223124504, 0.02280835434794426, 0.035377584397792816, 0.03145160153508186, 0.03497111797332764, 0.01867910474538803, 0.03821908310055733, 0.02257886342704296, 0.06819566339254379, 0.04214096814393997, 0.02862086147069931, 0.03775002062320709, 0.018578054383397102, 0.03376871719956398, 0.036416977643966675, 0.012956843711435795, 0.0, 0.0, 0.0], [0.07168621569871902, 0.06924444437026978, 0.019306886941194534, 0.01416198443621397, 0.016823193058371544, 0.0193806029856205, 0.01925741881132126, 0.022003667429089546, 0.013706537894904613, 0.035783812403678894, 0.018465176224708557, 0.0520717054605484, 0.020085157826542854, 0.019862117245793343, 0.02066211774945259, 0.04725165292620659, 0.02107669971883297, 0.0367872454226017, 0.024324089288711548, 0.003827545326203108, 0.023920685052871704, 0.008533223532140255, 0.026241624727845192, 0.02738007716834545, 0.03461198881268501, 0.022884145379066467, 0.10047904402017593, 0.06913497298955917, 0.02547457441687584, 0.06495597958564758, 0.030615370720624924, 0.0, 0.0], [0.06910776346921921, 0.03701226785778999, 0.03862112760543823, 0.059333208948373795, 0.015923531726002693, 0.00791856087744236, 0.01037104893475771, 0.0066156648099422455, 0.00252008019015193, 0.026019364595413208, 0.007905228063464165, 0.02965204045176506, 0.04000621661543846, 0.008451340720057487, 0.010741151869297028, 0.05027563497424126, 0.009428857825696468, 0.013601024635136127, 0.05036920681595802, 0.03176712244749069, 0.010793033055961132, 0.007216805126518011, 0.006478430703282356, 0.014800597913563251, 0.02158597856760025, 0.15769492089748383, 0.0888475701212883, 0.019016936421394348, 0.029729347676038742, 0.03316134959459305, 0.05088366940617561, 0.0341508649289608, 0.0], [0.14375512301921844, 0.016811035573482513, 0.009386660531163216, 0.006830313708633184, 0.011656851507723331, 0.0015672276495024562, 0.019711481407284737, 0.002398039912804961, 0.02123589627444744, 0.04683681204915047, 0.0016905168304219842, 0.005827196873724461, 0.011980002745985985, 0.0018251428846269846, 0.042313352227211, 0.05491369962692261, 0.002178656402975321, 0.002417010720819235, 0.09604068845510483, 0.005752875003963709, 0.0025577896740287542, 0.007121227215975523, 0.08889932185411453, 0.10852085798978806, 0.005179049447178841, 0.03657732158899307, 0.02471991628408432, 0.003734766272827983, 0.031077081337571144, 0.016887923702597618, 0.09450861811637878, 0.07171523571014404, 0.003372323466464877]], [[1.0, 0.0, 0.0, 0.0, 0.0, 0.0, 0.0, 0.0, 0.0, 0.0, 0.0, 0.0, 0.0, 0.0, 0.0, 0.0, 0.0, 0.0, 0.0, 0.0, 0.0, 0.0, 0.0, 0.0, 0.0, 0.0, 0.0, 0.0, 0.0, 0.0, 0.0, 0.0, 0.0], [0.0004246665630489588, 0.9995753169059753, 0.0, 0.0, 0.0, 0.0, 0.0, 0.0, 0.0, 0.0, 0.0, 0.0, 0.0, 0.0, 0.0, 0.0, 0.0, 0.0, 0.0, 0.0, 0.0, 0.0, 0.0, 0.0, 0.0, 0.0, 0.0, 0.0, 0.0, 0.0, 0.0, 0.0, 0.0], [0.0005621897289529443, 0.016407234594225883, 0.9830306172370911, 0.0, 0.0, 0.0, 0.0, 0.0, 0.0, 0.0, 0.0, 0.0, 0.0, 0.0, 0.0, 0.0, 0.0, 0.0, 0.0, 0.0, 0.0, 0.0, 0.0, 0.0, 0.0, 0.0, 0.0, 0.0, 0.0, 0.0, 0.0, 0.0, 0.0], [0.0011627586791291833, 0.021682044491171837, 0.003762045642361045, 0.9733932018280029, 0.0, 0.0, 0.0, 0.0, 0.0, 0.0, 0.0, 0.0, 0.0, 0.0, 0.0, 0.0, 0.0, 0.0, 0.0, 0.0, 0.0, 0.0, 0.0, 0.0, 0.0, 0.0, 0.0, 0.0, 0.0, 0.0, 0.0, 0.0, 0.0], [3.7244368286337703e-05, 0.00017202268645633012, 0.0002814398321788758, 0.002742142416536808, 0.9967671632766724, 0.0, 0.0, 0.0, 0.0, 0.0, 0.0, 0.0, 0.0, 0.0, 0.0, 0.0, 0.0, 0.0, 0.0, 0.0, 0.0, 0.0, 0.0, 0.0, 0.0, 0.0, 0.0, 0.0, 0.0, 0.0, 0.0, 0.0, 0.0], [0.008268450386822224, 0.00023985578445717692, 7.361910684267059e-05, 6.437722186092287e-05, 0.0001756635756464675, 0.9911779761314392, 0.0, 0.0, 0.0, 0.0, 0.0, 0.0, 0.0, 0.0, 0.0, 0.0, 0.0, 0.0, 0.0, 0.0, 0.0, 0.0, 0.0, 0.0, 0.0, 0.0, 0.0, 0.0, 0.0, 0.0, 0.0, 0.0, 0.0], [0.0012215040624141693, 0.005400446243584156, 0.0016716319369152188, 0.00040775613160803914, 0.0006163657526485622, 0.0010931179858744144, 0.9895892143249512, 0.0, 0.0, 0.0, 0.0, 0.0, 0.0, 0.0, 0.0, 0.0, 0.0, 0.0, 0.0, 0.0, 0.0, 0.0, 0.0, 0.0, 0.0, 0.0, 0.0, 0.0, 0.0, 0.0, 0.0, 0.0, 0.0], [0.001245980616658926, 0.0009121241746470332, 0.0005976735264994204, 0.00013656922965310514, 0.00033041168353520334, 0.0015722825191915035, 0.003880831180140376, 0.9913240671157837, 0.0, 0.0, 0.0, 0.0, 0.0, 0.0, 0.0, 0.0, 0.0, 0.0, 0.0, 0.0, 0.0, 0.0, 0.0, 0.0, 0.0, 0.0, 0.0, 0.0, 0.0, 0.0, 0.0, 0.0, 0.0], [0.0002821740636136383, 0.004068171139806509, 0.0026605145540088415, 0.001309306942857802, 0.008030462078750134, 0.00028790911892428994, 0.0002292287681484595, 0.00039484177250415087, 0.9827372431755066, 0.0, 0.0, 0.0, 0.0, 0.0, 0.0, 0.0, 0.0, 0.0, 0.0, 0.0, 0.0, 0.0, 0.0, 0.0, 0.0, 0.0, 0.0, 0.0, 0.0, 0.0, 0.0, 0.0, 0.0], [3.4739397960947827e-05, 0.00039538549026474357, 0.00013272761134430766, 0.00025852362159639597, 0.0010855639120563865, 9.198069892590865e-05, 0.0003267084830440581, 0.0005427470314316452, 0.006105947773903608, 0.9910256266593933, 0.0, 0.0, 0.0, 0.0, 0.0, 0.0, 0.0, 0.0, 0.0, 0.0, 0.0, 0.0, 0.0, 0.0, 0.0, 0.0, 0.0, 0.0, 0.0, 0.0, 0.0, 0.0, 0.0], [0.0033785065170377493, 5.090870399726555e-05, 1.6452042473247275e-05, 1.6926162061281502e-05, 4.1814146243268624e-05, 0.493940144777298, 0.00012981274630874395, 0.0008837330969981849, 3.221199949621223e-05, 2.725217018451076e-05, 0.5014823079109192, 0.0, 0.0, 0.0, 0.0, 0.0, 0.0, 0.0, 0.0, 0.0, 0.0, 0.0, 0.0, 0.0, 0.0, 0.0, 0.0, 0.0, 0.0, 0.0, 0.0, 0.0, 0.0], [8.416055788984522e-05, 0.0013417234877124429, 0.0012613609433174133, 0.0021450784988701344, 0.004042366519570351, 0.0004830538819078356, 0.00011582666775211692, 0.00015203595103230327, 2.6925306883640587e-05, 0.00012675137259066105, 0.00031289938488043845, 0.9899077415466309, 0.0, 0.0, 0.0, 0.0, 0.0, 0.0, 0.0, 0.0, 0.0, 0.0, 0.0, 0.0, 0.0, 0.0, 0.0, 0.0, 0.0, 0.0, 0.0, 0.0, 0.0], [0.00037822354352101684, 0.0009837584802880883, 0.039341311901807785, 0.002732250839471817, 0.0036680244375020266, 0.00011039190576411784, 0.0001293104432988912, 0.0002174351830035448, 0.00010623304842738435, 0.000774819403886795, 6.647672125836834e-05, 0.0003148670948576182, 0.9511768817901611, 0.0, 0.0, 0.0, 0.0, 0.0, 0.0, 0.0, 0.0, 0.0, 0.0, 0.0, 0.0, 0.0, 0.0, 0.0, 0.0, 0.0, 0.0, 0.0, 0.0], [0.0021017203107476234, 2.443685480102431e-05, 7.78877529228339e-06, 8.651616553834174e-06, 2.0140025299042463e-05, 0.2997136116027832, 7.525279215769842e-05, 0.0004898308543488383, 1.845947372203227e-05, 1.5344594430644065e-05, 0.32833901047706604, 4.175805224804208e-05, 6.469203071901575e-06, 0.36913758516311646, 0.0, 0.0, 0.0, 0.0, 0.0, 0.0, 0.0, 0.0, 0.0, 0.0, 0.0, 0.0, 0.0, 0.0, 0.0, 0.0, 0.0, 0.0, 0.0], [0.0001496832846896723, 0.00011296608136035502, 0.0003629486891441047, 0.0001859122421592474, 0.00016460892220493406, 4.143228943576105e-05, 2.8764743547071703e-05, 7.786951027810574e-05, 0.0009200983913615346, 0.010340170934796333, 2.7572366889216937e-05, 1.7833221136243083e-05, 0.0003305449790786952, 2.437570583424531e-05, 0.9872152805328369, 0.0, 0.0, 0.0, 0.0, 0.0, 0.0, 0.0, 0.0, 0.0, 0.0, 0.0, 0.0, 0.0, 0.0, 0.0, 0.0, 0.0, 0.0], [0.00010753834067145362, 0.002178192837163806, 0.0020426136907190084, 0.004251932725310326, 0.006989913992583752, 2.511883940314874e-05, 0.0007779050501994789, 0.0005783562664873898, 0.002937848446890712, 0.03322543203830719, 1.7199294234160334e-05, 0.0008936498197726905, 0.0015238601481541991, 1.4656845451099798e-05, 0.0062226527370512486, 0.9382131695747375, 0.0, 0.0, 0.0, 0.0, 0.0, 0.0, 0.0, 0.0, 0.0, 0.0, 0.0, 0.0, 0.0, 0.0, 0.0, 0.0, 0.0], [0.0013634872157126665, 1.3226023838797119e-05, 4.0139275370165706e-06, 4.803053343493957e-06, 1.0257443136652e-05, 0.19665949046611786, 4.527259443420917e-05, 0.00027762571698985994, 1.1714412721630652e-05, 9.47331227507675e-06, 0.22919628024101257, 2.6430576326674782e-05, 4.1018447518581524e-06, 0.26576098799705505, 8.51534878165694e-06, 4.536021606327267e-06, 0.30659979581832886, 0.0, 0.0, 0.0, 0.0, 0.0, 0.0, 0.0, 0.0, 0.0, 0.0, 0.0, 0.0, 0.0, 0.0, 0.0, 0.0], [0.0008924766443669796, 0.00013490807032212615, 4.779844675795175e-05, 5.803713065688498e-05, 0.00010480182390892878, 0.012799106538295746, 0.0007168253068812191, 0.032579533755779266, 2.644998130563181e-05, 0.0001118508298532106, 0.011884276755154133, 4.010281554656103e-05, 5.5554191931150854e-05, 0.012377879582345486, 0.00010783490142785013, 5.4043754062149674e-05, 0.013122130185365677, 0.9148862957954407, 0.0, 0.0, 0.0, 0.0, 0.0, 0.0, 0.0, 0.0, 0.0, 0.0, 0.0, 0.0, 0.0, 0.0, 0.0], [5.075309672974981e-06, 4.396131043904461e-05, 3.398505214136094e-05, 7.940294017316774e-05, 5.477912418427877e-05, 7.921536280264263e-07, 9.313316695624962e-06, 7.727072443231009e-06, 8.597262785769999e-05, 0.00012274044274818152, 5.141484393789142e-07, 1.7027923604473472e-06, 3.8341830077115446e-05, 4.4509675944937044e-07, 0.00013928224507253617, 0.00032758014276623726, 3.9947977370502485e-07, 3.948130597564159e-06, 0.9990440011024475, 0.0, 0.0, 0.0, 0.0, 0.0, 0.0, 0.0, 0.0, 0.0, 0.0, 0.0, 0.0, 0.0, 0.0], [9.346206934424117e-05, 0.0018395762890577316, 0.002523313509300351, 0.01808726228773594, 0.002936380449682474, 0.00027335836784914136, 4.8729838454164565e-05, 0.00042127823689952493, 0.00015624375373590738, 0.0009748341981321573, 0.00020533603674266487, 0.0010228848550468683, 0.0019548034761101007, 0.00019470383995212615, 0.001129421521909535, 0.0016656110528856516, 0.000187340410775505, 0.0009503457113169134, 0.0004455178859643638, 0.9648895859718323, 0.0, 0.0, 0.0, 0.0, 0.0, 0.0, 0.0, 0.0, 0.0, 0.0, 0.0, 0.0, 0.0], [0.0010859704343602061, 8.512339263688773e-06, 2.5307258511020336e-06, 3.062519908780814e-06, 5.975128260615747e-06, 0.1329261213541031, 3.345329241710715e-05, 0.00018891254148911685, 8.477754818159156e-06, 6.5404387896705884e-06, 0.16445915400981903, 1.8130049284081906e-05, 3.0627447813458275e-06, 0.19719167053699493, 6.429846507671755e-06, 3.4447386951796943e-06, 0.23317132890224457, 0.0022796287667006254, 3.713428895935067e-06, 3.5288056096760556e-05, 0.268558531999588, 0.0, 0.0, 0.0, 0.0, 0.0, 0.0, 0.0, 0.0, 0.0, 0.0, 0.0, 0.0], [0.0004197956877760589, 0.00011805014219135046, 0.00014240515884011984, 3.796791861532256e-05, 0.00019043180509470403, 0.0017651234520599246, 0.0005709831020794809, 0.0005008857697248459, 8.840754890115932e-05, 0.00014208690845407546, 0.001663984265178442, 3.348114114487544e-05, 2.441400647512637e-05, 0.0017546514282003045, 6.520318129332736e-05, 2.4142671463778242e-05, 0.0018299148650839925, 0.00156910321675241, 3.9748843846609816e-05, 0.0001571241591591388, 0.001855448354035616, 0.9870065450668335, 0.0, 0.0, 0.0, 0.0, 0.0, 0.0, 0.0, 0.0, 0.0, 0.0, 0.0], [7.501784421037883e-05, 0.001437983475625515, 6.345157453324646e-05, 0.00010864839714486152, 0.00015633198199793696, 3.210126124031376e-06, 0.002203276613727212, 0.00022076575260143727, 5.240297468844801e-05, 4.8815836635185406e-05, 2.2644612727162894e-06, 1.5327250366681255e-05, 4.157148396188859e-06, 2.0228408175171353e-06, 6.2968033489596564e-06, 4.848669414059259e-05, 1.9928991150663933e-06, 3.2470103178638965e-05, 0.0012695115292444825, 1.9632627299870364e-05, 1.8090950106852688e-06, 0.0005810299189761281, 0.9936450719833374, 0.0, 0.0, 0.0, 0.0, 0.0, 0.0, 0.0, 0.0, 0.0, 0.0], [7.450165139744058e-05, 0.0006139407050795853, 0.0009361231350339949, 0.0008487823652103543, 0.002850639633834362, 1.0365081834606826e-05, 0.00021614317665807903, 0.00017397581541445106, 0.0020508442539721727, 0.005805302411317825, 8.05525360192405e-06, 8.086615707725286e-05, 0.0007702469010837376, 7.2882048698375e-06, 0.0010576184140518308, 0.002275601727887988, 6.663274234597338e-06, 0.00011621051089605317, 0.0005972470389679074, 8.736330346437171e-05, 6.3323500398837496e-06, 6.096476499806158e-05, 6.090595343266614e-05, 0.9812840819358826, 0.0, 0.0, 0.0, 0.0, 0.0, 0.0, 0.0, 0.0, 0.0], [0.0005848740111105144, 0.00015909186913631856, 1.0836471119546331e-05, 7.365475903498009e-05, 0.00011349535634508356, 0.0008256655419245362, 0.00031911043333821, 0.018529966473579407, 1.0226589438389055e-05, 4.95872700412292e-05, 0.0007716428372077644, 4.454819645616226e-05, 9.865005267784e-06, 0.0008067174931056798, 2.2673884814139456e-05, 1.2464139217627235e-05, 0.0008449099841527641, 0.008790102787315845, 3.579230542527512e-05, 3.6628622183343396e-05, 0.0008917531813494861, 0.0010791773675009608, 0.0003708457516040653, 0.00010837136505870149, 0.9654979109764099, 0.0, 0.0, 0.0, 0.0, 0.0, 0.0, 0.0, 0.0], [1.6459896869491786e-05, 0.00017152423970401287, 3.2083124096971005e-05, 0.00010234154615318403, 0.0026318738237023354, 9.88617648545187e-06, 3.2508429285371676e-05, 3.741747059393674e-05, 0.00012631516437977552, 4.991206878912635e-05, 8.302526111947373e-06, 8.443406841251999e-05, 3.127960371784866e-05, 7.63334992370801e-06, 1.010133473755559e-05, 5.667365257977508e-05, 7.442115474987077e-06, 2.7689631679095328e-05, 1.8418288163957186e-05, 2.8794268018828006e-06, 6.840408332209336e-06, 4.27987151851994e-06, 0.00043176495819352567, 0.00017617452249396592, 8.995583630166948e-05, 0.9958258867263794, 0.0, 0.0, 0.0, 0.0, 0.0, 0.0, 0.0], [2.63680012722034e-05, 0.00018008692131843418, 0.00018082934548147023, 0.00030464696465060115, 0.00039390852907672524, 4.674835872719996e-05, 2.7231670173932798e-05, 4.873486250289716e-05, 0.00029131615883670747, 0.0004206160956528038, 3.804636435233988e-05, 0.0002524509036447853, 5.6067383411573246e-05, 3.820365236606449e-05, 0.0015365094877779484, 0.0012537204893305898, 3.5934186598751694e-05, 2.3036620405036956e-05, 0.00018036227265838534, 0.00012266100384294987, 3.517777440720238e-05, 6.92467947374098e-05, 0.0001126729475799948, 0.0008507369202561677, 0.0001436186139471829, 0.00023527914891019464, 0.9930958151817322, 0.0, 0.0, 0.0, 0.0, 0.0, 0.0], [0.0007048267871141434, 5.675393549608998e-05, 3.35129539053014e-06, 7.472671313735191e-06, 1.7859490981209092e-05, 0.0008156539406627417, 4.952961899107322e-05, 0.0013530990108847618, 3.741766340681352e-05, 0.00014378032938111573, 0.0007639342802576721, 9.991703336709179e-06, 2.884440846173675e-06, 0.0007552243187092245, 0.0001015961097436957, 3.120549763480085e-06, 0.0008060958934947848, 0.001140677253715694, 1.4343116163217928e-05, 9.910185326589271e-06, 0.0008649206138215959, 8.66328991833143e-05, 3.4695469366852194e-05, 0.00010265829769195989, 0.0076634809374809265, 4.18790259573143e-05, 3.4908694033219945e-06, 0.9844047427177429, 0.0, 0.0, 0.0, 0.0, 0.0], [2.028825292654801e-05, 2.9542607080657035e-05, 5.0374874263070524e-05, 0.0009778308449313045, 0.3728248178958893, 6.661292445642175e-06, 1.5733594409539364e-05, 3.981235568062402e-05, 0.0002235315041616559, 0.00012674294703174382, 5.118429726280738e-06, 0.00024116160057019442, 1.2973811863048468e-05, 4.800677288585575e-06, 2.332161420781631e-05, 7.723517046542838e-05, 4.593428002408473e-06, 1.964706643775571e-05, 0.0002112987858708948, 1.1453476872702595e-05, 4.380471636977745e-06, 1.4442639439948834e-05, 3.6767349229194224e-05, 0.0001184529610327445, 3.797711542574689e-05, 0.0007802738109603524, 0.00040483547491021454, 1.0429532267153263e-05, 0.6236653923988342, 0.0, 0.0, 0.0, 0.0], [2.0582927390933037e-05, 8.831260493025184e-05, 0.00020454901095945388, 0.00030189016251824796, 8.223903569160029e-05, 1.970443372556474e-05, 0.00014085126167628914, 2.8963204385945573e-05, 7.669385013286956e-06, 3.7246205465635285e-05, 1.673678525548894e-05, 6.404708983609453e-05, 0.0006910594529472291, 1.6027599485823885e-05, 0.00015603694191668183, 0.00014825942344032228, 1.5700084986747243e-05, 9.155408042715862e-05, 8.525099110556766e-05, 4.9045224841393065e-06, 1.5784411516506225e-05, 5.293112189974636e-05, 0.000529835931956768, 0.0005658399895764887, 6.167330138850957e-05, 6.729510641889647e-05, 0.00030774460174143314, 1.0369168194301892e-05, 6.799343100283295e-05, 0.9960988759994507, 0.0, 0.0, 0.0], [1.3371293789532501e-05, 0.0009821535786613822, 0.00041548089939169586, 0.0001144232737715356, 0.0003873079258482903, 5.6608546401548665e-06, 0.0012746251886710525, 0.0005708053940907121, 0.000638362136669457, 0.0005776663310825825, 4.127729425817961e-06, 9.161743037111592e-06, 9.142825001617894e-05, 3.7748570775875123e-06, 1.3575281627709046e-05, 0.0002916177036240697, 3.447482413321268e-06, 7.899177580839023e-05, 0.003189116483554244, 4.885079306404805e-06, 3.1652807592763565e-06, 1.4087440831644926e-05, 0.0001567144354339689, 0.00035448858398012817, 0.00017265439964830875, 0.0013050627894699574, 0.00021867647592443973, 2.6776693630381487e-05, 0.0002646020438987762, 1.3334517461771611e-05, 0.9888005256652832, 0.0, 0.0], [2.7455113013274968e-05, 0.0001643829164095223, 7.996430213097483e-05, 0.0011914987117052078, 0.0007883633370511234, 2.6584268653095933e-06, 3.0057644835324027e-05, 7.4579888860171195e-06, 0.00014940994151402265, 2.8857211873400956e-05, 1.8738326161837904e-06, 0.00033288096892647445, 5.1608749345177785e-05, 1.7577513062860817e-06, 0.00012656612670980394, 0.00014267023652791977, 1.6954486454778817e-06, 2.1952635506750084e-05, 0.00023040821542963386, 4.42934651800897e-05, 1.6103351754281903e-06, 2.700810000533238e-05, 0.0002388490829616785, 0.0001904605160234496, 9.496163329458795e-06, 0.00044664437882602215, 0.00022095807071309537, 5.379185495257843e-06, 0.0006956419674679637, 0.00015470794460270554, 0.0002548545890022069, 0.9943285584449768, 0.0], [0.00623104115948081, 9.722797403810546e-05, 6.87158990331227e-06, 2.1151117834961042e-05, 5.828053690493107e-05, 0.007238902151584625, 2.098795994243119e-05, 0.0002545907336752862, 6.243860116228461e-05, 2.0924684577039443e-05, 0.007872140035033226, 5.5853193771326914e-05, 9.868757842923515e-06, 0.009169396944344044, 7.202996494015679e-05, 7.068687409628183e-06, 0.010345966555178165, 0.0013096531620249152, 3.803673462243751e-05, 8.022697147680447e-05, 0.012053251266479492, 4.072002411703579e-05, 3.6860683394479565e-06, 3.4713491913862526e-05, 0.0005061828414909542, 8.918942330637947e-05, 2.9112034098943695e-05, 0.0012772803893312812, 8.489656465826556e-05, 0.0001844739163061604, 0.00013425727956928313, 6.813048094045371e-05, 0.9425214529037476]], [[1.0, 0.0, 0.0, 0.0, 0.0, 0.0, 0.0, 0.0, 0.0, 0.0, 0.0, 0.0, 0.0, 0.0, 0.0, 0.0, 0.0, 0.0, 0.0, 0.0, 0.0, 0.0, 0.0, 0.0, 0.0, 0.0, 0.0, 0.0, 0.0, 0.0, 0.0, 0.0, 0.0], [0.943029522895813, 0.05697045475244522, 0.0, 0.0, 0.0, 0.0, 0.0, 0.0, 0.0, 0.0, 0.0, 0.0, 0.0, 0.0, 0.0, 0.0, 0.0, 0.0, 0.0, 0.0, 0.0, 0.0, 0.0, 0.0, 0.0, 0.0, 0.0, 0.0, 0.0, 0.0, 0.0, 0.0, 0.0], [0.9185556173324585, 0.032800041139125824, 0.04864436015486717, 0.0, 0.0, 0.0, 0.0, 0.0, 0.0, 0.0, 0.0, 0.0, 0.0, 0.0, 0.0, 0.0, 0.0, 0.0, 0.0, 0.0, 0.0, 0.0, 0.0, 0.0, 0.0, 0.0, 0.0, 0.0, 0.0, 0.0, 0.0, 0.0, 0.0], [0.8779287934303284, 0.056434281170368195, 0.042711932212114334, 0.02292501926422119, 0.0, 0.0, 0.0, 0.0, 0.0, 0.0, 0.0, 0.0, 0.0, 0.0, 0.0, 0.0, 0.0, 0.0, 0.0, 0.0, 0.0, 0.0, 0.0, 0.0, 0.0, 0.0, 0.0, 0.0, 0.0, 0.0, 0.0, 0.0, 0.0], [0.8041317462921143, 0.029098212718963623, 0.0755673199892044, 0.056435976177453995, 0.034766774624586105, 0.0, 0.0, 0.0, 0.0, 0.0, 0.0, 0.0, 0.0, 0.0, 0.0, 0.0, 0.0, 0.0, 0.0, 0.0, 0.0, 0.0, 0.0, 0.0, 0.0, 0.0, 0.0, 0.0, 0.0, 0.0, 0.0, 0.0, 0.0], [0.4943103492259979, 0.020183540880680084, 0.027966568246483803, 0.018319059163331985, 0.031442031264305115, 0.4077783524990082, 0.0, 0.0, 0.0, 0.0, 0.0, 0.0, 0.0, 0.0, 0.0, 0.0, 0.0, 0.0, 0.0, 0.0, 0.0, 0.0, 0.0, 0.0, 0.0, 0.0, 0.0, 0.0, 0.0, 0.0, 0.0, 0.0, 0.0], [0.6057476997375488, 0.029242457821965218, 0.09491512924432755, 0.07609347254037857, 0.0661466047167778, 0.0870579183101654, 0.0407966785132885, 0.0, 0.0, 0.0, 0.0, 0.0, 0.0, 0.0, 0.0, 0.0, 0.0, 0.0, 0.0, 0.0, 0.0, 0.0, 0.0, 0.0, 0.0, 0.0, 0.0, 0.0, 0.0, 0.0, 0.0, 0.0, 0.0], [0.448382169008255, 0.04542432352900505, 0.07401483505964279, 0.06864846497774124, 0.0937662348151207, 0.08774261176586151, 0.06534270942211151, 0.11667867004871368, 0.0, 0.0, 0.0, 0.0, 0.0, 0.0, 0.0, 0.0, 0.0, 0.0, 0.0, 0.0, 0.0, 0.0, 0.0, 0.0, 0.0, 0.0, 0.0, 0.0, 0.0, 0.0, 0.0, 0.0, 0.0], [0.4916926622390747, 0.13782073557376862, 0.03955017402768135, 0.061533208936452866, 0.04539964720606804, 0.040731459856033325, 0.06228700280189514, 0.05861866846680641, 0.062366411089897156, 0.0, 0.0, 0.0, 0.0, 0.0, 0.0, 0.0, 0.0, 0.0, 0.0, 0.0, 0.0, 0.0, 0.0, 0.0, 0.0, 0.0, 0.0, 0.0, 0.0, 0.0, 0.0, 0.0, 0.0], [0.540412425994873, 0.04442666843533516, 0.03957854211330414, 0.04188811779022217, 0.07529858499765396, 0.0466950498521328, 0.04847521707415581, 0.05500521883368492, 0.08293060958385468, 0.025289513170719147, 0.0, 0.0, 0.0, 0.0, 0.0, 0.0, 0.0, 0.0, 0.0, 0.0, 0.0, 0.0, 0.0, 0.0, 0.0, 0.0, 0.0, 0.0, 0.0, 0.0, 0.0, 0.0, 0.0], [0.2827354073524475, 0.014234175905585289, 0.017647750675678253, 0.011433073319494724, 0.021741703152656555, 0.26665401458740234, 0.015403535217046738, 0.04734928160905838, 0.01776753179728985, 0.013926059938967228, 0.2911074757575989, 0.0, 0.0, 0.0, 0.0, 0.0, 0.0, 0.0, 0.0, 0.0, 0.0, 0.0, 0.0, 0.0, 0.0, 0.0, 0.0, 0.0, 0.0, 0.0, 0.0, 0.0, 0.0], [0.3449662923812866, 0.046116795390844345, 0.05771547183394432, 0.11131858080625534, 0.11289364099502563, 0.027930328622460365, 0.0385918952524662, 0.0565652921795845, 0.05864057317376137, 0.0664859190583229, 0.026114361360669136, 0.05266087129712105, 0.0, 0.0, 0.0, 0.0, 0.0, 0.0, 0.0, 0.0, 0.0, 0.0, 0.0, 0.0, 0.0, 0.0, 0.0, 0.0, 0.0, 0.0, 0.0, 0.0, 0.0], [0.46992164850234985, 0.032015688717365265, 0.1077289879322052, 0.02700680121779442, 0.044658828526735306, 0.022773563861846924, 0.023117076605558395, 0.02549152821302414, 0.04950273036956787, 0.026573941111564636, 0.01970885880291462, 0.06337960064411163, 0.08812078088521957, 0.0, 0.0, 0.0, 0.0, 0.0, 0.0, 0.0, 0.0, 0.0, 0.0, 0.0, 0.0, 0.0, 0.0, 0.0, 0.0, 0.0, 0.0, 0.0, 0.0], [0.20661765336990356, 0.010379304178059101, 0.012261947616934776, 0.008319098502397537, 0.016007082536816597, 0.19527745246887207, 0.011453291401267052, 0.034756701439619064, 0.01307358406484127, 0.010938970372080803, 0.21602487564086914, 0.005866494961082935, 0.023642312735319138, 0.23538124561309814, 0.0, 0.0, 0.0, 0.0, 0.0, 0.0, 0.0, 0.0, 0.0, 0.0, 0.0, 0.0, 0.0, 0.0, 0.0, 0.0, 0.0, 0.0, 0.0], [0.3399348855018616, 0.02916165255010128, 0.09540709108114243, 0.03395187854766846, 0.08440453559160233, 0.012559548951685429, 0.02935866080224514, 0.024564163759350777, 0.10622435808181763, 0.04689212888479233, 0.011469586752355099, 0.006369196344166994, 0.11145276576280594, 0.01131800003349781, 0.05693148821592331, 0.0, 0.0, 0.0, 0.0, 0.0, 0.0, 0.0, 0.0, 0.0, 0.0, 0.0, 0.0, 0.0, 0.0, 0.0, 0.0, 0.0, 0.0], [0.4040882885456085, 0.02419567108154297, 0.038910046219825745, 0.014727434143424034, 0.024456564337015152, 0.03844999149441719, 0.0392303466796875, 0.03717135637998581, 0.06030002236366272, 0.04198548570275307, 0.037167180329561234, 0.016391227021813393, 0.0392896793782711, 0.03772979974746704, 0.1344856172800064, 0.01142129022628069, 0.0, 0.0, 0.0, 0.0, 0.0, 0.0, 0.0, 0.0, 0.0, 0.0, 0.0, 0.0, 0.0, 0.0, 0.0, 0.0, 0.0], [0.1587643176317215, 0.008203903213143349, 0.009295256808400154, 0.0062217144295573235, 0.011793202720582485, 0.1506979763507843, 0.008851960301399231, 0.026313526555895805, 0.010186916217207909, 0.008433721028268337, 0.16762235760688782, 0.0044200303964316845, 0.01821179874241352, 0.18350814282894135, 0.02092733606696129, 0.006447788793593645, 0.20010001957416534, 0.0, 0.0, 0.0, 0.0, 0.0, 0.0, 0.0, 0.0, 0.0, 0.0, 0.0, 0.0, 0.0, 0.0, 0.0, 0.0], [0.17539209127426147, 0.02056967280805111, 0.018291443586349487, 0.009298017248511314, 0.01737789437174797, 0.042534779757261276, 0.02070160023868084, 0.05044393241405487, 0.02543804608285427, 0.017218222841620445, 0.04311535134911537, 0.013349827378988266, 0.028528597205877304, 0.0459725484251976, 0.034088220447301865, 0.019834211096167564, 0.04992837831377983, 0.3679172098636627, 0.0, 0.0, 0.0, 0.0, 0.0, 0.0, 0.0, 0.0, 0.0, 0.0, 0.0, 0.0, 0.0, 0.0, 0.0], [0.2603333592414856, 0.017148368060588837, 0.037452761083841324, 0.07594798505306244, 0.04674700275063515, 0.01806854084134102, 0.03134647011756897, 0.03741515055298805, 0.07175810635089874, 0.05872540548443794, 0.017078708857297897, 0.04030592367053032, 0.05706356465816498, 0.017113586887717247, 0.10491329431533813, 0.04670536890625954, 0.017230207100510597, 0.024682167917490005, 0.019963977858424187, 0.0, 0.0, 0.0, 0.0, 0.0, 0.0, 0.0, 0.0, 0.0, 0.0, 0.0, 0.0, 0.0, 0.0], [0.3054705262184143, 0.051904987543821335, 0.043468985706567764, 0.02184685319662094, 0.02101721242070198, 0.033904749900102615, 0.04190472513437271, 0.03909289464354515, 0.028871983289718628, 0.023003440350294113, 0.03205801174044609, 0.023334503173828125, 0.07110591977834702, 0.03290090337395668, 0.06164196506142616, 0.03183263912796974, 0.03376764431595802, 0.04571491852402687, 0.035015229135751724, 0.022141894325613976, 0.0, 0.0, 0.0, 0.0, 0.0, 0.0, 0.0, 0.0, 0.0, 0.0, 0.0, 0.0, 0.0], [0.12242941558361053, 0.006105296313762665, 0.006670298986136913, 0.004581778775900602, 0.00933778751641512, 0.11381800472736359, 0.006783358287066221, 0.019719906151294708, 0.007580858189612627, 0.006613642442971468, 0.12765929102897644, 0.003502656240016222, 0.014002329669892788, 0.14000988006591797, 0.015684887766838074, 0.005092608742415905, 0.15336206555366516, 0.03527418151497841, 0.022465623915195465, 0.006954464130103588, 0.1723516434431076, 0.0, 0.0, 0.0, 0.0, 0.0, 0.0, 0.0, 0.0, 0.0, 0.0, 0.0, 0.0], [0.20538493990898132, 0.03477853909134865, 0.014682911336421967, 0.03118331916630268, 0.030931273475289345, 0.021952765062451363, 0.03290865197777748, 0.05740535259246826, 0.05587513744831085, 0.04864276945590973, 0.02352076955139637, 0.015108555555343628, 0.02738632820546627, 0.0245184488594532, 0.06060450151562691, 0.034776169806718826, 0.02613779902458191, 0.05168435722589493, 0.06281401962041855, 0.020291469991207123, 0.02860173210501671, 0.09081016480922699, 0.0, 0.0, 0.0, 0.0, 0.0, 0.0, 0.0, 0.0, 0.0, 0.0, 0.0], [0.23978610336780548, 0.03132350742816925, 0.05037754401564598, 0.015869423747062683, 0.039014603942632675, 0.022805534303188324, 0.042853593826293945, 0.02888229675590992, 0.04046260565519333, 0.0341072604060173, 0.022644514217972755, 0.039230700582265854, 0.0723857581615448, 0.022345513105392456, 0.049581047147512436, 0.031933337450027466, 0.023325566202402115, 0.04521360620856285, 0.030554333701729774, 0.022876495495438576, 0.024732287973165512, 0.05549480766057968, 0.01419955212622881, 0.0, 0.0, 0.0, 0.0, 0.0, 0.0, 0.0, 0.0, 0.0, 0.0], [0.23581692576408386, 0.020558305084705353, 0.043750036507844925, 0.029704879969358444, 0.03703876584768295, 0.014953448437154293, 0.040043093264102936, 0.02718435972929001, 0.0457618311047554, 0.038092583417892456, 0.01418188028037548, 0.03789152204990387, 0.06518243253231049, 0.014182930812239647, 0.05489491671323776, 0.023720955476164818, 0.01459276583045721, 0.02557002753019333, 0.07356180995702744, 0.03918233886361122, 0.014925515279173851, 0.04628865420818329, 0.027801059186458588, 0.015118859708309174, 0.0, 0.0, 0.0, 0.0, 0.0, 0.0, 0.0, 0.0, 0.0], [0.14254960417747498, 0.012010161764919758, 0.01688128523528576, 0.020742541179060936, 0.032451752573251724, 0.029626017436385155, 0.030295217409729958, 0.05620875582098961, 0.02960873767733574, 0.029481831938028336, 0.03263988718390465, 0.010038232430815697, 0.04078616574406624, 0.03462788835167885, 0.033916354179382324, 0.02015575021505356, 0.03684317320585251, 0.0606469102203846, 0.04744715988636017, 0.032525282353162766, 0.040400344878435135, 0.05947759002447128, 0.03129400312900543, 0.04792549088597298, 0.0714198499917984, 0.0, 0.0, 0.0, 0.0, 0.0, 0.0, 0.0, 0.0], [0.2222907692193985, 0.05911136418581009, 0.037026774138212204, 0.040590137243270874, 0.0272544976323843, 0.019174771383404732, 0.03171537443995476, 0.020462151616811752, 0.03811328485608101, 0.019927887246012688, 0.018538907170295715, 0.01543671078979969, 0.04536491259932518, 0.01935577020049095, 0.05035829916596413, 0.03328138217329979, 0.02017974853515625, 0.03679436445236206, 0.04331386834383011, 0.028476400300860405, 0.02131732366979122, 0.047712843865156174, 0.013107027858495712, 0.026336049661040306, 0.030211376026272774, 0.03454801067709923, 0.0, 0.0, 0.0, 0.0, 0.0, 0.0, 0.0], [0.28438127040863037, 0.02387011982500553, 0.04641880840063095, 0.010260090231895447, 0.033909860998392105, 0.01830146834254265, 0.02370888739824295, 0.024766841903328896, 0.025767765939235687, 0.022968830540776253, 0.01673545502126217, 0.013406953774392605, 0.045986585319042206, 0.016673235222697258, 0.08106394112110138, 0.050332628190517426, 0.016726160421967506, 0.019904809072613716, 0.030325327068567276, 0.010146310552954674, 0.0173182375729084, 0.019040971994400024, 0.011081121861934662, 0.052046433091163635, 0.0333535298705101, 0.03880883380770683, 0.012695503421127796, 0.0, 0.0, 0.0, 0.0, 0.0, 0.0], [0.11854353547096252, 0.013350947760045528, 0.013422024436295033, 0.03027322143316269, 0.026162926107645035, 0.020776210352778435, 0.021280206739902496, 0.03798934444785118, 0.03536441922187805, 0.036651790142059326, 0.0220040213316679, 0.015380041673779488, 0.030023111030459404, 0.02329968847334385, 0.03000754490494728, 0.014861375093460083, 0.02452193945646286, 0.03999801352620125, 0.039001572877168655, 0.03600769862532616, 0.02685120329260826, 0.06795871257781982, 0.03893129527568817, 0.05725804716348648, 0.06659837067127228, 0.03075685352087021, 0.02334320917725563, 0.059382691979408264, 0.0, 0.0, 0.0, 0.0, 0.0], [0.25091850757598877, 0.011351888068020344, 0.02303396165370941, 0.018849773332476616, 0.013208829797804356, 0.016430390998721123, 0.03763698413968086, 0.021519411355257034, 0.03823147714138031, 0.03122311271727085, 0.01608109287917614, 0.017179029062390327, 0.0823965072631836, 0.015775419771671295, 0.04969309642910957, 0.03397901728749275, 0.016469130292534828, 0.02565610036253929, 0.05326935648918152, 0.024380981922149658, 0.017032897099852562, 0.031062569469213486, 0.014834263361990452, 0.043107789009809494, 0.027818355709314346, 0.015127935446798801, 0.012749834917485714, 0.026852691546082497, 0.014129593037068844, 0.0, 0.0, 0.0, 0.0], [0.19256943464279175, 0.022833682596683502, 0.014495891518890858, 0.028055008500814438, 0.03290427848696709, 0.018577102571725845, 0.023776734247803688, 0.014988921582698822, 0.027755489572882652, 0.019952144473791122, 0.018426893278956413, 0.02680847980082035, 0.040261950343847275, 0.0189573522657156, 0.01998024992644787, 0.03905028849840164, 0.019494332373142242, 0.030714331194758415, 0.07932326197624207, 0.03619767725467682, 0.02037959359586239, 0.0233193077147007, 0.018723858520388603, 0.05692769214510918, 0.02392755262553692, 0.03924325853586197, 0.02178351767361164, 0.020374221727252007, 0.04178829863667488, 0.00840923935174942, 0.0, 0.0, 0.0], [0.18919390439987183, 0.014352071098983288, 0.027829354628920555, 0.018936047330498695, 0.054552290588617325, 0.024302389472723007, 0.0207525622099638, 0.030501795932650566, 0.01690041646361351, 0.029904041439294815, 0.023111794143915176, 0.021664859727025032, 0.0333598293364048, 0.02305051125586033, 0.02792702615261078, 0.026253478601574898, 0.024257944896817207, 0.024394989013671875, 0.017666678875684738, 0.02208106406033039, 0.025441516190767288, 0.023996733129024506, 0.015941401943564415, 0.021863466128706932, 0.04876275733113289, 0.010234068147838116, 0.025762956589460373, 0.06192328408360481, 0.06737113744020462, 0.018184110522270203, 0.009525511413812637, 0.0, 0.0], [0.27111950516700745, 0.054605767130851746, 0.039705973118543625, 0.03512895107269287, 0.02031376026570797, 0.008183862082660198, 0.022556636482477188, 0.014036446809768677, 0.026198478415608406, 0.032355356961488724, 0.007185027003288269, 0.010813495144248009, 0.05162608623504639, 0.007057542447000742, 0.04232775419950485, 0.01850598305463791, 0.006952999159693718, 0.012550849467515945, 0.03785517066717148, 0.014787387102842331, 0.007130768615752459, 0.01895672082901001, 0.010758966207504272, 0.023540519177913666, 0.01625620573759079, 0.007915412075817585, 0.03652309626340866, 0.014562279917299747, 0.01925145648419857, 0.010911811143159866, 0.0343967005610466, 0.06592904776334763, 0.0], [0.14836537837982178, 0.01450690533965826, 0.007646295242011547, 0.01103875320404768, 0.026302477344870567, 0.013194838538765907, 0.027184883132576942, 0.017392197623848915, 0.016122126951813698, 0.032880790531635284, 0.014050277881324291, 0.007167349569499493, 0.016120055690407753, 0.014647030271589756, 0.018450893461704254, 0.013102125376462936, 0.01528322696685791, 0.014542999677360058, 0.059612199664115906, 0.022383879870176315, 0.01679699495434761, 0.10928262025117874, 0.07263997197151184, 0.08393708616495132, 0.02524900622665882, 0.03774847462773323, 0.016226937994360924, 0.024953894317150116, 0.042165838181972504, 0.004525810945779085, 0.01449135597795248, 0.019145704805850983, 0.022841650992631912]], [[1.0, 0.0, 0.0, 0.0, 0.0, 0.0, 0.0, 0.0, 0.0, 0.0, 0.0, 0.0, 0.0, 0.0, 0.0, 0.0, 0.0, 0.0, 0.0, 0.0, 0.0, 0.0, 0.0, 0.0, 0.0, 0.0, 0.0, 0.0, 0.0, 0.0, 0.0, 0.0, 0.0], [0.09646982699632645, 0.9035301804542542, 0.0, 0.0, 0.0, 0.0, 0.0, 0.0, 0.0, 0.0, 0.0, 0.0, 0.0, 0.0, 0.0, 0.0, 0.0, 0.0, 0.0, 0.0, 0.0, 0.0, 0.0, 0.0, 0.0, 0.0, 0.0, 0.0, 0.0, 0.0, 0.0, 0.0, 0.0], [0.04325234517455101, 0.08177739381790161, 0.8749703168869019, 0.0, 0.0, 0.0, 0.0, 0.0, 0.0, 0.0, 0.0, 0.0, 0.0, 0.0, 0.0, 0.0, 0.0, 0.0, 0.0, 0.0, 0.0, 0.0, 0.0, 0.0, 0.0, 0.0, 0.0, 0.0, 0.0, 0.0, 0.0, 0.0, 0.0], [0.09995397180318832, 0.0253127571195364, 0.02010807953774929, 0.8546252250671387, 0.0, 0.0, 0.0, 0.0, 0.0, 0.0, 0.0, 0.0, 0.0, 0.0, 0.0, 0.0, 0.0, 0.0, 0.0, 0.0, 0.0, 0.0, 0.0, 0.0, 0.0, 0.0, 0.0, 0.0, 0.0, 0.0, 0.0, 0.0, 0.0], [0.024889372289180756, 0.003207356436178088, 0.0018421602435410023, 0.022361528128385544, 0.9476996660232544, 0.0, 0.0, 0.0, 0.0, 0.0, 0.0, 0.0, 0.0, 0.0, 0.0, 0.0, 0.0, 0.0, 0.0, 0.0, 0.0, 0.0, 0.0, 0.0, 0.0, 0.0, 0.0, 0.0, 0.0, 0.0, 0.0, 0.0, 0.0], [0.10732370615005493, 0.017841676250100136, 0.019553329795598984, 0.043333232402801514, 0.10211501270532608, 0.709833025932312, 0.0, 0.0, 0.0, 0.0, 0.0, 0.0, 0.0, 0.0, 0.0, 0.0, 0.0, 0.0, 0.0, 0.0, 0.0, 0.0, 0.0, 0.0, 0.0, 0.0, 0.0, 0.0, 0.0, 0.0, 0.0, 0.0, 0.0], [0.006426352541893721, 0.00044797887676395476, 0.00014756589371245354, 0.00046936768922023475, 0.001441189437173307, 0.003859694814309478, 0.98720782995224, 0.0, 0.0, 0.0, 0.0, 0.0, 0.0, 0.0, 0.0, 0.0, 0.0, 0.0, 0.0, 0.0, 0.0, 0.0, 0.0, 0.0, 0.0, 0.0, 0.0, 0.0, 0.0, 0.0, 0.0, 0.0, 0.0], [0.00103545852471143, 0.00019901877385564148, 0.00016020413022488356, 6.937291618669406e-05, 0.00038674179813824594, 0.005171595606952906, 0.8964057564735413, 0.0965719223022461, 0.0, 0.0, 0.0, 0.0, 0.0, 0.0, 0.0, 0.0, 0.0, 0.0, 0.0, 0.0, 0.0, 0.0, 0.0, 0.0, 0.0, 0.0, 0.0, 0.0, 0.0, 0.0, 0.0, 0.0, 0.0], [0.0012883328599855304, 0.0003233453317079693, 0.00026527189766056836, 0.000254906655754894, 0.00020129844779148698, 0.00010049006232293323, 0.0005700875190086663, 0.00040912977419793606, 0.9965871572494507, 0.0, 0.0, 0.0, 0.0, 0.0, 0.0, 0.0, 0.0, 0.0, 0.0, 0.0, 0.0, 0.0, 0.0, 0.0, 0.0, 0.0, 0.0, 0.0, 0.0, 0.0, 0.0, 0.0, 0.0], [0.00018741624080576003, 1.6196592696360312e-05, 4.228112629789393e-06, 0.00028758993721567094, 1.1125747732876334e-05, 9.80569348030258e-06, 0.0001556722418172285, 7.632979395566508e-05, 0.0034869194496423006, 0.9957647323608398, 0.0, 0.0, 0.0, 0.0, 0.0, 0.0, 0.0, 0.0, 0.0, 0.0, 0.0, 0.0, 0.0, 0.0, 0.0, 0.0, 0.0, 0.0, 0.0, 0.0, 0.0, 0.0, 0.0], [0.015741515904664993, 0.0006393615622073412, 0.0004571527533698827, 0.0009912536479532719, 0.0021140361204743385, 0.018089765682816505, 0.047120336443185806, 0.07010907679796219, 0.061528418213129044, 0.27690401673316956, 0.5063050985336304, 0.0, 0.0, 0.0, 0.0, 0.0, 0.0, 0.0, 0.0, 0.0, 0.0, 0.0, 0.0, 0.0, 0.0, 0.0, 0.0, 0.0, 0.0, 0.0, 0.0, 0.0, 0.0], [0.0006166603998281062, 0.0005207087961025536, 4.611528493114747e-05, 0.0014613022794947028, 0.0005623759352602065, 4.44760407845024e-05, 0.0003653968160506338, 0.0002860166132450104, 0.004506129305809736, 0.005816526710987091, 0.0007244551088660955, 0.9850499033927917, 0.0, 0.0, 0.0, 0.0, 0.0, 0.0, 0.0, 0.0, 0.0, 0.0, 0.0, 0.0, 0.0, 0.0, 0.0, 0.0, 0.0, 0.0, 0.0, 0.0, 0.0], [0.0010478582698851824, 3.062817268073559e-05, 0.0001734501274768263, 5.423124093795195e-05, 6.388429756043479e-05, 1.1261127838224638e-05, 1.716898987069726e-05, 1.3931307876191568e-05, 0.0020760430488735437, 0.0002692688431125134, 0.00015268517017830163, 0.003684435738250613, 0.992405116558075, 0.0, 0.0, 0.0, 0.0, 0.0, 0.0, 0.0, 0.0, 0.0, 0.0, 0.0, 0.0, 0.0, 0.0, 0.0, 0.0, 0.0, 0.0, 0.0, 0.0], [0.010746283456683159, 0.0002535437233746052, 0.0001532294845674187, 0.0002928707399405539, 0.000537679938133806, 0.00442354753613472, 0.009884342551231384, 0.01284304540604353, 0.012738646939396858, 0.059668634086847305, 0.10772999376058578, 0.02474573254585266, 0.07808706164360046, 0.6778954267501831, 0.0, 0.0, 0.0, 0.0, 0.0, 0.0, 0.0, 0.0, 0.0, 0.0, 0.0, 0.0, 0.0, 0.0, 0.0, 0.0, 0.0, 0.0, 0.0], [0.0004121808160562068, 2.6218815037282184e-05, 1.775595774233807e-05, 0.0001918195775942877, 3.297958755865693e-06, 3.912689862772822e-06, 1.0438117897138e-05, 4.90686352350167e-06, 0.0005868587177246809, 0.0030381600372493267, 3.6931280192220584e-05, 0.0007724326569586992, 0.009622638113796711, 0.00016094441525638103, 0.9851114153862, 0.0, 0.0, 0.0, 0.0, 0.0, 0.0, 0.0, 0.0, 0.0, 0.0, 0.0, 0.0, 0.0, 0.0, 0.0, 0.0, 0.0, 0.0], [0.00010886634117923677, 3.58456213689351e-06, 5.191682248550933e-06, 3.083854971919209e-05, 1.8408833057037555e-05, 7.954795364639722e-07, 3.3532203360664425e-06, 6.574389772140421e-06, 0.0007270975038409233, 0.001823255093768239, 7.853288479964249e-06, 0.00030627570231445134, 0.006975064519792795, 3.485093839117326e-05, 0.028292760252952576, 0.9616552591323853, 0.0, 0.0, 0.0, 0.0, 0.0, 0.0, 0.0, 0.0, 0.0, 0.0, 0.0, 0.0, 0.0, 0.0, 0.0, 0.0, 0.0], [0.006073981989175081, 8.815213368507102e-05, 4.5837779907742515e-05, 8.250478276750073e-05, 0.00012720422819256783, 0.0009312528418377042, 0.0016699994448572397, 0.0019381941528990865, 0.0021017000544816256, 0.010131667368113995, 0.016047313809394836, 0.0038353819400072098, 0.01224213931709528, 0.10037066042423248, 0.07853120565414429, 0.1099734753370285, 0.6558093428611755, 0.0, 0.0, 0.0, 0.0, 0.0, 0.0, 0.0, 0.0, 0.0, 0.0, 0.0, 0.0, 0.0, 0.0, 0.0, 0.0], [0.002186301862820983, 1.1892969268956222e-05, 1.673600127105601e-05, 2.0815479729208164e-05, 2.1162542907404713e-05, 0.0007714939420111477, 0.0008652117685414851, 0.0005560307763516903, 0.00015655922470614314, 0.0019499912159517407, 0.010891213081777096, 0.0003954317362513393, 0.0015144754434004426, 0.0691632628440857, 0.004308106377720833, 0.0040351697243750095, 0.493970662355423, 0.40916550159454346, 0.0, 0.0, 0.0, 0.0, 0.0, 0.0, 0.0, 0.0, 0.0, 0.0, 0.0, 0.0, 0.0, 0.0, 0.0], [1.9797969798673876e-05, 4.972393412572274e-07, 9.165694869750496e-09, 1.3230416584519844e-07, 5.60181163677953e-08, 1.1903876995233986e-08, 6.153105687189964e-07, 4.068542480695214e-08, 4.51744244855945e-06, 1.401773806719575e-05, 1.6456868934255908e-07, 1.0863833495022845e-06, 7.444054062943906e-06, 1.0056664905278012e-06, 2.7594969651545398e-05, 0.00031378009589388967, 6.201119504112285e-06, 8.21334651845973e-06, 0.9995948672294617, 0.0, 0.0, 0.0, 0.0, 0.0, 0.0, 0.0, 0.0, 0.0, 0.0, 0.0, 0.0, 0.0, 0.0], [6.497155027318513e-06, 8.692027790857537e-07, 1.4051405514692306e-06, 3.770475700548559e-07, 3.3291723866568645e-07, 6.10497323805248e-08, 2.5430001215909215e-08, 1.1067737659686827e-07, 3.670877413242124e-05, 5.704808927475824e-07, 6.172335247356386e-07, 0.00015627949323970824, 0.00014737913443241268, 3.010378577528172e-06, 6.130665133241564e-05, 0.0017769885016605258, 1.8545866623753682e-05, 3.426312832743861e-05, 0.923351526260376, 0.07440304011106491, 0.0, 0.0, 0.0, 0.0, 0.0, 0.0, 0.0, 0.0, 0.0, 0.0, 0.0, 0.0, 0.0], [0.0036490061320364475, 3.749439201783389e-05, 1.7470783859607764e-05, 2.8449194360291585e-05, 3.312426633783616e-05, 0.0001956923515535891, 0.00026475946651771665, 0.0002469045575708151, 0.0002803319657687098, 0.0013949191197752953, 0.0017910328460857272, 0.0004246798052918166, 0.0014623715542256832, 0.009717759676277637, 0.008053939789533615, 0.013200568966567516, 0.06315964460372925, 0.07152790576219559, 0.07523120939731598, 0.02420511282980442, 0.7250775694847107, 0.0, 0.0, 0.0, 0.0, 0.0, 0.0, 0.0, 0.0, 0.0, 0.0, 0.0, 0.0], [0.0006410910282284021, 3.925727469322737e-06, 1.160739657279919e-06, 1.5375541124740266e-06, 9.072659281628148e-07, 8.058220373641234e-06, 1.3223983842181042e-05, 4.619937044481048e-06, 3.6788500437978655e-05, 4.565184281091206e-05, 7.577838550787419e-05, 2.27417767746374e-05, 5.6684741139179096e-05, 0.0004737513663712889, 0.00036407774314284325, 0.0004240030830260366, 0.003757335478439927, 0.00436313496902585, 0.0073952460661530495, 0.005022638943046331, 0.05575626343488693, 0.9215314984321594, 0.0, 0.0, 0.0, 0.0, 0.0, 0.0, 0.0, 0.0, 0.0, 0.0, 0.0], [0.0005377681227400899, 8.122568715407397e-07, 2.301865151821403e-06, 1.4700415249535581e-06, 1.8703683508647373e-06, 6.024505978530215e-07, 4.127837655687472e-06, 1.6705735106370412e-06, 2.0471961761359125e-06, 7.430034020217136e-05, 3.5942230169894174e-06, 7.171495781221893e-06, 3.052820829907432e-05, 1.8927723431261256e-05, 0.0002543875598348677, 0.00019496367895044386, 0.00012626528041437268, 0.00018230521527584642, 0.003735229140147567, 0.0006727116415277123, 0.001579828793182969, 0.011177665553987026, 0.981389582157135, 0.0, 0.0, 0.0, 0.0, 0.0, 0.0, 0.0, 0.0, 0.0, 0.0], [8.512801286997274e-05, 4.870866519013362e-07, 1.2458933724701637e-06, 2.0811239664908499e-07, 1.9242847315581457e-07, 3.704024820194718e-08, 4.555235761927179e-07, 5.504535849354397e-08, 1.532039618723502e-06, 5.0832959459512495e-06, 2.140094181868335e-07, 1.4595267430195236e-06, 1.4768334040127229e-05, 1.0635014859872172e-06, 2.9461512895068154e-05, 5.7288114476250485e-05, 6.615675374632701e-06, 7.844225365261082e-06, 0.00015063829778227955, 0.0002263696223963052, 7.973580795805901e-05, 0.00013040847261436284, 0.010868426412343979, 0.9883313775062561, 0.0, 0.0, 0.0, 0.0, 0.0, 0.0, 0.0, 0.0, 0.0], [0.00041663250885903835, 2.25037751988566e-06, 5.270546353131067e-06, 2.754914021352306e-05, 3.963052586186677e-05, 7.514740900660399e-06, 8.100938430288807e-06, 1.1581360922718886e-05, 1.3205999493948184e-05, 6.750720785930753e-05, 2.5212806576746516e-05, 1.4860710507491603e-05, 7.521700172219425e-05, 0.0001145747082773596, 0.0002574530662968755, 0.00036668573739007115, 0.0006904752808623016, 0.0014518499374389648, 0.0032460170332342386, 0.0006353408680297434, 0.008745581842958927, 0.015190869569778442, 0.018150201067328453, 0.13303321599960327, 0.8174031376838684, 0.0, 0.0, 0.0, 0.0, 0.0, 0.0, 0.0, 0.0], [1.6739220882300287e-05, 8.245301330589427e-08, 3.25738582773738e-08, 2.873734139541284e-08, 1.621766472226227e-07, 1.5275354314780998e-09, 2.327860038064955e-08, 5.576707096111022e-09, 1.2825741180222394e-07, 1.3429448131319077e-07, 6.160560950263516e-09, 2.523250373087649e-07, 3.205744633305585e-06, 2.6277223952320128e-08, 7.619940447511908e-07, 7.901929166109767e-06, 1.3940386622834922e-07, 1.955255868324457e-07, 0.00032022554660215974, 8.173654464371793e-07, 1.5630018879164709e-06, 3.76315961148066e-06, 0.000745049212127924, 0.0037152196746319532, 3.9344053220702335e-05, 0.995144248008728, 0.0, 0.0, 0.0, 0.0, 0.0, 0.0, 0.0], [0.00023842266818974167, 5.040105861553457e-06, 1.3208554037191789e-06, 8.59982810652582e-06, 5.166068604012253e-06, 1.3470912563207094e-07, 6.710797606501728e-07, 2.699698029573483e-07, 6.345725523715373e-06, 4.417827585712075e-05, 2.7444960437605914e-07, 2.0171155483694747e-05, 1.6526626495760866e-05, 8.12277562545205e-07, 0.0001077098204405047, 0.00012397419777698815, 3.50758546119323e-06, 8.50584820000222e-06, 6.980268517509103e-05, 0.00026813664590008557, 2.879286876122933e-05, 0.00011957905371673405, 0.00012961654283571988, 0.007425934541970491, 0.0007109703146852553, 0.005815013311803341, 0.9848405718803406, 0.0, 0.0, 0.0, 0.0, 0.0, 0.0], [0.0004089963040314615, 6.09539483775734e-07, 1.996393393710605e-06, 9.31034992390778e-06, 3.7690613226004643e-06, 1.9876583792211022e-06, 4.576560854729905e-07, 1.0690765748222475e-06, 3.087186541961273e-06, 9.21142509469064e-06, 4.724370683106827e-06, 1.2070057664459455e-06, 5.095630967844045e-06, 1.804715793696232e-05, 4.857870953856036e-05, 4.1693994717206806e-05, 0.00010537506022956222, 0.0002246691583422944, 0.00011528659524628893, 0.00024929014034569263, 0.0013673132052645087, 0.0016190331662073731, 0.0013275172095745802, 0.0034917881712317467, 0.06305649131536484, 0.006469062063843012, 0.09512648731470108, 0.8262879252433777, 0.0, 0.0, 0.0, 0.0, 0.0], [0.0003180460771545768, 1.4181802043822245e-06, 3.185491834756249e-07, 2.782310730253812e-06, 5.3885887609794736e-05, 4.300594369510691e-08, 5.38626068191661e-07, 8.497824666164888e-08, 5.99968643655302e-07, 4.110318513994571e-06, 7.099399823573549e-08, 8.454308044747449e-07, 2.526610387576511e-06, 2.198386539475905e-07, 6.098234734963626e-06, 2.1129948436282575e-05, 9.41176608648675e-07, 9.950376806955319e-07, 3.0413606509682722e-05, 2.97698943541036e-06, 8.453852387901861e-06, 2.600704101496376e-05, 0.00023055810015648603, 0.0013383373152464628, 0.00021758217189926654, 0.00701439194381237, 0.017924001440405846, 0.0005302675999701023, 0.9722622632980347, 0.0, 0.0, 0.0, 0.0], [1.8505298271520587e-07, 5.565691907349901e-09, 7.262683232589495e-10, 7.745998509278706e-09, 1.507948077517085e-08, 8.228505654628293e-10, 1.7915348093922034e-09, 1.7345613834152118e-09, 1.0962556196147943e-08, 5.003284897497906e-08, 3.9228313930550485e-09, 1.0013925333396401e-07, 2.3337790366895206e-08, 1.6555286919128775e-08, 5.17133997846031e-08, 1.6146056225352368e-07, 9.827902403003463e-08, 2.707449482386437e-07, 5.411987785919337e-06, 2.5083934929170937e-07, 1.1805933581854333e-06, 2.8004258183500497e-06, 4.6103718887025025e-06, 0.00022679188987240195, 5.7942310377256945e-05, 0.0004519557114690542, 0.00011976490350207314, 0.0002398085198365152, 0.0018740047235041857, 0.9970145225524902, 0.0, 0.0, 0.0], [4.3474454287206754e-05, 2.9688692393392557e-06, 3.919361404314259e-07, 9.117030685956706e-07, 4.364481469565362e-07, 4.686582233404124e-09, 9.240360299145323e-08, 1.2419278938580192e-08, 7.188923234480171e-08, 6.304519502009498e-07, 6.108888506162202e-09, 1.9987083987871301e-07, 1.4578632772099809e-06, 1.4727316255402911e-08, 1.7957326292616926e-07, 2.6422610972076654e-05, 5.112647372129686e-08, 4.710665280072135e-08, 0.001576114329509437, 2.1989392280374886e-06, 3.333979350372829e-07, 2.181479203500203e-06, 0.00016240376862697303, 0.001777761965058744, 1.1749184523068834e-05, 0.0036160836461931467, 6.199452764121816e-05, 3.516816286719404e-05, 0.001148866256698966, 0.016085559502243996, 0.9754422307014465, 0.0, 0.0], [0.0011562927393242717, 6.1990413087187335e-06, 6.137777290859958e-07, 3.1026543183543254e-06, 8.228400929510826e-07, 4.3660275395041026e-08, 9.363255060179654e-08, 2.7735492125202654e-08, 5.109515086587635e-07, 1.2355284297882463e-06, 3.8252895961932154e-08, 1.1272305755483103e-06, 1.9008917888641008e-06, 8.714057031511402e-08, 5.398182565841125e-06, 7.393430678348523e-06, 3.1288666946238664e-07, 3.0146313179102435e-07, 0.00013595339260064065, 1.3343821592570748e-05, 2.3996476556931157e-06, 3.871272929245606e-05, 0.0008219628361985087, 0.000613126961980015, 2.1518419089261442e-05, 0.004140723031014204, 0.0008760854252614081, 0.00011684614582918584, 0.0021590653341263533, 0.027525287121534348, 0.044349756091833115, 0.9179997444152832, 0.0], [0.003194286720827222, 4.681673090090044e-05, 3.499128797557205e-05, 2.7043115551350638e-05, 1.4000299415783957e-05, 1.7085118088289164e-05, 8.051894837990403e-06, 3.909835868398659e-06, 1.0716930773924105e-05, 1.7930782632902265e-05, 1.4207488675310742e-05, 2.6911238819593564e-05, 2.6412028091726825e-05, 3.1100204068934545e-05, 1.1198583706573118e-05, 5.4854910558788106e-05, 0.00011474470375105739, 0.00010493677837075666, 0.0002806302218232304, 0.0002083903964376077, 0.0009329244494438171, 0.0018990002572536469, 0.001126758987084031, 0.0019257281674072146, 0.003917157184332609, 0.007499448023736477, 0.010695936158299446, 0.023199841380119324, 0.03039812110364437, 0.12729352712631226, 0.04325320944190025, 0.17668063938617706, 0.5669295191764832]], [[1.0, 0.0, 0.0, 0.0, 0.0, 0.0, 0.0, 0.0, 0.0, 0.0, 0.0, 0.0, 0.0, 0.0, 0.0, 0.0, 0.0, 0.0, 0.0, 0.0, 0.0, 0.0, 0.0, 0.0, 0.0, 0.0, 0.0, 0.0, 0.0, 0.0, 0.0, 0.0, 0.0], [0.2530863583087921, 0.7469136118888855, 0.0, 0.0, 0.0, 0.0, 0.0, 0.0, 0.0, 0.0, 0.0, 0.0, 0.0, 0.0, 0.0, 0.0, 0.0, 0.0, 0.0, 0.0, 0.0, 0.0, 0.0, 0.0, 0.0, 0.0, 0.0, 0.0, 0.0, 0.0, 0.0, 0.0, 0.0], [0.3067159354686737, 0.32906392216682434, 0.36422017216682434, 0.0, 0.0, 0.0, 0.0, 0.0, 0.0, 0.0, 0.0, 0.0, 0.0, 0.0, 0.0, 0.0, 0.0, 0.0, 0.0, 0.0, 0.0, 0.0, 0.0, 0.0, 0.0, 0.0, 0.0, 0.0, 0.0, 0.0, 0.0, 0.0, 0.0], [0.07416972517967224, 0.161896750330925, 0.05432591959834099, 0.7096076011657715, 0.0, 0.0, 0.0, 0.0, 0.0, 0.0, 0.0, 0.0, 0.0, 0.0, 0.0, 0.0, 0.0, 0.0, 0.0, 0.0, 0.0, 0.0, 0.0, 0.0, 0.0, 0.0, 0.0, 0.0, 0.0, 0.0, 0.0, 0.0, 0.0], [0.1668822467327118, 0.03901783004403114, 0.038224607706069946, 0.21398349106311798, 0.541891872882843, 0.0, 0.0, 0.0, 0.0, 0.0, 0.0, 0.0, 0.0, 0.0, 0.0, 0.0, 0.0, 0.0, 0.0, 0.0, 0.0, 0.0, 0.0, 0.0, 0.0, 0.0, 0.0, 0.0, 0.0, 0.0, 0.0, 0.0, 0.0], [0.19483642280101776, 0.21119250357151031, 0.05150561034679413, 0.0870383158326149, 0.2299955189228058, 0.22543159127235413, 0.0, 0.0, 0.0, 0.0, 0.0, 0.0, 0.0, 0.0, 0.0, 0.0, 0.0, 0.0, 0.0, 0.0, 0.0, 0.0, 0.0, 0.0, 0.0, 0.0, 0.0, 0.0, 0.0, 0.0, 0.0, 0.0, 0.0], [0.13900135457515717, 0.02974860742688179, 0.03860696032643318, 0.05133269727230072, 0.1928425431251526, 0.08012369275093079, 0.46834418177604675, 0.0, 0.0, 0.0, 0.0, 0.0, 0.0, 0.0, 0.0, 0.0, 0.0, 0.0, 0.0, 0.0, 0.0, 0.0, 0.0, 0.0, 0.0, 0.0, 0.0, 0.0, 0.0, 0.0, 0.0, 0.0, 0.0], [0.08969782292842865, 0.04080600664019585, 0.034733083099126816, 0.08414527773857117, 0.09911047667264938, 0.07059447467327118, 0.1361658275127411, 0.44474706053733826, 0.0, 0.0, 0.0, 0.0, 0.0, 0.0, 0.0, 0.0, 0.0, 0.0, 0.0, 0.0, 0.0, 0.0, 0.0, 0.0, 0.0, 0.0, 0.0, 0.0, 0.0, 0.0, 0.0, 0.0, 0.0], [0.059865161776542664, 0.020190449431538582, 0.018785329535603523, 0.10584726929664612, 0.057948868721723557, 0.02751772478222847, 0.05666316673159599, 0.0822676420211792, 0.5709143877029419, 0.0, 0.0, 0.0, 0.0, 0.0, 0.0, 0.0, 0.0, 0.0, 0.0, 0.0, 0.0, 0.0, 0.0, 0.0, 0.0, 0.0, 0.0, 0.0, 0.0, 0.0, 0.0, 0.0, 0.0], [0.010379272513091564, 0.0046982541680336, 0.004143988713622093, 0.007291399873793125, 0.006256693508476019, 0.003318047383800149, 0.009175018407404423, 0.018754415214061737, 0.033931486308574677, 0.9020515084266663, 0.0, 0.0, 0.0, 0.0, 0.0, 0.0, 0.0, 0.0, 0.0, 0.0, 0.0, 0.0, 0.0, 0.0, 0.0, 0.0, 0.0, 0.0, 0.0, 0.0, 0.0, 0.0, 0.0], [0.072701096534729, 0.04776482284069061, 0.010500331409275532, 0.016159413382411003, 0.046178191900253296, 0.05249455198645592, 0.05184568837285042, 0.21189509332180023, 0.035158175975084305, 0.1726718693971634, 0.2826307415962219, 0.0, 0.0, 0.0, 0.0, 0.0, 0.0, 0.0, 0.0, 0.0, 0.0, 0.0, 0.0, 0.0, 0.0, 0.0, 0.0, 0.0, 0.0, 0.0, 0.0, 0.0, 0.0], [0.01512689795345068, 0.004731185734272003, 0.0023226304911077023, 0.006575729697942734, 0.018362460657954216, 0.003339662216603756, 0.008784219622612, 0.007409727666527033, 0.006289795972406864, 0.07638943940401077, 0.01200347300618887, 0.838664710521698, 0.0, 0.0, 0.0, 0.0, 0.0, 0.0, 0.0, 0.0, 0.0, 0.0, 0.0, 0.0, 0.0, 0.0, 0.0, 0.0, 0.0, 0.0, 0.0, 0.0, 0.0], [0.03233196958899498, 0.010628972202539444, 0.00261516566388309, 0.0011762927751988173, 0.0030932871159166098, 0.0015055519761517644, 0.007079726550728083, 0.002834468148648739, 0.0050038849003612995, 0.012032591737806797, 0.003987773321568966, 0.05187246575951576, 0.865837812423706, 0.0, 0.0, 0.0, 0.0, 0.0, 0.0, 0.0, 0.0, 0.0, 0.0, 0.0, 0.0, 0.0, 0.0, 0.0, 0.0, 0.0, 0.0, 0.0, 0.0], [0.05045589432120323, 0.02653883770108223, 0.005783270578831434, 0.008087300695478916, 0.021799404174089432, 0.025670338422060013, 0.022779036313295364, 0.09139903634786606, 0.015017375349998474, 0.07093927264213562, 0.12448638677597046, 0.1266833245754242, 0.061021335422992706, 0.34933924674987793, 0.0, 0.0, 0.0, 0.0, 0.0, 0.0, 0.0, 0.0, 0.0, 0.0, 0.0, 0.0, 0.0, 0.0, 0.0, 0.0, 0.0, 0.0, 0.0], [0.05474128574132919, 0.052968498319387436, 0.003988129086792469, 0.012351620011031628, 0.004415618255734444, 0.003596278140321374, 0.011385711841285229, 0.009828059002757072, 0.014749733731150627, 0.07078832387924194, 0.011209186166524887, 0.05164061486721039, 0.19734399020671844, 0.027129271999001503, 0.4738636314868927, 0.0, 0.0, 0.0, 0.0, 0.0, 0.0, 0.0, 0.0, 0.0, 0.0, 0.0, 0.0, 0.0, 0.0, 0.0, 0.0, 0.0, 0.0], [0.007163068745285273, 0.00496384734287858, 0.0027692283038049936, 0.0019424427300691605, 0.010544725693762302, 0.0014144873712211847, 0.0036636616569012403, 0.003149949014186859, 0.005481294356286526, 0.021614041179418564, 0.00392219377681613, 0.0793507769703865, 0.22477909922599792, 0.00916694849729538, 0.02740265242755413, 0.5926715731620789, 0.0, 0.0, 0.0, 0.0, 0.0, 0.0, 0.0, 0.0, 0.0, 0.0, 0.0, 0.0, 0.0, 0.0, 0.0, 0.0, 0.0], [0.03461103513836861, 0.015296339988708496, 0.003095124149695039, 0.003899089992046356, 0.009989399462938309, 0.011446858756244183, 0.00918935239315033, 0.03356509655714035, 0.0057612089440226555, 0.025580985471606255, 0.04384687542915344, 0.04521356150507927, 0.020553378388285637, 0.11962330341339111, 0.15673252940177917, 0.13173465430736542, 0.3298611640930176, 0.0, 0.0, 0.0, 0.0, 0.0, 0.0, 0.0, 0.0, 0.0, 0.0, 0.0, 0.0, 0.0, 0.0, 0.0, 0.0], [0.017253883183002472, 0.004397529177367687, 0.0049686916172504425, 0.0070643117651343346, 0.006634892895817757, 0.006910951808094978, 0.011386911384761333, 0.016178501769900322, 0.020317764952778816, 0.020396817475557327, 0.023422135040163994, 0.018909137696027756, 0.04024207592010498, 0.06200675666332245, 0.11645371466875076, 0.07975117862224579, 0.16864468157291412, 0.375060111284256, 0.0, 0.0, 0.0, 0.0, 0.0, 0.0, 0.0, 0.0, 0.0, 0.0, 0.0, 0.0, 0.0, 0.0, 0.0], [0.002459116280078888, 0.0002491974155418575, 3.400466084713116e-05, 0.00021132919937372208, 0.00020066759316250682, 0.0001258924457943067, 0.0003650682047009468, 0.00037359760608524084, 0.00013798523286823183, 0.00047022145008668303, 0.0002715179871302098, 0.003417078172788024, 0.0006049806252121925, 0.0005454609054140747, 0.0008937670500017703, 0.0015852140495553613, 0.0012150745606049895, 0.002821266883984208, 0.9840186238288879, 0.0, 0.0, 0.0, 0.0, 0.0, 0.0, 0.0, 0.0, 0.0, 0.0, 0.0, 0.0, 0.0, 0.0], [0.00015282446111086756, 0.03892364352941513, 0.00047151968465186656, 0.00037318209069781005, 3.271796595072374e-05, 1.0635622857080307e-05, 3.824587111012079e-06, 1.3244680303614587e-05, 6.418923294404522e-05, 2.734442205110099e-05, 2.8319980629021302e-05, 0.0022295699454844, 0.0013866388471797109, 7.163531699916348e-05, 0.00014025592827238142, 0.008246444165706635, 0.00019678652461152524, 0.0002054670621873811, 0.8976380228996277, 0.04978374391794205, 0.0, 0.0, 0.0, 0.0, 0.0, 0.0, 0.0, 0.0, 0.0, 0.0, 0.0, 0.0, 0.0], [0.026458093896508217, 0.010410875082015991, 0.0021332555916160345, 0.0024560140445828438, 0.005542597267776728, 0.005954567342996597, 0.004195828922092915, 0.013451529666781425, 0.002351949457079172, 0.009471964091062546, 0.015433435328304768, 0.014804961159825325, 0.006865764502435923, 0.03787313029170036, 0.04744938388466835, 0.0454728789627552, 0.10199166089296341, 0.08666390180587769, 0.06470181047916412, 0.10160753130912781, 0.3947088122367859, 0.0, 0.0, 0.0, 0.0, 0.0, 0.0, 0.0, 0.0, 0.0, 0.0, 0.0, 0.0], [0.02115791104733944, 0.0035484367981553078, 0.0017441143281757832, 0.0035093077458441257, 0.004201896488666534, 0.002577780047431588, 0.004015856888145208, 0.004598997998982668, 0.003955156076699495, 0.0064558424055576324, 0.005907897371798754, 0.003733165329322219, 0.009013408794999123, 0.013927980326116085, 0.029895823448896408, 0.020082339644432068, 0.03804441913962364, 0.0688309445977211, 0.08152901381254196, 0.038340240716934204, 0.1516025960445404, 0.48332688212394714, 0.0, 0.0, 0.0, 0.0, 0.0, 0.0, 0.0, 0.0, 0.0, 0.0, 0.0], [0.001421168795786798, 0.0004069013230036944, 0.00027144234627485275, 0.0014869226142764091, 0.0006475148838944733, 0.00025671522598713636, 0.0002729763218667358, 0.0005059848190285265, 0.00017537489475216717, 0.0012059601722285151, 0.0005902893608435988, 0.00043073896085843444, 0.0003699958324432373, 0.0013322830200195312, 0.0007594277267344296, 0.002518309745937586, 0.003599976422265172, 0.004756714217364788, 0.011892937123775482, 0.0034102099016308784, 0.013851100578904152, 0.05907333642244339, 0.8907636404037476, 0.0, 0.0, 0.0, 0.0, 0.0, 0.0, 0.0, 0.0, 0.0, 0.0], [0.005058869253844023, 0.0008823556709103286, 0.0015358295058831573, 0.0016909888945519924, 0.0013438756577670574, 0.0004949710564687848, 0.0006572257843799889, 0.0005521588609553874, 0.0005812101881019771, 0.002054562559351325, 0.0008380879880860448, 0.0010067486437037587, 0.001130085438489914, 0.0016139937797561288, 0.005022874567657709, 0.014576896093785763, 0.003714331891387701, 0.0046814787201583385, 0.007913833484053612, 0.006778391543775797, 0.012291365303099155, 0.027733050286769867, 0.10214646905660629, 0.7957004308700562, 0.0, 0.0, 0.0, 0.0, 0.0, 0.0, 0.0, 0.0, 0.0], [0.004004696849733591, 0.00045769740245305, 0.0015645212261006236, 0.003137205960229039, 0.001993745332583785, 0.0003789266338571906, 0.0004957783967256546, 0.0005698016029782593, 0.0010052068391814828, 0.0023432238958775997, 0.0005772158619947731, 0.0016756139229983091, 0.0030787368305027485, 0.0012285257689654827, 0.005278334021568298, 0.0063280691392719746, 0.003151730401441455, 0.005319311283528805, 0.021383136510849, 0.006147704087197781, 0.012332228012382984, 0.07402172684669495, 0.12114020437002182, 0.561111330986023, 0.1612752079963684, 0.0, 0.0, 0.0, 0.0, 0.0, 0.0, 0.0, 0.0], [0.0011286535300314426, 4.9889058573171496e-05, 4.129114677198231e-05, 9.249593858839944e-05, 5.513616997632198e-05, 3.86171777790878e-05, 5.592021989286877e-05, 0.00014896252832841128, 5.509214588528266e-06, 6.817420216975734e-05, 3.6204415664542466e-05, 4.623952190740965e-05, 0.0010655007790774107, 5.919869363424368e-05, 7.787245704093948e-05, 0.0003842120058834553, 0.0001169242532341741, 0.00022428217926062644, 0.0005083975847810507, 0.0001562809047754854, 0.0003233142488170415, 0.0007086828700266778, 0.0009207406546920538, 0.0008559706620872021, 0.004414447583258152, 0.9884169697761536, 0.0, 0.0, 0.0, 0.0, 0.0, 0.0, 0.0], [0.0024299686774611473, 0.0036596343852579594, 0.0006344979046843946, 0.0006202648510225117, 0.00298767420463264, 0.0003476363781373948, 0.0005059160175733268, 0.00041149710887111723, 0.00021321597159840167, 0.0006509348750114441, 0.0003955695137847215, 0.1698644459247589, 0.002188899787142873, 0.0006812377250753343, 0.0008683759951964021, 0.008905148133635521, 0.0014638516586273909, 0.0013394583947956562, 0.006495130714029074, 0.0076387072913348675, 0.004619397688657045, 0.0031617912463843822, 0.014200881123542786, 0.04639661684632301, 0.02278606966137886, 0.21939271688461304, 0.4771404266357422, 0.0, 0.0, 0.0, 0.0, 0.0, 0.0], [0.015610342845320702, 0.0009648076957091689, 0.0010281829163432121, 0.007148523814976215, 0.005316656082868576, 0.000543269095942378, 0.0007839901372790337, 0.00047082940000109375, 0.0022980370558798313, 0.005463100038468838, 0.0005483077839016914, 0.0008661501342430711, 0.000903555890545249, 0.0009251966257579625, 0.008375938981771469, 0.0014478148659691215, 0.0020614899694919586, 0.0036933827213943005, 0.01700887456536293, 0.006138671655207872, 0.007041902281343937, 0.04128711298108101, 0.06922482699155807, 0.2661716639995575, 0.05024215951561928, 0.11445146054029465, 0.13764901459217072, 0.2323346883058548, 0.0, 0.0, 0.0, 0.0, 0.0], [0.0218952726572752, 0.0013514537131413817, 0.0013727955520153046, 0.005157718434929848, 0.010932788252830505, 0.000445221783593297, 0.001617828500457108, 0.0005713259452022612, 0.0007700262358412147, 0.003093537874519825, 0.00036163444747217, 0.0009329023887403309, 0.0019032395211979747, 0.0005254381103441119, 0.0007036193856038153, 0.0015780653338879347, 0.0010200465330854058, 0.0009346723090857267, 0.005167579744011164, 0.0007855406147427857, 0.0028796836268156767, 0.006337147671729326, 0.049514155834913254, 0.021886873990297318, 0.030046850442886353, 0.06941603869199753, 0.029953887686133385, 0.061116281896829605, 0.6677283048629761, 0.0, 0.0, 0.0, 0.0], [0.0002946661552414298, 8.08512486401014e-05, 0.00011992639338131994, 0.00017154023225884885, 0.00038990157190710306, 8.630257798358798e-05, 5.253730705589987e-05, 6.61636731820181e-05, 0.00011378381168469787, 6.200091593200341e-05, 0.00011238056322326884, 0.0005867327563464642, 9.785017027752474e-05, 0.00021334912162274122, 0.0004044430679641664, 0.0004726243205368519, 0.00047307347995229065, 0.0005199527950026095, 0.0008571165963076055, 0.00022720209381077439, 0.0015976795693859458, 0.001478066435083747, 0.0016501443460583687, 0.009339654818177223, 0.012792697176337242, 0.012606964446604252, 0.021659597754478455, 0.028867503628134727, 0.07784786820411682, 0.8267574310302734, 0.0, 0.0, 0.0], [0.0006396545795723796, 0.00019920241902582347, 0.00033784651895985007, 0.00032286165514960885, 0.00038839809712953866, 2.2511439965455793e-05, 0.00011559678387129679, 1.9683686332427897e-05, 8.749768312554806e-05, 0.0001667577598709613, 2.135319846274797e-05, 0.0001825771469157189, 0.0028796251863241196, 3.270844172220677e-05, 6.355995719786733e-05, 0.0009078510920517147, 6.314187339739874e-05, 4.954522228217684e-05, 0.0050101932138204575, 0.0002155576803488657, 0.00018923306197393686, 0.00023579876869916916, 0.002119173528626561, 0.00347524369135499, 0.0004957509809173644, 0.012673045508563519, 0.002627462614327669, 0.0011926389997825027, 0.02801150269806385, 0.1421458125114441, 0.7951081991195679, 0.0, 0.0], [0.005492148920893669, 0.001417962252162397, 6.310049502644688e-05, 0.0009282371029257774, 0.0004675880481954664, 9.70122855505906e-05, 5.6787004723446444e-05, 6.824066076660529e-05, 4.05481769121252e-05, 0.00021011504577472806, 6.534723797813058e-05, 0.00011957799870288, 9.082329779630527e-05, 9.077359572984278e-05, 0.00013827493239659816, 0.0004122835525777191, 0.00016900616174098104, 0.00013570731971412897, 0.002428325591608882, 0.00020654802210628986, 0.0004959604702889919, 0.0001656200474826619, 0.0018254040041938424, 0.0016808179207146168, 0.0010187351144850254, 0.015071497298777103, 0.003408375894650817, 0.003384194104000926, 0.018865521997213364, 0.010037439875304699, 0.008259561844170094, 0.9230883717536926, 0.0], [0.009386099874973297, 0.001738054445013404, 0.0018091670935973525, 0.001435023033991456, 0.0016812804387882352, 0.0019791279919445515, 0.0014143415028229356, 0.0021127797663211823, 0.0012016950640827417, 0.0010467644315212965, 0.0012532486580312252, 0.0012125693028792739, 0.0006952423718757927, 0.0016850164392963052, 0.0012904993491247296, 0.0014949425822123885, 0.0030524611938744783, 0.006176406051963568, 0.0039931535720825195, 0.002994516398757696, 0.008827602490782738, 0.009542396292090416, 0.010477348230779171, 0.0214514322578907, 0.062213584780693054, 0.026861021295189857, 0.03390644118189812, 0.11987608671188354, 0.05027467757463455, 0.026796869933605194, 0.03116563893854618, 0.10728627443313599, 0.44366827607154846]], [[1.0, 0.0, 0.0, 0.0, 0.0, 0.0, 0.0, 0.0, 0.0, 0.0, 0.0, 0.0, 0.0, 0.0, 0.0, 0.0, 0.0, 0.0, 0.0, 0.0, 0.0, 0.0, 0.0, 0.0, 0.0, 0.0, 0.0, 0.0, 0.0, 0.0, 0.0, 0.0, 0.0], [0.10520478338003159, 0.8947951793670654, 0.0, 0.0, 0.0, 0.0, 0.0, 0.0, 0.0, 0.0, 0.0, 0.0, 0.0, 0.0, 0.0, 0.0, 0.0, 0.0, 0.0, 0.0, 0.0, 0.0, 0.0, 0.0, 0.0, 0.0, 0.0, 0.0, 0.0, 0.0, 0.0, 0.0, 0.0], [0.03907214477658272, 0.0020172251388430595, 0.9589105248451233, 0.0, 0.0, 0.0, 0.0, 0.0, 0.0, 0.0, 0.0, 0.0, 0.0, 0.0, 0.0, 0.0, 0.0, 0.0, 0.0, 0.0, 0.0, 0.0, 0.0, 0.0, 0.0, 0.0, 0.0, 0.0, 0.0, 0.0, 0.0, 0.0, 0.0], [0.015578624792397022, 0.0008392533636651933, 0.0006979758618399501, 0.9828841090202332, 0.0, 0.0, 0.0, 0.0, 0.0, 0.0, 0.0, 0.0, 0.0, 0.0, 0.0, 0.0, 0.0, 0.0, 0.0, 0.0, 0.0, 0.0, 0.0, 0.0, 0.0, 0.0, 0.0, 0.0, 0.0, 0.0, 0.0, 0.0, 0.0], [0.008856458589434624, 9.934287845680956e-06, 1.1174843166372739e-05, 0.00030247028917074203, 0.9908198714256287, 0.0, 0.0, 0.0, 0.0, 0.0, 0.0, 0.0, 0.0, 0.0, 0.0, 0.0, 0.0, 0.0, 0.0, 0.0, 0.0, 0.0, 0.0, 0.0, 0.0, 0.0, 0.0, 0.0, 0.0, 0.0, 0.0, 0.0, 0.0], [0.3544501066207886, 0.030589299276471138, 0.05988961085677147, 0.022903533652424812, 0.0474759079515934, 0.4846915602684021, 0.0, 0.0, 0.0, 0.0, 0.0, 0.0, 0.0, 0.0, 0.0, 0.0, 0.0, 0.0, 0.0, 0.0, 0.0, 0.0, 0.0, 0.0, 0.0, 0.0, 0.0, 0.0, 0.0, 0.0, 0.0, 0.0, 0.0], [0.044769078493118286, 0.001566468272358179, 0.00037738532410003245, 0.00025073293363675475, 0.00040889729280024767, 0.0002606566122267395, 0.952366828918457, 0.0, 0.0, 0.0, 0.0, 0.0, 0.0, 0.0, 0.0, 0.0, 0.0, 0.0, 0.0, 0.0, 0.0, 0.0, 0.0, 0.0, 0.0, 0.0, 0.0, 0.0, 0.0, 0.0, 0.0, 0.0, 0.0], [0.09058350324630737, 0.0011470753233879805, 0.006027343682944775, 0.0005468466551974416, 0.0017094230279326439, 0.003785087028518319, 0.0026845415122807026, 0.8935161232948303, 0.0, 0.0, 0.0, 0.0, 0.0, 0.0, 0.0, 0.0, 0.0, 0.0, 0.0, 0.0, 0.0, 0.0, 0.0, 0.0, 0.0, 0.0, 0.0, 0.0, 0.0, 0.0, 0.0, 0.0, 0.0], [0.006010720040649176, 2.4289023713208735e-05, 0.0003126671945210546, 1.868290019046981e-05, 0.00029792377608828247, 9.904507351166103e-06, 6.619536179641727e-06, 7.912183832559094e-07, 0.9933184385299683, 0.0, 0.0, 0.0, 0.0, 0.0, 0.0, 0.0, 0.0, 0.0, 0.0, 0.0, 0.0, 0.0, 0.0, 0.0, 0.0, 0.0, 0.0, 0.0, 0.0, 0.0, 0.0, 0.0, 0.0], [0.0045468187890946865, 0.00020019400108139962, 0.00029920274391770363, 0.0013363957405090332, 0.0003267661377321929, 8.741366173126153e-07, 1.7415719412383623e-05, 2.7834195748255297e-07, 0.00029665272450074553, 0.9929754734039307, 0.0, 0.0, 0.0, 0.0, 0.0, 0.0, 0.0, 0.0, 0.0, 0.0, 0.0, 0.0, 0.0, 0.0, 0.0, 0.0, 0.0, 0.0, 0.0, 0.0, 0.0, 0.0, 0.0], [0.12262558192014694, 0.02392658405005932, 0.038276512175798416, 0.01617196388542652, 0.030366240069270134, 0.29375913739204407, 0.10661354660987854, 0.0705995187163353, 0.04190009459853172, 0.017833100631833076, 0.23792767524719238, 0.0, 0.0, 0.0, 0.0, 0.0, 0.0, 0.0, 0.0, 0.0, 0.0, 0.0, 0.0, 0.0, 0.0, 0.0, 0.0, 0.0, 0.0, 0.0, 0.0, 0.0, 0.0], [0.0008121046121232212, 0.00011546660971362144, 0.0001350089441984892, 5.539292760659009e-05, 0.0001317413116339594, 1.0027187045125174e-06, 1.3799102589473478e-06, 1.6001600045001396e-07, 1.8972989437315846e-06, 5.419661306405033e-07, 4.7530917868243705e-07, 0.9987448453903198, 0.0, 0.0, 0.0, 0.0, 0.0, 0.0, 0.0, 0.0, 0.0, 0.0, 0.0, 0.0, 0.0, 0.0, 0.0, 0.0, 0.0, 0.0, 0.0, 0.0, 0.0], [0.0013333018869161606, 0.00010533048771321774, 0.000766961311455816, 0.0009021891164593399, 3.5708358154806774e-06, 8.120482561935205e-07, 1.403809051225835e-07, 9.56129397877703e-08, 1.686508653619967e-06, 2.9789011023240164e-05, 4.3813446382046095e-07, 1.196580001305847e-06, 0.9968544840812683, 0.0, 0.0, 0.0, 0.0, 0.0, 0.0, 0.0, 0.0, 0.0, 0.0, 0.0, 0.0, 0.0, 0.0, 0.0, 0.0, 0.0, 0.0, 0.0, 0.0], [0.0815979614853859, 0.021388862282037735, 0.02887716144323349, 0.012675797566771507, 0.024931587278842926, 0.22996486723423004, 0.10401232540607452, 0.0647209882736206, 0.034600935876369476, 0.015198723413050175, 0.18564169108867645, 0.020528050139546394, 0.00500385370105505, 0.17085722088813782, 0.0, 0.0, 0.0, 0.0, 0.0, 0.0, 0.0, 0.0, 0.0, 0.0, 0.0, 0.0, 0.0, 0.0, 0.0, 0.0, 0.0, 0.0, 0.0], [0.0013488882686942816, 8.921229164116085e-05, 0.0006859974237158895, 0.0006963240448385477, 2.124868296959903e-05, 3.763401252854237e-07, 6.226750315363461e-07, 4.3072290623058507e-07, 7.0918945311859716e-06, 0.0013103720266371965, 1.611379758514886e-07, 9.548780326440465e-07, 0.00016453623538836837, 1.1531970045552953e-07, 0.9956737160682678, 0.0, 0.0, 0.0, 0.0, 0.0, 0.0, 0.0, 0.0, 0.0, 0.0, 0.0, 0.0, 0.0, 0.0, 0.0, 0.0, 0.0, 0.0], [0.0010867484379559755, 0.00040724826976656914, 0.00010700311395339668, 0.0006782704731449485, 0.00011028473090846092, 1.3184238412122795e-07, 2.6602660341268347e-07, 4.619568017005804e-07, 8.409714610024821e-06, 0.0007784873014315963, 5.109440337491833e-08, 8.792069934315805e-07, 4.9342903366778046e-05, 3.4893165690164096e-08, 0.00011441177048254758, 0.9966580867767334, 0.0, 0.0, 0.0, 0.0, 0.0, 0.0, 0.0, 0.0, 0.0, 0.0, 0.0, 0.0, 0.0, 0.0, 0.0, 0.0, 0.0], [0.05868089199066162, 0.018785744905471802, 0.024067312479019165, 0.011013145558536053, 0.021456371992826462, 0.19110557436943054, 0.09902718663215637, 0.06065868213772774, 0.030162738636136055, 0.014801906421780586, 0.15370334684848785, 0.016615159809589386, 0.004385381005704403, 0.14085331559181213, 0.015014996752142906, 0.005390205420553684, 0.13427795469760895, 0.0, 0.0, 0.0, 0.0, 0.0, 0.0, 0.0, 0.0, 0.0, 0.0, 0.0, 0.0, 0.0, 0.0, 0.0, 0.0], [0.07323042303323746, 0.02837459184229374, 0.02105824090540409, 0.0076118772849440575, 0.010053577832877636, 0.06553950905799866, 0.1455976516008377, 0.08620847761631012, 0.01024126447737217, 0.007425740361213684, 0.04526272416114807, 0.006621459033340216, 0.0011621782323345542, 0.03923855349421501, 0.008256875909864902, 0.0030656890012323856, 0.03612265735864639, 0.4049285054206848, 0.0, 0.0, 0.0, 0.0, 0.0, 0.0, 0.0, 0.0, 0.0, 0.0, 0.0, 0.0, 0.0, 0.0, 0.0], [7.94449370005168e-05, 1.838214188865095e-06, 3.713439511443539e-08, 1.557527866680175e-05, 3.4723757380561437e-06, 1.3165096790501707e-09, 2.7038710825877388e-08, 1.7186653877843128e-08, 9.2322629541286e-08, 1.3506391951523256e-05, 4.4787887287789374e-10, 2.0416770496467507e-09, 5.5420287026208825e-08, 3.0638666603799436e-10, 4.217715456888982e-07, 7.065881163725862e-06, 2.424439260462208e-10, 1.4397358860662735e-09, 0.9998784065246582, 0.0, 0.0, 0.0, 0.0, 0.0, 0.0, 0.0, 0.0, 0.0, 0.0, 0.0, 0.0, 0.0, 0.0], [0.0029344926588237286, 0.0005883853300474584, 0.004250305239111185, 0.004028462339192629, 0.0001159295643446967, 4.331626314524328e-06, 6.773906989110401e-06, 7.07646831870079e-05, 0.00024952724925242364, 0.00031593386665917933, 2.0824420516873943e-06, 4.4092259486205876e-05, 0.00030446937307715416, 1.470257643632067e-06, 0.00019761362636927515, 0.001359925139695406, 1.2478665212256601e-06, 6.875188773847185e-06, 0.00019261149282101542, 0.9853248000144958, 0.0, 0.0, 0.0, 0.0, 0.0, 0.0, 0.0, 0.0, 0.0, 0.0, 0.0, 0.0, 0.0], [0.04056534171104431, 0.017898332327604294, 0.020600970834493637, 0.00982110109180212, 0.017882825806736946, 0.15653996169567108, 0.09208228439092636, 0.05628828704357147, 0.0266613457351923, 0.014471277594566345, 0.12537626922130585, 0.013986769132316113, 0.003927926532924175, 0.11453612148761749, 0.013395380228757858, 0.004846664611250162, 0.10880250483751297, 0.04953397810459137, 0.005186410620808601, 0.004420874174684286, 0.10317536443471909, 0.0, 0.0, 0.0, 0.0, 0.0, 0.0, 0.0, 0.0, 0.0, 0.0, 0.0, 0.0], [0.02453644573688507, 0.003124343231320381, 0.0009699328220449388, 4.631559568224475e-05, 0.00013434814172796905, 0.0006453958339989185, 0.011668880470097065, 0.00032713558175601065, 0.00045730560668744147, 2.3976164811756462e-05, 0.000344542640959844, 4.9964415666181594e-05, 2.575745020294562e-05, 0.00028217825456522405, 6.525341632368509e-06, 4.981822712579742e-06, 0.0002355406468268484, 0.0002664518542587757, 2.5311197532573715e-05, 2.9761171390418895e-05, 0.00018809318135026842, 0.9566067457199097, 0.0, 0.0, 0.0, 0.0, 0.0, 0.0, 0.0, 0.0, 0.0, 0.0, 0.0], [0.002075991127640009, 0.00014591759827453643, 5.289888576953672e-05, 4.218061803840101e-05, 4.73871041322127e-05, 4.1423234620197036e-07, 0.00012964301276952028, 2.4250954083981924e-05, 1.803400891731144e-06, 1.4839254163234727e-06, 1.4489953059637628e-07, 4.199928753223503e-06, 4.106833273453958e-08, 1.0260482241619684e-07, 8.285441026600893e-07, 5.781892014056211e-07, 7.695144432773304e-08, 6.669596785968679e-08, 6.472597306128591e-05, 1.5700871927037952e-06, 5.641831535285746e-08, 4.403028015076416e-06, 0.9974013566970825, 0.0, 0.0, 0.0, 0.0, 0.0, 0.0, 0.0, 0.0, 0.0, 0.0], [0.0005159119609743357, 0.00011814641766250134, 3.2705673220334575e-05, 0.0002118876000167802, 4.563529000733979e-05, 2.9248894861666486e-07, 3.057945605178247e-06, 7.607361851569294e-08, 0.000137536961119622, 0.0005283548380248249, 1.1576035774396587e-07, 4.028589046356501e-06, 2.0792986106243916e-06, 8.805442064385716e-08, 0.00010051677963929251, 4.4316235289443284e-05, 6.963725240893837e-08, 9.373040654736542e-08, 3.337768430355936e-05, 1.5888903362792917e-05, 5.610686315549174e-08, 7.052668138385343e-08, 9.389286788064055e-06, 0.9981963038444519, 0.0, 0.0, 0.0, 0.0, 0.0, 0.0, 0.0, 0.0, 0.0], [0.06915229558944702, 0.014032112434506416, 0.0055990940891206264, 0.0012576852459460497, 0.0008467999869026244, 0.009601177647709846, 0.008965768851339817, 0.052476923912763596, 0.00025028365780599415, 0.0009063852485269308, 0.005419905297458172, 0.0007309206994250417, 0.00019187956058885902, 0.004396582022309303, 0.0059647164307534695, 0.0003558540774974972, 0.003877014620229602, 0.009727215394377708, 0.0011023477418348193, 0.00036442879354581237, 0.0034139568451792, 0.003052355023100972, 0.0056982496753335, 0.00029557308880612254, 0.7923204302787781, 0.0, 0.0, 0.0, 0.0, 0.0, 0.0, 0.0, 0.0], [0.0010461538331583142, 1.955712286871858e-05, 1.7358910326947807e-06, 3.1030376703711227e-05, 2.7307851269142702e-05, 1.0180658982505975e-08, 4.815758529730374e-07, 1.7494180326593778e-07, 7.312396377301411e-08, 7.983045406945166e-07, 3.464297071431588e-09, 4.906703907181509e-06, 1.0718913046048328e-07, 2.3525394965417945e-09, 2.3833985096644028e-07, 1.3731307717534946e-06, 1.828856621699515e-09, 6.24759799450203e-09, 9.208303708874155e-06, 1.6384241234845831e-06, 1.252385195549266e-09, 8.271226481504357e-10, 8.456754585495219e-06, 3.118673703284003e-06, 9.24138632285576e-09, 0.9988435506820679, 0.0, 0.0, 0.0, 0.0, 0.0, 0.0, 0.0], [0.0010544918477535248, 0.00021373212803155184, 0.00028157138149254024, 0.0011373349698260427, 0.00014783910592086613, 2.006845534197055e-06, 4.831345904676709e-06, 3.482324700598838e-06, 5.100334874441614e-06, 0.0001242046128027141, 9.301500654146366e-07, 1.058260204445105e-05, 1.1688251106534153e-05, 7.077497912177932e-07, 0.0034115903545171022, 0.00019905237422790378, 5.995606215947191e-07, 4.6430281486209424e-07, 1.958506072696764e-05, 0.00011087769962614402, 4.7500441269221483e-07, 3.280878217992722e-07, 4.53534084954299e-06, 5.161703666090034e-05, 3.2474670774718106e-07, 1.3071333341940772e-05, 0.9931888580322266, 0.0, 0.0, 0.0, 0.0, 0.0, 0.0], [0.024200813844799995, 0.0028201343957334757, 0.004319305531680584, 0.0009108316153287888, 0.0017753969877958298, 0.003809922141954303, 0.002953325631096959, 0.016714807599782944, 0.0013931762659922242, 0.0050031878054142, 0.002276093466207385, 0.0005876422510482371, 0.00099016516469419, 0.0018066976917907596, 0.0031312466599047184, 0.00023389403941109776, 0.001608274644240737, 0.009910310618579388, 0.0028539581689983606, 0.0002049517643172294, 0.0013712685322389007, 0.006919012870639563, 0.0010336588602513075, 0.00014528421161230654, 0.017489813268184662, 0.0004655319207813591, 0.00030240899650380015, 0.8847687840461731, 0.0, 0.0, 0.0, 0.0, 0.0], [0.0005256079020909965, 3.5286443562654313e-06, 1.7037654060914065e-06, 9.408171172253788e-05, 0.6647970080375671, 1.6531461710656004e-07, 9.511094845038315e-07, 8.886867135515786e-07, 1.7016665879054926e-05, 3.74217597709503e-05, 6.832259913380767e-08, 9.810899427975528e-06, 7.548729996642578e-08, 4.963246880151928e-08, 2.039385208263411e-06, 7.68653171689948e-06, 4.0668474809990585e-08, 2.6744292114244672e-08, 3.34317228407599e-05, 4.341070223290444e-07, 3.007985327485585e-08, 3.206054088877863e-08, 4.900565727439243e-06, 3.060936705878703e-06, 1.4603181774930363e-08, 2.2145501134218648e-05, 9.211161341227125e-06, 3.164269202216019e-08, 0.3344285786151886, 0.0, 0.0, 0.0, 0.0], [0.004676995798945427, 0.0002802126982714981, 8.346070535480976e-05, 3.1570066312269773e-06, 4.065339282988134e-07, 1.334347672354852e-07, 2.642353683768306e-05, 1.1439956892900227e-07, 2.7872297891917697e-07, 3.7495958622457692e-06, 4.652889273870642e-08, 1.7213934597748448e-06, 1.8165586368468212e-07, 3.148470284486393e-08, 1.8334196738578612e-07, 5.214727494262661e-08, 2.5215761922936508e-08, 3.078435284464831e-08, 7.142002544924253e-08, 1.6640111510923816e-08, 1.7768190474498624e-08, 8.634509640614851e-08, 2.800959464366315e-06, 8.454128419543849e-07, 3.0983517973481867e-08, 2.927860691670503e-07, 5.676212140315329e-07, 5.055422303001933e-09, 2.914092434025406e-08, 0.9949181079864502, 0.0, 0.0, 0.0], [5.6367825891356915e-05, 0.00020023657998535782, 1.6319050928359502e-06, 1.5089257203726447e-06, 1.777966826921329e-05, 5.956419246722078e-10, 6.940356797713321e-06, 5.0339918900021985e-09, 2.1682791384591837e-07, 1.716419319564011e-06, 1.9326193423374605e-10, 1.891135426035362e-08, 9.538805301190223e-08, 1.2946835270533086e-10, 8.07712030592711e-09, 4.3865911720786244e-05, 9.768647002417197e-11, 5.256060031655352e-10, 6.93213805789128e-05, 7.50585300579587e-08, 7.069278495919207e-11, 3.988031949120341e-08, 1.0610246135911439e-05, 2.2120666471892036e-06, 8.688602060047401e-10, 9.928451618179679e-06, 5.3900750529578545e-09, 1.1354416712405779e-10, 3.0600319860241143e-06, 3.8945478308960446e-07, 0.9995740056037903, 0.0, 0.0], [0.00035569857573136687, 1.9489532860461622e-05, 9.160992703982629e-06, 1.30853013615706e-05, 2.3808943296899088e-05, 2.971913204419252e-08, 4.160610478720628e-05, 1.7756576653482625e-07, 6.896268018863339e-07, 1.0506259968678933e-06, 1.2230812806990343e-08, 4.290563992981333e-06, 3.2958365636659437e-07, 9.211142071308132e-09, 1.7466445569880307e-06, 4.6828076847305056e-06, 7.442767735454936e-09, 9.673855494440886e-09, 3.9665246731601655e-05, 7.324919124584994e-07, 5.543721925960199e-09, 1.0396745153684606e-07, 1.4401644875761122e-05, 8.873382284946274e-06, 5.989450269083818e-09, 1.5627858374500647e-05, 2.9811358217557427e-06, 6.87438150848152e-09, 4.854683083976852e-06, 7.072285370668396e-06, 6.2107087615004275e-06, 0.999423623085022, 0.0], [0.05455271154642105, 0.016429057344794273, 0.01600833609700203, 0.006986876949667931, 0.02488415688276291, 0.07376933842897415, 0.07933783531188965, 0.05594554916024208, 0.027268201112747192, 0.013368784449994564, 0.055903080850839615, 0.0072230263613164425, 0.005426581017673016, 0.05012327432632446, 0.008279064670205116, 0.003060966031625867, 0.04682297632098198, 0.047518473118543625, 0.0028449450619518757, 0.007037976756691933, 0.04282718151807785, 0.05138188973069191, 0.02728237397968769, 0.026375336572527885, 0.02615920826792717, 0.011997978202998638, 0.006220122333616018, 0.036487799137830734, 0.01112470030784607, 0.005218564998358488, 0.0025591994635760784, 0.0026040265802294016, 0.1469704508781433]], [[1.0, 0.0, 0.0, 0.0, 0.0, 0.0, 0.0, 0.0, 0.0, 0.0, 0.0, 0.0, 0.0, 0.0, 0.0, 0.0, 0.0, 0.0, 0.0, 0.0, 0.0, 0.0, 0.0, 0.0, 0.0, 0.0, 0.0, 0.0, 0.0, 0.0, 0.0, 0.0, 0.0], [0.9192656874656677, 0.08073431253433228, 0.0, 0.0, 0.0, 0.0, 0.0, 0.0, 0.0, 0.0, 0.0, 0.0, 0.0, 0.0, 0.0, 0.0, 0.0, 0.0, 0.0, 0.0, 0.0, 0.0, 0.0, 0.0, 0.0, 0.0, 0.0, 0.0, 0.0, 0.0, 0.0, 0.0, 0.0], [0.4543737471103668, 0.4265044033527374, 0.11912188678979874, 0.0, 0.0, 0.0, 0.0, 0.0, 0.0, 0.0, 0.0, 0.0, 0.0, 0.0, 0.0, 0.0, 0.0, 0.0, 0.0, 0.0, 0.0, 0.0, 0.0, 0.0, 0.0, 0.0, 0.0, 0.0, 0.0, 0.0, 0.0, 0.0, 0.0], [0.5267519354820251, 0.22321636974811554, 0.12420635670423508, 0.12582533061504364, 0.0, 0.0, 0.0, 0.0, 0.0, 0.0, 0.0, 0.0, 0.0, 0.0, 0.0, 0.0, 0.0, 0.0, 0.0, 0.0, 0.0, 0.0, 0.0, 0.0, 0.0, 0.0, 0.0, 0.0, 0.0, 0.0, 0.0, 0.0, 0.0], [0.39034876227378845, 0.1709941327571869, 0.06872711330652237, 0.18371818959712982, 0.18621179461479187, 0.0, 0.0, 0.0, 0.0, 0.0, 0.0, 0.0, 0.0, 0.0, 0.0, 0.0, 0.0, 0.0, 0.0, 0.0, 0.0, 0.0, 0.0, 0.0, 0.0, 0.0, 0.0, 0.0, 0.0, 0.0, 0.0, 0.0, 0.0], [0.1974422037601471, 0.25436851382255554, 0.14488455653190613, 0.1892586052417755, 0.20821930468082428, 0.005826785694807768, 0.0, 0.0, 0.0, 0.0, 0.0, 0.0, 0.0, 0.0, 0.0, 0.0, 0.0, 0.0, 0.0, 0.0, 0.0, 0.0, 0.0, 0.0, 0.0, 0.0, 0.0, 0.0, 0.0, 0.0, 0.0, 0.0, 0.0], [0.19473561644554138, 0.13241831958293915, 0.14391931891441345, 0.15120738744735718, 0.3002447187900543, 0.020584646612405777, 0.05688999965786934, 0.0, 0.0, 0.0, 0.0, 0.0, 0.0, 0.0, 0.0, 0.0, 0.0, 0.0, 0.0, 0.0, 0.0, 0.0, 0.0, 0.0, 0.0, 0.0, 0.0, 0.0, 0.0, 0.0, 0.0, 0.0, 0.0], [0.12696664035320282, 0.2159738689661026, 0.1608932763338089, 0.19698834419250488, 0.18844623863697052, 0.013544928282499313, 0.07520705461502075, 0.021979697048664093, 0.0, 0.0, 0.0, 0.0, 0.0, 0.0, 0.0, 0.0, 0.0, 0.0, 0.0, 0.0, 0.0, 0.0, 0.0, 0.0, 0.0, 0.0, 0.0, 0.0, 0.0, 0.0, 0.0, 0.0, 0.0], [0.2912123203277588, 0.05954228714108467, 0.11079409718513489, 0.09717848896980286, 0.22345615923404694, 0.016262587159872055, 0.08719441294670105, 0.02476227842271328, 0.0895974189043045, 0.0, 0.0, 0.0, 0.0, 0.0, 0.0, 0.0, 0.0, 0.0, 0.0, 0.0, 0.0, 0.0, 0.0, 0.0, 0.0, 0.0, 0.0, 0.0, 0.0, 0.0, 0.0, 0.0, 0.0], [0.22981946170330048, 0.038026753813028336, 0.16013838350772858, 0.11780407279729843, 0.161811962723732, 0.03552817925810814, 0.07561109215021133, 0.020756032317876816, 0.10670627653598785, 0.05379774048924446, 0.0, 0.0, 0.0, 0.0, 0.0, 0.0, 0.0, 0.0, 0.0, 0.0, 0.0, 0.0, 0.0, 0.0, 0.0, 0.0, 0.0, 0.0, 0.0, 0.0, 0.0, 0.0, 0.0], [0.13314425945281982, 0.1885865330696106, 0.10808096826076508, 0.15994971990585327, 0.17739199101924896, 0.0035980131942778826, 0.0250620786100626, 0.012862933799624443, 0.07453102618455887, 0.11275244504213333, 0.0040399846620857716, 0.0, 0.0, 0.0, 0.0, 0.0, 0.0, 0.0, 0.0, 0.0, 0.0, 0.0, 0.0, 0.0, 0.0, 0.0, 0.0, 0.0, 0.0, 0.0, 0.0, 0.0, 0.0], [0.16746394336223602, 0.1435522884130478, 0.06118571013212204, 0.17358075082302094, 0.10113830864429474, 0.017553476616740227, 0.03239530324935913, 0.007995500229299068, 0.05453450605273247, 0.07883201539516449, 0.017258211970329285, 0.14451000094413757, 0.0, 0.0, 0.0, 0.0, 0.0, 0.0, 0.0, 0.0, 0.0, 0.0, 0.0, 0.0, 0.0, 0.0, 0.0, 0.0, 0.0, 0.0, 0.0, 0.0, 0.0], [0.2699682414531708, 0.13029064238071442, 0.06605684757232666, 0.06156140938401222, 0.08437130600214005, 0.01984662376344204, 0.016312776133418083, 0.012965923175215721, 0.032314613461494446, 0.05254793167114258, 0.01986861415207386, 0.13695639371871948, 0.0969386100769043, 0.0, 0.0, 0.0, 0.0, 0.0, 0.0, 0.0, 0.0, 0.0, 0.0, 0.0, 0.0, 0.0, 0.0, 0.0, 0.0, 0.0, 0.0, 0.0, 0.0], [0.09820355474948883, 0.13618645071983337, 0.08005785942077637, 0.12152864784002304, 0.1357937455177307, 0.0024323565885424614, 0.01778949424624443, 0.009086486883461475, 0.056375306099653244, 0.08521632105112076, 0.0027533378452062607, 0.15203779935836792, 0.09946728497743607, 0.003071403130888939, 0.0, 0.0, 0.0, 0.0, 0.0, 0.0, 0.0, 0.0, 0.0, 0.0, 0.0, 0.0, 0.0, 0.0, 0.0, 0.0, 0.0, 0.0, 0.0], [0.1701289266347885, 0.08885710686445236, 0.09089688956737518, 0.08085788041353226, 0.11427337676286697, 0.010901490226387978, 0.014788408763706684, 0.0054973722435534, 0.05151256173849106, 0.053306832909584045, 0.010595816187560558, 0.09442281723022461, 0.1309811919927597, 0.011153671890497208, 0.07182561606168747, 0.0, 0.0, 0.0, 0.0, 0.0, 0.0, 0.0, 0.0, 0.0, 0.0, 0.0, 0.0, 0.0, 0.0, 0.0, 0.0, 0.0, 0.0], [0.1036585122346878, 0.03588540479540825, 0.08803565055131912, 0.06087937206029892, 0.08348330110311508, 0.030805744230747223, 0.029615920037031174, 0.010918700136244297, 0.04049992561340332, 0.04288606718182564, 0.032192960381507874, 0.1500813215970993, 0.12658774852752686, 0.034902166575193405, 0.05825435370206833, 0.0713128075003624, 0.0, 0.0, 0.0, 0.0, 0.0, 0.0, 0.0, 0.0, 0.0, 0.0, 0.0, 0.0, 0.0, 0.0, 0.0, 0.0, 0.0], [0.07047093659639359, 0.09600996971130371, 0.056215766817331314, 0.08699886500835419, 0.0993412509560585, 0.0016298784175887704, 0.012408616952598095, 0.0063804336823523045, 0.04101404920220375, 0.06348713487386703, 0.001848219195380807, 0.11387643963098526, 0.07328982651233673, 0.0020712956320494413, 0.07246170192956924, 0.20012785494327545, 0.0023677756544202566, 0.0, 0.0, 0.0, 0.0, 0.0, 0.0, 0.0, 0.0, 0.0, 0.0, 0.0, 0.0, 0.0, 0.0, 0.0, 0.0], [0.05659442022442818, 0.08906210958957672, 0.04703240469098091, 0.09457869827747345, 0.08793894201517105, 0.0019721670541912317, 0.017767680808901787, 0.005990442354232073, 0.060148630291223526, 0.08834965527057648, 0.002263767644762993, 0.1046152114868164, 0.06079370528459549, 0.0025566245894879103, 0.07818629592657089, 0.19496025145053864, 0.002929988317191601, 0.004259059205651283, 0.0, 0.0, 0.0, 0.0, 0.0, 0.0, 0.0, 0.0, 0.0, 0.0, 0.0, 0.0, 0.0, 0.0, 0.0], [0.1597062349319458, 0.026096448302268982, 0.045151788741350174, 0.0349758043885231, 0.0803067609667778, 0.054690390825271606, 0.04078543558716774, 0.026513032615184784, 0.02725192718207836, 0.03919816389679909, 0.053514353930950165, 0.04842919483780861, 0.06264263391494751, 0.05558208376169205, 0.05559665709733963, 0.04792959988117218, 0.05676322802901268, 0.04892299324274063, 0.03594321385025978, 0.0, 0.0, 0.0, 0.0, 0.0, 0.0, 0.0, 0.0, 0.0, 0.0, 0.0, 0.0, 0.0, 0.0], [0.08663121610879898, 0.09557433426380157, 0.03673810139298439, 0.06946705281734467, 0.05681460350751877, 0.008190206252038479, 0.022195830941200256, 0.007642826065421104, 0.03146830201148987, 0.07555205374956131, 0.008965261280536652, 0.05263479799032211, 0.04491104930639267, 0.009935054928064346, 0.04481378197669983, 0.15198469161987305, 0.010933401994407177, 0.007993675768375397, 0.16402564942836761, 0.013528087176382542, 0.0, 0.0, 0.0, 0.0, 0.0, 0.0, 0.0, 0.0, 0.0, 0.0, 0.0, 0.0, 0.0], [0.04783451557159424, 0.06669352948665619, 0.03798918053507805, 0.06040374934673309, 0.06899039447307587, 0.0010267292382195592, 0.00817267969250679, 0.004158175550401211, 0.02826830744743347, 0.04407239705324173, 0.0011586466571316123, 0.0783291757106781, 0.05082906410098076, 0.001300497562624514, 0.049042973667383194, 0.14145003259181976, 0.0014934329083189368, 0.0025566844269633293, 0.17534080147743225, 0.12910203635692596, 0.0017870564479380846, 0.0, 0.0, 0.0, 0.0, 0.0, 0.0, 0.0, 0.0, 0.0, 0.0, 0.0, 0.0], [0.04114091023802757, 0.04766078293323517, 0.03586999326944351, 0.0666610449552536, 0.07969274371862411, 0.002365078777074814, 0.02034018002450466, 0.004854497499763966, 0.0643620491027832, 0.06737154722213745, 0.002707370789721608, 0.055960554629564285, 0.05648668855428696, 0.0030767277348786592, 0.05354389175772667, 0.15165922045707703, 0.0035397170577198267, 0.004673932678997517, 0.164027139544487, 0.0596814900636673, 0.004154943395406008, 0.01016952097415924, 0.0, 0.0, 0.0, 0.0, 0.0, 0.0, 0.0, 0.0, 0.0, 0.0, 0.0], [0.0662880688905716, 0.040925413370132446, 0.02732268162071705, 0.04505367577075958, 0.06575217843055725, 0.015657562762498856, 0.027881883084774017, 0.01371125690639019, 0.03174295648932457, 0.05280746519565582, 0.015447773970663548, 0.03218112885951996, 0.03290106728672981, 0.016298865899443626, 0.026636643335223198, 0.09772847592830658, 0.017114195972681046, 0.016919458284974098, 0.09847066551446915, 0.04787907749414444, 0.018412550911307335, 0.015331610105931759, 0.17753541469573975, 0.0, 0.0, 0.0, 0.0, 0.0, 0.0, 0.0, 0.0, 0.0, 0.0], [0.09801430255174637, 0.026328809559345245, 0.03586814925074577, 0.057130590081214905, 0.06943874061107635, 0.012128964066505432, 0.020909080281853676, 0.008747957646846771, 0.026999667286872864, 0.03726679086685181, 0.011716347187757492, 0.08499537408351898, 0.05501336231827736, 0.012196703813970089, 0.035639118403196335, 0.08789660036563873, 0.012970106676220894, 0.010851019993424416, 0.06408389657735825, 0.05963917076587677, 0.014492177404463291, 0.006093738600611687, 0.09761440008878708, 0.053964972496032715, 0.0, 0.0, 0.0, 0.0, 0.0, 0.0, 0.0, 0.0, 0.0], [0.027693243697285652, 0.04073771461844444, 0.031223557889461517, 0.058790381997823715, 0.05601825192570686, 0.001571479719132185, 0.011908040381968021, 0.0033397937659174204, 0.05176551267504692, 0.05291242152452469, 0.001825982704758644, 0.060300350189208984, 0.02835720404982567, 0.0020878110080957413, 0.050864797085523605, 0.07898835092782974, 0.0023987030144780874, 0.002904826309531927, 0.11135732382535934, 0.04586015269160271, 0.002884918823838234, 0.011431252583861351, 0.12340555340051651, 0.1348848044872284, 0.006487559527158737, 0.0, 0.0, 0.0, 0.0, 0.0, 0.0, 0.0, 0.0], [0.1539076715707779, 0.023786773905158043, 0.05320247635245323, 0.03963886573910713, 0.05711064487695694, 0.015628939494490623, 0.02020607516169548, 0.009252367541193962, 0.02131185494363308, 0.029029959812760353, 0.01474191527813673, 0.06123840808868408, 0.10112593322992325, 0.015157819725573063, 0.043354034423828125, 0.040907200425863266, 0.015732649713754654, 0.020073410123586655, 0.053749341517686844, 0.03468615561723709, 0.016989387571811676, 0.006368501111865044, 0.040420182049274445, 0.031060419976711273, 0.013937166891992092, 0.06738191843032837, 0.0, 0.0, 0.0, 0.0, 0.0, 0.0, 0.0], [0.08555091172456741, 0.03505740687251091, 0.05885256826877594, 0.03497908636927605, 0.05178745463490486, 0.0025119902566075325, 0.004151216242462397, 0.0020859159994870424, 0.014081122353672981, 0.02449134923517704, 0.0023760045878589153, 0.0953512042760849, 0.07766135036945343, 0.0024908818304538727, 0.04572677239775658, 0.057741131633520126, 0.0026603771839290857, 0.00334775703959167, 0.04799825698137283, 0.026788810268044472, 0.0029587175231426954, 0.004655792843550444, 0.036070991307497025, 0.021599190309643745, 0.004788633435964584, 0.22052201628684998, 0.03371305763721466, 0.0, 0.0, 0.0, 0.0, 0.0, 0.0], [0.020706728100776672, 0.03719407692551613, 0.019723711535334587, 0.03894226253032684, 0.03182703256607056, 0.0012253696331754327, 0.008815757930278778, 0.0024052949156612158, 0.034579575061798096, 0.047298092395067215, 0.0013953747693449259, 0.051482055336236954, 0.020486749708652496, 0.0015608383109793067, 0.03826116770505905, 0.04863754287362099, 0.0017825282411649823, 0.0025446065701544285, 0.06541349738836288, 0.04188559576869011, 0.002096059499308467, 0.009401385672390461, 0.08460027724504471, 0.09019995480775833, 0.0054032751359045506, 0.22932559251785278, 0.05692271143198013, 0.005882923025637865, 0.0, 0.0, 0.0, 0.0, 0.0], [0.08582808077335358, 0.03967175632715225, 0.014841824769973755, 0.05653616786003113, 0.05960613489151001, 0.006987514905631542, 0.010110094211995602, 0.0028877253644168377, 0.0153228510171175, 0.02592877671122551, 0.006830446422100067, 0.033548928797245026, 0.02109353616833687, 0.007213158067315817, 0.01932339183986187, 0.05298228934407234, 0.007658607792109251, 0.005157842300832272, 0.0652318224310875, 0.01816999912261963, 0.008534704335033894, 0.004368170630186796, 0.02691243588924408, 0.04962792992591858, 0.0044043296948075294, 0.1938866823911667, 0.03933223336935043, 0.005363552365452051, 0.11263896524906158, 0.0, 0.0, 0.0, 0.0], [0.07040350139141083, 0.05926159769296646, 0.0153348408639431, 0.02413903921842575, 0.015728846192359924, 0.019492104649543762, 0.017311520874500275, 0.017303062602877617, 0.020563242956995964, 0.04515582323074341, 0.02181582897901535, 0.07079730182886124, 0.030063962563872337, 0.02354060672223568, 0.020684491842985153, 0.021163664758205414, 0.026445109397172928, 0.023540044203400612, 0.056637246161699295, 0.033694759011268616, 0.030707284808158875, 0.015993362292647362, 0.015474069863557816, 0.0308036208152771, 0.03180556744337082, 0.07969610393047333, 0.034374870359897614, 0.03453715145587921, 0.030624382197856903, 0.0629069060087204, 0.0, 0.0, 0.0], [0.05338498204946518, 0.029621513560414314, 0.021030083298683167, 0.023695696145296097, 0.03343639895319939, 0.018393822014331818, 0.024060707539319992, 0.02281002141535282, 0.013972369953989983, 0.028813542798161507, 0.01905974932014942, 0.015371963381767273, 0.025335317477583885, 0.019971972331404686, 0.0140757467597723, 0.0388445220887661, 0.021346207708120346, 0.019321447238326073, 0.05632660165429115, 0.021359995007514954, 0.023394595831632614, 0.023136671632528305, 0.06416383385658264, 0.06724689900875092, 0.034695103764534, 0.043490201234817505, 0.03032723441720009, 0.03285714611411095, 0.053275059908628464, 0.06599815934896469, 0.04118248075246811, 0.0, 0.0], [0.18177087604999542, 0.01953313872218132, 0.028002936393022537, 0.029110200703144073, 0.04134833812713623, 0.01801948808133602, 0.010471725836396217, 0.008382911793887615, 0.015335779637098312, 0.021839452907443047, 0.01689334399998188, 0.03806139528751373, 0.03643864393234253, 0.01746426522731781, 0.026129072532057762, 0.04011503979563713, 0.018317200243473053, 0.012488223612308502, 0.051369696855545044, 0.019443830475211143, 0.019889768213033676, 0.0035764563363045454, 0.026232963427901268, 0.018429193645715714, 0.011723742820322514, 0.032729875296354294, 0.03480817377567291, 0.012035042978823185, 0.06030292063951492, 0.007873306050896645, 0.04227295145392418, 0.07959001511335373, 0.0], [0.015003408305346966, 0.020334865897893906, 0.007813433185219765, 0.016553575173020363, 0.016466088593006134, 0.00023809651611372828, 0.0019598936196416616, 0.0006898259161971509, 0.006483219098299742, 0.010734072886407375, 0.0002443527046125382, 0.01463468186557293, 0.009247629903256893, 0.0002605919144116342, 0.009339922107756138, 0.042726583778858185, 0.0002886388683691621, 0.00038116719224490225, 0.05474935472011566, 0.0945277139544487, 0.00034211314050480723, 0.0017270211828872561, 0.047459330409765244, 0.02661379612982273, 0.0010238655377179384, 0.1653798222541809, 0.014187117107212543, 0.00130923418328166, 0.04770652949810028, 0.011198502033948898, 0.22050759196281433, 0.1394260972738266, 0.00044186192099004984]], [[1.0, 0.0, 0.0, 0.0, 0.0, 0.0, 0.0, 0.0, 0.0, 0.0, 0.0, 0.0, 0.0, 0.0, 0.0, 0.0, 0.0, 0.0, 0.0, 0.0, 0.0, 0.0, 0.0, 0.0, 0.0, 0.0, 0.0, 0.0, 0.0, 0.0, 0.0, 0.0, 0.0], [0.9333657622337341, 0.06663422286510468, 0.0, 0.0, 0.0, 0.0, 0.0, 0.0, 0.0, 0.0, 0.0, 0.0, 0.0, 0.0, 0.0, 0.0, 0.0, 0.0, 0.0, 0.0, 0.0, 0.0, 0.0, 0.0, 0.0, 0.0, 0.0, 0.0, 0.0, 0.0, 0.0, 0.0, 0.0], [0.3245236575603485, 0.5923718214035034, 0.08310454338788986, 0.0, 0.0, 0.0, 0.0, 0.0, 0.0, 0.0, 0.0, 0.0, 0.0, 0.0, 0.0, 0.0, 0.0, 0.0, 0.0, 0.0, 0.0, 0.0, 0.0, 0.0, 0.0, 0.0, 0.0, 0.0, 0.0, 0.0, 0.0, 0.0, 0.0], [0.14159755408763885, 0.514380931854248, 0.28144127130508423, 0.0625801831483841, 0.0, 0.0, 0.0, 0.0, 0.0, 0.0, 0.0, 0.0, 0.0, 0.0, 0.0, 0.0, 0.0, 0.0, 0.0, 0.0, 0.0, 0.0, 0.0, 0.0, 0.0, 0.0, 0.0, 0.0, 0.0, 0.0, 0.0, 0.0, 0.0], [0.25262251496315, 0.058340612798929214, 0.10458873957395554, 0.441116064786911, 0.14333204925060272, 0.0, 0.0, 0.0, 0.0, 0.0, 0.0, 0.0, 0.0, 0.0, 0.0, 0.0, 0.0, 0.0, 0.0, 0.0, 0.0, 0.0, 0.0, 0.0, 0.0, 0.0, 0.0, 0.0, 0.0, 0.0, 0.0, 0.0, 0.0], [0.18051548302173615, 0.0982891395688057, 0.10873962193727493, 0.12262707203626633, 0.0999554842710495, 0.3898731768131256, 0.0, 0.0, 0.0, 0.0, 0.0, 0.0, 0.0, 0.0, 0.0, 0.0, 0.0, 0.0, 0.0, 0.0, 0.0, 0.0, 0.0, 0.0, 0.0, 0.0, 0.0, 0.0, 0.0, 0.0, 0.0, 0.0, 0.0], [0.17192310094833374, 0.023320965468883514, 0.12332703918218613, 0.060764968395233154, 0.05971721559762955, 0.34759166836738586, 0.2133549600839615, 0.0, 0.0, 0.0, 0.0, 0.0, 0.0, 0.0, 0.0, 0.0, 0.0, 0.0, 0.0, 0.0, 0.0, 0.0, 0.0, 0.0, 0.0, 0.0, 0.0, 0.0, 0.0, 0.0, 0.0, 0.0, 0.0], [0.09627039730548859, 0.04683616757392883, 0.028257301077246666, 0.03239249065518379, 0.05865049362182617, 0.15829360485076904, 0.30996468663215637, 0.2693348228931427, 0.0, 0.0, 0.0, 0.0, 0.0, 0.0, 0.0, 0.0, 0.0, 0.0, 0.0, 0.0, 0.0, 0.0, 0.0, 0.0, 0.0, 0.0, 0.0, 0.0, 0.0, 0.0, 0.0, 0.0, 0.0], [0.099482461810112, 0.06464172154664993, 0.02867184393107891, 0.0730566680431366, 0.029787186533212662, 0.13960030674934387, 0.2075471132993698, 0.26580220460891724, 0.09141045808792114, 0.0, 0.0, 0.0, 0.0, 0.0, 0.0, 0.0, 0.0, 0.0, 0.0, 0.0, 0.0, 0.0, 0.0, 0.0, 0.0, 0.0, 0.0, 0.0, 0.0, 0.0, 0.0, 0.0, 0.0], [0.05632040277123451, 0.02988586761057377, 0.0134199233725667, 0.002407556865364313, 0.013245495967566967, 0.045645419508218765, 0.05522570386528969, 0.10027102380990982, 0.6579983830451965, 0.025580113753676414, 0.0, 0.0, 0.0, 0.0, 0.0, 0.0, 0.0, 0.0, 0.0, 0.0, 0.0, 0.0, 0.0, 0.0, 0.0, 0.0, 0.0, 0.0, 0.0, 0.0, 0.0, 0.0, 0.0], [0.04266995191574097, 0.010426480323076248, 0.010652214288711548, 0.013446648605167866, 0.009353160858154297, 0.04015978425741196, 0.07105178385972977, 0.1373765915632248, 0.10423264652490616, 0.2173663228750229, 0.3432644307613373, 0.0, 0.0, 0.0, 0.0, 0.0, 0.0, 0.0, 0.0, 0.0, 0.0, 0.0, 0.0, 0.0, 0.0, 0.0, 0.0, 0.0, 0.0, 0.0, 0.0, 0.0, 0.0], [0.029683930799365044, 0.002561645582318306, 0.004407483618706465, 0.034248705953359604, 0.014238736592233181, 0.028001874685287476, 0.02228802628815174, 0.07105958461761475, 0.04026235267519951, 0.5543044805526733, 0.17333026230335236, 0.02561301365494728, 0.0, 0.0, 0.0, 0.0, 0.0, 0.0, 0.0, 0.0, 0.0, 0.0, 0.0, 0.0, 0.0, 0.0, 0.0, 0.0, 0.0, 0.0, 0.0, 0.0, 0.0], [0.04039587453007698, 0.008631575852632523, 0.005494217853993177, 0.0038641353603452444, 0.023363085463643074, 0.027206992730498314, 0.025677327066659927, 0.05048520117998123, 0.05105604976415634, 0.05041780695319176, 0.14164339005947113, 0.5115287899971008, 0.06023559719324112, 0.0, 0.0, 0.0, 0.0, 0.0, 0.0, 0.0, 0.0, 0.0, 0.0, 0.0, 0.0, 0.0, 0.0, 0.0, 0.0, 0.0, 0.0, 0.0, 0.0], [0.028706412762403488, 0.004808466881513596, 0.004723654594272375, 0.005382598843425512, 0.003456044476479292, 0.014470180496573448, 0.024037348106503487, 0.0416262187063694, 0.035672903060913086, 0.07060736417770386, 0.10830995440483093, 0.05811615660786629, 0.20621240139007568, 0.39387035369873047, 0.0, 0.0, 0.0, 0.0, 0.0, 0.0, 0.0, 0.0, 0.0, 0.0, 0.0, 0.0, 0.0, 0.0, 0.0, 0.0, 0.0, 0.0, 0.0], [0.05342652648687363, 0.011923296377062798, 0.015572245232760906, 0.0021123255137354136, 0.005851044785231352, 0.022170942276716232, 0.03818469122052193, 0.027411555871367455, 0.05464284494519234, 0.04910833388566971, 0.12328364700078964, 0.0528717078268528, 0.0754566341638565, 0.37015292048454285, 0.09783123433589935, 0.0, 0.0, 0.0, 0.0, 0.0, 0.0, 0.0, 0.0, 0.0, 0.0, 0.0, 0.0, 0.0, 0.0, 0.0, 0.0, 0.0, 0.0], [0.008346709422767162, 0.00027852714993059635, 0.0011786004761233926, 0.0021395490039139986, 0.0024761692620813847, 0.002918288577347994, 0.0045768930576741695, 0.0039655901491642, 0.004973025061190128, 0.011347767896950245, 0.013014045543968678, 0.00554596446454525, 0.020895561203360558, 0.03838535025715828, 0.8750317096710205, 0.004926190245896578, 0.0, 0.0, 0.0, 0.0, 0.0, 0.0, 0.0, 0.0, 0.0, 0.0, 0.0, 0.0, 0.0, 0.0, 0.0, 0.0, 0.0], [0.021700285375118256, 0.0026786592788994312, 0.002383921528235078, 0.0028156242333352566, 0.0015562333865091205, 0.006139399018138647, 0.00903978943824768, 0.01374086644500494, 0.012412192299962044, 0.024686532095074654, 0.03406902030110359, 0.017561446875333786, 0.06082960590720177, 0.12004047632217407, 0.11516815423965454, 0.1266368329524994, 0.4285409152507782, 0.0, 0.0, 0.0, 0.0, 0.0, 0.0, 0.0, 0.0, 0.0, 0.0, 0.0, 0.0, 0.0, 0.0, 0.0, 0.0], [0.019681423902511597, 0.002866190392524004, 0.002752862870693207, 0.002364198677241802, 0.0022205738350749016, 0.004776967689394951, 0.0050153895281255245, 0.007020770572125912, 0.006603003479540348, 0.01582488603889942, 0.021779106929898262, 0.02237587794661522, 0.039055533707141876, 0.07342633605003357, 0.07227559387683868, 0.08103639632463455, 0.25563183426856995, 0.36529308557510376, 0.0, 0.0, 0.0, 0.0, 0.0, 0.0, 0.0, 0.0, 0.0, 0.0, 0.0, 0.0, 0.0, 0.0, 0.0], [0.034438665956258774, 0.0024295090697705746, 0.002703879727050662, 0.0010108936112374067, 0.002821241971105337, 0.00931065808981657, 0.007474071811884642, 0.010526393540203571, 0.019342610612511635, 0.006583395879715681, 0.03052528388798237, 0.008166547864675522, 0.023945681750774384, 0.08047977834939957, 0.044289398938417435, 0.04886507987976074, 0.23266324400901794, 0.38709723949432373, 0.04732643812894821, 0.0, 0.0, 0.0, 0.0, 0.0, 0.0, 0.0, 0.0, 0.0, 0.0, 0.0, 0.0, 0.0, 0.0], [0.0036976831033825874, 0.006450958084315062, 0.0004921721993014216, 0.00030696013709530234, 0.00012400784180499613, 0.0010727375047281384, 0.000885879504494369, 0.001380633795633912, 0.0008200175361707807, 0.0002731186104938388, 0.0027830663602799177, 0.035294242203235626, 0.003561378689482808, 0.007148314267396927, 0.0016474082367494702, 0.016731688752770424, 0.019172823056578636, 0.022339243441820145, 0.8733667135238647, 0.0024509562645107508, 0.0, 0.0, 0.0, 0.0, 0.0, 0.0, 0.0, 0.0, 0.0, 0.0, 0.0, 0.0, 0.0], [0.013628781773149967, 0.001438442850485444, 0.0012188630644232035, 0.0012915864353999496, 0.0006118030287325382, 0.00214003655128181, 0.0027469596825540066, 0.003336044494062662, 0.0030918731354177, 0.005988913122564554, 0.007237226236611605, 0.0035477448254823685, 0.01289196964353323, 0.02222912758588791, 0.020824242383241653, 0.02629530429840088, 0.07648159563541412, 0.1626146137714386, 0.12638668715953827, 0.10034433752298355, 0.4056538939476013, 0.0, 0.0, 0.0, 0.0, 0.0, 0.0, 0.0, 0.0, 0.0, 0.0, 0.0, 0.0], [0.02143297716975212, 0.0007291641086339951, 0.0010889689438045025, 0.0008559635025449097, 0.0010556632187217474, 0.0023542488925158978, 0.0018633322324603796, 0.002486987505108118, 0.004011370707303286, 0.003645629622042179, 0.006636616308242083, 0.0024591670371592045, 0.008106640540063381, 0.019501423463225365, 0.013945513404905796, 0.01683161035180092, 0.06727848947048187, 0.10203738510608673, 0.07506182044744492, 0.03785501793026924, 0.3474155366420746, 0.26334649324417114, 0.0, 0.0, 0.0, 0.0, 0.0, 0.0, 0.0, 0.0, 0.0, 0.0, 0.0], [0.018374428153038025, 0.001634014188311994, 0.0002648661029525101, 0.0006277094944380224, 0.000721287855412811, 0.0022947131656110287, 0.0014375760219991207, 0.002433568937703967, 0.0010225038276985288, 0.0021730961743742228, 0.005665977951139212, 0.0005857064970768988, 0.004730310291051865, 0.015789629891514778, 0.009121069684624672, 0.006447893567383289, 0.049651850014925, 0.07221096009016037, 0.04530424252152443, 0.022536233067512512, 0.23380501568317413, 0.28100964426994324, 0.22215768694877625, 0.0, 0.0, 0.0, 0.0, 0.0, 0.0, 0.0, 0.0, 0.0, 0.0], [0.016010284423828125, 0.0004190774925518781, 0.001679314998909831, 0.0020331654231995344, 0.0011126036988571286, 0.0023041244130581617, 0.0016414858400821686, 0.002045226749032736, 0.000882646010722965, 0.0035318201407790184, 0.0046607498079538345, 0.0011461286339908838, 0.0040252916514873505, 0.01172947883605957, 0.006906032562255859, 0.005978982429951429, 0.03413611277937889, 0.05391994118690491, 0.07536917179822922, 0.01554415374994278, 0.15307281911373138, 0.21672508120536804, 0.23267315328121185, 0.15245310962200165, 0.0, 0.0, 0.0, 0.0, 0.0, 0.0, 0.0, 0.0, 0.0], [0.016415510326623917, 0.0010881006019189954, 0.001302702003158629, 0.0012335628271102905, 0.001032523112371564, 0.001360529218800366, 0.001135273021645844, 0.0009713189210742712, 0.0017580196727067232, 0.0023549955803900957, 0.0022677986416965723, 0.0026170071214437485, 0.0032849677372723818, 0.00556443864479661, 0.007287757005542517, 0.006582662463188171, 0.016911093145608902, 0.023348139598965645, 0.03336378186941147, 0.012060850858688354, 0.08410525321960449, 0.10776982456445694, 0.1274130791425705, 0.2500959038734436, 0.2886749505996704, 0.0, 0.0, 0.0, 0.0, 0.0, 0.0, 0.0, 0.0], [0.031117696315050125, 0.0015063020400702953, 0.0010839297901839018, 0.0024215183220803738, 0.0013826842186972499, 0.003793718060478568, 0.0016339272260665894, 0.0031195098999887705, 0.0012812617933377624, 0.002068520290777087, 0.00476011261343956, 0.0008757304167374969, 0.00859211664646864, 0.00935363583266735, 0.01199326291680336, 0.005963002797216177, 0.02202814631164074, 0.03411329165101051, 0.009586762636899948, 0.013681814074516296, 0.0841706171631813, 0.0891781598329544, 0.10806843638420105, 0.1556078940629959, 0.3723684549331665, 0.02024948224425316, 0.0, 0.0, 0.0, 0.0, 0.0, 0.0, 0.0], [0.014838477596640587, 0.0005757323233410716, 0.004743658471852541, 0.00045677408343181014, 0.0007412281120195985, 0.0015000017592683434, 0.0008866077987477183, 0.000845208705868572, 0.00010359263978898525, 0.0009065146441571414, 0.0018096804851666093, 0.06029112637042999, 0.001537758274935186, 0.003307942533865571, 0.0013713688822463155, 0.0020826770924031734, 0.008643990382552147, 0.009088877588510513, 0.00776095874607563, 0.005808322690427303, 0.03386510908603668, 0.03987186402082443, 0.05374554172158241, 0.03694775328040123, 0.1225944384932518, 0.5718703866004944, 0.013804455287754536, 0.0, 0.0, 0.0, 0.0, 0.0, 0.0], [0.018570024520158768, 0.0012143207713961601, 0.001288043917156756, 0.001061257440596819, 0.000749006518162787, 0.0010485623497515917, 0.0008687872905284166, 0.0005973855732008815, 0.0012938290601596236, 0.0014042533002793789, 0.0011055112117901444, 0.0005003453115932643, 0.0020262652542442083, 0.002146311104297638, 0.0028737992979586124, 0.0026413751766085625, 0.005802977364510298, 0.008191368542611599, 0.008339079096913338, 0.005543299950659275, 0.026558708399534225, 0.03308926895260811, 0.03250741958618164, 0.09199871122837067, 0.10410477966070175, 0.16861791908740997, 0.20895420014858246, 0.2669031620025635, 0.0, 0.0, 0.0, 0.0, 0.0], [0.016654420644044876, 0.0007248663459904492, 0.0008980664424598217, 0.0031616853084415197, 0.0005522820283658803, 0.0016607267316430807, 0.0007486128015443683, 0.0009652789449319243, 0.000384279788704589, 0.002257776213809848, 0.0015545620117336512, 0.0007037004106678069, 0.0014688191004097462, 0.0027998785953968763, 0.003013979410752654, 0.005369042512029409, 0.006552338600158691, 0.00870156567543745, 0.007138863205909729, 0.006516320165246725, 0.026185546070337296, 0.03929199278354645, 0.031550075858831406, 0.024343043565750122, 0.10670775175094604, 0.1515979766845703, 0.13674208521842957, 0.3201395869255066, 0.09161484986543655, 0.0, 0.0, 0.0, 0.0], [0.0372268371284008, 0.0007442736532539129, 0.0019180311355739832, 0.001429063268005848, 0.0025597354397177696, 0.003292836481705308, 0.0009007257758639753, 0.0015445095486938953, 0.0003557216259650886, 0.00044927390990778804, 0.002668818226084113, 0.0014046647120267153, 0.0017281033797189593, 0.0045427363365888596, 0.0012941056629642844, 0.004677668213844299, 0.009138194844126701, 0.008992951363325119, 0.0053436607122421265, 0.002031835028901696, 0.03093087114393711, 0.02121531404554844, 0.03639973700046539, 0.0567946583032608, 0.11195959150791168, 0.011458093300461769, 0.03353286162018776, 0.26588523387908936, 0.24695423245429993, 0.09262564778327942, 0.0, 0.0, 0.0], [0.04408873990178108, 0.001108295749872923, 0.0033875899389386177, 0.004853195510804653, 0.0028643207624554634, 0.004500858020037413, 0.0014518101233989, 0.0021924918983131647, 0.000790236983448267, 0.0006717379437759519, 0.003577154828235507, 0.0005131779471412301, 0.012861717492341995, 0.005116847809404135, 0.00301425252109766, 0.005887455772608519, 0.01045341044664383, 0.013818355277180672, 0.008691033348441124, 0.011229267343878746, 0.03140091896057129, 0.023181673139333725, 0.03044438734650612, 0.03520683944225311, 0.09999873489141464, 0.006090162787586451, 0.1471419781446457, 0.16393029689788818, 0.1274951845407486, 0.1935778111219406, 0.00045999023132026196, 0.0, 0.0], [0.03717406466603279, 0.005006896331906319, 0.0016112306620925665, 0.0028301533311605453, 0.0005118505796417594, 0.002707129344344139, 0.002097028773277998, 0.0012328771408647299, 0.000631088565569371, 0.0017632483504712582, 0.0017868764698505402, 0.00025283306604251266, 0.001072075217962265, 0.0026448373682796955, 0.0015661581419408321, 0.0038084140978753567, 0.005276734475046396, 0.006930265109986067, 0.013310830108821392, 0.0035816472955048084, 0.018304530531167984, 0.026684774085879326, 0.019971521571278572, 0.03215579688549042, 0.07432041317224503, 0.02392229065299034, 0.08761470019817352, 0.1800754815340042, 0.027492590248584747, 0.05972244217991829, 0.19122694432735443, 0.16271232068538666, 0.0], [0.0081169493496418, 0.0008723067585378885, 0.0003707296564243734, 0.00047348588122986257, 0.00017833001038525254, 0.0003994701837655157, 0.0002951168571598828, 0.00018311940948478878, 0.0001671457284828648, 0.0002370249858358875, 0.0002533362421672791, 0.00012855026579927653, 0.0002021318068727851, 0.00039944922900758684, 0.00016511841386090964, 0.00046228693099692464, 0.0008780230418778956, 0.001114050392061472, 0.002070878865197301, 0.0019636787474155426, 0.0035278561990708113, 0.004475228022783995, 0.004463487770408392, 0.007312555331736803, 0.014446240849792957, 0.035030487924814224, 0.02001413330435753, 0.04388575628399849, 0.019436733797192574, 0.11325736343860626, 0.07277624309062958, 0.16196821630001068, 0.480474591255188]], [[1.0, 0.0, 0.0, 0.0, 0.0, 0.0, 0.0, 0.0, 0.0, 0.0, 0.0, 0.0, 0.0, 0.0, 0.0, 0.0, 0.0, 0.0, 0.0, 0.0, 0.0, 0.0, 0.0, 0.0, 0.0, 0.0, 0.0, 0.0, 0.0, 0.0, 0.0, 0.0, 0.0], [0.9473748207092285, 0.05262523144483566, 0.0, 0.0, 0.0, 0.0, 0.0, 0.0, 0.0, 0.0, 0.0, 0.0, 0.0, 0.0, 0.0, 0.0, 0.0, 0.0, 0.0, 0.0, 0.0, 0.0, 0.0, 0.0, 0.0, 0.0, 0.0, 0.0, 0.0, 0.0, 0.0, 0.0, 0.0], [0.8785885572433472, 0.05539466440677643, 0.06601685285568237, 0.0, 0.0, 0.0, 0.0, 0.0, 0.0, 0.0, 0.0, 0.0, 0.0, 0.0, 0.0, 0.0, 0.0, 0.0, 0.0, 0.0, 0.0, 0.0, 0.0, 0.0, 0.0, 0.0, 0.0, 0.0, 0.0, 0.0, 0.0, 0.0, 0.0], [0.727077066898346, 0.1370987594127655, 0.048660892993211746, 0.08716333657503128, 0.0, 0.0, 0.0, 0.0, 0.0, 0.0, 0.0, 0.0, 0.0, 0.0, 0.0, 0.0, 0.0, 0.0, 0.0, 0.0, 0.0, 0.0, 0.0, 0.0, 0.0, 0.0, 0.0, 0.0, 0.0, 0.0, 0.0, 0.0, 0.0], [0.4651745557785034, 0.1342930942773819, 0.1535816341638565, 0.1747255176305771, 0.07222519814968109, 0.0, 0.0, 0.0, 0.0, 0.0, 0.0, 0.0, 0.0, 0.0, 0.0, 0.0, 0.0, 0.0, 0.0, 0.0, 0.0, 0.0, 0.0, 0.0, 0.0, 0.0, 0.0, 0.0, 0.0, 0.0, 0.0, 0.0, 0.0], [0.1703597605228424, 0.011841950938105583, 0.02365085668861866, 0.021745821461081505, 0.025856342166662216, 0.7465452551841736, 0.0, 0.0, 0.0, 0.0, 0.0, 0.0, 0.0, 0.0, 0.0, 0.0, 0.0, 0.0, 0.0, 0.0, 0.0, 0.0, 0.0, 0.0, 0.0, 0.0, 0.0, 0.0, 0.0, 0.0, 0.0, 0.0, 0.0], [0.14214575290679932, 0.04383273422718048, 0.05021180957555771, 0.04516502097249031, 0.05872131511569023, 0.5111533999443054, 0.14876997470855713, 0.0, 0.0, 0.0, 0.0, 0.0, 0.0, 0.0, 0.0, 0.0, 0.0, 0.0, 0.0, 0.0, 0.0, 0.0, 0.0, 0.0, 0.0, 0.0, 0.0, 0.0, 0.0, 0.0, 0.0, 0.0, 0.0], [0.0847335085272789, 0.02036980912089348, 0.03746162727475166, 0.03195912018418312, 0.03419603034853935, 0.4350067675113678, 0.11894059181213379, 0.23733259737491608, 0.0, 0.0, 0.0, 0.0, 0.0, 0.0, 0.0, 0.0, 0.0, 0.0, 0.0, 0.0, 0.0, 0.0, 0.0, 0.0, 0.0, 0.0, 0.0, 0.0, 0.0, 0.0, 0.0, 0.0, 0.0], [0.3423079550266266, 0.0359363816678524, 0.0725921243429184, 0.10352759808301926, 0.0819653570652008, 0.07694564759731293, 0.1419631987810135, 0.09896717965602875, 0.04579457268118858, 0.0, 0.0, 0.0, 0.0, 0.0, 0.0, 0.0, 0.0, 0.0, 0.0, 0.0, 0.0, 0.0, 0.0, 0.0, 0.0, 0.0, 0.0, 0.0, 0.0, 0.0, 0.0, 0.0, 0.0], [0.3711485266685486, 0.06278746575117111, 0.05806948244571686, 0.05566274747252464, 0.13124845921993256, 0.07535633444786072, 0.10726626217365265, 0.07924019545316696, 0.030107315629720688, 0.029113244265317917, 0.0, 0.0, 0.0, 0.0, 0.0, 0.0, 0.0, 0.0, 0.0, 0.0, 0.0, 0.0, 0.0, 0.0, 0.0, 0.0, 0.0, 0.0, 0.0, 0.0, 0.0, 0.0, 0.0], [0.06430104374885559, 0.005169101990759373, 0.011012987233698368, 0.009054881520569324, 0.011748065240681171, 0.31885021924972534, 0.03684947267174721, 0.08319550007581711, 0.01206813845783472, 0.014676232822239399, 0.4330744445323944, 0.0, 0.0, 0.0, 0.0, 0.0, 0.0, 0.0, 0.0, 0.0, 0.0, 0.0, 0.0, 0.0, 0.0, 0.0, 0.0, 0.0, 0.0, 0.0, 0.0, 0.0, 0.0], [0.23777922987937927, 0.03813000023365021, 0.01974335126578808, 0.07508020848035812, 0.14420795440673828, 0.06244930252432823, 0.07018384337425232, 0.06523602455854416, 0.04883219301700592, 0.03460034728050232, 0.06439768522977829, 0.13935978710651398, 0.0, 0.0, 0.0, 0.0, 0.0, 0.0, 0.0, 0.0, 0.0, 0.0, 0.0, 0.0, 0.0, 0.0, 0.0, 0.0, 0.0, 0.0, 0.0, 0.0, 0.0], [0.29014477133750916, 0.040857672691345215, 0.06965620070695877, 0.06467732787132263, 0.11515603214502335, 0.07279440760612488, 0.054060399532318115, 0.04095996543765068, 0.036461230367422104, 0.037096962332725525, 0.0811215415596962, 0.06249447539448738, 0.034518953412771225, 0.0, 0.0, 0.0, 0.0, 0.0, 0.0, 0.0, 0.0, 0.0, 0.0, 0.0, 0.0, 0.0, 0.0, 0.0, 0.0, 0.0, 0.0, 0.0, 0.0], [0.04191606491804123, 0.0033880709670484066, 0.007082364521920681, 0.005899207666516304, 0.007586198393255472, 0.20389799773693085, 0.023296771571040154, 0.051730748265981674, 0.00781681202352047, 0.009731386788189411, 0.27760186791419983, 0.008386775851249695, 0.016172710806131363, 0.3354931175708771, 0.0, 0.0, 0.0, 0.0, 0.0, 0.0, 0.0, 0.0, 0.0, 0.0, 0.0, 0.0, 0.0, 0.0, 0.0, 0.0, 0.0, 0.0, 0.0], [0.1512935906648636, 0.04240791127085686, 0.043833762407302856, 0.09706755727529526, 0.14943552017211914, 0.044398851692676544, 0.06174501031637192, 0.041995156556367874, 0.018608788028359413, 0.031412456184625626, 0.050926465541124344, 0.06660289317369461, 0.09416215866804123, 0.05761292576789856, 0.04849696531891823, 0.0, 0.0, 0.0, 0.0, 0.0, 0.0, 0.0, 0.0, 0.0, 0.0, 0.0, 0.0, 0.0, 0.0, 0.0, 0.0, 0.0, 0.0], [0.29958024621009827, 0.07432068884372711, 0.030061928555369377, 0.01673646830022335, 0.038564808666706085, 0.051068805158138275, 0.09408663958311081, 0.056067947298288345, 0.05458229035139084, 0.045220427215099335, 0.056380681693553925, 0.015378046780824661, 0.04082851484417915, 0.06084692105650902, 0.030811050906777382, 0.03546448424458504, 0.0, 0.0, 0.0, 0.0, 0.0, 0.0, 0.0, 0.0, 0.0, 0.0, 0.0, 0.0, 0.0, 0.0, 0.0, 0.0, 0.0], [0.030439959838986397, 0.002493392676115036, 0.005298206582665443, 0.004223387688398361, 0.0055174445733428, 0.14508455991744995, 0.016034148633480072, 0.035986483097076416, 0.005758050363510847, 0.007398173213005066, 0.19613461196422577, 0.006090890150517225, 0.011465122923254967, 0.23737996816635132, 0.00803177896887064, 0.005861485376954079, 0.27680227160453796, 0.0, 0.0, 0.0, 0.0, 0.0, 0.0, 0.0, 0.0, 0.0, 0.0, 0.0, 0.0, 0.0, 0.0, 0.0, 0.0], [0.015668930485844612, 0.0019133486784994602, 0.00674793217331171, 0.005610878579318523, 0.006710361689329147, 0.10858526825904846, 0.013436981476843357, 0.030674796551465988, 0.008698043413460255, 0.005958770401775837, 0.15696407854557037, 0.006401264574378729, 0.01435719896107912, 0.19220460951328278, 0.009938821196556091, 0.008154564537107944, 0.22861403226852417, 0.17936016619205475, 0.0, 0.0, 0.0, 0.0, 0.0, 0.0, 0.0, 0.0, 0.0, 0.0, 0.0, 0.0, 0.0, 0.0, 0.0], [0.2751207947731018, 0.04635613411664963, 0.025782722979784012, 0.020371077582240105, 0.045191291719675064, 0.04741505905985832, 0.05800831690430641, 0.05449458956718445, 0.021855831146240234, 0.028674190863966942, 0.05054798722267151, 0.03578947111964226, 0.014344001188874245, 0.05505189299583435, 0.019970914348959923, 0.025070669129490852, 0.05983669310808182, 0.1059127002954483, 0.010205714963376522, 0.0, 0.0, 0.0, 0.0, 0.0, 0.0, 0.0, 0.0, 0.0, 0.0, 0.0, 0.0, 0.0, 0.0], [0.12210451811552048, 0.02900637499988079, 0.027926083654165268, 0.03076368011534214, 0.06431959569454193, 0.05075865983963013, 0.05746718496084213, 0.03854452446103096, 0.02881445735692978, 0.0364103689789772, 0.055306900292634964, 0.027555709704756737, 0.050623878836631775, 0.06039680168032646, 0.03790909796953201, 0.03416258841753006, 0.06550318747758865, 0.08224614709615707, 0.08903130888938904, 0.011148825287818909, 0.0, 0.0, 0.0, 0.0, 0.0, 0.0, 0.0, 0.0, 0.0, 0.0, 0.0, 0.0, 0.0], [0.019922729581594467, 0.0015991266118362546, 0.0035362697672098875, 0.0027606054209172726, 0.003674751380458474, 0.09198576211929321, 0.009868196211755276, 0.021762743592262268, 0.003674620296806097, 0.004800299648195505, 0.12327178567647934, 0.0039482275024056435, 0.007727703079581261, 0.14901939034461975, 0.0050945039838552475, 0.003849547589197755, 0.17433811724185944, 0.14503760635852814, 0.0031391808297485113, 0.003901564748957753, 0.2170872837305069, 0.0, 0.0, 0.0, 0.0, 0.0, 0.0, 0.0, 0.0, 0.0, 0.0, 0.0, 0.0], [0.025169141590595245, 0.0025891459081321955, 0.007904477417469025, 0.0028181772213429213, 0.0083174929022789, 0.06284768134355545, 0.01609736867249012, 0.02483358234167099, 0.00765803549438715, 0.01131708174943924, 0.08451002836227417, 0.012135408818721771, 0.02204837091267109, 0.10017247498035431, 0.015103300102055073, 0.020152265205979347, 0.11906805634498596, 0.14148972928524017, 0.00657665403559804, 0.007074063643813133, 0.1485065221786499, 0.153610959649086, 0.0, 0.0, 0.0, 0.0, 0.0, 0.0, 0.0, 0.0, 0.0, 0.0, 0.0], [0.08679643273353577, 0.015818683430552483, 0.009913157671689987, 0.005941122770309448, 0.011749113909900188, 0.044022489339113235, 0.04941156134009361, 0.04721161350607872, 0.022448504343628883, 0.028144169598817825, 0.05249370262026787, 0.013664904981851578, 0.038044530898332596, 0.05856487900018692, 0.016008736565709114, 0.028531771153211594, 0.06752396374940872, 0.10004053264856339, 0.02607448771595955, 0.01816525124013424, 0.08061441034078598, 0.1458839625120163, 0.03293200582265854, 0.0, 0.0, 0.0, 0.0, 0.0, 0.0, 0.0, 0.0, 0.0, 0.0], [0.12203321605920792, 0.02679692953824997, 0.03471270948648453, 0.01660086400806904, 0.05098600313067436, 0.03362346813082695, 0.033762890845537186, 0.03289441019296646, 0.02276359312236309, 0.03469543159008026, 0.03710823506116867, 0.027503035962581635, 0.030508050695061684, 0.04070489853620529, 0.019409820437431335, 0.03338812664151192, 0.04603785648941994, 0.08141946792602539, 0.025792937725782394, 0.017713351175189018, 0.05326377972960472, 0.0695522278547287, 0.07340097427368164, 0.03532780706882477, 0.0, 0.0, 0.0, 0.0, 0.0, 0.0, 0.0, 0.0, 0.0], [0.012632693164050579, 0.0031967288814485073, 0.008999618701636791, 0.003787107765674591, 0.0055902195163071156, 0.060187455266714096, 0.010173020884394646, 0.026063406839966774, 0.00828032847493887, 0.0059984405525028706, 0.08480238914489746, 0.007755732163786888, 0.014807659201323986, 0.10079340636730194, 0.011636022478342056, 0.007885100319981575, 0.12061368674039841, 0.12819869816303253, 0.006487110164016485, 0.003230569651350379, 0.15047506988048553, 0.10557695478200912, 0.015480595640838146, 0.019026318565011024, 0.07832162827253342, 0.0, 0.0, 0.0, 0.0, 0.0, 0.0, 0.0, 0.0], [0.11176057159900665, 0.018635565415024757, 0.056223683059215546, 0.0467727929353714, 0.03736492618918419, 0.022993413731455803, 0.0313652902841568, 0.026408877223730087, 0.043359216302633286, 0.05663559213280678, 0.0217863991856575, 0.02382213994860649, 0.03064168244600296, 0.023289259523153305, 0.05430492386221886, 0.06881183385848999, 0.024489378556609154, 0.047770898789167404, 0.03627174720168114, 0.02222253754734993, 0.026998931542038918, 0.021766120567917824, 0.03442491963505745, 0.0282402615994215, 0.058919183909893036, 0.024719830602407455, 0.0, 0.0, 0.0, 0.0, 0.0, 0.0, 0.0], [0.1063980758190155, 0.03710795193910599, 0.08273953944444656, 0.017856845632195473, 0.020950015634298325, 0.01830526441335678, 0.02262009307742119, 0.018192272633314133, 0.02185117080807686, 0.012518536299467087, 0.019214095547795296, 0.03034009411931038, 0.07187619060277939, 0.02078799158334732, 0.03963523730635643, 0.061515893787145615, 0.023179277777671814, 0.04398045316338539, 0.0461922213435173, 0.020667986944317818, 0.027080897241830826, 0.04386553540825844, 0.03276735916733742, 0.04369068518280983, 0.050808388739824295, 0.04029494896531105, 0.025563010945916176, 0.0, 0.0, 0.0, 0.0, 0.0, 0.0], [0.01508454978466034, 0.0038223834708333015, 0.005877264775335789, 0.004971850663423538, 0.0053701517172157764, 0.052236445248126984, 0.01612766645848751, 0.03182990849018097, 0.008211127482354641, 0.01147382240742445, 0.06704679876565933, 0.010528380051255226, 0.010598227381706238, 0.07938899099826813, 0.007211730349808931, 0.006271468009799719, 0.09142371267080307, 0.1086651161313057, 0.003973814193159342, 0.005621672607958317, 0.1098332330584526, 0.09237758815288544, 0.022960476577281952, 0.019314905628561974, 0.08864139020442963, 0.0184647049754858, 0.011022246442735195, 0.0916503295302391, 0.0, 0.0, 0.0, 0.0, 0.0], [0.09854131937026978, 0.03967060521245003, 0.0505213588476181, 0.047943901270627975, 0.01953188143670559, 0.015683403238654137, 0.025074763223528862, 0.01499791257083416, 0.027723459526896477, 0.016418179497122765, 0.016389019787311554, 0.026316557079553604, 0.03435928001999855, 0.017758000642061234, 0.023362671956419945, 0.03763515502214432, 0.019405599683523178, 0.03442170098423958, 0.04902298003435135, 0.03019053488969803, 0.02215905860066414, 0.037540651857852936, 0.038793131709098816, 0.040324144065380096, 0.04231259226799011, 0.06829201430082321, 0.025314103811979294, 0.04330075904726982, 0.03699526935815811, 0.0, 0.0, 0.0, 0.0], [0.10688813030719757, 0.036595795303583145, 0.00508309667930007, 0.010160425677895546, 0.013297362253069878, 0.04175209999084473, 0.026246802881360054, 0.03012857772409916, 0.013482403941452503, 0.018223198130726814, 0.04582624509930611, 0.025558803230524063, 0.015618828125298023, 0.050398923456668854, 0.011657020077109337, 0.01165913324803114, 0.05515511333942413, 0.050916627049446106, 0.019206807017326355, 0.013998420909047127, 0.06383469700813293, 0.029088908806443214, 0.01671043410897255, 0.026095261797308922, 0.05484985187649727, 0.03806673735380173, 0.03896068409085274, 0.05375228449702263, 0.023679165169596672, 0.05310814082622528, 0.0, 0.0, 0.0], [0.10871606320142746, 0.06286419183015823, 0.023045115172863007, 0.01249320711940527, 0.009688257239758968, 0.023720774799585342, 0.025617346167564392, 0.028282877057790756, 0.01952311024069786, 0.015187124721705914, 0.024615764617919922, 0.018855798989534378, 0.013071928173303604, 0.025697456672787666, 0.010639778338372707, 0.007336435839533806, 0.028488241136074066, 0.040875114500522614, 0.023693935945630074, 0.028460804373025894, 0.031781155616045, 0.033992115408182144, 0.016904514282941818, 0.04699753224849701, 0.05480918660759926, 0.0604817196726799, 0.021137826144695282, 0.05147767812013626, 0.015304338186979294, 0.07868864387273788, 0.03755193203687668, 0.0, 0.0], [0.16510620713233948, 0.013307337649166584, 0.022820327430963516, 0.032224975526332855, 0.02832780033349991, 0.01191212609410286, 0.021759120747447014, 0.012591337785124779, 0.025371307507157326, 0.01592348702251911, 0.011745056137442589, 0.021340150386095047, 0.022658515721559525, 0.012097002007067204, 0.058773938566446304, 0.04114297777414322, 0.012866119854152203, 0.0218967292457819, 0.027385743334889412, 0.01541272271424532, 0.014822264201939106, 0.013198776170611382, 0.02906012162566185, 0.04031304642558098, 0.02303692325949669, 0.050357941538095474, 0.04650065302848816, 0.03221074119210243, 0.045741353183984756, 0.011448166333138943, 0.051484834402799606, 0.047162242233753204, 0.0], [0.01986273191869259, 0.0006941379979252815, 0.0017670615343376994, 0.0019038202008232474, 0.002311578020453453, 0.05924389883875847, 0.005164950154721737, 0.008714551106095314, 0.002490669721737504, 0.0030579613521695137, 0.07585153728723526, 0.00239055254496634, 0.0031773485243320465, 0.08945116400718689, 0.003065295983105898, 0.0016209159512072802, 0.10312026739120483, 0.06259161233901978, 0.002058295765891671, 0.0022322172299027443, 0.12742048501968384, 0.02470386028289795, 0.003510192036628723, 0.004994173068553209, 0.028317110612988472, 0.005874196998775005, 0.006215323694050312, 0.03686564415693283, 0.005438116379082203, 0.004061862826347351, 0.004735517781227827, 0.004534380044788122, 0.29255858063697815]], [[1.0, 0.0, 0.0, 0.0, 0.0, 0.0, 0.0, 0.0, 0.0, 0.0, 0.0, 0.0, 0.0, 0.0, 0.0, 0.0, 0.0, 0.0, 0.0, 0.0, 0.0, 0.0, 0.0, 0.0, 0.0, 0.0, 0.0, 0.0, 0.0, 0.0, 0.0, 0.0, 0.0], [0.9726406931877136, 0.027359334751963615, 0.0, 0.0, 0.0, 0.0, 0.0, 0.0, 0.0, 0.0, 0.0, 0.0, 0.0, 0.0, 0.0, 0.0, 0.0, 0.0, 0.0, 0.0, 0.0, 0.0, 0.0, 0.0, 0.0, 0.0, 0.0, 0.0, 0.0, 0.0, 0.0, 0.0, 0.0], [0.8850567936897278, 0.081606425344944, 0.03333686664700508, 0.0, 0.0, 0.0, 0.0, 0.0, 0.0, 0.0, 0.0, 0.0, 0.0, 0.0, 0.0, 0.0, 0.0, 0.0, 0.0, 0.0, 0.0, 0.0, 0.0, 0.0, 0.0, 0.0, 0.0, 0.0, 0.0, 0.0, 0.0, 0.0, 0.0], [0.7844979166984558, 0.09046001732349396, 0.10720976442098618, 0.017832346260547638, 0.0, 0.0, 0.0, 0.0, 0.0, 0.0, 0.0, 0.0, 0.0, 0.0, 0.0, 0.0, 0.0, 0.0, 0.0, 0.0, 0.0, 0.0, 0.0, 0.0, 0.0, 0.0, 0.0, 0.0, 0.0, 0.0, 0.0, 0.0, 0.0], [0.6679065227508545, 0.10135097801685333, 0.10997921228408813, 0.06990877538919449, 0.05085447430610657, 0.0, 0.0, 0.0, 0.0, 0.0, 0.0, 0.0, 0.0, 0.0, 0.0, 0.0, 0.0, 0.0, 0.0, 0.0, 0.0, 0.0, 0.0, 0.0, 0.0, 0.0, 0.0, 0.0, 0.0, 0.0, 0.0, 0.0, 0.0], [0.5862790942192078, 0.06960924714803696, 0.06798023730516434, 0.060589615255594254, 0.08339764922857285, 0.13214410841464996, 0.0, 0.0, 0.0, 0.0, 0.0, 0.0, 0.0, 0.0, 0.0, 0.0, 0.0, 0.0, 0.0, 0.0, 0.0, 0.0, 0.0, 0.0, 0.0, 0.0, 0.0, 0.0, 0.0, 0.0, 0.0, 0.0, 0.0], [0.5015711784362793, 0.06227872893214226, 0.07209989428520203, 0.055909182876348495, 0.08146876096725464, 0.12033165991306305, 0.10634063184261322, 0.0, 0.0, 0.0, 0.0, 0.0, 0.0, 0.0, 0.0, 0.0, 0.0, 0.0, 0.0, 0.0, 0.0, 0.0, 0.0, 0.0, 0.0, 0.0, 0.0, 0.0, 0.0, 0.0, 0.0, 0.0, 0.0], [0.4001610577106476, 0.055253975093364716, 0.06347682327032089, 0.054137859493494034, 0.07119617611169815, 0.11230531334877014, 0.12489722669124603, 0.11857163906097412, 0.0, 0.0, 0.0, 0.0, 0.0, 0.0, 0.0, 0.0, 0.0, 0.0, 0.0, 0.0, 0.0, 0.0, 0.0, 0.0, 0.0, 0.0, 0.0, 0.0, 0.0, 0.0, 0.0, 0.0, 0.0], [0.40185338258743286, 0.08579415082931519, 0.056448809802532196, 0.07181122899055481, 0.08318912237882614, 0.07845645397901535, 0.09191881865262985, 0.0776887834072113, 0.05283929035067558, 0.0, 0.0, 0.0, 0.0, 0.0, 0.0, 0.0, 0.0, 0.0, 0.0, 0.0, 0.0, 0.0, 0.0, 0.0, 0.0, 0.0, 0.0, 0.0, 0.0, 0.0, 0.0, 0.0, 0.0], [0.38271600008010864, 0.07976949214935303, 0.06207750365138054, 0.06360233575105667, 0.08211024105548859, 0.07804953306913376, 0.08597434312105179, 0.07506489008665085, 0.0632784515619278, 0.02735721692442894, 0.0, 0.0, 0.0, 0.0, 0.0, 0.0, 0.0, 0.0, 0.0, 0.0, 0.0, 0.0, 0.0, 0.0, 0.0, 0.0, 0.0, 0.0, 0.0, 0.0, 0.0, 0.0, 0.0], [0.3404167592525482, 0.04535195976495743, 0.046589091420173645, 0.0403917022049427, 0.05489041283726692, 0.08179008215665817, 0.08906520158052444, 0.09645895659923553, 0.05564970523118973, 0.06398677825927734, 0.08540939539670944, 0.0, 0.0, 0.0, 0.0, 0.0, 0.0, 0.0, 0.0, 0.0, 0.0, 0.0, 0.0, 0.0, 0.0, 0.0, 0.0, 0.0, 0.0, 0.0, 0.0, 0.0, 0.0], [0.31186193227767944, 0.09539996832609177, 0.07292012870311737, 0.06976873427629471, 0.07777829468250275, 0.06735038757324219, 0.06161404401063919, 0.05481072887778282, 0.052520133554935455, 0.05022517964243889, 0.07299347966909409, 0.012756956741213799, 0.0, 0.0, 0.0, 0.0, 0.0, 0.0, 0.0, 0.0, 0.0, 0.0, 0.0, 0.0, 0.0, 0.0, 0.0, 0.0, 0.0, 0.0, 0.0, 0.0, 0.0], [0.36652857065200806, 0.06308671832084656, 0.039478447288274765, 0.046095266938209534, 0.05740755796432495, 0.063483327627182, 0.05238461121916771, 0.0550161749124527, 0.045840196311473846, 0.06228695437312126, 0.0658990889787674, 0.0580635704100132, 0.02442951686680317, 0.0, 0.0, 0.0, 0.0, 0.0, 0.0, 0.0, 0.0, 0.0, 0.0, 0.0, 0.0, 0.0, 0.0, 0.0, 0.0, 0.0, 0.0, 0.0, 0.0], [0.28564438223838806, 0.03804025799036026, 0.03942389413714409, 0.03423863276839256, 0.046393983066082, 0.06771662086248398, 0.07328075915575027, 0.07855431735515594, 0.047896649688482285, 0.0559365451335907, 0.07124946266412735, 0.03568923845887184, 0.04956044256687164, 0.07637480646371841, 0.0, 0.0, 0.0, 0.0, 0.0, 0.0, 0.0, 0.0, 0.0, 0.0, 0.0, 0.0, 0.0, 0.0, 0.0, 0.0, 0.0, 0.0, 0.0], [0.29775434732437134, 0.05259547010064125, 0.04347938299179077, 0.058458611369132996, 0.045687273144721985, 0.05259403958916664, 0.0445619635283947, 0.045974694192409515, 0.0631614699959755, 0.0776875838637352, 0.05499144271016121, 0.034664686769247055, 0.05020100250840187, 0.05886142700910568, 0.019326534122228622, 0.0, 0.0, 0.0, 0.0, 0.0, 0.0, 0.0, 0.0, 0.0, 0.0, 0.0, 0.0, 0.0, 0.0, 0.0, 0.0, 0.0, 0.0], [0.28853151202201843, 0.04616910219192505, 0.028233053162693977, 0.038242410868406296, 0.04330621287226677, 0.05174915865063667, 0.043182745575904846, 0.043931201100349426, 0.056163426488637924, 0.06773821264505386, 0.054901763796806335, 0.0813930481672287, 0.04325691610574722, 0.059048134833574295, 0.0398990623652935, 0.014254067093133926, 0.0, 0.0, 0.0, 0.0, 0.0, 0.0, 0.0, 0.0, 0.0, 0.0, 0.0, 0.0, 0.0, 0.0, 0.0, 0.0, 0.0], [0.23721373081207275, 0.031615808606147766, 0.033245645463466644, 0.02923193760216236, 0.038618121296167374, 0.055491674691438675, 0.05966499447822571, 0.06321782618761063, 0.04073699563741684, 0.0475267693400383, 0.05837823078036308, 0.03039965033531189, 0.04287159815430641, 0.06284618377685547, 0.05321291834115982, 0.047368962317705154, 0.06835903227329254, 0.0, 0.0, 0.0, 0.0, 0.0, 0.0, 0.0, 0.0, 0.0, 0.0, 0.0, 0.0, 0.0, 0.0, 0.0, 0.0], [0.20986966788768768, 0.027291255071759224, 0.03115660883486271, 0.026615004986524582, 0.031651128083467484, 0.05273226276040077, 0.0527450330555439, 0.05635902285575867, 0.040765464305877686, 0.04278238117694855, 0.056191232055425644, 0.03067825734615326, 0.043989624828100204, 0.06091475114226341, 0.05013694614171982, 0.041573166847229004, 0.06652859598398209, 0.07801958173513412, 0.0, 0.0, 0.0, 0.0, 0.0, 0.0, 0.0, 0.0, 0.0, 0.0, 0.0, 0.0, 0.0, 0.0, 0.0], [0.2385382503271103, 0.04414581507444382, 0.04643504321575165, 0.034512702375650406, 0.035721782594919205, 0.04369329661130905, 0.04304973781108856, 0.03498825430870056, 0.04371807724237442, 0.039521969854831696, 0.044578537344932556, 0.024599453434348106, 0.0625118613243103, 0.04753483086824417, 0.043756045401096344, 0.049959320574998856, 0.05090807005763054, 0.05266242474317551, 0.019164472818374634, 0.0, 0.0, 0.0, 0.0, 0.0, 0.0, 0.0, 0.0, 0.0, 0.0, 0.0, 0.0, 0.0, 0.0], [0.17729149758815765, 0.04221460223197937, 0.030818704515695572, 0.030886098742485046, 0.03386847302317619, 0.045211851596832275, 0.04290101304650307, 0.032215576618909836, 0.04018865525722504, 0.049268994480371475, 0.048016246408224106, 0.038142427802085876, 0.051265135407447815, 0.052068453282117844, 0.04744119569659233, 0.03924531489610672, 0.05630477890372276, 0.054629456251859665, 0.0599186085164547, 0.028102945536375046, 0.0, 0.0, 0.0, 0.0, 0.0, 0.0, 0.0, 0.0, 0.0, 0.0, 0.0, 0.0, 0.0], [0.19048283994197845, 0.02520347759127617, 0.026787452399730682, 0.0236726813018322, 0.03110402822494507, 0.043453436344861984, 0.046493303030729294, 0.048206478357315063, 0.03323279321193695, 0.038927529007196426, 0.04549147188663483, 0.02444273978471756, 0.035701580345630646, 0.04907768592238426, 0.04303566366434097, 0.03905563801527023, 0.05371744930744171, 0.0665896087884903, 0.043208252638578415, 0.03176470845937729, 0.060351256281137466, 0.0, 0.0, 0.0, 0.0, 0.0, 0.0, 0.0, 0.0, 0.0, 0.0, 0.0, 0.0], [0.1497536450624466, 0.023474568501114845, 0.02550838515162468, 0.02894243784248829, 0.035171572118997574, 0.03880190849304199, 0.04594280943274498, 0.03962728753685951, 0.03708779439330101, 0.03872302174568176, 0.041907187551259995, 0.02168804593384266, 0.04328257963061333, 0.045925430953502655, 0.03893953189253807, 0.040076110512018204, 0.05060019716620445, 0.06083054840564728, 0.04372159764170647, 0.03023521974682808, 0.05728614330291748, 0.06247400864958763, 0.0, 0.0, 0.0, 0.0, 0.0, 0.0, 0.0, 0.0, 0.0, 0.0, 0.0], [0.1751340627670288, 0.02751927822828293, 0.029514018446207047, 0.02071532793343067, 0.026873497292399406, 0.0345461443066597, 0.03853077441453934, 0.033037811517715454, 0.04181557893753052, 0.04010030999779701, 0.03696894645690918, 0.03046892210841179, 0.039953965693712234, 0.040237054228782654, 0.04482618719339371, 0.03708263859152794, 0.04420144110918045, 0.04931041970849037, 0.04125744104385376, 0.028610678389668465, 0.04997345060110092, 0.05269286036491394, 0.036629173904657364, 0.0, 0.0, 0.0, 0.0, 0.0, 0.0, 0.0, 0.0, 0.0, 0.0], [0.1328599601984024, 0.04070805385708809, 0.04111679643392563, 0.03484424948692322, 0.040876053273677826, 0.02756720967590809, 0.028293689712882042, 0.022520428523421288, 0.038754165172576904, 0.040378037840127945, 0.02908940613269806, 0.02960921637713909, 0.0567011684179306, 0.031181877478957176, 0.037661194801330566, 0.05688639357686043, 0.033967070281505585, 0.037813037633895874, 0.049514103680849075, 0.03194558992981911, 0.03759903833270073, 0.04326637089252472, 0.0430566743016243, 0.03379024192690849, 0.0, 0.0, 0.0, 0.0, 0.0, 0.0, 0.0, 0.0, 0.0], [0.14709371328353882, 0.018218712881207466, 0.022143613547086716, 0.021621381863951683, 0.02707289159297943, 0.0338541716337204, 0.03787611424922943, 0.03801965340971947, 0.027932504191994667, 0.030901852995157242, 0.03606923669576645, 0.019023124128580093, 0.0346580371260643, 0.03916987404227257, 0.0337555967271328, 0.026136618107557297, 0.04297829419374466, 0.053137440234422684, 0.03463505208492279, 0.02014029771089554, 0.048783596605062485, 0.04990804195404053, 0.046243928372859955, 0.047156691551208496, 0.06346959620714188, 0.0, 0.0, 0.0, 0.0, 0.0, 0.0, 0.0, 0.0], [0.17602789402008057, 0.01488215010613203, 0.02675115130841732, 0.024088047444820404, 0.03566746413707733, 0.027094293385744095, 0.024984261021018028, 0.021471869200468063, 0.026359375566244125, 0.023845132440328598, 0.027566969394683838, 0.01686953194439411, 0.07777433097362518, 0.029109226539731026, 0.04799696430563927, 0.02900250442326069, 0.03132336214184761, 0.03615597262978554, 0.0395955964922905, 0.01700800471007824, 0.03483906760811806, 0.03443719446659088, 0.04149220138788223, 0.09124384075403214, 0.0405229851603508, 0.0038906049448996782, 0.0, 0.0, 0.0, 0.0, 0.0, 0.0, 0.0], [0.18501749634742737, 0.027787014842033386, 0.025097619742155075, 0.02701900154352188, 0.02919919416308403, 0.03033701702952385, 0.03222176805138588, 0.023015063256025314, 0.026792846620082855, 0.0227938462048769, 0.030674844980239868, 0.021220838651061058, 0.053888075053691864, 0.032593000680208206, 0.030737657099962234, 0.02572525292634964, 0.03486604988574982, 0.03793581947684288, 0.028672024607658386, 0.026148967444896698, 0.03875335678458214, 0.04179506003856659, 0.03863156586885452, 0.053371526300907135, 0.039820726960897446, 0.025711627677083015, 0.010172725655138493, 0.0, 0.0, 0.0, 0.0, 0.0, 0.0], [0.12446331232786179, 0.016768906265497208, 0.020105108618736267, 0.01926703192293644, 0.02445780299603939, 0.030203357338905334, 0.03127393126487732, 0.03254605457186699, 0.023186009377241135, 0.023508405312895775, 0.031733203679323196, 0.017080510035157204, 0.02908206358551979, 0.034282177686691284, 0.035791296511888504, 0.025820551440119743, 0.037531159818172455, 0.0461825355887413, 0.029500005766749382, 0.017913803458213806, 0.04274729639291763, 0.04243471100926399, 0.03900240361690521, 0.041418369859457016, 0.05949500948190689, 0.035957347601652145, 0.03098485618829727, 0.05726281926035881, 0.0, 0.0, 0.0, 0.0, 0.0], [0.14491023123264313, 0.025843968614935875, 0.031176967546343803, 0.019462747499346733, 0.012575728818774223, 0.025274593383073807, 0.022020680829882622, 0.02126728743314743, 0.03165541961789131, 0.027664165943861008, 0.026251591742038727, 0.022091031074523926, 0.03851795569062233, 0.028266888111829758, 0.02887762524187565, 0.03686535730957985, 0.030699949711561203, 0.03204503655433655, 0.03411628678441048, 0.020355412736535072, 0.034463152289390564, 0.035428646951913834, 0.030728397890925407, 0.04441896453499794, 0.037935979664325714, 0.05734870210289955, 0.03889698535203934, 0.041112061589956284, 0.019728194922208786, 0.0, 0.0, 0.0, 0.0], [0.1316843032836914, 0.02546011283993721, 0.027962397783994675, 0.024109840393066406, 0.01686881296336651, 0.03140678256750107, 0.023247335106134415, 0.02207169495522976, 0.027362510561943054, 0.026370462030172348, 0.03204535320401192, 0.028775809332728386, 0.046142030507326126, 0.03455979749560356, 0.03132108971476555, 0.029437748715281487, 0.03749066963791847, 0.03597423434257507, 0.030671004205942154, 0.026778308674693108, 0.04166236147284508, 0.03274397924542427, 0.030348777770996094, 0.032651979476213455, 0.03805651143193245, 0.03457561880350113, 0.02293611876666546, 0.036903265863657, 0.02596619352698326, 0.014414899051189423, 0.0, 0.0, 0.0], [0.1656370609998703, 0.022809233516454697, 0.029107753187417984, 0.024944664910435677, 0.02435287833213806, 0.025031818076968193, 0.018486661836504936, 0.018573669716715813, 0.02844364196062088, 0.02919992059469223, 0.025318216532468796, 0.03220497444272041, 0.02575330063700676, 0.02689053863286972, 0.03127394989132881, 0.0330515056848526, 0.028835458680987358, 0.02991044707596302, 0.0275588221848011, 0.024624645709991455, 0.0320536270737648, 0.02649376168847084, 0.02170960046350956, 0.03164016827940941, 0.03707476332783699, 0.0479947030544281, 0.02793215960264206, 0.03475610911846161, 0.038049470633268356, 0.02153567411005497, 0.008750846609473228, 0.0, 0.0], [0.16794219613075256, 0.02598346583545208, 0.03222336992621422, 0.0194693673402071, 0.02373526431620121, 0.023115718737244606, 0.019973617047071457, 0.01655023917555809, 0.029796786606311798, 0.028494685888290405, 0.023108841851353645, 0.02208705060184002, 0.042165569961071014, 0.02439018152654171, 0.020749151706695557, 0.03873586282134056, 0.026269786059856415, 0.027289122343063354, 0.019617389887571335, 0.0202428437769413, 0.029203226789832115, 0.030413363128900528, 0.025762615725398064, 0.04084983095526695, 0.0333266519010067, 0.021795323118567467, 0.026310523971915245, 0.03101348504424095, 0.0368926078081131, 0.019377166405320168, 0.04355606436729431, 0.009558655321598053, 0.0], [0.11396829038858414, 0.01775287464261055, 0.01606195978820324, 0.015585053712129593, 0.01839611306786537, 0.0243670791387558, 0.026053884997963905, 0.023999113589525223, 0.021919477730989456, 0.02625112235546112, 0.02473054826259613, 0.01532301027327776, 0.025614578276872635, 0.026337888091802597, 0.024982871487736702, 0.02464262768626213, 0.028590310364961624, 0.032951533794403076, 0.027568623423576355, 0.01848754473030567, 0.032208528369665146, 0.03191469609737396, 0.03630724921822548, 0.034154023975133896, 0.03678559511899948, 0.032977718859910965, 0.026278888806700706, 0.03809892386198044, 0.029801951721310616, 0.018183251842856407, 0.03632069006562233, 0.035680923610925674, 0.057703107595443726]], [[1.0, 0.0, 0.0, 0.0, 0.0, 0.0, 0.0, 0.0, 0.0, 0.0, 0.0, 0.0, 0.0, 0.0, 0.0, 0.0, 0.0, 0.0, 0.0, 0.0, 0.0, 0.0, 0.0, 0.0, 0.0, 0.0, 0.0, 0.0, 0.0, 0.0, 0.0, 0.0, 0.0], [0.8058417439460754, 0.19415824115276337, 0.0, 0.0, 0.0, 0.0, 0.0, 0.0, 0.0, 0.0, 0.0, 0.0, 0.0, 0.0, 0.0, 0.0, 0.0, 0.0, 0.0, 0.0, 0.0, 0.0, 0.0, 0.0, 0.0, 0.0, 0.0, 0.0, 0.0, 0.0, 0.0, 0.0, 0.0], [0.6373865604400635, 0.09672050178050995, 0.26589298248291016, 0.0, 0.0, 0.0, 0.0, 0.0, 0.0, 0.0, 0.0, 0.0, 0.0, 0.0, 0.0, 0.0, 0.0, 0.0, 0.0, 0.0, 0.0, 0.0, 0.0, 0.0, 0.0, 0.0, 0.0, 0.0, 0.0, 0.0, 0.0, 0.0, 0.0], [0.5870265364646912, 0.09922722727060318, 0.07913830131292343, 0.234607994556427, 0.0, 0.0, 0.0, 0.0, 0.0, 0.0, 0.0, 0.0, 0.0, 0.0, 0.0, 0.0, 0.0, 0.0, 0.0, 0.0, 0.0, 0.0, 0.0, 0.0, 0.0, 0.0, 0.0, 0.0, 0.0, 0.0, 0.0, 0.0, 0.0], [0.4194737672805786, 0.06312591582536697, 0.08123066276311874, 0.08381503075361252, 0.35235467553138733, 0.0, 0.0, 0.0, 0.0, 0.0, 0.0, 0.0, 0.0, 0.0, 0.0, 0.0, 0.0, 0.0, 0.0, 0.0, 0.0, 0.0, 0.0, 0.0, 0.0, 0.0, 0.0, 0.0, 0.0, 0.0, 0.0, 0.0, 0.0], [0.530853271484375, 0.0959072858095169, 0.07779336720705032, 0.06661548465490341, 0.07293294370174408, 0.15589764714241028, 0.0, 0.0, 0.0, 0.0, 0.0, 0.0, 0.0, 0.0, 0.0, 0.0, 0.0, 0.0, 0.0, 0.0, 0.0, 0.0, 0.0, 0.0, 0.0, 0.0, 0.0, 0.0, 0.0, 0.0, 0.0, 0.0, 0.0], [0.38503071665763855, 0.0747809037566185, 0.06978146731853485, 0.04760655015707016, 0.05144914984703064, 0.08776705712080002, 0.2835841178894043, 0.0, 0.0, 0.0, 0.0, 0.0, 0.0, 0.0, 0.0, 0.0, 0.0, 0.0, 0.0, 0.0, 0.0, 0.0, 0.0, 0.0, 0.0, 0.0, 0.0, 0.0, 0.0, 0.0, 0.0, 0.0, 0.0], [0.2962956428527832, 0.05328267812728882, 0.06944747269153595, 0.040975481271743774, 0.06660831719636917, 0.1021856963634491, 0.10869500041007996, 0.2625097334384918, 0.0, 0.0, 0.0, 0.0, 0.0, 0.0, 0.0, 0.0, 0.0, 0.0, 0.0, 0.0, 0.0, 0.0, 0.0, 0.0, 0.0, 0.0, 0.0, 0.0, 0.0, 0.0, 0.0, 0.0, 0.0], [0.30475011467933655, 0.06337985396385193, 0.05753421038389206, 0.04057718813419342, 0.07300139218568802, 0.07375829666852951, 0.07239889353513718, 0.05693603679537773, 0.2576640248298645, 0.0, 0.0, 0.0, 0.0, 0.0, 0.0, 0.0, 0.0, 0.0, 0.0, 0.0, 0.0, 0.0, 0.0, 0.0, 0.0, 0.0, 0.0, 0.0, 0.0, 0.0, 0.0, 0.0, 0.0], [0.2988077402114868, 0.05552823841571808, 0.054435960948467255, 0.05285302549600601, 0.06568749248981476, 0.07554222643375397, 0.06968103349208832, 0.054113876074552536, 0.09120788425207138, 0.18214258551597595, 0.0, 0.0, 0.0, 0.0, 0.0, 0.0, 0.0, 0.0, 0.0, 0.0, 0.0, 0.0, 0.0, 0.0, 0.0, 0.0, 0.0, 0.0, 0.0, 0.0, 0.0, 0.0, 0.0], [0.26933014392852783, 0.0635242909193039, 0.05952121689915657, 0.052424702793359756, 0.060521576553583145, 0.12185831367969513, 0.07608654350042343, 0.09753073006868362, 0.04232608154416084, 0.05058328062295914, 0.10629312694072723, 0.0, 0.0, 0.0, 0.0, 0.0, 0.0, 0.0, 0.0, 0.0, 0.0, 0.0, 0.0, 0.0, 0.0, 0.0, 0.0, 0.0, 0.0, 0.0, 0.0, 0.0, 0.0], [0.22074300050735474, 0.06960075348615646, 0.04872346669435501, 0.0667571872472763, 0.06954211741685867, 0.06483787298202515, 0.046523742377758026, 0.03930084407329559, 0.018016088753938675, 0.0358063168823719, 0.05302288755774498, 0.26712578535079956, 0.0, 0.0, 0.0, 0.0, 0.0, 0.0, 0.0, 0.0, 0.0, 0.0, 0.0, 0.0, 0.0, 0.0, 0.0, 0.0, 0.0, 0.0, 0.0, 0.0, 0.0], [0.1508006453514099, 0.04732473939657211, 0.12551112473011017, 0.062400802969932556, 0.05354631692171097, 0.0557839460670948, 0.045426126569509506, 0.03888601064682007, 0.030199822038412094, 0.03337055817246437, 0.04645955562591553, 0.023437924683094025, 0.2868524193763733, 0.0, 0.0, 0.0, 0.0, 0.0, 0.0, 0.0, 0.0, 0.0, 0.0, 0.0, 0.0, 0.0, 0.0, 0.0, 0.0, 0.0, 0.0, 0.0, 0.0], [0.2044883519411087, 0.04972049966454506, 0.048385463654994965, 0.04385359212756157, 0.05115719139575958, 0.1007489264011383, 0.06420682370662689, 0.08302562683820724, 0.03880453109741211, 0.04795774817466736, 0.09582383185625076, 0.03239702060818672, 0.04441105201840401, 0.09501936286687851, 0.0, 0.0, 0.0, 0.0, 0.0, 0.0, 0.0, 0.0, 0.0, 0.0, 0.0, 0.0, 0.0, 0.0, 0.0, 0.0, 0.0, 0.0, 0.0], [0.16236740350723267, 0.028519172221422195, 0.04784306511282921, 0.04135481268167496, 0.04028485715389252, 0.05200536176562309, 0.042265068739652634, 0.03821168839931488, 0.05986882001161575, 0.06849400699138641, 0.047342803329229355, 0.019715163856744766, 0.062022268772125244, 0.04572191461920738, 0.24398353695869446, 0.0, 0.0, 0.0, 0.0, 0.0, 0.0, 0.0, 0.0, 0.0, 0.0, 0.0, 0.0, 0.0, 0.0, 0.0, 0.0, 0.0, 0.0], [0.1312893033027649, 0.03962809965014458, 0.05951939523220062, 0.039663225412368774, 0.04406355321407318, 0.04348496347665787, 0.037265483289957047, 0.032400358468294144, 0.03720574453473091, 0.06481602042913437, 0.040474552661180496, 0.02591424062848091, 0.06507597118616104, 0.03922511264681816, 0.07744196057319641, 0.2225319743156433, 0.0, 0.0, 0.0, 0.0, 0.0, 0.0, 0.0, 0.0, 0.0, 0.0, 0.0, 0.0, 0.0, 0.0, 0.0, 0.0, 0.0], [0.15813341736793518, 0.03911250829696655, 0.038564953953027725, 0.03587969020009041, 0.04187794029712677, 0.08161000907421112, 0.052458059042692184, 0.0681268647313118, 0.034448061138391495, 0.043427519500255585, 0.08275998383760452, 0.02933339588344097, 0.04157378524541855, 0.08478686958551407, 0.048815999180078506, 0.03235284239053726, 0.08673813939094543, 0.0, 0.0, 0.0, 0.0, 0.0, 0.0, 0.0, 0.0, 0.0, 0.0, 0.0, 0.0, 0.0, 0.0, 0.0, 0.0], [0.13890592753887177, 0.031696319580078125, 0.03251555562019348, 0.03538899123668671, 0.038000334054231644, 0.06974425166845322, 0.059424541890621185, 0.06768239289522171, 0.027843819931149483, 0.03905468434095383, 0.07273106276988983, 0.030109871178865433, 0.04163092002272606, 0.07565011829137802, 0.04018832743167877, 0.02748362347483635, 0.0779590830206871, 0.09399019926786423, 0.0, 0.0, 0.0, 0.0, 0.0, 0.0, 0.0, 0.0, 0.0, 0.0, 0.0, 0.0, 0.0, 0.0, 0.0], [0.0969129130244255, 0.030687298625707626, 0.030817948281764984, 0.044734321534633636, 0.04171941056847572, 0.03603675588965416, 0.04101702570915222, 0.03210475295782089, 0.04344061389565468, 0.04885553941130638, 0.03457900881767273, 0.01602509431540966, 0.04994165152311325, 0.0346352718770504, 0.06065686047077179, 0.03497787564992905, 0.034543417394161224, 0.03782793506979942, 0.25048622488975525, 0.0, 0.0, 0.0, 0.0, 0.0, 0.0, 0.0, 0.0, 0.0, 0.0, 0.0, 0.0, 0.0, 0.0], [0.1205921471118927, 0.04121064022183418, 0.050985176116228104, 0.05289151519536972, 0.02886129729449749, 0.047061994671821594, 0.02921283431351185, 0.03817001357674599, 0.021046485751867294, 0.029787804931402206, 0.044067222625017166, 0.02650335058569908, 0.04127003625035286, 0.044307366013526917, 0.030801547691226006, 0.04064902663230896, 0.04474511370062828, 0.042122453451156616, 0.02844228409230709, 0.1972716897726059, 0.0, 0.0, 0.0, 0.0, 0.0, 0.0, 0.0, 0.0, 0.0, 0.0, 0.0, 0.0, 0.0], [0.11388303339481354, 0.028255395591259003, 0.02835128828883171, 0.02695867046713829, 0.03131086006760597, 0.05977547541260719, 0.039182148873806, 0.05072041228413582, 0.027684014290571213, 0.03556423634290695, 0.06452134251594543, 0.024267099797725677, 0.036164939403533936, 0.06838168948888779, 0.04139302298426628, 0.0290946364402771, 0.072300486266613, 0.07349381595849991, 0.03700020909309387, 0.0352863147854805, 0.07641095668077469, 0.0, 0.0, 0.0, 0.0, 0.0, 0.0, 0.0, 0.0, 0.0, 0.0, 0.0, 0.0], [0.08453850448131561, 0.01741660200059414, 0.018949145451188087, 0.016560647636651993, 0.022296123206615448, 0.04174060374498367, 0.05894862860441208, 0.03893361613154411, 0.030214650556445122, 0.03464234992861748, 0.048319023102521896, 0.016358429566025734, 0.025674564763903618, 0.053096748888492584, 0.02054653689265251, 0.020469840615987778, 0.05704639479517937, 0.06604909896850586, 0.03774646669626236, 0.021413877606391907, 0.06129929795861244, 0.20773889124393463, 0.0, 0.0, 0.0, 0.0, 0.0, 0.0, 0.0, 0.0, 0.0, 0.0, 0.0], [0.11248438060283661, 0.024394838139414787, 0.02452315390110016, 0.027489569038152695, 0.02610466443002224, 0.03731504827737808, 0.06748532503843307, 0.03890376165509224, 0.01798144169151783, 0.028454406186938286, 0.03756532818078995, 0.018326081335544586, 0.020088665187358856, 0.0386517159640789, 0.023285653442144394, 0.024226617068052292, 0.039606112986803055, 0.04833189770579338, 0.04500094801187515, 0.01736215129494667, 0.04009140655398369, 0.05208288133144379, 0.19024400413036346, 0.0, 0.0, 0.0, 0.0, 0.0, 0.0, 0.0, 0.0, 0.0, 0.0], [0.08183356374502182, 0.019828444346785545, 0.026873387396335602, 0.029252557083964348, 0.025184432044625282, 0.03192771598696709, 0.02904978021979332, 0.02497250773012638, 0.033506255596876144, 0.040074292570352554, 0.03351731225848198, 0.016035988926887512, 0.032044533640146255, 0.034480638802051544, 0.028517091646790504, 0.035327307879924774, 0.03583226725459099, 0.040583956986665726, 0.029941098764538765, 0.02109791710972786, 0.03671329468488693, 0.03921259194612503, 0.03543240576982498, 0.2387605607509613, 0.0, 0.0, 0.0, 0.0, 0.0, 0.0, 0.0, 0.0, 0.0], [0.1014569103717804, 0.014237040653824806, 0.016984179615974426, 0.01863657310605049, 0.028536241501569748, 0.03653803467750549, 0.029570508748292923, 0.04198320209980011, 0.01416604034602642, 0.030081408098340034, 0.040166404098272324, 0.020075026899576187, 0.030370129272341728, 0.043534405529499054, 0.030393028631806374, 0.020717348903417587, 0.04677111282944679, 0.054951027035713196, 0.02880917675793171, 0.020043693482875824, 0.05092544108629227, 0.04084467887878418, 0.041858017444610596, 0.038489796221256256, 0.15986062586307526, 0.0, 0.0, 0.0, 0.0, 0.0, 0.0, 0.0, 0.0], [0.07937923818826675, 0.02067429944872856, 0.020799754187464714, 0.027988236397504807, 0.04565476253628731, 0.026562586426734924, 0.025396712124347687, 0.021243253722786903, 0.01776379719376564, 0.025200648233294487, 0.027576467022299767, 0.030607076361775398, 0.0343799963593483, 0.028568310663104057, 0.022726938128471375, 0.016051949933171272, 0.02971273846924305, 0.032761797308921814, 0.025702396407723427, 0.012878880836069584, 0.030626121908426285, 0.020369654521346092, 0.03741390258073807, 0.027850372716784477, 0.03571850433945656, 0.27639156579971313, 0.0, 0.0, 0.0, 0.0, 0.0, 0.0, 0.0], [0.09605436027050018, 0.023092886433005333, 0.024199653416872025, 0.024974144995212555, 0.03682964667677879, 0.030014395713806152, 0.021069223061203957, 0.018117524683475494, 0.022569265216588974, 0.02834322676062584, 0.030505141243338585, 0.021707670763134956, 0.02821178175508976, 0.03163941577076912, 0.03916612267494202, 0.036273662000894547, 0.03311571478843689, 0.03514396399259567, 0.025745244696736336, 0.015889009460806847, 0.03467545285820961, 0.026770083233714104, 0.027143443003296852, 0.0404508076608181, 0.03760383650660515, 0.03232335299253464, 0.17837098240852356, 0.0, 0.0, 0.0, 0.0, 0.0, 0.0], [0.07476936280727386, 0.011021512560546398, 0.010706557892262936, 0.015325459651648998, 0.01990356110036373, 0.03285866603255272, 0.021936073899269104, 0.02945413440465927, 0.016421504318714142, 0.022476596757769585, 0.03722343221306801, 0.017580227926373482, 0.021954156458377838, 0.040462154895067215, 0.0314154215157032, 0.010417776182293892, 0.04429737851023674, 0.05118124559521675, 0.029565557837486267, 0.015394331887364388, 0.049064259976148605, 0.03202195465564728, 0.030905095860362053, 0.04132054001092911, 0.06578273326158524, 0.039784032851457596, 0.020499693229794502, 0.16625656187534332, 0.0, 0.0, 0.0, 0.0, 0.0], [0.05124204233288765, 0.01139002200216055, 0.02026580274105072, 0.02452964521944523, 0.12732438743114471, 0.020083896815776825, 0.017692742869257927, 0.020381979644298553, 0.018548617139458656, 0.023206070065498352, 0.021026067435741425, 0.02052122913300991, 0.02521073818206787, 0.021994251757860184, 0.017190465703606606, 0.02080591209232807, 0.023035308346152306, 0.026458045467734337, 0.03108612820506096, 0.011454468593001366, 0.024357980117201805, 0.022524960339069366, 0.02460077591240406, 0.02458801120519638, 0.02838081866502762, 0.04660612344741821, 0.0436270572245121, 0.020300477743148804, 0.2115659862756729, 0.0, 0.0, 0.0, 0.0], [0.079292893409729, 0.023537376895546913, 0.022847287356853485, 0.01993604190647602, 0.015462879091501236, 0.025110295042395592, 0.02142905443906784, 0.015073493123054504, 0.009924099780619144, 0.015724755823612213, 0.02718871273100376, 0.020747292786836624, 0.03497635945677757, 0.029102323576807976, 0.02121902070939541, 0.01814761757850647, 0.031058194115757942, 0.033809494227170944, 0.020137568935751915, 0.012323126196861267, 0.0336926206946373, 0.02433612570166588, 0.031084518879652023, 0.03377702832221985, 0.04355441778898239, 0.03296351432800293, 0.03314928337931633, 0.025364913046360016, 0.02216368354856968, 0.2228660136461258, 0.0, 0.0, 0.0], [0.10059650987386703, 0.030963746830821037, 0.025578506290912628, 0.02022407203912735, 0.027132976800203323, 0.0294907558709383, 0.0407448373734951, 0.021403614431619644, 0.016392607241868973, 0.022520704194903374, 0.027555184438824654, 0.013599202036857605, 0.027306705713272095, 0.027806587517261505, 0.011214183643460274, 0.023586541414260864, 0.02839917689561844, 0.03066890686750412, 0.0216642078012228, 0.01703231781721115, 0.02905159629881382, 0.026549940928816795, 0.032975535839796066, 0.026790326461195946, 0.032060641795396805, 0.027298325672745705, 0.017307184636592865, 0.018768832087516785, 0.028226522728800774, 0.0170851219445467, 0.18000461161136627, 0.0, 0.0], [0.08361605554819107, 0.016581883653998375, 0.015823297202587128, 0.022005168721079826, 0.02406254969537258, 0.021028298884630203, 0.022811297327280045, 0.01441239658743143, 0.015572091564536095, 0.015104835852980614, 0.020917735993862152, 0.021798167377710342, 0.02598598785698414, 0.022013206034898758, 0.022025061771273613, 0.018091224133968353, 0.023115109652280807, 0.02545180544257164, 0.02594352513551712, 0.011241883970797062, 0.024466169998049736, 0.02286989986896515, 0.031613439321517944, 0.029542675241827965, 0.02381790429353714, 0.029349027201533318, 0.025922639295458794, 0.017268192023038864, 0.0318446010351181, 0.012037737295031548, 0.027524927631020546, 0.25614121556282043, 0.0], [0.05258440598845482, 0.012508378364145756, 0.012737673707306385, 0.012144203297793865, 0.014467816799879074, 0.02481244131922722, 0.017109142616391182, 0.025162560865283012, 0.016298964619636536, 0.0151600893586874, 0.0298200324177742, 0.014290270395576954, 0.024094797670841217, 0.033742766827344894, 0.021632259711623192, 0.018924105912446976, 0.03819214925169945, 0.04115182161331177, 0.024165762588381767, 0.020635634660720825, 0.044185321778059006, 0.03793708607554436, 0.029636342078447342, 0.03152840584516525, 0.04542306810617447, 0.035963598638772964, 0.03048253059387207, 0.04609917476773262, 0.03206764534115791, 0.01766294054687023, 0.03169601410627365, 0.044629111886024475, 0.10305342078208923]], [[1.0, 0.0, 0.0, 0.0, 0.0, 0.0, 0.0, 0.0, 0.0, 0.0, 0.0, 0.0, 0.0, 0.0, 0.0, 0.0, 0.0, 0.0, 0.0, 0.0, 0.0, 0.0, 0.0, 0.0, 0.0, 0.0, 0.0, 0.0, 0.0, 0.0, 0.0, 0.0, 0.0], [0.7707713842391968, 0.22922863066196442, 0.0, 0.0, 0.0, 0.0, 0.0, 0.0, 0.0, 0.0, 0.0, 0.0, 0.0, 0.0, 0.0, 0.0, 0.0, 0.0, 0.0, 0.0, 0.0, 0.0, 0.0, 0.0, 0.0, 0.0, 0.0, 0.0, 0.0, 0.0, 0.0, 0.0, 0.0], [0.7813623547554016, 0.10978531092405319, 0.1088523417711258, 0.0, 0.0, 0.0, 0.0, 0.0, 0.0, 0.0, 0.0, 0.0, 0.0, 0.0, 0.0, 0.0, 0.0, 0.0, 0.0, 0.0, 0.0, 0.0, 0.0, 0.0, 0.0, 0.0, 0.0, 0.0, 0.0, 0.0, 0.0, 0.0, 0.0], [0.5350390076637268, 0.11194941401481628, 0.15013688802719116, 0.20287464559078217, 0.0, 0.0, 0.0, 0.0, 0.0, 0.0, 0.0, 0.0, 0.0, 0.0, 0.0, 0.0, 0.0, 0.0, 0.0, 0.0, 0.0, 0.0, 0.0, 0.0, 0.0, 0.0, 0.0, 0.0, 0.0, 0.0, 0.0, 0.0, 0.0], [0.4180358648300171, 0.16036377847194672, 0.10740306228399277, 0.10625774413347244, 0.2079395353794098, 0.0, 0.0, 0.0, 0.0, 0.0, 0.0, 0.0, 0.0, 0.0, 0.0, 0.0, 0.0, 0.0, 0.0, 0.0, 0.0, 0.0, 0.0, 0.0, 0.0, 0.0, 0.0, 0.0, 0.0, 0.0, 0.0, 0.0, 0.0], [0.4349866211414337, 0.09579859673976898, 0.08251800388097763, 0.10028503835201263, 0.15332913398742676, 0.13308259844779968, 0.0, 0.0, 0.0, 0.0, 0.0, 0.0, 0.0, 0.0, 0.0, 0.0, 0.0, 0.0, 0.0, 0.0, 0.0, 0.0, 0.0, 0.0, 0.0, 0.0, 0.0, 0.0, 0.0, 0.0, 0.0, 0.0, 0.0], [0.44621357321739197, 0.056242138147354126, 0.050402987748384476, 0.0708429217338562, 0.09360906481742859, 0.11472626030445099, 0.16796304285526276, 0.0, 0.0, 0.0, 0.0, 0.0, 0.0, 0.0, 0.0, 0.0, 0.0, 0.0, 0.0, 0.0, 0.0, 0.0, 0.0, 0.0, 0.0, 0.0, 0.0, 0.0, 0.0, 0.0, 0.0, 0.0, 0.0], [0.36091944575309753, 0.07294466346502304, 0.05191006883978844, 0.07159049063920975, 0.09321668744087219, 0.0954366996884346, 0.14539913833141327, 0.1085827648639679, 0.0, 0.0, 0.0, 0.0, 0.0, 0.0, 0.0, 0.0, 0.0, 0.0, 0.0, 0.0, 0.0, 0.0, 0.0, 0.0, 0.0, 0.0, 0.0, 0.0, 0.0, 0.0, 0.0, 0.0, 0.0], [0.31714072823524475, 0.07683128118515015, 0.055522847920656204, 0.06445365399122238, 0.08586595207452774, 0.10643257945775986, 0.14521123468875885, 0.09439338743686676, 0.05414832383394241, 0.0, 0.0, 0.0, 0.0, 0.0, 0.0, 0.0, 0.0, 0.0, 0.0, 0.0, 0.0, 0.0, 0.0, 0.0, 0.0, 0.0, 0.0, 0.0, 0.0, 0.0, 0.0, 0.0, 0.0], [0.19288602471351624, 0.11343870311975479, 0.0453050471842289, 0.08361201733350754, 0.05763270705938339, 0.11914201825857162, 0.11441227048635483, 0.12364513427019119, 0.07640960067510605, 0.07351641356945038, 0.0, 0.0, 0.0, 0.0, 0.0, 0.0, 0.0, 0.0, 0.0, 0.0, 0.0, 0.0, 0.0, 0.0, 0.0, 0.0, 0.0, 0.0, 0.0, 0.0, 0.0, 0.0, 0.0], [0.2517409026622772, 0.06019412353634834, 0.049302104860544205, 0.0592232421040535, 0.08453337103128433, 0.07307685911655426, 0.12308555841445923, 0.08293969184160233, 0.06380269676446915, 0.07185838371515274, 0.08024310320615768, 0.0, 0.0, 0.0, 0.0, 0.0, 0.0, 0.0, 0.0, 0.0, 0.0, 0.0, 0.0, 0.0, 0.0, 0.0, 0.0, 0.0, 0.0, 0.0, 0.0, 0.0, 0.0], [0.24793602526187897, 0.04855773225426674, 0.06171692535281181, 0.06616784632205963, 0.0878860279917717, 0.05920387804508209, 0.09128588438034058, 0.06866816431283951, 0.06062862649559975, 0.08399353921413422, 0.0656941756606102, 0.05826117843389511, 0.0, 0.0, 0.0, 0.0, 0.0, 0.0, 0.0, 0.0, 0.0, 0.0, 0.0, 0.0, 0.0, 0.0, 0.0, 0.0, 0.0, 0.0, 0.0, 0.0, 0.0], [0.15039603412151337, 0.07072301208972931, 0.03618801757693291, 0.03812883049249649, 0.0549657829105854, 0.09552804380655289, 0.1278020143508911, 0.09101748466491699, 0.041339483112096786, 0.06619424372911453, 0.11493083834648132, 0.0352681465446949, 0.07751808315515518, 0.0, 0.0, 0.0, 0.0, 0.0, 0.0, 0.0, 0.0, 0.0, 0.0, 0.0, 0.0, 0.0, 0.0, 0.0, 0.0, 0.0, 0.0, 0.0, 0.0], [0.21730749309062958, 0.052248764783144, 0.04279687628149986, 0.05130990594625473, 0.07021075487136841, 0.060848675668239594, 0.10094170272350311, 0.06729137152433395, 0.053472697734832764, 0.05803244933485985, 0.06386599689722061, 0.0414368137717247, 0.05429810658097267, 0.06593840569257736, 0.0, 0.0, 0.0, 0.0, 0.0, 0.0, 0.0, 0.0, 0.0, 0.0, 0.0, 0.0, 0.0, 0.0, 0.0, 0.0, 0.0, 0.0, 0.0], [0.14158989489078522, 0.08735612779855728, 0.0410962775349617, 0.07771318405866623, 0.066415935754776, 0.06084614619612694, 0.07890865951776505, 0.06467185169458389, 0.041567545384168625, 0.05314025282859802, 0.060331929475069046, 0.04990344122052193, 0.06147689372301102, 0.061520546674728394, 0.053461357951164246, 0.0, 0.0, 0.0, 0.0, 0.0, 0.0, 0.0, 0.0, 0.0, 0.0, 0.0, 0.0, 0.0, 0.0, 0.0, 0.0, 0.0, 0.0], [0.11277394741773605, 0.05140272527933121, 0.03480072692036629, 0.04410992190241814, 0.04927104339003563, 0.08066025376319885, 0.09371130913496017, 0.07634278386831284, 0.03460073098540306, 0.05556501820683479, 0.09000372141599655, 0.027950899675488472, 0.05808684974908829, 0.09759876132011414, 0.0585305392742157, 0.03459075093269348, 0.0, 0.0, 0.0, 0.0, 0.0, 0.0, 0.0, 0.0, 0.0, 0.0, 0.0, 0.0, 0.0, 0.0, 0.0, 0.0, 0.0], [0.19136790931224823, 0.04588800668716431, 0.037184201180934906, 0.04478846862912178, 0.05845542252063751, 0.051623135805130005, 0.0845179483294487, 0.05661729350686073, 0.044779222458601, 0.04681585356593132, 0.05177523195743561, 0.03474309295415878, 0.04365595057606697, 0.05257755145430565, 0.04571910575032234, 0.05523940548300743, 0.05425223708152771, 0.0, 0.0, 0.0, 0.0, 0.0, 0.0, 0.0, 0.0, 0.0, 0.0, 0.0, 0.0, 0.0, 0.0, 0.0, 0.0], [0.17809869349002838, 0.03651317209005356, 0.035378020256757736, 0.04660060629248619, 0.056067485362291336, 0.05542533099651337, 0.06580899655818939, 0.0586959533393383, 0.044602081179618835, 0.038453347980976105, 0.05522068962454796, 0.028129279613494873, 0.03887630254030228, 0.05635209009051323, 0.04307202994823456, 0.04859211668372154, 0.05801300331950188, 0.056100860238075256, 0.0, 0.0, 0.0, 0.0, 0.0, 0.0, 0.0, 0.0, 0.0, 0.0, 0.0, 0.0, 0.0, 0.0, 0.0], [0.11277125775814056, 0.04416340962052345, 0.016790850088000298, 0.039228979498147964, 0.03057023510336876, 0.08429384231567383, 0.058298319578170776, 0.07985572516918182, 0.027740219607949257, 0.024607935920357704, 0.08568024635314941, 0.012135538272559643, 0.021223630756139755, 0.08979951590299606, 0.024395640939474106, 0.018000086769461632, 0.09797865152359009, 0.08564861863851547, 0.04681730642914772, 0.0, 0.0, 0.0, 0.0, 0.0, 0.0, 0.0, 0.0, 0.0, 0.0, 0.0, 0.0, 0.0, 0.0], [0.15648671984672546, 0.043593376874923706, 0.029469124972820282, 0.02338278479874134, 0.03989395499229431, 0.06601446121931076, 0.07239891588687897, 0.04959879443049431, 0.025720087811350822, 0.02872990071773529, 0.07268747687339783, 0.020104382187128067, 0.038949936628341675, 0.07793483883142471, 0.031850170344114304, 0.029572606086730957, 0.08162929117679596, 0.04983031749725342, 0.047570835798978806, 0.014582032337784767, 0.0, 0.0, 0.0, 0.0, 0.0, 0.0, 0.0, 0.0, 0.0, 0.0, 0.0, 0.0, 0.0], [0.16675156354904175, 0.04021674767136574, 0.031946271657943726, 0.03915552794933319, 0.04867975786328316, 0.04351937025785446, 0.07027732580900192, 0.04676980525255203, 0.0373704768717289, 0.03785952925682068, 0.04185349494218826, 0.029438788071274757, 0.03496701270341873, 0.04187154024839401, 0.0366596020758152, 0.04418947547674179, 0.04244701564311981, 0.043090008199214935, 0.05540822818875313, 0.02402997761964798, 0.04349852353334427, 0.0, 0.0, 0.0, 0.0, 0.0, 0.0, 0.0, 0.0, 0.0, 0.0, 0.0, 0.0], [0.21311701834201813, 0.03452147915959358, 0.026512039825320244, 0.037284690886735916, 0.04200231656432152, 0.05378077179193497, 0.06410716474056244, 0.04019588977098465, 0.02951396070420742, 0.030562065541744232, 0.04814049229025841, 0.019645733758807182, 0.02385598048567772, 0.04712359234690666, 0.02780524268746376, 0.025632813572883606, 0.046903226524591446, 0.04211502894759178, 0.04245338588953018, 0.016209980472922325, 0.047201525419950485, 0.041315607726573944, 0.0, 0.0, 0.0, 0.0, 0.0, 0.0, 0.0, 0.0, 0.0, 0.0, 0.0], [0.16099104285240173, 0.03149212524294853, 0.025505999103188515, 0.03203628212213516, 0.03811937943100929, 0.053864654153585434, 0.05289199575781822, 0.06297367066144943, 0.03872942179441452, 0.030703026801347733, 0.0486149787902832, 0.01696413941681385, 0.020984871312975883, 0.04743490368127823, 0.02617855928838253, 0.03281703591346741, 0.04874100536108017, 0.03702307119965553, 0.050284456461668015, 0.014425941742956638, 0.04926922917366028, 0.027485163882374763, 0.05246908962726593, 0.0, 0.0, 0.0, 0.0, 0.0, 0.0, 0.0, 0.0, 0.0, 0.0], [0.13924191892147064, 0.04732195660471916, 0.022920073941349983, 0.03782675042748451, 0.037331607192754745, 0.05628198757767677, 0.06773106753826141, 0.06383749097585678, 0.028824565932154655, 0.028368622064590454, 0.05008405074477196, 0.014775178395211697, 0.021058904007077217, 0.04819710925221443, 0.017685124650597572, 0.015456240624189377, 0.04842798411846161, 0.03709954023361206, 0.04247324913740158, 0.01842682436108589, 0.048613306134939194, 0.022673964500427246, 0.059989575296640396, 0.025352971628308296, 0.0, 0.0, 0.0, 0.0, 0.0, 0.0, 0.0, 0.0, 0.0], [0.1956235021352768, 0.03233328461647034, 0.02287408336997032, 0.03839074447751045, 0.03449878841638565, 0.04616906866431236, 0.05553746968507767, 0.039606690406799316, 0.02309839241206646, 0.024249283596873283, 0.04043303802609444, 0.016078541055321693, 0.021624943241477013, 0.03903058543801308, 0.026520876213908195, 0.028113432228565216, 0.038236312568187714, 0.03542613610625267, 0.041745755821466446, 0.021097134798765182, 0.037679530680179596, 0.03728693723678589, 0.04423921927809715, 0.02292151376605034, 0.037184685468673706, 0.0, 0.0, 0.0, 0.0, 0.0, 0.0, 0.0, 0.0], [0.058196548372507095, 0.03889741003513336, 0.026005249470472336, 0.02356789819896221, 0.02298000082373619, 0.05384152755141258, 0.058061037212610245, 0.06858769804239273, 0.037459857761859894, 0.029159100726246834, 0.05474673956632614, 0.013592948205769062, 0.02764704078435898, 0.05575399845838547, 0.030779879540205002, 0.01613735966384411, 0.05745425447821617, 0.03968728333711624, 0.03406554087996483, 0.01311098225414753, 0.05977655574679375, 0.016043759882450104, 0.029699306935071945, 0.020566539838910103, 0.08347287029027939, 0.03070862405002117, 0.0, 0.0, 0.0, 0.0, 0.0, 0.0, 0.0], [0.15561479330062866, 0.03032318502664566, 0.02106756903231144, 0.03860042616724968, 0.025089245289564133, 0.047195229679346085, 0.04255647212266922, 0.05166257917881012, 0.030368128791451454, 0.020133642479777336, 0.04255696013569832, 0.01851177215576172, 0.018671713769435883, 0.04143029451370239, 0.02202214114367962, 0.021061033010482788, 0.041666179895401, 0.027249224483966827, 0.040481582283973694, 0.015536422841250896, 0.04219622164964676, 0.01700735278427601, 0.062209468334913254, 0.015703165903687477, 0.05443184822797775, 0.04092409089207649, 0.01572924479842186, 0.0, 0.0, 0.0, 0.0, 0.0, 0.0], [0.1521887332201004, 0.032320473343133926, 0.026277605444192886, 0.03215136379003525, 0.0370805561542511, 0.03843334689736366, 0.04218520224094391, 0.03440919890999794, 0.02929617278277874, 0.02475227415561676, 0.034612320363521576, 0.021795082837343216, 0.023419685661792755, 0.03386643901467323, 0.028580613434314728, 0.034403275698423386, 0.03315696120262146, 0.02671041525900364, 0.04213563725352287, 0.019021352753043175, 0.0327858105301857, 0.026840003207325935, 0.03304455056786537, 0.02330264262855053, 0.033900342881679535, 0.03944924846291542, 0.021334238350391388, 0.042546432465314865, 0.0, 0.0, 0.0, 0.0, 0.0], [0.10210391879081726, 0.04830533638596535, 0.02795790694653988, 0.02813485451042652, 0.04368893429636955, 0.03765961900353432, 0.040121808648109436, 0.03589580953121185, 0.02449178136885166, 0.01976804807782173, 0.03467407077550888, 0.015431455336511135, 0.03261655569076538, 0.03414339944720268, 0.027461392804980278, 0.020323194563388824, 0.03445839881896973, 0.015827570110559464, 0.030705831944942474, 0.02036093734204769, 0.03558044135570526, 0.0347902812063694, 0.03518148511648178, 0.02857259288430214, 0.043333858251571655, 0.038963884115219116, 0.017587682232260704, 0.04553377255797386, 0.04632512852549553, 0.0, 0.0, 0.0, 0.0], [0.1184174120426178, 0.026689784601330757, 0.028547639027237892, 0.03516455739736557, 0.03519093617796898, 0.030704857781529427, 0.04254685714840889, 0.023103507235646248, 0.025463100522756577, 0.02967854216694832, 0.028395213186740875, 0.01917826011776924, 0.023833580315113068, 0.027640022337436676, 0.033817533403635025, 0.039640165865421295, 0.027574429288506508, 0.021856185048818588, 0.039667654782533646, 0.03941833972930908, 0.02711562253534794, 0.030498076230287552, 0.034932829439640045, 0.032320547848939896, 0.027840537950396538, 0.03877578303217888, 0.02112480066716671, 0.03861143812537193, 0.032771822065114975, 0.01947997882962227, 0.0, 0.0, 0.0], [0.05433790013194084, 0.019247833639383316, 0.011686458252370358, 0.014118602499365807, 0.0139097785577178, 0.057368066161870956, 0.0345463752746582, 0.046650588512420654, 0.013026444241404533, 0.013271290808916092, 0.05952771380543709, 0.009063143283128738, 0.017364200204610825, 0.06135563179850578, 0.01263465080410242, 0.015145531855523586, 0.06425533443689346, 0.046270642429590225, 0.019556371495127678, 0.01254346128553152, 0.06913560628890991, 0.03482367843389511, 0.030005963519215584, 0.012261828407645226, 0.07985588908195496, 0.018996432423591614, 0.01072293147444725, 0.0865454375743866, 0.017174094915390015, 0.022144151851534843, 0.022453969344496727, 0.0, 0.0], [0.058496441692113876, 0.03437738120555878, 0.013603102415800095, 0.02417043223977089, 0.01900586113333702, 0.06546410918235779, 0.030622968450188637, 0.03573206439614296, 0.01885944977402687, 0.012241484597325325, 0.0628218725323677, 0.01183574739843607, 0.009552357718348503, 0.06431793421506882, 0.021589579060673714, 0.010912968777120113, 0.0666591078042984, 0.023997453972697258, 0.02659674547612667, 0.006153554655611515, 0.06984326988458633, 0.037238698452711105, 0.03004670888185501, 0.021686820313334465, 0.04364060238003731, 0.021209625527262688, 0.013490450568497181, 0.046327222138643265, 0.020434502512216568, 0.013362261466681957, 0.018568987026810646, 0.04714022949337959, 0.0], [0.1352868676185608, 0.02973337098956108, 0.026111336424946785, 0.037535764276981354, 0.0388815738260746, 0.033166807144880295, 0.048243895173072815, 0.030468303710222244, 0.026038208976387978, 0.024123718962073326, 0.027892746031284332, 0.022709934040904045, 0.02418527565896511, 0.026114553213119507, 0.023209664970636368, 0.025175295770168304, 0.024614784866571426, 0.021123146638274193, 0.029685042798519135, 0.018167482689023018, 0.02306438982486725, 0.02059808000922203, 0.03441140800714493, 0.021083392202854156, 0.022538824006915092, 0.032281555235385895, 0.01398724876344204, 0.024144932627677917, 0.027002302929759026, 0.012929447926580906, 0.03616538643836975, 0.02684023603796959, 0.03248501569032669]]]}\n",
              "    )\n",
              "    </script>"
            ],
            "text/plain": [
              "<circuitsvis.utils.render.RenderedHTML at 0x7ec878193850>"
            ]
          },
          "execution_count": 75,
          "metadata": {},
          "output_type": "execute_result"
        }
      ],
      "source": [
        "print(\"Layer 0 Head Attention Patterns:\")\n",
        "cv.attention.attention_patterns(tokens=gpt2_str_tokens, attention=attention_pattern)"
      ]
    },
    {
      "cell_type": "markdown",
      "metadata": {
        "id": "qKw00hCIbRkg"
      },
      "source": [
        "## Hooks: Intervening on Activations"
      ]
    },
    {
      "cell_type": "markdown",
      "metadata": {
        "id": "LsbALC3cbRkg"
      },
      "source": [
        "One of the great things about interpreting neural networks is that we have *full control* over our system. From a computational perspective, we know exactly what operations are going on inside (even if we don't know what they mean!). And we can make precise, surgical edits and see how the model's behaviour and other internals change. This is an extremely powerful tool, because it can let us eg set up careful counterfactuals and causal intervention to easily understand model behaviour.\n",
        "\n",
        "Accordingly, being able to do this is a pretty core operation, and this is one of the main things TransformerLens supports! The key feature here is **hook points**. Every activation inside the transformer is surrounded by a hook point, which allows us to edit or intervene on it.\n",
        "\n",
        "We do this by adding a **hook function** to that activation. The hook function maps `current_activation_value, hook_point` to `new_activation_value`. As the model is run, it computes that activation as normal, and then the hook function is applied to compute a replacement, and that is substituted in for the activation. The hook function can be an arbitrary Python function, so long as it returns a tensor of the correct shape.\n",
        "\n",
        "<details><summary>Relationship to PyTorch hooks</summary>\n",
        "\n",
        "[PyTorch hooks](https://blog.paperspace.com/pytorch-hooks-gradient-clipping-debugging/) are a great and underrated, yet incredibly janky, feature. They can act on a layer, and edit the input or output of that layer, or the gradient when applying autodiff. The key difference is that **Hook points** act on *activations* not layers. This means that you can intervene within a layer on each activation, and don't need to care about the precise layer structure of the transformer. And it's immediately clear exactly how the hook's effect is applied. This adjustment was shamelessly inspired by [Garcon's use of ProbePoints](https://transformer-circuits.pub/2021/garcon/index.html).\n",
        "\n",
        "They also come with a range of other quality of life improvements, like the model having a `model.reset_hooks()` method to remove all hooks, or helper methods to temporarily add hooks for a single forward pass - it is *incredibly* easy to shoot yourself in the foot with standard PyTorch hooks!\n",
        "</details>"
      ]
    },
    {
      "cell_type": "markdown",
      "metadata": {
        "id": "TRmeMJQ3bRkg"
      },
      "source": [
        "As a basic example, let's [ablate](https://dynalist.io/d/n2ZWtnoYHrU1s4vnFSAQ519J#z=fh-HJyz1CgUVrXuoiban6bYx) head 7 in layer 0 on the text above.\n",
        "\n",
        "We define a `head_ablation_hook` function. This takes the value tensor for attention layer 0, and sets the component with `head_index==7` to zero and returns it (Note - we return by convention, but since we're editing the activation in-place, we don't strictly *need* to).\n",
        "\n",
        "We then use the `run_with_hooks` helper function to run the model and *temporarily* add in the hook for just this run. We enter in the hook as a tuple of the activation name (also the hook point name - found with `utils.get_act_name`) and the hook function."
      ]
    },
    {
      "cell_type": "code",
      "execution_count": 76,
      "metadata": {
        "colab": {
          "base_uri": "https://localhost:8080/"
        },
        "id": "UVySWHs9bRkg",
        "outputId": "7aca39c2-722d-4cc9-b136-50f174533d83"
      },
      "outputs": [
        {
          "name": "stdout",
          "output_type": "stream",
          "text": [
            "Shape of the value tensor: torch.Size([1, 33, 12, 64])\n",
            "Original Loss: 3.999\n",
            "Ablated Loss: 5.453\n"
          ]
        }
      ],
      "source": [
        "layer_to_ablate = 0\n",
        "head_index_to_ablate = 8\n",
        "\n",
        "# We define a head ablation hook\n",
        "# The type annotations are NOT necessary, they're just a useful guide to the reader\n",
        "#\n",
        "def head_ablation_hook(\n",
        "    value: Float[torch.Tensor, \"batch pos head_index d_head\"],\n",
        "    hook: HookPoint\n",
        ") -> Float[torch.Tensor, \"batch pos head_index d_head\"]:\n",
        "    print(f\"Shape of the value tensor: {value.shape}\")\n",
        "    value[:, :, head_index_to_ablate, :] = 0.\n",
        "    return value\n",
        "\n",
        "original_loss = model(gpt2_tokens, return_type=\"loss\")\n",
        "ablated_loss = model.run_with_hooks(\n",
        "    gpt2_tokens,\n",
        "    return_type=\"loss\",\n",
        "    fwd_hooks=[(\n",
        "        utils.get_act_name(\"v\", layer_to_ablate),\n",
        "        head_ablation_hook\n",
        "        )]\n",
        "    )\n",
        "print(f\"Original Loss: {original_loss.item():.3f}\")\n",
        "print(f\"Ablated Loss: {ablated_loss.item():.3f}\")"
      ]
    },
    {
      "cell_type": "markdown",
      "metadata": {
        "id": "7XGH9KDmbRkg"
      },
      "source": [
        "**Gotcha:** Hooks are global state - they're added in as part of the model, and stay there until removed. `run_with_hooks` tries to create an abstraction where these are local state, by removing all hooks at the end of the function. But you can easily shoot yourself in the foot if there's, eg, an error in one of your hooks so the function never finishes. If you start getting bugs, try `model.reset_hooks()` to clean things up. Further, if you *do* add hooks of your own that you want to keep, which you can do with `add_perma_hook` on the relevant HookPoint"
      ]
    },
    {
      "cell_type": "markdown",
      "metadata": {
        "id": "xG2npsPobRkg"
      },
      "source": [
        "### Activation Patching on the Indirect Object Identification Task"
      ]
    },
    {
      "cell_type": "markdown",
      "metadata": {
        "id": "ql0u1dhcbRkg"
      },
      "source": [
        "For a somewhat more involved example, let's use hooks to apply **[activation patching](https://dynalist.io/d/n2ZWtnoYHrU1s4vnFSAQ519J#z=qeWBvs-R-taFfcCq-S_hgMqx)** on the **[Indirect Object Identification](https://dynalist.io/d/n2ZWtnoYHrU1s4vnFSAQ519J#z=iWsV3s5Kdd2ca3zNgXr5UPHa)** (IOI) task.\n",
        "\n",
        "The IOI task is the task of identifying that a sentence like \"After John and Mary went to the store, Mary gave a bottle of milk to\" continues with \" John\" rather than \" Mary\" (ie, finding the indirect object), and Redwood Research have [an excellent paper studying the underlying circuit in GPT-2 Small](https://arxiv.org/abs/2211.00593).\n",
        "\n",
        "**[Activation patching](https://dynalist.io/d/n2ZWtnoYHrU1s4vnFSAQ519J#z=qeWBvs-R-taFfcCq-S_hgMqx)** is a technique from [Kevin Meng and David Bau's excellent ROME paper](https://rome.baulab.info/). The goal is to identify which model activations are important for completing a task. We do this by setting up a **clean prompt** and a **corrupted prompt** and a **metric** for performance on the task. We then pick a specific model activation, run the model on the corrupted prompt, but then *intervene* on that activation and patch in its value when run on the clean prompt. We then apply the metric, and see how much this patch has recovered the clean performance.\n",
        "(See [a more detailed demonstration of activation patching here](https://colab.research.google.com/github.com/TransformerLensOrg/TransformerLens/blob/main/demos/Exploratory_Analysis_Demo.ipynb))"
      ]
    },
    {
      "cell_type": "markdown",
      "metadata": {
        "id": "WyjX7I9MbRkg"
      },
      "source": [
        "Here, our clean prompt is \"After John and Mary went to the store, **Mary** gave a bottle of milk to\", our corrupted prompt is \"After John and Mary went to the store, **John** gave a bottle of milk to\", and our metric is the difference between the correct logit ( John) and the incorrect logit ( Mary) on the final token.\n",
        "\n",
        "We see that the logit difference is significantly positive on the clean prompt, and significantly negative on the corrupted prompt, showing that the model is capable of doing the task!"
      ]
    },
    {
      "cell_type": "code",
      "execution_count": 77,
      "metadata": {
        "colab": {
          "base_uri": "https://localhost:8080/"
        },
        "id": "eN8HQNJebRkg",
        "outputId": "f69e2e30-c471-47d6-e104-894d94947126"
      },
      "outputs": [
        {
          "name": "stdout",
          "output_type": "stream",
          "text": [
            "Clean logit difference: 4.276\n",
            "Corrupted logit difference: -2.738\n"
          ]
        }
      ],
      "source": [
        "clean_prompt = \"After John and Mary went to the store, Mary gave a bottle of milk to\"\n",
        "corrupted_prompt = \"After John and Mary went to the store, John gave a bottle of milk to\"\n",
        "\n",
        "clean_tokens = model.to_tokens(clean_prompt)\n",
        "corrupted_tokens = model.to_tokens(corrupted_prompt)\n",
        "\n",
        "def logits_to_logit_diff(logits, correct_answer=\" John\", incorrect_answer=\" Mary\"):\n",
        "    # model.to_single_token maps a string value of a single token to the token index for that token\n",
        "    # If the string is not a single token, it raises an error.\n",
        "    correct_index = model.to_single_token(correct_answer)\n",
        "    incorrect_index = model.to_single_token(incorrect_answer)\n",
        "    return logits[0, -1, correct_index] - logits[0, -1, incorrect_index]\n",
        "\n",
        "# We run on the clean prompt with the cache so we store activations to patch in later.\n",
        "clean_logits, clean_cache = model.run_with_cache(clean_tokens)\n",
        "clean_logit_diff = logits_to_logit_diff(clean_logits)\n",
        "print(f\"Clean logit difference: {clean_logit_diff.item():.3f}\")\n",
        "\n",
        "# We don't need to cache on the corrupted prompt.\n",
        "corrupted_logits = model(corrupted_tokens)\n",
        "corrupted_logit_diff = logits_to_logit_diff(corrupted_logits)\n",
        "print(f\"Corrupted logit difference: {corrupted_logit_diff.item():.3f}\")"
      ]
    },
    {
      "cell_type": "markdown",
      "metadata": {
        "id": "NXliz8UPbRkg"
      },
      "source": [
        "We now setup the hook function to do activation patching. Here, we'll patch in the [residual stream](https://dynalist.io/d/n2ZWtnoYHrU1s4vnFSAQ519J#z=DHp9vZ0h9lA9OCrzG2Y3rrzH) at the start of a specific layer and at a specific position. This will let us see how much the model is using the residual stream at that layer and position to represent the key information for the task.\n",
        "\n",
        "We want to iterate over all layers and positions, so we write the hook to take in an position parameter. Hook functions must have the input signature (activation, hook), but we can use `functools.partial` to set the position parameter before passing it to `run_with_hooks`"
      ]
    },
    {
      "cell_type": "code",
      "execution_count": 84,
      "metadata": {
        "colab": {
          "referenced_widgets": [
            "980e183587f54a03bb4ead134831c94d"
          ]
        },
        "id": "RJHAJ_K_bRkg",
        "outputId": "b4b5e87a-ece1-4f25-db9a-b35790e43481"
      },
      "outputs": [
        {
          "data": {
            "application/vnd.jupyter.widget-view+json": {
              "model_id": "a8bbc30ec2314fd885ec5baf4caf6a01",
              "version_major": 2,
              "version_minor": 0
            },
            "text/plain": [
              "  0%|          | 0/12 [00:00<?, ?it/s]"
            ]
          },
          "metadata": {},
          "output_type": "display_data"
        }
      ],
      "source": [
        "# We define a residual stream patching hook\n",
        "# We choose to act on the residual stream at the start of the layer, so we call it resid_pre\n",
        "# The type annotations are a guide to the reader and are not necessary\n",
        "def residual_stream_patching_hook(\n",
        "    resid_pre: Float[torch.Tensor, \"batch pos d_model\"],\n",
        "    hook: HookPoint,\n",
        "    position: int\n",
        ") -> Float[torch.Tensor, \"batch pos d_model\"]:\n",
        "    # Each HookPoint has a name attribute giving the name of the hook.\n",
        "    clean_resid_pre = clean_cache[hook.name]\n",
        "    resid_pre[:, position, :] = clean_resid_pre[:, position, :]\n",
        "    return resid_pre\n",
        "\n",
        "# We make a tensor to store the results for each patching run. We put it on the model's device to avoid needing to move things between the GPU and CPU, which can be slow.\n",
        "num_positions = len(clean_tokens[0])\n",
        "ioi_patching_result = torch.zeros((model.cfg.n_layers, num_positions), device=model.cfg.device)\n",
        "\n",
        "for layer in tqdm.tqdm(range(model.cfg.n_layers)):\n",
        "    for position in range(num_positions):\n",
        "        # Use functools.partial to create a temporary hook function with the position fixed\n",
        "        temp_hook_fn = partial(residual_stream_patching_hook, position=position)\n",
        "        # Run the model with the patching hook\n",
        "        patched_logits = model.run_with_hooks(corrupted_tokens, fwd_hooks=[\n",
        "            (utils.get_act_name(\"resid_pre\", layer), temp_hook_fn)\n",
        "        ])\n",
        "        # Calculate the logit difference\n",
        "        patched_logit_diff = logits_to_logit_diff(patched_logits).detach()\n",
        "        # Store the result, normalizing by the clean and corrupted logit difference so it's between 0 and 1 (ish)\n",
        "        ioi_patching_result[layer, position] = (patched_logit_diff - corrupted_logit_diff)/(clean_logit_diff - corrupted_logit_diff)"
      ]
    },
    {
      "cell_type": "markdown",
      "metadata": {
        "id": "_t4FjfwybRkg"
      },
      "source": [
        "We can now visualize the results, and see that this computation is extremely localised within the model. Initially, the second subject (Mary) token is all that matters (naturally, as it's the only different token), and all relevant information remains here until heads in layer 7 and 8 move this to the final token where it's used to predict the indirect object.\n",
        "(Note - the heads are in layer 7 and 8, not 8 and 9, because we patched in the residual stream at the *start* of each layer)"
      ]
    },
    {
      "cell_type": "code",
      "execution_count": 85,
      "metadata": {
        "id": "oyN5dy1YbRkg",
        "outputId": "f9a4fadb-f2d4-48df-d6c9-ef8c499267ed"
      },
      "outputs": [
        {
          "data": {
            "text/html": [
              "        <script type=\"text/javascript\">\n",
              "        window.PlotlyConfig = {MathJaxConfig: 'local'};\n",
              "        if (window.MathJax && window.MathJax.Hub && window.MathJax.Hub.Config) {window.MathJax.Hub.Config({SVG: {font: \"STIX-Web\"}});}\n",
              "        if (typeof require !== 'undefined') {\n",
              "        require.undef(\"plotly\");\n",
              "        requirejs.config({\n",
              "            paths: {\n",
              "                'plotly': ['https://cdn.plot.ly/plotly-2.32.0.min']\n",
              "            }\n",
              "        });\n",
              "        require(['plotly'], function(Plotly) {\n",
              "            window._Plotly = Plotly;\n",
              "        });\n",
              "        }\n",
              "        </script>\n",
              "        "
            ]
          },
          "metadata": {},
          "output_type": "display_data"
        },
        {
          "data": {
            "text/html": [
              "<div>                            <div id=\"91d27440-ebcc-46f9-8007-d656576cc491\" class=\"plotly-graph-div\" style=\"height:525px; width:100%;\"></div>            <script type=\"text/javascript\">                require([\"plotly\"], function(Plotly) {                    window.PLOTLYENV=window.PLOTLYENV || {};                                    if (document.getElementById(\"91d27440-ebcc-46f9-8007-d656576cc491\")) {                    Plotly.newPlot(                        \"91d27440-ebcc-46f9-8007-d656576cc491\",                        [{\"coloraxis\":\"coloraxis\",\"name\":\"0\",\"x\":[\"\\u003c|endoftext|\\u003e_0\",\"After_1\",\" John_2\",\" and_3\",\" Mary_4\",\" went_5\",\" to_6\",\" the_7\",\" store_8\",\",_9\",\" Mary_10\",\" gave_11\",\" a_12\",\" bottle_13\",\" of_14\",\" milk_15\",\" to_16\"],\"z\":[[0.0,0.0,0.0,0.0,0.0,0.0,0.0,0.0,0.0,0.0,1.0,0.0,0.0,0.0,0.0,0.0,0.0],[0.0,0.0,0.0,0.0,0.0,0.0,0.0,0.0,0.0,0.0,0.9981476,0.0015992423,0.00014983548,-0.00037200534,-0.000022026632,-0.0006297985,-0.00051558635],[0.0,0.0,0.0,0.0,0.0,0.0,0.0,0.0,0.0,0.0,0.9980565,0.0022831557,0.0001813798,-0.00050525286,-0.00026975825,-0.000053299013,-0.0012832553],[0.0,0.0,0.0,0.0,0.0,0.0,0.0,0.0,0.0,0.0,0.99673706,0.004080366,0.0009721631,0.000042693595,-0.0001604409,-0.00033665396,-0.0019451419],[0.0,0.0,0.0,0.0,0.0,0.0,0.0,0.0,0.0,0.0,0.9905892,0.01998604,0.0018942903,0.0010124093,-0.000067983434,0.00090961833,-0.0019010887],[0.0,0.0,0.0,0.0,0.0,0.0,0.0,0.0,0.0,0.0,0.9616512,0.0853464,0.005202636,0.0030519122,0.0001957923,0.0011056826,-0.002285331],[0.0,0.0,0.0,0.0,0.0,0.0,0.0,0.0,0.0,0.0,0.9630993,0.08437098,0.0041222433,0.00071681733,0.00010197515,0.0010009881,-0.0042157886],[0.0,0.0,0.0,0.0,0.0,0.0,0.0,0.0,0.0,0.0,0.93591744,0.11111702,0.0077044265,0.00037472468,0.0003643912,0.0013259489,0.018743848],[0.0,0.0,0.0,0.0,0.0,0.0,0.0,0.0,0.0,0.0,0.77015495,0.037418082,0.002067784,-0.000084027524,0.0001337914,0.0017240598,0.4499054],[0.0,0.0,0.0,0.0,0.0,0.0,0.0,0.0,0.0,0.0,0.0965052,0.025925346,0.0019709757,0.00032876787,0.00042285695,0.0018845007,0.89947236],[0.0,0.0,0.0,0.0,0.0,0.0,0.0,0.0,0.0,0.0,-0.02332294,0.018537723,0.0015859175,0.0005261918,0.0002523545,0.0008729073,0.9612761],[0.0,0.0,0.0,0.0,0.0,0.0,0.0,0.0,0.0,0.0,-0.00855857,0.006338503,0.00058085046,-0.00034290843,0.00010931736,0.0006480181,0.9495821]],\"type\":\"heatmap\",\"xaxis\":\"x\",\"yaxis\":\"y\",\"hovertemplate\":\"Position: %{x}\\u003cbr\\u003eLayer: %{y}\\u003cbr\\u003ecolor: %{z}\\u003cextra\\u003e\\u003c\\u002fextra\\u003e\"}],                        {\"template\":{\"data\":{\"histogram2dcontour\":[{\"type\":\"histogram2dcontour\",\"colorbar\":{\"outlinewidth\":0,\"ticks\":\"\"},\"colorscale\":[[0.0,\"#0d0887\"],[0.1111111111111111,\"#46039f\"],[0.2222222222222222,\"#7201a8\"],[0.3333333333333333,\"#9c179e\"],[0.4444444444444444,\"#bd3786\"],[0.5555555555555556,\"#d8576b\"],[0.6666666666666666,\"#ed7953\"],[0.7777777777777778,\"#fb9f3a\"],[0.8888888888888888,\"#fdca26\"],[1.0,\"#f0f921\"]]}],\"choropleth\":[{\"type\":\"choropleth\",\"colorbar\":{\"outlinewidth\":0,\"ticks\":\"\"}}],\"histogram2d\":[{\"type\":\"histogram2d\",\"colorbar\":{\"outlinewidth\":0,\"ticks\":\"\"},\"colorscale\":[[0.0,\"#0d0887\"],[0.1111111111111111,\"#46039f\"],[0.2222222222222222,\"#7201a8\"],[0.3333333333333333,\"#9c179e\"],[0.4444444444444444,\"#bd3786\"],[0.5555555555555556,\"#d8576b\"],[0.6666666666666666,\"#ed7953\"],[0.7777777777777778,\"#fb9f3a\"],[0.8888888888888888,\"#fdca26\"],[1.0,\"#f0f921\"]]}],\"heatmap\":[{\"type\":\"heatmap\",\"colorbar\":{\"outlinewidth\":0,\"ticks\":\"\"},\"colorscale\":[[0.0,\"#0d0887\"],[0.1111111111111111,\"#46039f\"],[0.2222222222222222,\"#7201a8\"],[0.3333333333333333,\"#9c179e\"],[0.4444444444444444,\"#bd3786\"],[0.5555555555555556,\"#d8576b\"],[0.6666666666666666,\"#ed7953\"],[0.7777777777777778,\"#fb9f3a\"],[0.8888888888888888,\"#fdca26\"],[1.0,\"#f0f921\"]]}],\"heatmapgl\":[{\"type\":\"heatmapgl\",\"colorbar\":{\"outlinewidth\":0,\"ticks\":\"\"},\"colorscale\":[[0.0,\"#0d0887\"],[0.1111111111111111,\"#46039f\"],[0.2222222222222222,\"#7201a8\"],[0.3333333333333333,\"#9c179e\"],[0.4444444444444444,\"#bd3786\"],[0.5555555555555556,\"#d8576b\"],[0.6666666666666666,\"#ed7953\"],[0.7777777777777778,\"#fb9f3a\"],[0.8888888888888888,\"#fdca26\"],[1.0,\"#f0f921\"]]}],\"contourcarpet\":[{\"type\":\"contourcarpet\",\"colorbar\":{\"outlinewidth\":0,\"ticks\":\"\"}}],\"contour\":[{\"type\":\"contour\",\"colorbar\":{\"outlinewidth\":0,\"ticks\":\"\"},\"colorscale\":[[0.0,\"#0d0887\"],[0.1111111111111111,\"#46039f\"],[0.2222222222222222,\"#7201a8\"],[0.3333333333333333,\"#9c179e\"],[0.4444444444444444,\"#bd3786\"],[0.5555555555555556,\"#d8576b\"],[0.6666666666666666,\"#ed7953\"],[0.7777777777777778,\"#fb9f3a\"],[0.8888888888888888,\"#fdca26\"],[1.0,\"#f0f921\"]]}],\"surface\":[{\"type\":\"surface\",\"colorbar\":{\"outlinewidth\":0,\"ticks\":\"\"},\"colorscale\":[[0.0,\"#0d0887\"],[0.1111111111111111,\"#46039f\"],[0.2222222222222222,\"#7201a8\"],[0.3333333333333333,\"#9c179e\"],[0.4444444444444444,\"#bd3786\"],[0.5555555555555556,\"#d8576b\"],[0.6666666666666666,\"#ed7953\"],[0.7777777777777778,\"#fb9f3a\"],[0.8888888888888888,\"#fdca26\"],[1.0,\"#f0f921\"]]}],\"mesh3d\":[{\"type\":\"mesh3d\",\"colorbar\":{\"outlinewidth\":0,\"ticks\":\"\"}}],\"scatter\":[{\"fillpattern\":{\"fillmode\":\"overlay\",\"size\":10,\"solidity\":0.2},\"type\":\"scatter\"}],\"parcoords\":[{\"type\":\"parcoords\",\"line\":{\"colorbar\":{\"outlinewidth\":0,\"ticks\":\"\"}}}],\"scatterpolargl\":[{\"type\":\"scatterpolargl\",\"marker\":{\"colorbar\":{\"outlinewidth\":0,\"ticks\":\"\"}}}],\"bar\":[{\"error_x\":{\"color\":\"#2a3f5f\"},\"error_y\":{\"color\":\"#2a3f5f\"},\"marker\":{\"line\":{\"color\":\"#E5ECF6\",\"width\":0.5},\"pattern\":{\"fillmode\":\"overlay\",\"size\":10,\"solidity\":0.2}},\"type\":\"bar\"}],\"scattergeo\":[{\"type\":\"scattergeo\",\"marker\":{\"colorbar\":{\"outlinewidth\":0,\"ticks\":\"\"}}}],\"scatterpolar\":[{\"type\":\"scatterpolar\",\"marker\":{\"colorbar\":{\"outlinewidth\":0,\"ticks\":\"\"}}}],\"histogram\":[{\"marker\":{\"pattern\":{\"fillmode\":\"overlay\",\"size\":10,\"solidity\":0.2}},\"type\":\"histogram\"}],\"scattergl\":[{\"type\":\"scattergl\",\"marker\":{\"colorbar\":{\"outlinewidth\":0,\"ticks\":\"\"}}}],\"scatter3d\":[{\"type\":\"scatter3d\",\"line\":{\"colorbar\":{\"outlinewidth\":0,\"ticks\":\"\"}},\"marker\":{\"colorbar\":{\"outlinewidth\":0,\"ticks\":\"\"}}}],\"scattermapbox\":[{\"type\":\"scattermapbox\",\"marker\":{\"colorbar\":{\"outlinewidth\":0,\"ticks\":\"\"}}}],\"scatterternary\":[{\"type\":\"scatterternary\",\"marker\":{\"colorbar\":{\"outlinewidth\":0,\"ticks\":\"\"}}}],\"scattercarpet\":[{\"type\":\"scattercarpet\",\"marker\":{\"colorbar\":{\"outlinewidth\":0,\"ticks\":\"\"}}}],\"carpet\":[{\"aaxis\":{\"endlinecolor\":\"#2a3f5f\",\"gridcolor\":\"white\",\"linecolor\":\"white\",\"minorgridcolor\":\"white\",\"startlinecolor\":\"#2a3f5f\"},\"baxis\":{\"endlinecolor\":\"#2a3f5f\",\"gridcolor\":\"white\",\"linecolor\":\"white\",\"minorgridcolor\":\"white\",\"startlinecolor\":\"#2a3f5f\"},\"type\":\"carpet\"}],\"table\":[{\"cells\":{\"fill\":{\"color\":\"#EBF0F8\"},\"line\":{\"color\":\"white\"}},\"header\":{\"fill\":{\"color\":\"#C8D4E3\"},\"line\":{\"color\":\"white\"}},\"type\":\"table\"}],\"barpolar\":[{\"marker\":{\"line\":{\"color\":\"#E5ECF6\",\"width\":0.5},\"pattern\":{\"fillmode\":\"overlay\",\"size\":10,\"solidity\":0.2}},\"type\":\"barpolar\"}],\"pie\":[{\"automargin\":true,\"type\":\"pie\"}]},\"layout\":{\"autotypenumbers\":\"strict\",\"colorway\":[\"#636efa\",\"#EF553B\",\"#00cc96\",\"#ab63fa\",\"#FFA15A\",\"#19d3f3\",\"#FF6692\",\"#B6E880\",\"#FF97FF\",\"#FECB52\"],\"font\":{\"color\":\"#2a3f5f\"},\"hovermode\":\"closest\",\"hoverlabel\":{\"align\":\"left\"},\"paper_bgcolor\":\"white\",\"plot_bgcolor\":\"#E5ECF6\",\"polar\":{\"bgcolor\":\"#E5ECF6\",\"angularaxis\":{\"gridcolor\":\"white\",\"linecolor\":\"white\",\"ticks\":\"\"},\"radialaxis\":{\"gridcolor\":\"white\",\"linecolor\":\"white\",\"ticks\":\"\"}},\"ternary\":{\"bgcolor\":\"#E5ECF6\",\"aaxis\":{\"gridcolor\":\"white\",\"linecolor\":\"white\",\"ticks\":\"\"},\"baxis\":{\"gridcolor\":\"white\",\"linecolor\":\"white\",\"ticks\":\"\"},\"caxis\":{\"gridcolor\":\"white\",\"linecolor\":\"white\",\"ticks\":\"\"}},\"coloraxis\":{\"colorbar\":{\"outlinewidth\":0,\"ticks\":\"\"}},\"colorscale\":{\"sequential\":[[0.0,\"#0d0887\"],[0.1111111111111111,\"#46039f\"],[0.2222222222222222,\"#7201a8\"],[0.3333333333333333,\"#9c179e\"],[0.4444444444444444,\"#bd3786\"],[0.5555555555555556,\"#d8576b\"],[0.6666666666666666,\"#ed7953\"],[0.7777777777777778,\"#fb9f3a\"],[0.8888888888888888,\"#fdca26\"],[1.0,\"#f0f921\"]],\"sequentialminus\":[[0.0,\"#0d0887\"],[0.1111111111111111,\"#46039f\"],[0.2222222222222222,\"#7201a8\"],[0.3333333333333333,\"#9c179e\"],[0.4444444444444444,\"#bd3786\"],[0.5555555555555556,\"#d8576b\"],[0.6666666666666666,\"#ed7953\"],[0.7777777777777778,\"#fb9f3a\"],[0.8888888888888888,\"#fdca26\"],[1.0,\"#f0f921\"]],\"diverging\":[[0,\"#8e0152\"],[0.1,\"#c51b7d\"],[0.2,\"#de77ae\"],[0.3,\"#f1b6da\"],[0.4,\"#fde0ef\"],[0.5,\"#f7f7f7\"],[0.6,\"#e6f5d0\"],[0.7,\"#b8e186\"],[0.8,\"#7fbc41\"],[0.9,\"#4d9221\"],[1,\"#276419\"]]},\"xaxis\":{\"gridcolor\":\"white\",\"linecolor\":\"white\",\"ticks\":\"\",\"title\":{\"standoff\":15},\"zerolinecolor\":\"white\",\"automargin\":true,\"zerolinewidth\":2},\"yaxis\":{\"gridcolor\":\"white\",\"linecolor\":\"white\",\"ticks\":\"\",\"title\":{\"standoff\":15},\"zerolinecolor\":\"white\",\"automargin\":true,\"zerolinewidth\":2},\"scene\":{\"xaxis\":{\"backgroundcolor\":\"#E5ECF6\",\"gridcolor\":\"white\",\"linecolor\":\"white\",\"showbackground\":true,\"ticks\":\"\",\"zerolinecolor\":\"white\",\"gridwidth\":2},\"yaxis\":{\"backgroundcolor\":\"#E5ECF6\",\"gridcolor\":\"white\",\"linecolor\":\"white\",\"showbackground\":true,\"ticks\":\"\",\"zerolinecolor\":\"white\",\"gridwidth\":2},\"zaxis\":{\"backgroundcolor\":\"#E5ECF6\",\"gridcolor\":\"white\",\"linecolor\":\"white\",\"showbackground\":true,\"ticks\":\"\",\"zerolinecolor\":\"white\",\"gridwidth\":2}},\"shapedefaults\":{\"line\":{\"color\":\"#2a3f5f\"}},\"annotationdefaults\":{\"arrowcolor\":\"#2a3f5f\",\"arrowhead\":0,\"arrowwidth\":1},\"geo\":{\"bgcolor\":\"white\",\"landcolor\":\"#E5ECF6\",\"subunitcolor\":\"white\",\"showland\":true,\"showlakes\":true,\"lakecolor\":\"white\"},\"title\":{\"x\":0.05},\"mapbox\":{\"style\":\"light\"}}},\"xaxis\":{\"anchor\":\"y\",\"domain\":[0.0,1.0],\"scaleanchor\":\"y\",\"constrain\":\"domain\",\"title\":{\"text\":\"Position\"}},\"yaxis\":{\"anchor\":\"x\",\"domain\":[0.0,1.0],\"autorange\":\"reversed\",\"constrain\":\"domain\",\"title\":{\"text\":\"Layer\"}},\"coloraxis\":{\"colorscale\":[[0.0,\"rgb(103,0,31)\"],[0.1,\"rgb(178,24,43)\"],[0.2,\"rgb(214,96,77)\"],[0.3,\"rgb(244,165,130)\"],[0.4,\"rgb(253,219,199)\"],[0.5,\"rgb(247,247,247)\"],[0.6,\"rgb(209,229,240)\"],[0.7,\"rgb(146,197,222)\"],[0.8,\"rgb(67,147,195)\"],[0.9,\"rgb(33,102,172)\"],[1.0,\"rgb(5,48,97)\"]],\"cmid\":0.0},\"title\":{\"text\":\"Normalized Logit Difference After Patching Residual Stream on the IOI Task\"}},                        {\"responsive\": true}                    ).then(function(){\n",
              "                            \n",
              "var gd = document.getElementById('91d27440-ebcc-46f9-8007-d656576cc491');\n",
              "var x = new MutationObserver(function (mutations, observer) {{\n",
              "        var display = window.getComputedStyle(gd).display;\n",
              "        if (!display || display === 'none') {{\n",
              "            console.log([gd, 'removed!']);\n",
              "            Plotly.purge(gd);\n",
              "            observer.disconnect();\n",
              "        }}\n",
              "}});\n",
              "\n",
              "// Listen for the removal of the full notebook cells\n",
              "var notebookContainer = gd.closest('#notebook-container');\n",
              "if (notebookContainer) {{\n",
              "    x.observe(notebookContainer, {childList: true});\n",
              "}}\n",
              "\n",
              "// Listen for the clearing of the current output cell\n",
              "var outputEl = gd.closest('.output');\n",
              "if (outputEl) {{\n",
              "    x.observe(outputEl, {childList: true});\n",
              "}}\n",
              "\n",
              "                        })                };                });            </script>        </div>"
            ]
          },
          "metadata": {},
          "output_type": "display_data"
        }
      ],
      "source": [
        "# Add the index to the end of the label, because plotly doesn't like duplicate labels\n",
        "token_labels = [f\"{token}_{index}\" for index, token in enumerate(model.to_str_tokens(clean_tokens))]\n",
        "imshow(ioi_patching_result, x=token_labels, xaxis=\"Position\", yaxis=\"Layer\", title=\"Normalized Logit Difference After Patching Residual Stream on the IOI Task\")"
      ]
    },
    {
      "cell_type": "markdown",
      "metadata": {
        "id": "8wC3et-tbRkg"
      },
      "source": [
        "## Hooks: Accessing Activations"
      ]
    },
    {
      "cell_type": "markdown",
      "metadata": {
        "id": "A-V8qsdYbRkj"
      },
      "source": [
        "Hooks can also be used to just **access** an activation - to run some function using that activation value, *without* changing the activation value. This can be achieved by just having the hook return nothing, and not editing the activation in place.\n",
        "\n",
        "This is useful for eg extracting activations for a specific task, or for doing some long-running calculation across many inputs, eg finding the text that most activates a specific neuron. (Note - everything this can do *could* be done with `run_with_cache` and post-processing, but this workflow can be more intuitive and memory efficient.)"
      ]
    },
    {
      "cell_type": "markdown",
      "metadata": {
        "id": "nhVImj-CbRkk"
      },
      "source": [
        "To demonstrate this, let's look for **[induction heads](https://transformer-circuits.pub/2022/in-context-learning-and-induction-heads/index.html)** in GPT-2 Small.\n",
        "\n",
        "Induction circuits are a very important circuit in generative language models, which are used to detect and continue repeated subsequences. They consist of two heads in separate layers that compose together, a **previous token head** which always attends to the previous token, and an **induction head** which attends to the token *after* an earlier copy of the current token.\n",
        "\n",
        "To see why this is important, let's say that the model is trying to predict the next token in a news article about Michael Jordan. The token \" Michael\", in general, could be followed by many surnames. But an induction head will look from that occurence of \" Michael\" to the token after previous occurences of \" Michael\", ie \" Jordan\" and can confidently predict that that will come next."
      ]
    },
    {
      "cell_type": "markdown",
      "metadata": {
        "id": "7EgJnksebRkk"
      },
      "source": [
        "An interesting fact about induction heads is that they generalise to arbitrary sequences of repeated tokens. We can see this by generating sequences of 50 random tokens, repeated twice, and plotting the average loss at predicting the next token, by position. We see that the model goes from terrible to very good at the halfway point."
      ]
    },
    {
      "cell_type": "code",
      "execution_count": 18,
      "metadata": {
        "id": "nvcB96jwbRkk",
        "outputId": "3ca819a3-5661-4ac0-aa05-95bd203f4634"
      },
      "outputs": [
        {
          "data": {
            "text/html": [
              "<div>                            <div id=\"e4af4cca-9e9b-40dc-a637-b82043da1e4a\" class=\"plotly-graph-div\" style=\"height:525px; width:100%;\"></div>            <script type=\"text/javascript\">                require([\"plotly\"], function(Plotly) {                    window.PLOTLYENV=window.PLOTLYENV || {};                                    if (document.getElementById(\"e4af4cca-9e9b-40dc-a637-b82043da1e4a\")) {                    Plotly.newPlot(                        \"e4af4cca-9e9b-40dc-a637-b82043da1e4a\",                        [{\"hovertemplate\":\"variable=0\\u003cbr\\u003eindex=%{x}\\u003cbr\\u003evalue=%{y}\\u003cextra\\u003e\\u003c\\u002fextra\\u003e\",\"legendgroup\":\"0\",\"line\":{\"color\":\"#636efa\",\"dash\":\"solid\"},\"marker\":{\"symbol\":\"circle\"},\"mode\":\"lines\",\"name\":\"0\",\"orientation\":\"v\",\"showlegend\":true,\"x\":[0,1,2,3,4,5,6,7,8,9,10,11,12,13,14,15,16,17,18,19,20,21,22,23,24,25,26,27,28,29,30,31,32,33,34,35,36,37,38,39,40,41,42,43,44,45,46,47,48,49,50,51,52,53,54,55,56,57,58,59,60,61,62,63,64,65,66,67,68,69,70,71,72,73,74,75,76,77,78,79,80,81,82,83,84,85,86,87,88,89,90,91,92,93,94,95,96,97,98],\"xaxis\":\"x\",\"y\":[12.574289,12.680748,12.625709,13.527732,13.547379,12.850497,13.078757,12.084347,13.81516,12.3899975,11.743999,12.201709,12.202554,12.417897,12.061914,10.670786,12.003791,10.791815,12.737108,12.19307,13.233431,12.3642,11.669389,11.691277,11.632951,11.595713,11.974342,11.693685,10.929509,12.320754,11.241646,11.202243,11.279792,11.676122,10.6183,12.56696,11.079344,12.573713,10.899904,11.693228,10.782577,11.487318,11.026451,11.458517,12.391043,11.364487,11.263717,10.256915,11.255435,11.296194,2.7016606,1.7275326,0.9670906,0.28384033,0.38226992,0.26308712,0.32693455,0.26552975,0.24077094,0.18304725,0.098025054,0.33423036,0.15112145,0.0874722,0.012273647,0.03447293,0.3491331,0.10345151,0.20912342,0.14063092,0.12879764,0.03866172,0.039005868,0.14245002,0.026335409,0.06320394,0.072319664,0.107402086,0.100975335,0.021077124,0.030368388,0.0506076,0.05569612,0.023745246,0.018331034,0.071324006,0.098461024,0.06365906,0.049316585,0.012677051,0.029579345,0.065530404,0.087727815,0.10947857,0.060736783,0.10045927,0.101533554,0.19261937,0.16992061],\"yaxis\":\"y\",\"type\":\"scatter\"}],                        {\"template\":{\"data\":{\"histogram2dcontour\":[{\"type\":\"histogram2dcontour\",\"colorbar\":{\"outlinewidth\":0,\"ticks\":\"\"},\"colorscale\":[[0.0,\"#0d0887\"],[0.1111111111111111,\"#46039f\"],[0.2222222222222222,\"#7201a8\"],[0.3333333333333333,\"#9c179e\"],[0.4444444444444444,\"#bd3786\"],[0.5555555555555556,\"#d8576b\"],[0.6666666666666666,\"#ed7953\"],[0.7777777777777778,\"#fb9f3a\"],[0.8888888888888888,\"#fdca26\"],[1.0,\"#f0f921\"]]}],\"choropleth\":[{\"type\":\"choropleth\",\"colorbar\":{\"outlinewidth\":0,\"ticks\":\"\"}}],\"histogram2d\":[{\"type\":\"histogram2d\",\"colorbar\":{\"outlinewidth\":0,\"ticks\":\"\"},\"colorscale\":[[0.0,\"#0d0887\"],[0.1111111111111111,\"#46039f\"],[0.2222222222222222,\"#7201a8\"],[0.3333333333333333,\"#9c179e\"],[0.4444444444444444,\"#bd3786\"],[0.5555555555555556,\"#d8576b\"],[0.6666666666666666,\"#ed7953\"],[0.7777777777777778,\"#fb9f3a\"],[0.8888888888888888,\"#fdca26\"],[1.0,\"#f0f921\"]]}],\"heatmap\":[{\"type\":\"heatmap\",\"colorbar\":{\"outlinewidth\":0,\"ticks\":\"\"},\"colorscale\":[[0.0,\"#0d0887\"],[0.1111111111111111,\"#46039f\"],[0.2222222222222222,\"#7201a8\"],[0.3333333333333333,\"#9c179e\"],[0.4444444444444444,\"#bd3786\"],[0.5555555555555556,\"#d8576b\"],[0.6666666666666666,\"#ed7953\"],[0.7777777777777778,\"#fb9f3a\"],[0.8888888888888888,\"#fdca26\"],[1.0,\"#f0f921\"]]}],\"heatmapgl\":[{\"type\":\"heatmapgl\",\"colorbar\":{\"outlinewidth\":0,\"ticks\":\"\"},\"colorscale\":[[0.0,\"#0d0887\"],[0.1111111111111111,\"#46039f\"],[0.2222222222222222,\"#7201a8\"],[0.3333333333333333,\"#9c179e\"],[0.4444444444444444,\"#bd3786\"],[0.5555555555555556,\"#d8576b\"],[0.6666666666666666,\"#ed7953\"],[0.7777777777777778,\"#fb9f3a\"],[0.8888888888888888,\"#fdca26\"],[1.0,\"#f0f921\"]]}],\"contourcarpet\":[{\"type\":\"contourcarpet\",\"colorbar\":{\"outlinewidth\":0,\"ticks\":\"\"}}],\"contour\":[{\"type\":\"contour\",\"colorbar\":{\"outlinewidth\":0,\"ticks\":\"\"},\"colorscale\":[[0.0,\"#0d0887\"],[0.1111111111111111,\"#46039f\"],[0.2222222222222222,\"#7201a8\"],[0.3333333333333333,\"#9c179e\"],[0.4444444444444444,\"#bd3786\"],[0.5555555555555556,\"#d8576b\"],[0.6666666666666666,\"#ed7953\"],[0.7777777777777778,\"#fb9f3a\"],[0.8888888888888888,\"#fdca26\"],[1.0,\"#f0f921\"]]}],\"surface\":[{\"type\":\"surface\",\"colorbar\":{\"outlinewidth\":0,\"ticks\":\"\"},\"colorscale\":[[0.0,\"#0d0887\"],[0.1111111111111111,\"#46039f\"],[0.2222222222222222,\"#7201a8\"],[0.3333333333333333,\"#9c179e\"],[0.4444444444444444,\"#bd3786\"],[0.5555555555555556,\"#d8576b\"],[0.6666666666666666,\"#ed7953\"],[0.7777777777777778,\"#fb9f3a\"],[0.8888888888888888,\"#fdca26\"],[1.0,\"#f0f921\"]]}],\"mesh3d\":[{\"type\":\"mesh3d\",\"colorbar\":{\"outlinewidth\":0,\"ticks\":\"\"}}],\"scatter\":[{\"fillpattern\":{\"fillmode\":\"overlay\",\"size\":10,\"solidity\":0.2},\"type\":\"scatter\"}],\"parcoords\":[{\"type\":\"parcoords\",\"line\":{\"colorbar\":{\"outlinewidth\":0,\"ticks\":\"\"}}}],\"scatterpolargl\":[{\"type\":\"scatterpolargl\",\"marker\":{\"colorbar\":{\"outlinewidth\":0,\"ticks\":\"\"}}}],\"bar\":[{\"error_x\":{\"color\":\"#2a3f5f\"},\"error_y\":{\"color\":\"#2a3f5f\"},\"marker\":{\"line\":{\"color\":\"#E5ECF6\",\"width\":0.5},\"pattern\":{\"fillmode\":\"overlay\",\"size\":10,\"solidity\":0.2}},\"type\":\"bar\"}],\"scattergeo\":[{\"type\":\"scattergeo\",\"marker\":{\"colorbar\":{\"outlinewidth\":0,\"ticks\":\"\"}}}],\"scatterpolar\":[{\"type\":\"scatterpolar\",\"marker\":{\"colorbar\":{\"outlinewidth\":0,\"ticks\":\"\"}}}],\"histogram\":[{\"marker\":{\"pattern\":{\"fillmode\":\"overlay\",\"size\":10,\"solidity\":0.2}},\"type\":\"histogram\"}],\"scattergl\":[{\"type\":\"scattergl\",\"marker\":{\"colorbar\":{\"outlinewidth\":0,\"ticks\":\"\"}}}],\"scatter3d\":[{\"type\":\"scatter3d\",\"line\":{\"colorbar\":{\"outlinewidth\":0,\"ticks\":\"\"}},\"marker\":{\"colorbar\":{\"outlinewidth\":0,\"ticks\":\"\"}}}],\"scattermapbox\":[{\"type\":\"scattermapbox\",\"marker\":{\"colorbar\":{\"outlinewidth\":0,\"ticks\":\"\"}}}],\"scatterternary\":[{\"type\":\"scatterternary\",\"marker\":{\"colorbar\":{\"outlinewidth\":0,\"ticks\":\"\"}}}],\"scattercarpet\":[{\"type\":\"scattercarpet\",\"marker\":{\"colorbar\":{\"outlinewidth\":0,\"ticks\":\"\"}}}],\"carpet\":[{\"aaxis\":{\"endlinecolor\":\"#2a3f5f\",\"gridcolor\":\"white\",\"linecolor\":\"white\",\"minorgridcolor\":\"white\",\"startlinecolor\":\"#2a3f5f\"},\"baxis\":{\"endlinecolor\":\"#2a3f5f\",\"gridcolor\":\"white\",\"linecolor\":\"white\",\"minorgridcolor\":\"white\",\"startlinecolor\":\"#2a3f5f\"},\"type\":\"carpet\"}],\"table\":[{\"cells\":{\"fill\":{\"color\":\"#EBF0F8\"},\"line\":{\"color\":\"white\"}},\"header\":{\"fill\":{\"color\":\"#C8D4E3\"},\"line\":{\"color\":\"white\"}},\"type\":\"table\"}],\"barpolar\":[{\"marker\":{\"line\":{\"color\":\"#E5ECF6\",\"width\":0.5},\"pattern\":{\"fillmode\":\"overlay\",\"size\":10,\"solidity\":0.2}},\"type\":\"barpolar\"}],\"pie\":[{\"automargin\":true,\"type\":\"pie\"}]},\"layout\":{\"autotypenumbers\":\"strict\",\"colorway\":[\"#636efa\",\"#EF553B\",\"#00cc96\",\"#ab63fa\",\"#FFA15A\",\"#19d3f3\",\"#FF6692\",\"#B6E880\",\"#FF97FF\",\"#FECB52\"],\"font\":{\"color\":\"#2a3f5f\"},\"hovermode\":\"closest\",\"hoverlabel\":{\"align\":\"left\"},\"paper_bgcolor\":\"white\",\"plot_bgcolor\":\"#E5ECF6\",\"polar\":{\"bgcolor\":\"#E5ECF6\",\"angularaxis\":{\"gridcolor\":\"white\",\"linecolor\":\"white\",\"ticks\":\"\"},\"radialaxis\":{\"gridcolor\":\"white\",\"linecolor\":\"white\",\"ticks\":\"\"}},\"ternary\":{\"bgcolor\":\"#E5ECF6\",\"aaxis\":{\"gridcolor\":\"white\",\"linecolor\":\"white\",\"ticks\":\"\"},\"baxis\":{\"gridcolor\":\"white\",\"linecolor\":\"white\",\"ticks\":\"\"},\"caxis\":{\"gridcolor\":\"white\",\"linecolor\":\"white\",\"ticks\":\"\"}},\"coloraxis\":{\"colorbar\":{\"outlinewidth\":0,\"ticks\":\"\"}},\"colorscale\":{\"sequential\":[[0.0,\"#0d0887\"],[0.1111111111111111,\"#46039f\"],[0.2222222222222222,\"#7201a8\"],[0.3333333333333333,\"#9c179e\"],[0.4444444444444444,\"#bd3786\"],[0.5555555555555556,\"#d8576b\"],[0.6666666666666666,\"#ed7953\"],[0.7777777777777778,\"#fb9f3a\"],[0.8888888888888888,\"#fdca26\"],[1.0,\"#f0f921\"]],\"sequentialminus\":[[0.0,\"#0d0887\"],[0.1111111111111111,\"#46039f\"],[0.2222222222222222,\"#7201a8\"],[0.3333333333333333,\"#9c179e\"],[0.4444444444444444,\"#bd3786\"],[0.5555555555555556,\"#d8576b\"],[0.6666666666666666,\"#ed7953\"],[0.7777777777777778,\"#fb9f3a\"],[0.8888888888888888,\"#fdca26\"],[1.0,\"#f0f921\"]],\"diverging\":[[0,\"#8e0152\"],[0.1,\"#c51b7d\"],[0.2,\"#de77ae\"],[0.3,\"#f1b6da\"],[0.4,\"#fde0ef\"],[0.5,\"#f7f7f7\"],[0.6,\"#e6f5d0\"],[0.7,\"#b8e186\"],[0.8,\"#7fbc41\"],[0.9,\"#4d9221\"],[1,\"#276419\"]]},\"xaxis\":{\"gridcolor\":\"white\",\"linecolor\":\"white\",\"ticks\":\"\",\"title\":{\"standoff\":15},\"zerolinecolor\":\"white\",\"automargin\":true,\"zerolinewidth\":2},\"yaxis\":{\"gridcolor\":\"white\",\"linecolor\":\"white\",\"ticks\":\"\",\"title\":{\"standoff\":15},\"zerolinecolor\":\"white\",\"automargin\":true,\"zerolinewidth\":2},\"scene\":{\"xaxis\":{\"backgroundcolor\":\"#E5ECF6\",\"gridcolor\":\"white\",\"linecolor\":\"white\",\"showbackground\":true,\"ticks\":\"\",\"zerolinecolor\":\"white\",\"gridwidth\":2},\"yaxis\":{\"backgroundcolor\":\"#E5ECF6\",\"gridcolor\":\"white\",\"linecolor\":\"white\",\"showbackground\":true,\"ticks\":\"\",\"zerolinecolor\":\"white\",\"gridwidth\":2},\"zaxis\":{\"backgroundcolor\":\"#E5ECF6\",\"gridcolor\":\"white\",\"linecolor\":\"white\",\"showbackground\":true,\"ticks\":\"\",\"zerolinecolor\":\"white\",\"gridwidth\":2}},\"shapedefaults\":{\"line\":{\"color\":\"#2a3f5f\"}},\"annotationdefaults\":{\"arrowcolor\":\"#2a3f5f\",\"arrowhead\":0,\"arrowwidth\":1},\"geo\":{\"bgcolor\":\"white\",\"landcolor\":\"#E5ECF6\",\"subunitcolor\":\"white\",\"showland\":true,\"showlakes\":true,\"lakecolor\":\"white\"},\"title\":{\"x\":0.05},\"mapbox\":{\"style\":\"light\"}}},\"xaxis\":{\"anchor\":\"y\",\"domain\":[0.0,1.0],\"title\":{\"text\":\"index\"}},\"yaxis\":{\"anchor\":\"x\",\"domain\":[0.0,1.0],\"title\":{\"text\":\"value\"}},\"legend\":{\"title\":{\"text\":\"variable\"},\"tracegroupgap\":0},\"title\":{\"text\":\"Loss by position on random repeated tokens\"}},                        {\"responsive\": true}                    ).then(function(){\n",
              "                            \n",
              "var gd = document.getElementById('e4af4cca-9e9b-40dc-a637-b82043da1e4a');\n",
              "var x = new MutationObserver(function (mutations, observer) {{\n",
              "        var display = window.getComputedStyle(gd).display;\n",
              "        if (!display || display === 'none') {{\n",
              "            console.log([gd, 'removed!']);\n",
              "            Plotly.purge(gd);\n",
              "            observer.disconnect();\n",
              "        }}\n",
              "}});\n",
              "\n",
              "// Listen for the removal of the full notebook cells\n",
              "var notebookContainer = gd.closest('#notebook-container');\n",
              "if (notebookContainer) {{\n",
              "    x.observe(notebookContainer, {childList: true});\n",
              "}}\n",
              "\n",
              "// Listen for the clearing of the current output cell\n",
              "var outputEl = gd.closest('.output');\n",
              "if (outputEl) {{\n",
              "    x.observe(outputEl, {childList: true});\n",
              "}}\n",
              "\n",
              "                        })                };                });            </script>        </div>"
            ]
          },
          "metadata": {},
          "output_type": "display_data"
        }
      ],
      "source": [
        "batch_size = 10\n",
        "seq_len = 50\n",
        "size = (batch_size, seq_len)\n",
        "input_tensor = torch.randint(1000, 10000, size)\n",
        "\n",
        "random_tokens = input_tensor.to(model.cfg.device)\n",
        "repeated_tokens = einops.repeat(random_tokens, \"batch seq_len -> batch (2 seq_len)\")\n",
        "repeated_logits = model(repeated_tokens)\n",
        "correct_log_probs = model.loss_fn(repeated_logits, repeated_tokens, per_token=True)\n",
        "loss_by_position = einops.reduce(correct_log_probs, \"batch position -> position\", \"mean\")\n",
        "line(loss_by_position, xaxis=\"Position\", yaxis=\"Loss\", title=\"Loss by position on random repeated tokens\")"
      ]
    },
    {
      "cell_type": "markdown",
      "metadata": {
        "id": "z4SjOq_xbRkk"
      },
      "source": [
        "The induction heads will be attending from the second occurence of each token to the token *after* its first occurence, ie the token `50-1==49` places back. So by looking at the average attention paid 49 tokens back, we can identify induction heads! Let's define a hook to do this!\n",
        "\n",
        "<details><summary>Technical details</summary>\n",
        "\n",
        "* We attach the hook to the attention pattern activation. There's one big pattern activation per layer, stacked across all heads, so we need to do some tensor manipulation to get a per-head score.\n",
        "* Hook functions can access global state, so we make a big tensor to store the induction head score for each head, and then we just add the score for each head to the appropriate position in the tensor.\n",
        "* To get a single hook function that works for each layer, we use the `hook.layer()` method to get the layer index (internally this is just inferred from the hook names).\n",
        "* As we want to add this to *every* activation pattern hook point, rather than giving the string for an activation name, this time we give a **name filter**. This is a Boolean function on hook point names, and it adds the hook function to every hook point where the function evaluates as true.\n",
        "    * `run_with_hooks` allows us to enter a list of (act_name, hook_function) pairs to all be added at once, so we could also have done this by inputting a list with a hook for each layer.\n",
        "</details>"
      ]
    },
    {
      "cell_type": "code",
      "execution_count": 19,
      "metadata": {
        "id": "mCNN8lHjbRkk",
        "outputId": "3be2a391-9f6c-4c3e-a3dc-2b126d2e3f8d"
      },
      "outputs": [
        {
          "data": {
            "text/html": [
              "<div>                            <div id=\"dc6065a0-f970-4c15-8e3b-c91049c21ebb\" class=\"plotly-graph-div\" style=\"height:525px; width:100%;\"></div>            <script type=\"text/javascript\">                require([\"plotly\"], function(Plotly) {                    window.PLOTLYENV=window.PLOTLYENV || {};                                    if (document.getElementById(\"dc6065a0-f970-4c15-8e3b-c91049c21ebb\")) {                    Plotly.newPlot(                        \"dc6065a0-f970-4c15-8e3b-c91049c21ebb\",                        [{\"coloraxis\":\"coloraxis\",\"name\":\"0\",\"z\":[[0.010717708,0.00012434722,0.010522488,0.0000010014276,0.00017488007,0.00033412964,0.009625951,0.0006528221,0.0091216685,0.008984396,0.0066693574,0.015389165],[0.00045858164,0.0003747181,0.0020663736,0.0142914355,0.004940412,0.010845419,0.016407656,0.01301238,0.012550803,0.015949298,0.0064159245,0.00050287304],[0.0042920266,0.018677076,0.0017984888,0.0012860814,0.012744803,0.0022050058,0.0038617884,0.008445489,0.0036575946,0.0015866717,0.00067341013,0.010574165],[0.016845439,0.007002771,0.0029698582,0.009772492,0.021406941,0.015010044,0.0017293267,0.001590449,0.0064853006,0.0127741955,0.008988558,0.0066958973],[0.015884405,0.015379128,0.015804857,0.011556443,0.019157115,0.014552069,0.009210206,0.0023727613,0.017064223,0.015226639,0.019484844,7.650837e-9],[0.44412264,0.90545535,0.01418218,0.009891761,0.014117249,0.92956775,0.012948748,0.018328387,0.0275947,0.028349997,0.02122869,0.018519402],[0.0113665005,0.017090436,0.01993939,0.014627758,0.024930831,0.013032933,0.030829394,0.012655255,0.010297664,0.9217347,0.03606136,0.014507765],[0.009148334,0.1769286,0.8457381,0.018590178,0.017384145,0.018407164,0.048619945,0.09000702,0.016790455,0.018964589,0.9197351,0.06086974],[0.017604494,0.40570807,0.01612014,0.04764308,0.016881589,0.012717955,0.15659513,0.0117031485,0.03314664,0.032683317,0.070901476,0.025872935],[0.24959113,0.20106074,0.11101067,0.011705326,0.09413187,0.026007762,0.45253634,0.030209046,0.05158822,0.47482345,0.016126992,0.041163094],[0.33511388,0.50393593,0.0412033,0.14256607,0.05869797,0.015160604,0.29824033,0.48717314,0.055516094,0.014710206,0.16156763,0.26208097],[0.01724587,0.059463304,0.03695623,0.011039737,0.0373625,0.10233538,0.05478291,0.07719666,0.008896256,0.308685,0.39856437,0.025659]],\"type\":\"heatmap\",\"xaxis\":\"x\",\"yaxis\":\"y\",\"hovertemplate\":\"Head: %{x}\\u003cbr\\u003eLayer: %{y}\\u003cbr\\u003ecolor: %{z}\\u003cextra\\u003e\\u003c\\u002fextra\\u003e\"}],                        {\"template\":{\"data\":{\"histogram2dcontour\":[{\"type\":\"histogram2dcontour\",\"colorbar\":{\"outlinewidth\":0,\"ticks\":\"\"},\"colorscale\":[[0.0,\"#0d0887\"],[0.1111111111111111,\"#46039f\"],[0.2222222222222222,\"#7201a8\"],[0.3333333333333333,\"#9c179e\"],[0.4444444444444444,\"#bd3786\"],[0.5555555555555556,\"#d8576b\"],[0.6666666666666666,\"#ed7953\"],[0.7777777777777778,\"#fb9f3a\"],[0.8888888888888888,\"#fdca26\"],[1.0,\"#f0f921\"]]}],\"choropleth\":[{\"type\":\"choropleth\",\"colorbar\":{\"outlinewidth\":0,\"ticks\":\"\"}}],\"histogram2d\":[{\"type\":\"histogram2d\",\"colorbar\":{\"outlinewidth\":0,\"ticks\":\"\"},\"colorscale\":[[0.0,\"#0d0887\"],[0.1111111111111111,\"#46039f\"],[0.2222222222222222,\"#7201a8\"],[0.3333333333333333,\"#9c179e\"],[0.4444444444444444,\"#bd3786\"],[0.5555555555555556,\"#d8576b\"],[0.6666666666666666,\"#ed7953\"],[0.7777777777777778,\"#fb9f3a\"],[0.8888888888888888,\"#fdca26\"],[1.0,\"#f0f921\"]]}],\"heatmap\":[{\"type\":\"heatmap\",\"colorbar\":{\"outlinewidth\":0,\"ticks\":\"\"},\"colorscale\":[[0.0,\"#0d0887\"],[0.1111111111111111,\"#46039f\"],[0.2222222222222222,\"#7201a8\"],[0.3333333333333333,\"#9c179e\"],[0.4444444444444444,\"#bd3786\"],[0.5555555555555556,\"#d8576b\"],[0.6666666666666666,\"#ed7953\"],[0.7777777777777778,\"#fb9f3a\"],[0.8888888888888888,\"#fdca26\"],[1.0,\"#f0f921\"]]}],\"heatmapgl\":[{\"type\":\"heatmapgl\",\"colorbar\":{\"outlinewidth\":0,\"ticks\":\"\"},\"colorscale\":[[0.0,\"#0d0887\"],[0.1111111111111111,\"#46039f\"],[0.2222222222222222,\"#7201a8\"],[0.3333333333333333,\"#9c179e\"],[0.4444444444444444,\"#bd3786\"],[0.5555555555555556,\"#d8576b\"],[0.6666666666666666,\"#ed7953\"],[0.7777777777777778,\"#fb9f3a\"],[0.8888888888888888,\"#fdca26\"],[1.0,\"#f0f921\"]]}],\"contourcarpet\":[{\"type\":\"contourcarpet\",\"colorbar\":{\"outlinewidth\":0,\"ticks\":\"\"}}],\"contour\":[{\"type\":\"contour\",\"colorbar\":{\"outlinewidth\":0,\"ticks\":\"\"},\"colorscale\":[[0.0,\"#0d0887\"],[0.1111111111111111,\"#46039f\"],[0.2222222222222222,\"#7201a8\"],[0.3333333333333333,\"#9c179e\"],[0.4444444444444444,\"#bd3786\"],[0.5555555555555556,\"#d8576b\"],[0.6666666666666666,\"#ed7953\"],[0.7777777777777778,\"#fb9f3a\"],[0.8888888888888888,\"#fdca26\"],[1.0,\"#f0f921\"]]}],\"surface\":[{\"type\":\"surface\",\"colorbar\":{\"outlinewidth\":0,\"ticks\":\"\"},\"colorscale\":[[0.0,\"#0d0887\"],[0.1111111111111111,\"#46039f\"],[0.2222222222222222,\"#7201a8\"],[0.3333333333333333,\"#9c179e\"],[0.4444444444444444,\"#bd3786\"],[0.5555555555555556,\"#d8576b\"],[0.6666666666666666,\"#ed7953\"],[0.7777777777777778,\"#fb9f3a\"],[0.8888888888888888,\"#fdca26\"],[1.0,\"#f0f921\"]]}],\"mesh3d\":[{\"type\":\"mesh3d\",\"colorbar\":{\"outlinewidth\":0,\"ticks\":\"\"}}],\"scatter\":[{\"fillpattern\":{\"fillmode\":\"overlay\",\"size\":10,\"solidity\":0.2},\"type\":\"scatter\"}],\"parcoords\":[{\"type\":\"parcoords\",\"line\":{\"colorbar\":{\"outlinewidth\":0,\"ticks\":\"\"}}}],\"scatterpolargl\":[{\"type\":\"scatterpolargl\",\"marker\":{\"colorbar\":{\"outlinewidth\":0,\"ticks\":\"\"}}}],\"bar\":[{\"error_x\":{\"color\":\"#2a3f5f\"},\"error_y\":{\"color\":\"#2a3f5f\"},\"marker\":{\"line\":{\"color\":\"#E5ECF6\",\"width\":0.5},\"pattern\":{\"fillmode\":\"overlay\",\"size\":10,\"solidity\":0.2}},\"type\":\"bar\"}],\"scattergeo\":[{\"type\":\"scattergeo\",\"marker\":{\"colorbar\":{\"outlinewidth\":0,\"ticks\":\"\"}}}],\"scatterpolar\":[{\"type\":\"scatterpolar\",\"marker\":{\"colorbar\":{\"outlinewidth\":0,\"ticks\":\"\"}}}],\"histogram\":[{\"marker\":{\"pattern\":{\"fillmode\":\"overlay\",\"size\":10,\"solidity\":0.2}},\"type\":\"histogram\"}],\"scattergl\":[{\"type\":\"scattergl\",\"marker\":{\"colorbar\":{\"outlinewidth\":0,\"ticks\":\"\"}}}],\"scatter3d\":[{\"type\":\"scatter3d\",\"line\":{\"colorbar\":{\"outlinewidth\":0,\"ticks\":\"\"}},\"marker\":{\"colorbar\":{\"outlinewidth\":0,\"ticks\":\"\"}}}],\"scattermapbox\":[{\"type\":\"scattermapbox\",\"marker\":{\"colorbar\":{\"outlinewidth\":0,\"ticks\":\"\"}}}],\"scatterternary\":[{\"type\":\"scatterternary\",\"marker\":{\"colorbar\":{\"outlinewidth\":0,\"ticks\":\"\"}}}],\"scattercarpet\":[{\"type\":\"scattercarpet\",\"marker\":{\"colorbar\":{\"outlinewidth\":0,\"ticks\":\"\"}}}],\"carpet\":[{\"aaxis\":{\"endlinecolor\":\"#2a3f5f\",\"gridcolor\":\"white\",\"linecolor\":\"white\",\"minorgridcolor\":\"white\",\"startlinecolor\":\"#2a3f5f\"},\"baxis\":{\"endlinecolor\":\"#2a3f5f\",\"gridcolor\":\"white\",\"linecolor\":\"white\",\"minorgridcolor\":\"white\",\"startlinecolor\":\"#2a3f5f\"},\"type\":\"carpet\"}],\"table\":[{\"cells\":{\"fill\":{\"color\":\"#EBF0F8\"},\"line\":{\"color\":\"white\"}},\"header\":{\"fill\":{\"color\":\"#C8D4E3\"},\"line\":{\"color\":\"white\"}},\"type\":\"table\"}],\"barpolar\":[{\"marker\":{\"line\":{\"color\":\"#E5ECF6\",\"width\":0.5},\"pattern\":{\"fillmode\":\"overlay\",\"size\":10,\"solidity\":0.2}},\"type\":\"barpolar\"}],\"pie\":[{\"automargin\":true,\"type\":\"pie\"}]},\"layout\":{\"autotypenumbers\":\"strict\",\"colorway\":[\"#636efa\",\"#EF553B\",\"#00cc96\",\"#ab63fa\",\"#FFA15A\",\"#19d3f3\",\"#FF6692\",\"#B6E880\",\"#FF97FF\",\"#FECB52\"],\"font\":{\"color\":\"#2a3f5f\"},\"hovermode\":\"closest\",\"hoverlabel\":{\"align\":\"left\"},\"paper_bgcolor\":\"white\",\"plot_bgcolor\":\"#E5ECF6\",\"polar\":{\"bgcolor\":\"#E5ECF6\",\"angularaxis\":{\"gridcolor\":\"white\",\"linecolor\":\"white\",\"ticks\":\"\"},\"radialaxis\":{\"gridcolor\":\"white\",\"linecolor\":\"white\",\"ticks\":\"\"}},\"ternary\":{\"bgcolor\":\"#E5ECF6\",\"aaxis\":{\"gridcolor\":\"white\",\"linecolor\":\"white\",\"ticks\":\"\"},\"baxis\":{\"gridcolor\":\"white\",\"linecolor\":\"white\",\"ticks\":\"\"},\"caxis\":{\"gridcolor\":\"white\",\"linecolor\":\"white\",\"ticks\":\"\"}},\"coloraxis\":{\"colorbar\":{\"outlinewidth\":0,\"ticks\":\"\"}},\"colorscale\":{\"sequential\":[[0.0,\"#0d0887\"],[0.1111111111111111,\"#46039f\"],[0.2222222222222222,\"#7201a8\"],[0.3333333333333333,\"#9c179e\"],[0.4444444444444444,\"#bd3786\"],[0.5555555555555556,\"#d8576b\"],[0.6666666666666666,\"#ed7953\"],[0.7777777777777778,\"#fb9f3a\"],[0.8888888888888888,\"#fdca26\"],[1.0,\"#f0f921\"]],\"sequentialminus\":[[0.0,\"#0d0887\"],[0.1111111111111111,\"#46039f\"],[0.2222222222222222,\"#7201a8\"],[0.3333333333333333,\"#9c179e\"],[0.4444444444444444,\"#bd3786\"],[0.5555555555555556,\"#d8576b\"],[0.6666666666666666,\"#ed7953\"],[0.7777777777777778,\"#fb9f3a\"],[0.8888888888888888,\"#fdca26\"],[1.0,\"#f0f921\"]],\"diverging\":[[0,\"#8e0152\"],[0.1,\"#c51b7d\"],[0.2,\"#de77ae\"],[0.3,\"#f1b6da\"],[0.4,\"#fde0ef\"],[0.5,\"#f7f7f7\"],[0.6,\"#e6f5d0\"],[0.7,\"#b8e186\"],[0.8,\"#7fbc41\"],[0.9,\"#4d9221\"],[1,\"#276419\"]]},\"xaxis\":{\"gridcolor\":\"white\",\"linecolor\":\"white\",\"ticks\":\"\",\"title\":{\"standoff\":15},\"zerolinecolor\":\"white\",\"automargin\":true,\"zerolinewidth\":2},\"yaxis\":{\"gridcolor\":\"white\",\"linecolor\":\"white\",\"ticks\":\"\",\"title\":{\"standoff\":15},\"zerolinecolor\":\"white\",\"automargin\":true,\"zerolinewidth\":2},\"scene\":{\"xaxis\":{\"backgroundcolor\":\"#E5ECF6\",\"gridcolor\":\"white\",\"linecolor\":\"white\",\"showbackground\":true,\"ticks\":\"\",\"zerolinecolor\":\"white\",\"gridwidth\":2},\"yaxis\":{\"backgroundcolor\":\"#E5ECF6\",\"gridcolor\":\"white\",\"linecolor\":\"white\",\"showbackground\":true,\"ticks\":\"\",\"zerolinecolor\":\"white\",\"gridwidth\":2},\"zaxis\":{\"backgroundcolor\":\"#E5ECF6\",\"gridcolor\":\"white\",\"linecolor\":\"white\",\"showbackground\":true,\"ticks\":\"\",\"zerolinecolor\":\"white\",\"gridwidth\":2}},\"shapedefaults\":{\"line\":{\"color\":\"#2a3f5f\"}},\"annotationdefaults\":{\"arrowcolor\":\"#2a3f5f\",\"arrowhead\":0,\"arrowwidth\":1},\"geo\":{\"bgcolor\":\"white\",\"landcolor\":\"#E5ECF6\",\"subunitcolor\":\"white\",\"showland\":true,\"showlakes\":true,\"lakecolor\":\"white\"},\"title\":{\"x\":0.05},\"mapbox\":{\"style\":\"light\"}}},\"xaxis\":{\"anchor\":\"y\",\"domain\":[0.0,1.0],\"scaleanchor\":\"y\",\"constrain\":\"domain\",\"title\":{\"text\":\"Head\"}},\"yaxis\":{\"anchor\":\"x\",\"domain\":[0.0,1.0],\"autorange\":\"reversed\",\"constrain\":\"domain\",\"title\":{\"text\":\"Layer\"}},\"coloraxis\":{\"colorscale\":[[0.0,\"rgb(103,0,31)\"],[0.1,\"rgb(178,24,43)\"],[0.2,\"rgb(214,96,77)\"],[0.3,\"rgb(244,165,130)\"],[0.4,\"rgb(253,219,199)\"],[0.5,\"rgb(247,247,247)\"],[0.6,\"rgb(209,229,240)\"],[0.7,\"rgb(146,197,222)\"],[0.8,\"rgb(67,147,195)\"],[0.9,\"rgb(33,102,172)\"],[1.0,\"rgb(5,48,97)\"]],\"cmid\":0.0},\"title\":{\"text\":\"Induction Score by Head\"}},                        {\"responsive\": true}                    ).then(function(){\n",
              "                            \n",
              "var gd = document.getElementById('dc6065a0-f970-4c15-8e3b-c91049c21ebb');\n",
              "var x = new MutationObserver(function (mutations, observer) {{\n",
              "        var display = window.getComputedStyle(gd).display;\n",
              "        if (!display || display === 'none') {{\n",
              "            console.log([gd, 'removed!']);\n",
              "            Plotly.purge(gd);\n",
              "            observer.disconnect();\n",
              "        }}\n",
              "}});\n",
              "\n",
              "// Listen for the removal of the full notebook cells\n",
              "var notebookContainer = gd.closest('#notebook-container');\n",
              "if (notebookContainer) {{\n",
              "    x.observe(notebookContainer, {childList: true});\n",
              "}}\n",
              "\n",
              "// Listen for the clearing of the current output cell\n",
              "var outputEl = gd.closest('.output');\n",
              "if (outputEl) {{\n",
              "    x.observe(outputEl, {childList: true});\n",
              "}}\n",
              "\n",
              "                        })                };                });            </script>        </div>"
            ]
          },
          "metadata": {},
          "output_type": "display_data"
        }
      ],
      "source": [
        "# We make a tensor to store the induction score for each head. We put it on the model's device to avoid needing to move things between the GPU and CPU, which can be slow.\n",
        "induction_score_store = torch.zeros((model.cfg.n_layers, model.cfg.n_heads), device=model.cfg.device)\n",
        "def induction_score_hook(\n",
        "    pattern: Float[torch.Tensor, \"batch head_index dest_pos source_pos\"],\n",
        "    hook: HookPoint,\n",
        "):\n",
        "    # We take the diagonal of attention paid from each destination position to source positions seq_len-1 tokens back\n",
        "    # (This only has entries for tokens with index>=seq_len)\n",
        "    induction_stripe = pattern.diagonal(dim1=-2, dim2=-1, offset=1-seq_len)\n",
        "    # Get an average score per head\n",
        "    induction_score = einops.reduce(induction_stripe, \"batch head_index position -> head_index\", \"mean\")\n",
        "    # Store the result.\n",
        "    induction_score_store[hook.layer(), :] = induction_score\n",
        "\n",
        "# We make a boolean filter on activation names, that's true only on attention pattern names.\n",
        "pattern_hook_names_filter = lambda name: name.endswith(\"pattern\")\n",
        "\n",
        "model.run_with_hooks(\n",
        "    repeated_tokens,\n",
        "    return_type=None, # For efficiency, we don't need to calculate the logits\n",
        "    fwd_hooks=[(\n",
        "        pattern_hook_names_filter,\n",
        "        induction_score_hook\n",
        "    )]\n",
        ")\n",
        "\n",
        "imshow(induction_score_store, xaxis=\"Head\", yaxis=\"Layer\", title=\"Induction Score by Head\")"
      ]
    },
    {
      "cell_type": "markdown",
      "metadata": {
        "id": "ts9Y3-3YbRkk"
      },
      "source": [
        "Head 5 in Layer 5 scores extremely highly on this score, and we can feed in a shorter repeated random sequence, visualize the attention pattern for it and see this directly - including the \"induction stripe\" at `seq_len-1` tokens back.\n",
        "\n",
        "This time we put in a hook on the attention pattern activation to visualize the pattern of the relevant head."
      ]
    },
    {
      "cell_type": "code",
      "execution_count": 20,
      "metadata": {
        "id": "uV-mj5yqbRkk",
        "outputId": "9cd1f9c7-a1db-4366-80a9-f30f74826433"
      },
      "outputs": [
        {
          "data": {
            "text/html": [
              "<div id=\"circuits-vis-9bbd014d-ed0b\" style=\"margin: 15px 0;\"/>\n",
              "    <script crossorigin type=\"module\">\n",
              "    import { render, AttentionPatterns } from \"https://unpkg.com/circuitsvis@1.43.2/dist/cdn/esm.js\";\n",
              "    render(\n",
              "      \"circuits-vis-9bbd014d-ed0b\",\n",
              "      AttentionPatterns,\n",
              "      {\"tokens\": [\" terr\", \" everyone\", \" hook\", \"ez\", \" rat\", \" strateg\", \"sw\", \" bas\", \"anish\", \" spin\", \" leads\", \"atural\", \" roster\", \" taking\", \" thick\", \" li\", \" 77\", \" entitled\", \"Ex\", \" customers\", \" terr\", \" everyone\", \" hook\", \"ez\", \" rat\", \" strateg\", \"sw\", \" bas\", \"anish\", \" spin\", \" leads\", \"atural\", \" roster\", \" taking\", \" thick\", \" li\", \" 77\", \" entitled\", \"Ex\", \" customers\"], \"attention\": [[[1.0, 0.0, 0.0, 0.0, 0.0, 0.0, 0.0, 0.0, 0.0, 0.0, 0.0, 0.0, 0.0, 0.0, 0.0, 0.0, 0.0, 0.0, 0.0, 0.0, 0.0, 0.0, 0.0, 0.0, 0.0, 0.0, 0.0, 0.0, 0.0, 0.0, 0.0, 0.0, 0.0, 0.0, 0.0, 0.0, 0.0, 0.0, 0.0, 0.0], [0.9832572340965271, 0.01674271561205387, 0.0, 0.0, 0.0, 0.0, 0.0, 0.0, 0.0, 0.0, 0.0, 0.0, 0.0, 0.0, 0.0, 0.0, 0.0, 0.0, 0.0, 0.0, 0.0, 0.0, 0.0, 0.0, 0.0, 0.0, 0.0, 0.0, 0.0, 0.0, 0.0, 0.0, 0.0, 0.0, 0.0, 0.0, 0.0, 0.0, 0.0, 0.0], [0.9995105266571045, 0.00014164322055876255, 0.0003477917634882033, 0.0, 0.0, 0.0, 0.0, 0.0, 0.0, 0.0, 0.0, 0.0, 0.0, 0.0, 0.0, 0.0, 0.0, 0.0, 0.0, 0.0, 0.0, 0.0, 0.0, 0.0, 0.0, 0.0, 0.0, 0.0, 0.0, 0.0, 0.0, 0.0, 0.0, 0.0, 0.0, 0.0, 0.0, 0.0, 0.0, 0.0], [0.9711694121360779, 9.730048623168841e-05, 3.5545843275031075e-05, 0.02869773469865322, 0.0, 0.0, 0.0, 0.0, 0.0, 0.0, 0.0, 0.0, 0.0, 0.0, 0.0, 0.0, 0.0, 0.0, 0.0, 0.0, 0.0, 0.0, 0.0, 0.0, 0.0, 0.0, 0.0, 0.0, 0.0, 0.0, 0.0, 0.0, 0.0, 0.0, 0.0, 0.0, 0.0, 0.0, 0.0, 0.0], [0.9544782638549805, 0.024063941091299057, 0.002311534248292446, 0.0056016030721366405, 0.013544728979468346, 0.0, 0.0, 0.0, 0.0, 0.0, 0.0, 0.0, 0.0, 0.0, 0.0, 0.0, 0.0, 0.0, 0.0, 0.0, 0.0, 0.0, 0.0, 0.0, 0.0, 0.0, 0.0, 0.0, 0.0, 0.0, 0.0, 0.0, 0.0, 0.0, 0.0, 0.0, 0.0, 0.0, 0.0, 0.0], [0.9612995982170105, 0.00943034514784813, 0.015776433050632477, 0.001973235746845603, 0.0005141636938787997, 0.011006166227161884, 0.0, 0.0, 0.0, 0.0, 0.0, 0.0, 0.0, 0.0, 0.0, 0.0, 0.0, 0.0, 0.0, 0.0, 0.0, 0.0, 0.0, 0.0, 0.0, 0.0, 0.0, 0.0, 0.0, 0.0, 0.0, 0.0, 0.0, 0.0, 0.0, 0.0, 0.0, 0.0, 0.0, 0.0], [0.9854757189750671, 0.0052730306051671505, 0.0005267513915896416, 8.481124677928165e-05, 0.00821907538920641, 0.0003860195865854621, 3.455467594903894e-05, 0.0, 0.0, 0.0, 0.0, 0.0, 0.0, 0.0, 0.0, 0.0, 0.0, 0.0, 0.0, 0.0, 0.0, 0.0, 0.0, 0.0, 0.0, 0.0, 0.0, 0.0, 0.0, 0.0, 0.0, 0.0, 0.0, 0.0, 0.0, 0.0, 0.0, 0.0, 0.0, 0.0], [0.9899656772613525, 0.004587455186992884, 0.0001023372751660645, 0.00011789060954470187, 0.00024142891925293952, 0.0039399974048137665, 0.0009492477984167635, 9.588863758835942e-05, 0.0, 0.0, 0.0, 0.0, 0.0, 0.0, 0.0, 0.0, 0.0, 0.0, 0.0, 0.0, 0.0, 0.0, 0.0, 0.0, 0.0, 0.0, 0.0, 0.0, 0.0, 0.0, 0.0, 0.0, 0.0, 0.0, 0.0, 0.0, 0.0, 0.0, 0.0, 0.0], [0.9765217304229736, 9.440558642381802e-05, 0.005782643333077431, 1.4403612112801056e-05, 0.00214375089854002, 0.0044933813624084, 1.1801829714386258e-05, 0.0010687800822779536, 0.009869109839200974, 0.0, 0.0, 0.0, 0.0, 0.0, 0.0, 0.0, 0.0, 0.0, 0.0, 0.0, 0.0, 0.0, 0.0, 0.0, 0.0, 0.0, 0.0, 0.0, 0.0, 0.0, 0.0, 0.0, 0.0, 0.0, 0.0, 0.0, 0.0, 0.0, 0.0, 0.0], [0.9561832547187805, 0.0004051859141327441, 0.00011043766426155344, 8.921978587750345e-05, 0.00013903256331104785, 0.00349172530695796, 0.002065781271085143, 0.001883156131953001, 0.03411083668470383, 0.001521371304988861, 0.0, 0.0, 0.0, 0.0, 0.0, 0.0, 0.0, 0.0, 0.0, 0.0, 0.0, 0.0, 0.0, 0.0, 0.0, 0.0, 0.0, 0.0, 0.0, 0.0, 0.0, 0.0, 0.0, 0.0, 0.0, 0.0, 0.0, 0.0, 0.0, 0.0], [0.7454987168312073, 8.55919934110716e-05, 7.13337940396741e-05, 0.002253409242257476, 0.0006840646383352578, 0.0016734518576413393, 0.0007651376072317362, 0.001848724321462214, 0.20442984998226166, 0.005032941699028015, 0.03765685111284256, 0.0, 0.0, 0.0, 0.0, 0.0, 0.0, 0.0, 0.0, 0.0, 0.0, 0.0, 0.0, 0.0, 0.0, 0.0, 0.0, 0.0, 0.0, 0.0, 0.0, 0.0, 0.0, 0.0, 0.0, 0.0, 0.0, 0.0, 0.0, 0.0], [0.9691113233566284, 0.0004768531653098762, 0.004697175230830908, 1.8574000932858326e-06, 5.566108666243963e-05, 0.00014281044423114508, 1.9604449335020036e-05, 0.0034996704198420048, 0.001164456713013351, 0.01877947524189949, 0.001972029684111476, 7.906352402642369e-05, 0.0, 0.0, 0.0, 0.0, 0.0, 0.0, 0.0, 0.0, 0.0, 0.0, 0.0, 0.0, 0.0, 0.0, 0.0, 0.0, 0.0, 0.0, 0.0, 0.0, 0.0, 0.0, 0.0, 0.0, 0.0, 0.0, 0.0, 0.0], [0.9898899793624878, 0.0017029285663738847, 0.003872793633490801, 4.603793058777228e-05, 6.783115532016382e-05, 0.0002738788607530296, 4.9381695134798065e-05, 0.0006173274014145136, 0.0012056089472025633, 0.0009422980365343392, 0.00020304482313804328, 0.00028727480093948543, 0.0008416407508775592, 0.0, 0.0, 0.0, 0.0, 0.0, 0.0, 0.0, 0.0, 0.0, 0.0, 0.0, 0.0, 0.0, 0.0, 0.0, 0.0, 0.0, 0.0, 0.0, 0.0, 0.0, 0.0, 0.0, 0.0, 0.0, 0.0, 0.0], [0.9873586297035217, 0.00026214407989755273, 0.005302723031491041, 0.0003521749167703092, 0.0006327832816168666, 0.0002193466789321974, 1.940419497259427e-05, 0.00023628149938303977, 0.00047471941797994077, 6.029802898410708e-05, 0.0014951113844290376, 0.0005960303242318332, 0.001938198460265994, 0.0010521573713049293, 0.0, 0.0, 0.0, 0.0, 0.0, 0.0, 0.0, 0.0, 0.0, 0.0, 0.0, 0.0, 0.0, 0.0, 0.0, 0.0, 0.0, 0.0, 0.0, 0.0, 0.0, 0.0, 0.0, 0.0, 0.0, 0.0], [0.9608042240142822, 0.0012605412630364299, 8.29441923997365e-05, 0.00020039320224896073, 0.0002013464254559949, 0.0005803194362670183, 1.0701634892029688e-05, 0.00198498391546309, 0.023208141326904297, 0.00012063856411259621, 0.0007716505788266659, 0.0009401108254678547, 0.009455014951527119, 4.290133347240044e-06, 0.00037465523928403854, 0.0, 0.0, 0.0, 0.0, 0.0, 0.0, 0.0, 0.0, 0.0, 0.0, 0.0, 0.0, 0.0, 0.0, 0.0, 0.0, 0.0, 0.0, 0.0, 0.0, 0.0, 0.0, 0.0, 0.0, 0.0], [0.9964197874069214, 0.0001605255383765325, 0.00012653160956688225, 3.814226511167362e-05, 0.00038535366184078157, 0.0010346946073696017, 1.1520301086420659e-05, 3.354240834596567e-05, 0.00022417774016503245, 0.0002971612266264856, 8.415489719482139e-05, 4.5070864871377125e-05, 0.00035101009416393936, 5.1511979108909145e-05, 0.00028170045698061585, 0.00045517730177380145, 0.0, 0.0, 0.0, 0.0, 0.0, 0.0, 0.0, 0.0, 0.0, 0.0, 0.0, 0.0, 0.0, 0.0, 0.0, 0.0, 0.0, 0.0, 0.0, 0.0, 0.0, 0.0, 0.0, 0.0], [0.9944485425949097, 0.0012642776127904654, 0.00046885310439392924, 1.8319002492717118e-06, 7.062334771035239e-05, 0.00015117164002731442, 2.4098205813061213e-06, 0.0003017963608726859, 0.0006944011547602713, 0.00142667256295681, 2.7597184271144215e-06, 2.079540900012944e-05, 0.00023887903080321848, 3.81724166800268e-05, 8.050642463786062e-06, 0.00011749345139833167, 0.0007433468126691878, 0.0, 0.0, 0.0, 0.0, 0.0, 0.0, 0.0, 0.0, 0.0, 0.0, 0.0, 0.0, 0.0, 0.0, 0.0, 0.0, 0.0, 0.0, 0.0, 0.0, 0.0, 0.0, 0.0], [0.9624388217926025, 0.0004977963399142027, 4.526592601905577e-05, 2.57552846960607e-06, 0.0005308776744641364, 0.0003653271996881813, 6.409270554286195e-06, 0.0009390646009705961, 0.006063828244805336, 0.0051893070340156555, 0.00013986929843667895, 0.0007757330313324928, 0.013491949066519737, 0.0003616097674239427, 0.0015025102766230702, 0.004251329228281975, 0.0015579676255583763, 0.0018398268148303032, 0.0, 0.0, 0.0, 0.0, 0.0, 0.0, 0.0, 0.0, 0.0, 0.0, 0.0, 0.0, 0.0, 0.0, 0.0, 0.0, 0.0, 0.0, 0.0, 0.0, 0.0, 0.0], [0.9751700758934021, 7.951810403028503e-06, 1.9110979337710887e-05, 3.17841625019355e-07, 0.000633101153653115, 0.00011389339488232508, 4.5942742872284725e-06, 4.010747215943411e-05, 0.0009777368977665901, 0.005720615386962891, 0.003197604091838002, 0.00046576562453992665, 0.008920910768210888, 7.88715697126463e-05, 0.0004062882508151233, 0.00020025738922413439, 0.0016472958959639072, 0.0003251859452575445, 0.0020702786277979612, 0.0, 0.0, 0.0, 0.0, 0.0, 0.0, 0.0, 0.0, 0.0, 0.0, 0.0, 0.0, 0.0, 0.0, 0.0, 0.0, 0.0, 0.0, 0.0, 0.0, 0.0], [0.9111273884773254, 0.0005629995721392334, 0.03251275792717934, 8.755242743063718e-05, 0.002877175807952881, 0.0023664385080337524, 0.0013335676630958915, 0.001505075255408883, 0.0014702901244163513, 0.007572314236313105, 0.0012795316288247705, 0.0004521141527220607, 0.0016192065086215734, 0.0066807153634727, 0.004900924861431122, 5.413128747022711e-05, 0.00025726022431626916, 0.0017740462208166718, 0.004151263274252415, 0.017415214329957962, 0.0, 0.0, 0.0, 0.0, 0.0, 0.0, 0.0, 0.0, 0.0, 0.0, 0.0, 0.0, 0.0, 0.0, 0.0, 0.0, 0.0, 0.0, 0.0, 0.0], [0.021692443639039993, 0.974457859992981, 0.0014444115804508328, 3.3790677207434783e-06, 3.280276359873824e-05, 0.0004082238010596484, 0.00018241710495203733, 0.00032785721123218536, 0.0007043032674118876, 0.00021695812756661326, 3.6343767533253413e-06, 6.270409471653693e-07, 6.639700586674735e-05, 5.000994497095235e-05, 4.0044670868155663e-07, 5.2724872148246504e-06, 1.4125929737929255e-05, 0.00012907733616884798, 0.00011558218102436513, 2.783402351269615e-06, 0.00014134454249870032, 0.0, 0.0, 0.0, 0.0, 0.0, 0.0, 0.0, 0.0, 0.0, 0.0, 0.0, 0.0, 0.0, 0.0, 0.0, 0.0, 0.0, 0.0, 0.0], [0.09354579448699951, 0.004997003823518753, 0.7968989014625549, 9.014180977828801e-05, 0.00012402869469951838, 0.0003405434836167842, 0.00011751707643270493, 0.0007568946457467973, 0.0005083726136945188, 0.0020223469473421574, 4.600007741828449e-05, 9.023421625897754e-06, 0.001284757163375616, 0.003450979944318533, 0.00023129070177674294, 0.0003869114734698087, 0.0007520971703343093, 0.0021067282650619745, 0.00026509619783610106, 4.482419171836227e-05, 0.014977735467255116, 0.07704296708106995, 0.0, 0.0, 0.0, 0.0, 0.0, 0.0, 0.0, 0.0, 0.0, 0.0, 0.0, 0.0, 0.0, 0.0, 0.0, 0.0, 0.0, 0.0], [0.03428218141198158, 0.0002530438359826803, 7.467794785043225e-05, 0.938552737236023, 0.007248883601278067, 0.004308668896555901, 8.559550042264163e-05, 0.00045490326010622084, 0.008954532444477081, 5.8228502894053236e-05, 0.0002591150114312768, 0.0018967431969940662, 0.00047639617696404457, 6.825631771789631e-06, 0.00011048826854676008, 0.0007891118875704706, 0.0007790085510350764, 0.00019409389642532915, 0.00013408355880528688, 5.703365786757786e-06, 0.0007280816207639873, 0.00012824138684663922, 0.0002186376805184409, 0.0, 0.0, 0.0, 0.0, 0.0, 0.0, 0.0, 0.0, 0.0, 0.0, 0.0, 0.0, 0.0, 0.0, 0.0, 0.0, 0.0], [0.022550949826836586, 3.406425821594894e-05, 3.4697823139140382e-06, 0.0004712104273494333, 0.9697492122650146, 0.0019866996444761753, 6.2403006495515e-07, 0.0005439351079985499, 0.0007456360617652535, 0.00023345500812865794, 5.164670801605098e-05, 0.00010541545634623617, 6.397630932042375e-05, 3.3127386700471106e-07, 2.2066733436076902e-05, 2.8084848509024596e-06, 0.0006116863223724067, 4.471483043744229e-05, 2.7140658858115785e-05, 3.422472582315095e-05, 0.001661014510318637, 3.524788189679384e-05, 2.2811011604062514e-06, 0.0010182640980929136, 0.0, 0.0, 0.0, 0.0, 0.0, 0.0, 0.0, 0.0, 0.0, 0.0, 0.0, 0.0, 0.0, 0.0, 0.0, 0.0], [0.022036882117390633, 0.006212480831891298, 4.024701047455892e-05, 0.0002697842719499022, 0.0008042630506679416, 0.9533016085624695, 0.0028249553870409727, 0.00012516221613623202, 0.0048384652473032475, 0.00024346426653210074, 0.00012510039960034192, 3.1387939998239744e-06, 5.4296971939038485e-05, 6.218953672032512e-07, 1.1222800821997225e-05, 7.573101356683765e-06, 0.00010994701733579859, 3.0295439501060173e-05, 6.743285211996408e-06, 3.8116456835268764e-06, 9.882137965178117e-05, 0.0015023655723780394, 3.46225751854945e-05, 0.003219463163986802, 0.004094691015779972, 0.0, 0.0, 0.0, 0.0, 0.0, 0.0, 0.0, 0.0, 0.0, 0.0, 0.0, 0.0, 0.0, 0.0, 0.0], [0.012204397469758987, 0.0009504331974312663, 0.00017623967141844332, 4.382235783850774e-05, 1.9998999050585553e-05, 0.0011536855017766356, 0.9741191864013672, 0.0007007941021583974, 0.0032570548355579376, 7.123641262296587e-05, 0.000640108366496861, 2.7607013180386275e-05, 0.0008258813759312034, 4.451501081348397e-05, 5.166495975572616e-05, 1.962047281267587e-05, 1.973087819351349e-05, 1.0896323146880604e-05, 2.851470526366029e-06, 1.976200655917637e-05, 0.00039630979881621897, 0.0003915645647794008, 0.0002246215008199215, 0.0021260681096464396, 5.6759585277177393e-05, 0.0024450833443552256, 0.0, 0.0, 0.0, 0.0, 0.0, 0.0, 0.0, 0.0, 0.0, 0.0, 0.0, 0.0, 0.0, 0.0], [0.004918069113045931, 0.00012627449177671224, 1.0787709470605478e-05, 1.9645237898657797e-06, 0.00015572071424685419, 3.156398452119902e-05, 3.230743232052191e-06, 0.9923088550567627, 0.0014299300964921713, 6.318136729532853e-05, 3.8938236684771255e-05, 4.779886239703046e-06, 0.0003614736197050661, 2.6894299480773043e-06, 8.450537620774412e-07, 1.5463294403161854e-05, 4.3392736870373483e-07, 5.029377462051343e-06, 1.0330621989851352e-05, 3.5936605513597897e-07, 3.617027687141672e-05, 2.3548076569568366e-05, 3.828871740552131e-06, 4.5618107833433896e-05, 0.0003756313817575574, 1.6768766727182083e-05, 8.527206773578655e-06, 0.0, 0.0, 0.0, 0.0, 0.0, 0.0, 0.0, 0.0, 0.0, 0.0, 0.0, 0.0, 0.0], [0.013991623185575008, 0.00021659801132045686, 1.5073924259922933e-06, 2.6520228857407346e-06, 8.421362508670427e-06, 0.00016989934374578297, 1.069962490873877e-05, 4.431524757819716e-06, 0.9479547739028931, 0.0017938335658982396, 0.0010300897993147373, 0.03208012878894806, 0.000659130746498704, 3.992048732470721e-05, 8.784509191173129e-06, 0.0008215862908400595, 0.00015717167116235942, 0.00012393691577017307, 0.0005350468563847244, 7.12452019797638e-05, 0.00013387133367359638, 1.5619540135958232e-05, 6.539623313983611e-07, 1.6879152099136263e-05, 6.544705229316605e-06, 0.00010709635535022244, 3.569481850718148e-05, 2.0918971586070256e-06, 0.0, 0.0, 0.0, 0.0, 0.0, 0.0, 0.0, 0.0, 0.0, 0.0, 0.0, 0.0], [0.03148255869746208, 2.1867786927032284e-05, 0.00031082925852388144, 4.0148771063286404e-07, 8.840185182634741e-05, 0.0003145385126117617, 1.1560030088730855e-06, 3.8987745938356966e-05, 0.005143142305314541, 0.950839638710022, 0.0002230916143162176, 7.629492756677791e-05, 0.0034379130229353905, 0.0002070253249257803, 5.487678663484985e-06, 5.089040860184468e-05, 1.361263457511086e-05, 0.0008139165583997965, 0.00042556817061267793, 0.0006708807777613401, 0.00440779235213995, 1.9214914573240094e-05, 0.0001587440783623606, 1.3979768027638784e-06, 4.4691529183182865e-05, 5.56183404114563e-05, 1.7520884512123303e-06, 1.815008363337256e-05, 0.001126272021792829, 0.0, 0.0, 0.0, 0.0, 0.0, 0.0, 0.0, 0.0, 0.0, 0.0, 0.0], [0.005379664245992899, 1.2091628377675079e-05, 1.4815813074164907e-06, 6.268398351494398e-07, 1.5752951867398224e-06, 7.38131784601137e-05, 4.894653829978779e-05, 2.7005440642824396e-05, 0.0036294336896389723, 7.876817835494876e-05, 0.987832248210907, 3.8178688555490226e-05, 0.0007431190460920334, 1.1606263115027105e-06, 4.612687916960567e-05, 0.0001464549422962591, 1.2597069144248962e-05, 1.0487995041330578e-06, 1.2129250990255969e-06, 0.00011469373566797003, 5.7862689573084936e-05, 5.350524929781386e-07, 1.0481016943231225e-06, 7.4312852120783646e-06, 3.123916030745022e-06, 6.484263576567173e-05, 6.736879731761292e-05, 3.5535984352463856e-05, 0.00156063970644027, 1.1455014828243293e-05, 0.0, 0.0, 0.0, 0.0, 0.0, 0.0, 0.0, 0.0, 0.0, 0.0], [0.019431699067354202, 4.932120191369904e-06, 7.691243695262528e-07, 4.161931065027602e-05, 1.56127516675042e-05, 3.743918932741508e-05, 2.5551866201567464e-05, 4.629572867997922e-05, 0.040451906621456146, 9.277783101424575e-05, 0.0036293156445026398, 0.8692180514335632, 0.005723278503865004, 3.691101665026508e-05, 0.0006664852844551206, 0.0021964607294648886, 2.6164598239120096e-05, 4.129637818550691e-05, 0.00025547004770487547, 0.00040621316293254495, 0.00044647452887147665, 6.050193519513414e-07, 3.5810509757538966e-07, 4.150508175371215e-05, 7.33566685084952e-06, 1.5344670828199014e-05, 1.5517363863182254e-05, 1.4775344425288495e-05, 0.05498321354389191, 4.7661520511610433e-05, 0.0020788481924682856, 0.0, 0.0, 0.0, 0.0, 0.0, 0.0, 0.0, 0.0, 0.0], [0.1234067976474762, 0.0003849861677736044, 0.0011307746171951294, 3.3101205332286554e-08, 5.020605840400094e-06, 1.642721144889947e-05, 7.63813113735523e-06, 0.0002038207749137655, 0.0018196996534243226, 0.017511487007141113, 0.0008134440868161619, 3.0375158530659974e-05, 0.8177106976509094, 8.005620475159958e-05, 0.00024750130251049995, 0.004085930064320564, 3.3732849260559306e-05, 0.0002733975416049361, 0.002206376986578107, 0.013423741795122623, 0.0014561588177457452, 6.664342799922451e-05, 0.00034466059878468513, 6.894098305565421e-07, 1.9198423615307547e-06, 1.902563667499635e-06, 4.009737040178152e-06, 2.8911794288433157e-05, 0.00019129978318233043, 0.013487705029547215, 0.0009680415969341993, 5.6104574468918145e-05, 0.0, 0.0, 0.0, 0.0, 0.0, 0.0, 0.0, 0.0], [0.14874151349067688, 0.0020259234588593245, 0.003062909236177802, 3.4921140468213707e-06, 4.451054792298237e-06, 9.792128366825636e-06, 1.0132625902770087e-05, 5.629862062050961e-05, 0.000657266064081341, 0.0003786733723245561, 6.199141353135929e-05, 5.4893491324037313e-05, 0.001012225286103785, 0.822571337223053, 0.0013720638817176223, 6.268525612540543e-05, 9.417551336809993e-05, 0.0009586709784343839, 0.0003199614875484258, 0.00031480396864935756, 0.012195228599011898, 0.001993639627471566, 0.001989484764635563, 5.2084102208027616e-05, 1.5872054746068898e-06, 1.842281221797748e-06, 8.80944116943283e-06, 1.3902365026297048e-05, 6.195459718583152e-05, 0.0005777031183242798, 4.8031659389380366e-05, 7.547740824520588e-05, 0.0012070904485881329, 0.0, 0.0, 0.0, 0.0, 0.0, 0.0, 0.0], [0.05008412152528763, 2.5277160602854565e-05, 0.0006500999443233013, 4.6412831579800695e-05, 2.386108462815173e-05, 4.8987990339810494e-06, 1.15559362257045e-06, 7.743537935311906e-06, 0.00013698420661967248, 5.230374426901108e-06, 0.00010360819578636438, 7.102920062607154e-05, 0.00028287555323913693, 6.723857222823426e-05, 0.9440456032752991, 0.0008156101685017347, 0.0011013993062078953, 5.329855775926262e-05, 1.0778124305943493e-05, 6.921831663930789e-05, 0.0013558217324316502, 6.509858394565526e-06, 0.00025292555801570415, 9.607995161786675e-05, 1.0879973160626832e-05, 1.1569864000193775e-06, 1.760129975991731e-06, 6.970327603994519e-07, 1.5909012290649116e-05, 1.014455392578384e-06, 5.318897819961421e-05, 0.00035446113906800747, 0.0001299783180002123, 0.00011311617708997801, 0.0, 0.0, 0.0, 0.0, 0.0, 0.0], [0.015150603838264942, 2.2634660126641393e-05, 2.222066086687846e-06, 3.4141692140110536e-06, 1.6452756881335517e-06, 4.814337444258854e-06, 7.133058232966505e-08, 1.5087470274011139e-05, 0.004105244297534227, 7.094510692695621e-06, 4.1212388168787584e-05, 4.6319277316797525e-05, 0.000343435414833948, 2.574562074642017e-07, 2.312586184416432e-05, 0.973612904548645, 0.00031759191188029945, 5.089380647405051e-05, 2.7966019843006507e-05, 0.00017620419384911656, 1.2172441529401112e-05, 8.29178020467225e-07, 9.055003715729981e-07, 1.350780985376332e-05, 7.309714646908105e-07, 4.969801921106409e-07, 1.1448675962810739e-07, 3.873268269671826e-06, 0.005308597348630428, 1.6835374481161125e-06, 3.7778852856718004e-05, 0.0005999910645186901, 5.0871680286945775e-05, 8.916688898352731e-08, 1.5677704141126014e-05, 0.0, 0.0, 0.0, 0.0, 0.0], [0.02326161228120327, 3.180404974045814e-06, 2.533558699724381e-06, 2.369532694501686e-07, 3.775866389332805e-06, 1.1502402230689768e-05, 3.6352169274778134e-08, 2.430891186122608e-07, 1.5626728782081045e-05, 8.533785148756579e-06, 1.2811428860004526e-06, 5.961392162134871e-07, 9.929543921316508e-06, 7.770117349537031e-07, 1.1291247574263252e-05, 8.239723683800548e-05, 0.9763438701629639, 0.00011511440243339166, 6.251269951462746e-05, 1.9397877622395754e-05, 1.757766403898131e-05, 1.5334882164097507e-06, 4.3567188185988925e-06, 6.00653493165737e-06, 5.861879344593035e-06, 8.811189218249638e-07, 7.090635278927948e-08, 3.2698689977905815e-08, 1.6526780655112816e-06, 8.941678970586509e-07, 6.854440215420254e-08, 1.485359916841844e-06, 4.208575319353258e-07, 8.703118226094375e-08, 1.5561702184641035e-06, 3.083877572862548e-06, 0.0, 0.0, 0.0, 0.0], [0.0977441743016243, 0.00010639592801453546, 4.9741902330424637e-05, 1.8202804596967326e-07, 4.620257641363423e-06, 1.5148114471230656e-05, 1.6550464465581172e-07, 8.238746886490844e-06, 0.0001126032875617966, 9.289350418839604e-05, 2.51786531180187e-07, 1.0287012628396042e-06, 1.568140032759402e-05, 1.3928419093645061e-06, 1.2618392020158353e-06, 1.762246756698005e-05, 0.00010589019802864641, 0.9006210565567017, 1.2248799976077862e-05, 2.2191434254636988e-05, 0.0005282274796627462, 0.0003371348138898611, 9.256823977921158e-05, 4.7878552322799806e-06, 1.0139699043065775e-05, 2.157917606382398e-06, 1.3177299251765362e-07, 2.0561519704642706e-06, 2.8112897325627273e-06, 5.24448796568322e-06, 2.5196223774059945e-08, 4.832639319829468e-07, 2.2359957085882343e-07, 2.0152434387910034e-07, 1.0074573175700152e-08, 3.968410453580873e-07, 8.064488065429032e-05, 0.0, 0.0, 0.0], [0.019235901534557343, 7.719639143033419e-06, 6.898085871398507e-07, 1.7630878090812985e-08, 2.699911647141562e-06, 1.2021346265100874e-06, 9.74886749105508e-09, 4.805609023605939e-06, 0.00020227054483257234, 0.00012224532838445157, 2.7552796382224187e-06, 9.796638551051728e-06, 0.00025860388996079564, 7.25332665751921e-06, 2.588611278042663e-05, 0.00011046557483496144, 1.6819933080114424e-05, 0.00025367338093928993, 0.9733560085296631, 0.00411844439804554, 0.0015719822840765119, 1.3951557775726542e-05, 7.898096896497009e-07, 6.745963219145779e-07, 5.815530585095985e-06, 4.2139657807638287e-07, 2.0211318840779313e-08, 1.835586999732186e-06, 5.235430580796674e-05, 0.00028456520522013307, 2.9065049602650106e-06, 2.8939883122802712e-05, 0.00017779128393158317, 9.022125595947728e-06, 1.2389627045195084e-05, 6.335898069664836e-05, 1.3614118870464154e-05, 2.223468982265331e-05, 0.0, 0.0], [0.007466861978173256, 5.681988923811332e-08, 4.717088586403406e-08, 3.6911504408543294e-10, 9.175146828965808e-07, 3.1038806014294096e-07, 7.273333491042422e-09, 3.962637151744275e-08, 1.3859443242836278e-05, 6.558320455951616e-05, 2.0672698155976832e-05, 1.1978430620729341e-06, 4.5219210733193904e-05, 1.969408884860968e-07, 2.5681440547487e-06, 1.9319811599416425e-06, 5.3282446970115416e-06, 1.1161298061779235e-05, 2.1695401301258244e-05, 0.991509199142456, 0.0006915900739841163, 1.7000323282445606e-07, 4.966716105059277e-08, 5.623324472736613e-09, 1.5761273743919446e-06, 1.2854540898388223e-07, 3.186024599699522e-08, 6.833198895606074e-09, 1.9661781607283046e-06, 3.8080466765677556e-05, 2.2694926883559674e-05, 2.6092184270964935e-06, 2.9513314075302333e-05, 1.0449361553810377e-07, 7.320410304600955e-07, 5.452408231576555e-07, 1.4873401141812792e-06, 8.406036613450851e-07, 4.089709909749217e-05, 0.0], [0.07908384501934052, 1.1986878234893084e-05, 0.0013654340291395783, 5.003142291570839e-07, 3.8070396840339527e-05, 4.773212640429847e-05, 1.66306781466119e-05, 1.4405588444788009e-05, 0.0003843864833470434, 0.0012123638298362494, 6.201077485457063e-05, 5.10717582073994e-05, 9.784791473066434e-05, 0.0006278019864112139, 0.0004397031734697521, 7.3554087975935545e-06, 1.6295656678266823e-05, 0.0008040081011131406, 0.0006168834515847266, 0.007346387952566147, 0.8993359208106995, 0.0004078095080330968, 0.001992049627006054, 5.97724829276558e-06, 2.4942903110058978e-05, 1.1002443898178171e-05, 2.8494625439634547e-05, 6.7623573158925865e-06, 6.590595876332372e-05, 0.0019474615110084414, 0.00018075937987305224, 7.664768054382876e-05, 3.865605322062038e-05, 0.0002595778205431998, 0.00013434176798909903, 2.347835788896191e-06, 5.859597877133638e-06, 0.00017173710511997342, 0.001418950268998742, 0.0016400943277403712]]]}\n",
              "    )\n",
              "    </script>"
            ],
            "text/plain": [
              "<circuitsvis.utils.render.RenderedHTML at 0x7ec73c3346d0>"
            ]
          },
          "metadata": {},
          "output_type": "display_data"
        }
      ],
      "source": [
        "if IN_GITHUB:\n",
        "    torch.manual_seed(50)\n",
        "\n",
        "induction_head_layer = 5\n",
        "induction_head_index = 5\n",
        "size = (1, 20)\n",
        "input_tensor = torch.randint(1000, 10000, size)\n",
        "\n",
        "single_random_sequence = input_tensor.to(model.cfg.device)\n",
        "repeated_random_sequence = einops.repeat(single_random_sequence, \"batch seq_len -> batch (2 seq_len)\")\n",
        "def visualize_pattern_hook(\n",
        "    pattern: Float[torch.Tensor, \"batch head_index dest_pos source_pos\"],\n",
        "    hook: HookPoint,\n",
        "):\n",
        "    display(\n",
        "        cv.attention.attention_patterns(\n",
        "            tokens=model.to_str_tokens(repeated_random_sequence),\n",
        "            attention=pattern[0, induction_head_index, :, :][None, :, :] # Add a dummy axis, as CircuitsVis expects 3D patterns.\n",
        "        )\n",
        "    )\n",
        "\n",
        "model.run_with_hooks(\n",
        "    repeated_random_sequence,\n",
        "    return_type=None,\n",
        "    fwd_hooks=[(\n",
        "        utils.get_act_name(\"pattern\", induction_head_layer),\n",
        "        visualize_pattern_hook\n",
        "    )]\n",
        ")"
      ]
    },
    {
      "cell_type": "markdown",
      "metadata": {
        "id": "9zgmING4bRkl"
      },
      "source": [
        "## Available Models"
      ]
    },
    {
      "cell_type": "markdown",
      "metadata": {
        "id": "QYczQP0QbRkl"
      },
      "source": [
        "TransformerLens comes with over 40 open source models available, all of which can be loaded into a consistent(-ish) architecture by just changing the name in `from_pretrained`. The open source models available are [documented here](https://dynalist.io/d/n2ZWtnoYHrU1s4vnFSAQ519J#z=jHj79Pj58cgJKdq4t-ygK-4h), and a set of interpretability friendly models I've trained are [documented here](https://dynalist.io/d/n2ZWtnoYHrU1s4vnFSAQ519J#z=NCJ6zH_Okw_mUYAwGnMKsj2m), including a set of toy language models (tiny one to four layer models) and a set of [SoLU models](https://dynalist.io/d/n2ZWtnoYHrU1s4vnFSAQ519J#z=FZ5W6GGcy6OitPEaO733JLqf) up to GPT-2 Medium size (300M parameters). You can see [a table of the official alias and hyper-parameters of available models here](https://github.com/TransformerLensOrg/TransformerLens/blob/main/transformer_lens/model_properties_table.md).\n",
        "\n",
        "**Note:** TransformerLens does not currently support multi-GPU models (which you want for models above eg 7B parameters), but this feature is coming soon!"
      ]
    },
    {
      "cell_type": "markdown",
      "metadata": {
        "id": "gXNgEKgObRkl"
      },
      "source": [
        "\n",
        "Notably, this means that analysis can be near immediately re-run on a different model by just changing the name - to see this, let's load in DistilGPT-2 (a distilled version of GPT-2, with half as many layers) and copy the code from above to see the induction heads in that model."
      ]
    },
    {
      "cell_type": "code",
      "execution_count": 21,
      "metadata": {
        "id": "TXo5kcKtbRkl",
        "outputId": "f84fb39a-31a3-4530-f8fe-b03eb22d7059"
      },
      "outputs": [
        {
          "name": "stderr",
          "output_type": "stream",
          "text": [
            "/home/lukaemon/miniconda3/envs/topk_sae/lib/python3.11/site-packages/huggingface_hub/file_download.py:1132: FutureWarning:\n",
            "\n",
            "`resume_download` is deprecated and will be removed in version 1.0.0. Downloads always resume when possible. If you want to force a new download, use `force_download=True`.\n",
            "\n"
          ]
        },
        {
          "name": "stdout",
          "output_type": "stream",
          "text": [
            "Loaded pretrained model distilgpt2 into HookedTransformer\n"
          ]
        }
      ],
      "source": [
        "# NBVAL_IGNORE_OUTPUT\n",
        "distilgpt2 = HookedTransformer.from_pretrained(\"distilgpt2\", device=device)"
      ]
    },
    {
      "cell_type": "code",
      "execution_count": 22,
      "metadata": {
        "id": "KeHz3iOabRkl",
        "outputId": "99f61e90-6cf4-48e6-db4f-2cfcdfc5380d"
      },
      "outputs": [
        {
          "data": {
            "text/html": [
              "<div>                            <div id=\"8c26da97-589d-482a-8e0f-1608f294ea1b\" class=\"plotly-graph-div\" style=\"height:525px; width:100%;\"></div>            <script type=\"text/javascript\">                require([\"plotly\"], function(Plotly) {                    window.PLOTLYENV=window.PLOTLYENV || {};                                    if (document.getElementById(\"8c26da97-589d-482a-8e0f-1608f294ea1b\")) {                    Plotly.newPlot(                        \"8c26da97-589d-482a-8e0f-1608f294ea1b\",                        [{\"coloraxis\":\"coloraxis\",\"name\":\"0\",\"z\":[[0.01089399,0.00016903381,0.01166407,0.0000060321686,0.0006653154,0.00000438154,0.008635583,0.0012037209,0.008450256,0.009384453,0.008937923,0.016351625],[0.0032312942,0.017945858,0.00092613354,0.00016603325,0.011853454,0.0019219561,0.0038387526,0.015492887,0.0024173048,0.00020649837,0.003887374,0.014370605],[0.0072303084,0.0065034637,0.013709377,0.0013702553,0.019773282,0.005752628,0.0101834405,0.0016523895,0.01768308,0.013082457,0.021035079,4.1379e-11],[0.008780041,0.22593126,0.8583486,0.01730119,0.017761553,0.014393477,0.019896366,0.19796565,0.016080221,0.017872177,0.93434,0.5011976],[0.2654096,0.23997541,0.08857897,0.011071566,0.07862552,0.024411317,0.62840146,0.025186336,0.065249875,0.6475013,0.01681004,0.05492409],[0.02196376,0.08331298,0.052940715,0.012092759,0.035866138,0.17850876,0.07616216,0.10948564,0.0080249775,0.44884342,0.17807391,0.032223683]],\"type\":\"heatmap\",\"xaxis\":\"x\",\"yaxis\":\"y\",\"hovertemplate\":\"Head: %{x}\\u003cbr\\u003eLayer: %{y}\\u003cbr\\u003ecolor: %{z}\\u003cextra\\u003e\\u003c\\u002fextra\\u003e\"}],                        {\"template\":{\"data\":{\"histogram2dcontour\":[{\"type\":\"histogram2dcontour\",\"colorbar\":{\"outlinewidth\":0,\"ticks\":\"\"},\"colorscale\":[[0.0,\"#0d0887\"],[0.1111111111111111,\"#46039f\"],[0.2222222222222222,\"#7201a8\"],[0.3333333333333333,\"#9c179e\"],[0.4444444444444444,\"#bd3786\"],[0.5555555555555556,\"#d8576b\"],[0.6666666666666666,\"#ed7953\"],[0.7777777777777778,\"#fb9f3a\"],[0.8888888888888888,\"#fdca26\"],[1.0,\"#f0f921\"]]}],\"choropleth\":[{\"type\":\"choropleth\",\"colorbar\":{\"outlinewidth\":0,\"ticks\":\"\"}}],\"histogram2d\":[{\"type\":\"histogram2d\",\"colorbar\":{\"outlinewidth\":0,\"ticks\":\"\"},\"colorscale\":[[0.0,\"#0d0887\"],[0.1111111111111111,\"#46039f\"],[0.2222222222222222,\"#7201a8\"],[0.3333333333333333,\"#9c179e\"],[0.4444444444444444,\"#bd3786\"],[0.5555555555555556,\"#d8576b\"],[0.6666666666666666,\"#ed7953\"],[0.7777777777777778,\"#fb9f3a\"],[0.8888888888888888,\"#fdca26\"],[1.0,\"#f0f921\"]]}],\"heatmap\":[{\"type\":\"heatmap\",\"colorbar\":{\"outlinewidth\":0,\"ticks\":\"\"},\"colorscale\":[[0.0,\"#0d0887\"],[0.1111111111111111,\"#46039f\"],[0.2222222222222222,\"#7201a8\"],[0.3333333333333333,\"#9c179e\"],[0.4444444444444444,\"#bd3786\"],[0.5555555555555556,\"#d8576b\"],[0.6666666666666666,\"#ed7953\"],[0.7777777777777778,\"#fb9f3a\"],[0.8888888888888888,\"#fdca26\"],[1.0,\"#f0f921\"]]}],\"heatmapgl\":[{\"type\":\"heatmapgl\",\"colorbar\":{\"outlinewidth\":0,\"ticks\":\"\"},\"colorscale\":[[0.0,\"#0d0887\"],[0.1111111111111111,\"#46039f\"],[0.2222222222222222,\"#7201a8\"],[0.3333333333333333,\"#9c179e\"],[0.4444444444444444,\"#bd3786\"],[0.5555555555555556,\"#d8576b\"],[0.6666666666666666,\"#ed7953\"],[0.7777777777777778,\"#fb9f3a\"],[0.8888888888888888,\"#fdca26\"],[1.0,\"#f0f921\"]]}],\"contourcarpet\":[{\"type\":\"contourcarpet\",\"colorbar\":{\"outlinewidth\":0,\"ticks\":\"\"}}],\"contour\":[{\"type\":\"contour\",\"colorbar\":{\"outlinewidth\":0,\"ticks\":\"\"},\"colorscale\":[[0.0,\"#0d0887\"],[0.1111111111111111,\"#46039f\"],[0.2222222222222222,\"#7201a8\"],[0.3333333333333333,\"#9c179e\"],[0.4444444444444444,\"#bd3786\"],[0.5555555555555556,\"#d8576b\"],[0.6666666666666666,\"#ed7953\"],[0.7777777777777778,\"#fb9f3a\"],[0.8888888888888888,\"#fdca26\"],[1.0,\"#f0f921\"]]}],\"surface\":[{\"type\":\"surface\",\"colorbar\":{\"outlinewidth\":0,\"ticks\":\"\"},\"colorscale\":[[0.0,\"#0d0887\"],[0.1111111111111111,\"#46039f\"],[0.2222222222222222,\"#7201a8\"],[0.3333333333333333,\"#9c179e\"],[0.4444444444444444,\"#bd3786\"],[0.5555555555555556,\"#d8576b\"],[0.6666666666666666,\"#ed7953\"],[0.7777777777777778,\"#fb9f3a\"],[0.8888888888888888,\"#fdca26\"],[1.0,\"#f0f921\"]]}],\"mesh3d\":[{\"type\":\"mesh3d\",\"colorbar\":{\"outlinewidth\":0,\"ticks\":\"\"}}],\"scatter\":[{\"fillpattern\":{\"fillmode\":\"overlay\",\"size\":10,\"solidity\":0.2},\"type\":\"scatter\"}],\"parcoords\":[{\"type\":\"parcoords\",\"line\":{\"colorbar\":{\"outlinewidth\":0,\"ticks\":\"\"}}}],\"scatterpolargl\":[{\"type\":\"scatterpolargl\",\"marker\":{\"colorbar\":{\"outlinewidth\":0,\"ticks\":\"\"}}}],\"bar\":[{\"error_x\":{\"color\":\"#2a3f5f\"},\"error_y\":{\"color\":\"#2a3f5f\"},\"marker\":{\"line\":{\"color\":\"#E5ECF6\",\"width\":0.5},\"pattern\":{\"fillmode\":\"overlay\",\"size\":10,\"solidity\":0.2}},\"type\":\"bar\"}],\"scattergeo\":[{\"type\":\"scattergeo\",\"marker\":{\"colorbar\":{\"outlinewidth\":0,\"ticks\":\"\"}}}],\"scatterpolar\":[{\"type\":\"scatterpolar\",\"marker\":{\"colorbar\":{\"outlinewidth\":0,\"ticks\":\"\"}}}],\"histogram\":[{\"marker\":{\"pattern\":{\"fillmode\":\"overlay\",\"size\":10,\"solidity\":0.2}},\"type\":\"histogram\"}],\"scattergl\":[{\"type\":\"scattergl\",\"marker\":{\"colorbar\":{\"outlinewidth\":0,\"ticks\":\"\"}}}],\"scatter3d\":[{\"type\":\"scatter3d\",\"line\":{\"colorbar\":{\"outlinewidth\":0,\"ticks\":\"\"}},\"marker\":{\"colorbar\":{\"outlinewidth\":0,\"ticks\":\"\"}}}],\"scattermapbox\":[{\"type\":\"scattermapbox\",\"marker\":{\"colorbar\":{\"outlinewidth\":0,\"ticks\":\"\"}}}],\"scatterternary\":[{\"type\":\"scatterternary\",\"marker\":{\"colorbar\":{\"outlinewidth\":0,\"ticks\":\"\"}}}],\"scattercarpet\":[{\"type\":\"scattercarpet\",\"marker\":{\"colorbar\":{\"outlinewidth\":0,\"ticks\":\"\"}}}],\"carpet\":[{\"aaxis\":{\"endlinecolor\":\"#2a3f5f\",\"gridcolor\":\"white\",\"linecolor\":\"white\",\"minorgridcolor\":\"white\",\"startlinecolor\":\"#2a3f5f\"},\"baxis\":{\"endlinecolor\":\"#2a3f5f\",\"gridcolor\":\"white\",\"linecolor\":\"white\",\"minorgridcolor\":\"white\",\"startlinecolor\":\"#2a3f5f\"},\"type\":\"carpet\"}],\"table\":[{\"cells\":{\"fill\":{\"color\":\"#EBF0F8\"},\"line\":{\"color\":\"white\"}},\"header\":{\"fill\":{\"color\":\"#C8D4E3\"},\"line\":{\"color\":\"white\"}},\"type\":\"table\"}],\"barpolar\":[{\"marker\":{\"line\":{\"color\":\"#E5ECF6\",\"width\":0.5},\"pattern\":{\"fillmode\":\"overlay\",\"size\":10,\"solidity\":0.2}},\"type\":\"barpolar\"}],\"pie\":[{\"automargin\":true,\"type\":\"pie\"}]},\"layout\":{\"autotypenumbers\":\"strict\",\"colorway\":[\"#636efa\",\"#EF553B\",\"#00cc96\",\"#ab63fa\",\"#FFA15A\",\"#19d3f3\",\"#FF6692\",\"#B6E880\",\"#FF97FF\",\"#FECB52\"],\"font\":{\"color\":\"#2a3f5f\"},\"hovermode\":\"closest\",\"hoverlabel\":{\"align\":\"left\"},\"paper_bgcolor\":\"white\",\"plot_bgcolor\":\"#E5ECF6\",\"polar\":{\"bgcolor\":\"#E5ECF6\",\"angularaxis\":{\"gridcolor\":\"white\",\"linecolor\":\"white\",\"ticks\":\"\"},\"radialaxis\":{\"gridcolor\":\"white\",\"linecolor\":\"white\",\"ticks\":\"\"}},\"ternary\":{\"bgcolor\":\"#E5ECF6\",\"aaxis\":{\"gridcolor\":\"white\",\"linecolor\":\"white\",\"ticks\":\"\"},\"baxis\":{\"gridcolor\":\"white\",\"linecolor\":\"white\",\"ticks\":\"\"},\"caxis\":{\"gridcolor\":\"white\",\"linecolor\":\"white\",\"ticks\":\"\"}},\"coloraxis\":{\"colorbar\":{\"outlinewidth\":0,\"ticks\":\"\"}},\"colorscale\":{\"sequential\":[[0.0,\"#0d0887\"],[0.1111111111111111,\"#46039f\"],[0.2222222222222222,\"#7201a8\"],[0.3333333333333333,\"#9c179e\"],[0.4444444444444444,\"#bd3786\"],[0.5555555555555556,\"#d8576b\"],[0.6666666666666666,\"#ed7953\"],[0.7777777777777778,\"#fb9f3a\"],[0.8888888888888888,\"#fdca26\"],[1.0,\"#f0f921\"]],\"sequentialminus\":[[0.0,\"#0d0887\"],[0.1111111111111111,\"#46039f\"],[0.2222222222222222,\"#7201a8\"],[0.3333333333333333,\"#9c179e\"],[0.4444444444444444,\"#bd3786\"],[0.5555555555555556,\"#d8576b\"],[0.6666666666666666,\"#ed7953\"],[0.7777777777777778,\"#fb9f3a\"],[0.8888888888888888,\"#fdca26\"],[1.0,\"#f0f921\"]],\"diverging\":[[0,\"#8e0152\"],[0.1,\"#c51b7d\"],[0.2,\"#de77ae\"],[0.3,\"#f1b6da\"],[0.4,\"#fde0ef\"],[0.5,\"#f7f7f7\"],[0.6,\"#e6f5d0\"],[0.7,\"#b8e186\"],[0.8,\"#7fbc41\"],[0.9,\"#4d9221\"],[1,\"#276419\"]]},\"xaxis\":{\"gridcolor\":\"white\",\"linecolor\":\"white\",\"ticks\":\"\",\"title\":{\"standoff\":15},\"zerolinecolor\":\"white\",\"automargin\":true,\"zerolinewidth\":2},\"yaxis\":{\"gridcolor\":\"white\",\"linecolor\":\"white\",\"ticks\":\"\",\"title\":{\"standoff\":15},\"zerolinecolor\":\"white\",\"automargin\":true,\"zerolinewidth\":2},\"scene\":{\"xaxis\":{\"backgroundcolor\":\"#E5ECF6\",\"gridcolor\":\"white\",\"linecolor\":\"white\",\"showbackground\":true,\"ticks\":\"\",\"zerolinecolor\":\"white\",\"gridwidth\":2},\"yaxis\":{\"backgroundcolor\":\"#E5ECF6\",\"gridcolor\":\"white\",\"linecolor\":\"white\",\"showbackground\":true,\"ticks\":\"\",\"zerolinecolor\":\"white\",\"gridwidth\":2},\"zaxis\":{\"backgroundcolor\":\"#E5ECF6\",\"gridcolor\":\"white\",\"linecolor\":\"white\",\"showbackground\":true,\"ticks\":\"\",\"zerolinecolor\":\"white\",\"gridwidth\":2}},\"shapedefaults\":{\"line\":{\"color\":\"#2a3f5f\"}},\"annotationdefaults\":{\"arrowcolor\":\"#2a3f5f\",\"arrowhead\":0,\"arrowwidth\":1},\"geo\":{\"bgcolor\":\"white\",\"landcolor\":\"#E5ECF6\",\"subunitcolor\":\"white\",\"showland\":true,\"showlakes\":true,\"lakecolor\":\"white\"},\"title\":{\"x\":0.05},\"mapbox\":{\"style\":\"light\"}}},\"xaxis\":{\"anchor\":\"y\",\"domain\":[0.0,1.0],\"scaleanchor\":\"y\",\"constrain\":\"domain\",\"title\":{\"text\":\"Head\"}},\"yaxis\":{\"anchor\":\"x\",\"domain\":[0.0,1.0],\"autorange\":\"reversed\",\"constrain\":\"domain\",\"title\":{\"text\":\"Layer\"}},\"coloraxis\":{\"colorscale\":[[0.0,\"rgb(103,0,31)\"],[0.1,\"rgb(178,24,43)\"],[0.2,\"rgb(214,96,77)\"],[0.3,\"rgb(244,165,130)\"],[0.4,\"rgb(253,219,199)\"],[0.5,\"rgb(247,247,247)\"],[0.6,\"rgb(209,229,240)\"],[0.7,\"rgb(146,197,222)\"],[0.8,\"rgb(67,147,195)\"],[0.9,\"rgb(33,102,172)\"],[1.0,\"rgb(5,48,97)\"]],\"cmid\":0.0},\"title\":{\"text\":\"Induction Score by Head in Distil GPT-2\"}},                        {\"responsive\": true}                    ).then(function(){\n",
              "                            \n",
              "var gd = document.getElementById('8c26da97-589d-482a-8e0f-1608f294ea1b');\n",
              "var x = new MutationObserver(function (mutations, observer) {{\n",
              "        var display = window.getComputedStyle(gd).display;\n",
              "        if (!display || display === 'none') {{\n",
              "            console.log([gd, 'removed!']);\n",
              "            Plotly.purge(gd);\n",
              "            observer.disconnect();\n",
              "        }}\n",
              "}});\n",
              "\n",
              "// Listen for the removal of the full notebook cells\n",
              "var notebookContainer = gd.closest('#notebook-container');\n",
              "if (notebookContainer) {{\n",
              "    x.observe(notebookContainer, {childList: true});\n",
              "}}\n",
              "\n",
              "// Listen for the clearing of the current output cell\n",
              "var outputEl = gd.closest('.output');\n",
              "if (outputEl) {{\n",
              "    x.observe(outputEl, {childList: true});\n",
              "}}\n",
              "\n",
              "                        })                };                });            </script>        </div>"
            ]
          },
          "metadata": {},
          "output_type": "display_data"
        }
      ],
      "source": [
        "\n",
        "# We make a tensor to store the induction score for each head. We put it on the model's device to avoid needing to move things between the GPU and CPU, which can be slow.\n",
        "distilgpt2_induction_score_store = torch.zeros((distilgpt2.cfg.n_layers, distilgpt2.cfg.n_heads), device=distilgpt2.cfg.device)\n",
        "def induction_score_hook(\n",
        "    pattern: Float[torch.Tensor, \"batch head_index dest_pos source_pos\"],\n",
        "    hook: HookPoint,\n",
        "):\n",
        "    # We take the diagonal of attention paid from each destination position to source positions seq_len-1 tokens back\n",
        "    # (This only has entries for tokens with index>=seq_len)\n",
        "    induction_stripe = pattern.diagonal(dim1=-2, dim2=-1, offset=1-seq_len)\n",
        "    # Get an average score per head\n",
        "    induction_score = einops.reduce(induction_stripe, \"batch head_index position -> head_index\", \"mean\")\n",
        "    # Store the result.\n",
        "    distilgpt2_induction_score_store[hook.layer(), :] = induction_score\n",
        "\n",
        "# We make a boolean filter on activation names, that's true only on attention pattern names.\n",
        "pattern_hook_names_filter = lambda name: name.endswith(\"pattern\")\n",
        "\n",
        "distilgpt2.run_with_hooks(\n",
        "    repeated_tokens,\n",
        "    return_type=None, # For efficiency, we don't need to calculate the logits\n",
        "    fwd_hooks=[(\n",
        "        pattern_hook_names_filter,\n",
        "        induction_score_hook\n",
        "    )]\n",
        ")\n",
        "\n",
        "imshow(distilgpt2_induction_score_store, xaxis=\"Head\", yaxis=\"Layer\", title=\"Induction Score by Head in Distil GPT-2\")"
      ]
    },
    {
      "cell_type": "markdown",
      "metadata": {
        "id": "HR82_fJ9bRkl"
      },
      "source": [
        "\n",
        "### An overview of the important open source models in the library\n",
        "\n",
        "* **GPT-2** - the classic generative pre-trained models from OpenAI\n",
        "    * Sizes Small (85M), Medium (300M), Large (700M) and XL (1.5B).\n",
        "    * Trained on ~22B tokens of internet text. ([Open source replication](https://huggingface.co/datasets/openwebtext))\n",
        "* **GPT-Neo** - Eleuther's replication of GPT-2\n",
        "    * Sizes 125M, 1.3B, 2.7B\n",
        "    * Trained on 300B(ish?) tokens of [the Pile](https://pile.eleuther.ai/) a large and diverse dataset including a bunch of code (and weird stuff)\n",
        "* **[OPT](https://ai.facebook.com/blog/democratizing-access-to-large-scale-language-models-with-opt-175b/)** - Meta AI's series of open source models\n",
        "    * Trained on 180B tokens of diverse text.\n",
        "    * 125M, 1.3B, 2.7B, 6.7B, 13B, 30B, 66B\n",
        "* **GPT-J** - Eleuther's 6B parameter model, trained on the Pile\n",
        "* **GPT-NeoX** - Eleuther's 20B parameter model, trained on the Pile\n",
        "* **StableLM** - Stability AI's 3B and 7B models, with and without chat and instruction fine-tuning\n",
        "* **Stanford CRFM models** - a replication of GPT-2 Small and GPT-2 Medium, trained on 5 different random seeds.\n",
        "    * Notably, 600 checkpoints were taken during training per model, and these are available in the library with eg `HookedTransformer.from_pretrained(\"stanford-gpt2-small-a\", checkpoint_index=265)`.\n",
        "- **BERT** - Google's bidirectional encoder-only transformer.\n",
        "    - Size Base (108M), trained on English Wikipedia and BooksCorpus.\n",
        "\n",
        "</details>"
      ]
    },
    {
      "cell_type": "markdown",
      "metadata": {
        "id": "kS85JbWDbRkl"
      },
      "source": [
        "\n",
        "### An overview of some interpretability-friendly models I've trained and included\n",
        "\n",
        "(Feel free to [reach out](mailto:neelnanda27@gmail.com) if you want more details on any of these models)\n",
        "\n",
        "Each of these models has about ~200 checkpoints taken during training that can also be loaded from TransformerLens, with the `checkpoint_index` argument to `from_pretrained`.\n",
        "\n",
        "Note that all models are trained with a Beginning of Sequence token, and will likely break if given inputs without that!\n",
        "\n",
        "* **Toy Models**: Inspired by [A Mathematical Framework](https://transformer-circuits.pub/2021/framework/index.html), I've trained 12 tiny language models, of 1-4L and each of width 512. I think that interpreting these is likely to be far more tractable than larger models, and both serve as good practice and will likely contain motifs and circuits that generalise to far larger models (like induction heads):\n",
        "    * Attention-Only models (ie without MLPs): attn-only-1l, attn-only-2l, attn-only-3l, attn-only-4l\n",
        "    * GELU models (ie with MLP, and the standard GELU activations): gelu-1l, gelu-2l, gelu-3l, gelu-4l\n",
        "    * SoLU models (ie with MLP, and [Anthropic's SoLU activation](https://transformer-circuits.pub/2022/solu/index.html), designed to make MLP neurons more interpretable): solu-1l, solu-2l, solu-3l, solu-4l\n",
        "    * All models are trained on 22B tokens of data, 80% from C4 (web text) and 20% from Python Code\n",
        "    * Models of the same layer size were trained with the same weight initialization and data shuffle, to more directly compare the effect of different activation functions.\n",
        "* **SoLU** models: A larger scan of models trained with [Anthropic's SoLU activation](https://transformer-circuits.pub/2022/solu/index.html), in the hopes that it makes the MLP neuron interpretability easier.\n",
        "    * A scan up to GPT-2 Medium size, trained on 30B tokens of the same data as toy models, 80% from C4 and 20% from Python code.\n",
        "        * solu-6l (40M), solu-8l (100M), solu-10l (200M), solu-12l (340M)\n",
        "    * An older scan up to GPT-2 Medium size, trained on 15B tokens of [the Pile](https://pile.eleuther.ai/)\n",
        "        * solu-1l-pile (13M), solu-2l-pile (13M), solu-4l-pile (13M), solu-6l-pile (40M), solu-8l-pile (100M), solu-10l-pile (200M), solu-12l-pile (340M)"
      ]
    },
    {
      "cell_type": "markdown",
      "metadata": {
        "id": "GBvzZqvVbRkl"
      },
      "source": [
        "## Other Resources:\n",
        "\n",
        "* [Concrete Steps to Get Started in Mechanistic Interpretability](https://neelnanda.io/getting-started): A guide I wrote for how to get involved in mechanistic interpretability, and how to learn the basic skills\n",
        "* [A Comprehensive Mechanistic Interpretability Explainer](https://neelnanda.io/glossary): An overview of concepts in the field and surrounding ideas in ML and transformers, with long digressions to give context and build intuitions.\n",
        "* [Concrete Open Problems in Mechanistic Interpretability](https://neelnanda.io/concrete-open-problems), a doc I wrote giving a long list of open problems in mechanistic interpretability, and thoughts on how to get started on trying to work on them.\n",
        "    * There's a lot of low-hanging fruit in the field, and I expect that many people reading this could use TransformerLens to usefully make progress on some of these!\n",
        "* Other demos:\n",
        "    * **[Exploratory Analysis Demo](https://neelnanda.io/exploratory-analysis-demo)**, a demonstration of my standard toolkit for how to use TransformerLens to explore a mysterious behaviour in a language model.\n",
        "    * [Interpretability in the Wild](https://github.com/redwoodresearch/Easy-Transformer) a codebase from Arthur Conmy and Alex Variengien at Redwood research using this library to do a detailed and rigorous reverse engineering of the Indirect Object Identification circuit, to accompany their paper\n",
        "        * Note - this was based on an earlier version of this library, called EasyTransformer. It's pretty similar, but several breaking changes have been made since.\n",
        "    * A [recorded walkthrough](https://www.youtube.com/watch?v=yo4QvDn-vsU) of me doing research with TransformerLens on whether a tiny model can re-derive positional information, with [an accompanying Colab](https://colab.research.google.com/github/TransformerLensOrg/TransformerLens/blob/main/No_Position_Experiment.ipynb)\n",
        "* [Neuroscope](https://neuroscope.io), a website showing the text in the dataset that most activates each neuron in some selected models. Good to explore to get a sense for what kind of features the model tends to represent, and as a \"wiki\" to get some info\n",
        "    * A tutorial on how to make an [Interactive Neuroscope](https://github.com/TransformerLensOrg/TransformerLens/blob/main/Hacky-Interactive-Lexoscope.ipynb), where you type in text and see the neuron activations over the text update live."
      ]
    },
    {
      "cell_type": "markdown",
      "metadata": {
        "id": "cHB9K25XbRkm"
      },
      "source": [
        "## Transformer architecture\n",
        "\n",
        "HookedTransformer is a somewhat adapted GPT-2 architecture, but is computationally identical. The most significant changes are to the internal structure of the attention heads:\n",
        "* The weights (W_K, W_Q, W_V) mapping the residual stream to queries, keys and values are 3 separate matrices, rather than big concatenated one.\n",
        "* The weight matrices (W_K, W_Q, W_V, W_O) and activations (keys, queries, values, z (values mixed by attention pattern)) have separate head_index and d_head axes, rather than flattening them into one big axis.\n",
        "    * The activations all have shape `[batch, position, head_index, d_head]`\n",
        "    * W_K, W_Q, W_V have shape `[head_index, d_model, d_head]` and W_O has shape `[head_index, d_head, d_model]`\n",
        "\n",
        "The actual code is a bit of a mess, as there's a variety of Boolean flags to make it consistent with the various different model families in TransformerLens - to understand it and the internal structure, I instead recommend reading the code in [CleanTransformerDemo](https://colab.research.google.com/github/TransformerLensOrg/TransformerLens/blob/clean-transformer-demo/Clean_Transformer_Demo.ipynb)"
      ]
    },
    {
      "cell_type": "markdown",
      "metadata": {
        "id": "4JbMTW7_bRkm"
      },
      "source": [
        "### Parameter Names\n",
        "\n",
        "Here is a list of the parameters and shapes in the model. By convention, all weight matrices multiply on the right (ie `new_activation = old_activation @ weights + bias`).\n",
        "\n",
        "Reminder of the key hyper-params:\n",
        "* `n_layers`: 12. The number of transformer blocks in the model (a block contains an attention layer and an MLP layer)\n",
        "* `n_heads`: 12. The number of attention heads per attention layer\n",
        "* `d_model`: 768. The residual stream width.\n",
        "* `d_head`: 64. The internal dimension of an attention head activation.\n",
        "* `d_mlp`: 3072. The internal dimension of the MLP layers (ie the number of neurons).\n",
        "* `d_vocab`: 50267. The number of tokens in the vocabulary.\n",
        "* `n_ctx`: 1024. The maximum number of tokens in an input prompt.\n"
      ]
    },
    {
      "cell_type": "markdown",
      "metadata": {
        "id": "wsXkx7J-bRkm"
      },
      "source": [
        "**Transformer Block parameters:**\n",
        "Replace 0 with the relevant layer index."
      ]
    },
    {
      "cell_type": "code",
      "execution_count": 23,
      "metadata": {
        "id": "cpqbncndbRkm",
        "outputId": "215e34a0-14e4-432a-c33d-bc615148fd26"
      },
      "outputs": [
        {
          "name": "stdout",
          "output_type": "stream",
          "text": [
            "blocks.0.attn.W_Q torch.Size([12, 768, 64])\n",
            "blocks.0.attn.W_K torch.Size([12, 768, 64])\n",
            "blocks.0.attn.W_V torch.Size([12, 768, 64])\n",
            "blocks.0.attn.W_O torch.Size([12, 64, 768])\n",
            "blocks.0.attn.b_Q torch.Size([12, 64])\n",
            "blocks.0.attn.b_K torch.Size([12, 64])\n",
            "blocks.0.attn.b_V torch.Size([12, 64])\n",
            "blocks.0.attn.b_O torch.Size([768])\n",
            "blocks.0.mlp.W_in torch.Size([768, 3072])\n",
            "blocks.0.mlp.b_in torch.Size([3072])\n",
            "blocks.0.mlp.W_out torch.Size([3072, 768])\n",
            "blocks.0.mlp.b_out torch.Size([768])\n"
          ]
        }
      ],
      "source": [
        "for name, param in model.named_parameters():\n",
        "    if name.startswith(\"blocks.0.\"):\n",
        "        print(name, param.shape)"
      ]
    },
    {
      "cell_type": "markdown",
      "metadata": {
        "id": "YGAvfKgNbRkm"
      },
      "source": [
        "**Embedding & Unembedding parameters:**"
      ]
    },
    {
      "cell_type": "code",
      "execution_count": 24,
      "metadata": {
        "id": "FOQcIMnIbRkm",
        "outputId": "ee7b27b6-15d9-42b9-bc5e-075fa131a815"
      },
      "outputs": [
        {
          "name": "stdout",
          "output_type": "stream",
          "text": [
            "embed.W_E torch.Size([50257, 768])\n",
            "pos_embed.W_pos torch.Size([1024, 768])\n",
            "unembed.W_U torch.Size([768, 50257])\n",
            "unembed.b_U torch.Size([50257])\n"
          ]
        }
      ],
      "source": [
        "for name, param in model.named_parameters():\n",
        "    if not name.startswith(\"blocks\"):\n",
        "        print(name, param.shape)"
      ]
    },
    {
      "cell_type": "markdown",
      "metadata": {
        "id": "19wOhsNdbRkm"
      },
      "source": [
        "### Activation + Hook Names\n",
        "\n",
        "Lets get out a list of the activation/hook names in the model and their shapes. In practice, I recommend using the `utils.get_act_name` function to get the names, but this is a useful fallback, and necessary to eg write a name filter function.\n",
        "\n",
        "Let's do this by entering in a short, 10 token prompt, and add a hook function to each activations to print its name and shape. To avoid spam, let's just add this to activations in the first block or not in a block.\n",
        "\n",
        "Note 1: Each LayerNorm has a hook for the scale factor (ie the standard deviation of the input activations for each token position & batch element) and for the normalized output (ie the input activation with mean 0 and standard deviation 1, but *before* applying scaling or translating with learned weights). LayerNorm is applied every time a layer reads from the residual stream: `ln1` is the LayerNorm before the attention layer in a block, `ln2` the one before the MLP layer, and `ln_final` is the LayerNorm before the unembed.\n",
        "\n",
        "Note 2: *Every* activation apart from the attention pattern and attention scores has shape beginning with `[batch, position]`. The attention pattern and scores have shape `[batch, head_index, dest_position, source_position]` (the numbers are the same, unless we're using caching)."
      ]
    },
    {
      "cell_type": "code",
      "execution_count": 25,
      "metadata": {
        "id": "LiZZCuRGbRkm",
        "outputId": "fba3d4f1-e945-48ac-ce6a-a9c1aaec0074"
      },
      "outputs": [
        {
          "name": "stdout",
          "output_type": "stream",
          "text": [
            "Num tokens: 10\n",
            "hook_embed torch.Size([1, 10, 768])\n",
            "hook_pos_embed torch.Size([1, 10, 768])\n",
            "blocks.0.hook_resid_pre torch.Size([1, 10, 768])\n",
            "blocks.0.ln1.hook_scale torch.Size([1, 10, 1])\n",
            "blocks.0.ln1.hook_normalized torch.Size([1, 10, 768])\n",
            "blocks.0.ln1.hook_scale torch.Size([1, 10, 1])\n",
            "blocks.0.ln1.hook_normalized torch.Size([1, 10, 768])\n",
            "blocks.0.ln1.hook_scale torch.Size([1, 10, 1])\n",
            "blocks.0.ln1.hook_normalized torch.Size([1, 10, 768])\n",
            "blocks.0.attn.hook_q torch.Size([1, 10, 12, 64])\n",
            "blocks.0.attn.hook_k torch.Size([1, 10, 12, 64])\n",
            "blocks.0.attn.hook_v torch.Size([1, 10, 12, 64])\n",
            "blocks.0.attn.hook_attn_scores torch.Size([1, 12, 10, 10])\n",
            "blocks.0.attn.hook_pattern torch.Size([1, 12, 10, 10])\n",
            "blocks.0.attn.hook_z torch.Size([1, 10, 12, 64])\n",
            "blocks.0.hook_attn_out torch.Size([1, 10, 768])\n",
            "blocks.0.hook_resid_mid torch.Size([1, 10, 768])\n",
            "blocks.0.ln2.hook_scale torch.Size([1, 10, 1])\n",
            "blocks.0.ln2.hook_normalized torch.Size([1, 10, 768])\n",
            "blocks.0.mlp.hook_pre torch.Size([1, 10, 3072])\n",
            "blocks.0.mlp.hook_post torch.Size([1, 10, 3072])\n",
            "blocks.0.hook_mlp_out torch.Size([1, 10, 768])\n",
            "blocks.0.hook_resid_post torch.Size([1, 10, 768])\n",
            "ln_final.hook_scale torch.Size([1, 10, 1])\n",
            "ln_final.hook_normalized torch.Size([1, 10, 768])\n"
          ]
        }
      ],
      "source": [
        "test_prompt = \"The quick brown fox jumped over the lazy dog\"\n",
        "print(\"Num tokens:\", len(model.to_tokens(test_prompt)[0]))\n",
        "\n",
        "def print_name_shape_hook_function(activation, hook):\n",
        "    print(hook.name, activation.shape)\n",
        "\n",
        "not_in_late_block_filter = lambda name: name.startswith(\"blocks.0.\") or not name.startswith(\"blocks\")\n",
        "\n",
        "model.run_with_hooks(\n",
        "    test_prompt,\n",
        "    return_type=None,\n",
        "    fwd_hooks=[(not_in_late_block_filter, print_name_shape_hook_function)],\n",
        ")"
      ]
    },
    {
      "cell_type": "markdown",
      "metadata": {
        "id": "KaCqQRYnbRkn"
      },
      "source": [
        "### Folding LayerNorm (For the Curious)"
      ]
    },
    {
      "cell_type": "markdown",
      "metadata": {
        "id": "nSpYp0R-bRkn"
      },
      "source": [
        "(For the curious - this is an important technical detail that's worth understanding, especially if you have preconceptions about how transformers work, but not necessary to use TransformerLens)\n",
        "\n",
        "LayerNorm is a normalization technique used by transformers, analogous to BatchNorm but more friendly to massive parallelisation. No one *really* knows why it works, but it seems to improve model numerical stability. Unlike BatchNorm, LayerNorm actually changes the functional form of the model, which makes it a massive pain for interpretability!\n",
        "\n",
        "Folding LayerNorm is a technique to make it lower overhead to deal with, and the flags `center_writing_weights` and `fold_ln` in `HookedTransformer.from_pretrained` apply this automatically (they default to True). These simplify the internal structure without changing the weights.\n",
        "\n",
        "Intuitively, LayerNorm acts on each residual stream vector (ie for each batch element and token position) independently, sets their mean to 0 (centering) and standard deviation to 1 (normalizing) (*across* the residual stream dimension - very weird!), and then applies a learned elementwise scaling and translation to each vector.\n",
        "\n",
        "Mathematically, centering is a linear map, normalizing is *not* a linear map, and scaling and translation are linear maps.\n",
        "* **Centering:** LayerNorm is applied every time a layer reads from the residual stream, so the mean of any residual stream vector can never matter - `center_writing_weights` set every weight matrix writing to the residual to have zero mean.\n",
        "* **Normalizing:** Normalizing is not a linear map, and cannot be factored out. The `hook_scale` hook point lets you access and control for this.\n",
        "* **Scaling and Translation:** Scaling and translation are linear maps, and are always followed by another linear map. The composition of two linear maps is another linear map, so we can *fold* the scaling and translation weights into the weights of the subsequent layer, and simplify things without changing the underlying computation.\n",
        "\n",
        "[See the docs for more details](https://github.com/TransformerLensOrg/TransformerLens/blob/main/further_comments.md#what-is-layernorm-folding-fold_ln)"
      ]
    },
    {
      "cell_type": "markdown",
      "metadata": {
        "id": "pvaAke-EbRkn"
      },
      "source": [
        "A fun consequence of LayerNorm folding is that it creates a bias across the unembed, a `d_vocab` length vector that is added to the output logits - GPT-2 is not trained with this, but it *is* trained with a final LayerNorm that contains a bias.\n",
        "\n",
        "Turns out, this LayerNorm bias learns structure of the data that we can only see after folding! In particular, it essentially learns **unigram statistics** - rare tokens get suppressed, common tokens get boosted, by pretty dramatic degrees! Let's list the top and bottom 20 - at the top we see common punctuation and words like \" the\" and \" and\", at the bottom we see weird-ass tokens like \" RandomRedditor\":"
      ]
    },
    {
      "cell_type": "code",
      "execution_count": 26,
      "metadata": {
        "id": "7v7rsnIHbRkn"
      },
      "outputs": [],
      "source": [
        "unembed_bias = model.unembed.b_U\n",
        "bias_values, bias_indices = unembed_bias.sort(descending=True)"
      ]
    },
    {
      "cell_type": "code",
      "execution_count": 27,
      "metadata": {
        "id": "1qdEB3rsbRkn",
        "outputId": "ba322e71-2776-4af1-af92-03c760274440"
      },
      "outputs": [
        {
          "name": "stdout",
          "output_type": "stream",
          "text": [
            "Top 20 values\n",
            "7.03 ','\n",
            "6.98 ' the'\n",
            "6.68 ' and'\n",
            "6.49 '.'\n",
            "6.48 '\\n'\n",
            "6.47 ' a'\n",
            "6.41 ' in'\n",
            "6.25 ' to'\n",
            "6.16 ' of'\n",
            "6.04 '-'\n",
            "6.03 ' ('\n",
            "5.88 ' \"'\n",
            "5.80 ' for'\n",
            "5.72 ' that'\n",
            "5.64 ' on'\n",
            "5.59 ' is'\n",
            "5.52 ' as'\n",
            "5.49 ' at'\n",
            "5.45 ' with'\n",
            "5.44 ' or'\n",
            "...\n",
            "Bottom 20 values\n",
            "-3.82 ' サーティ'\n",
            "-3.83 '\\x18'\n",
            "-3.83 '\\x14'\n",
            "-3.83 ' RandomRedditor'\n",
            "-3.83 '龍�'\n",
            "-3.83 '�'\n",
            "-3.83 '\\x1b'\n",
            "-3.83 '�'\n",
            "-3.83 '\\x05'\n",
            "-3.83 '\\x00'\n",
            "-3.83 '\\x06'\n",
            "-3.83 '\\x07'\n",
            "-3.83 '\\x0c'\n",
            "-3.83 '\\x02'\n",
            "-3.83 'oreAndOnline'\n",
            "-3.84 '\\x11'\n",
            "-3.84 '�'\n",
            "-3.84 '\\x10'\n",
            "-3.84 '�'\n",
            "-3.84 '�'\n"
          ]
        }
      ],
      "source": [
        "top_k = 20\n",
        "print(f\"Top {top_k} values\")\n",
        "for i in range(top_k):\n",
        "    print(f\"{bias_values[i].item():.2f} {repr(model.to_string(bias_indices[i]))}\")\n",
        "\n",
        "print(\"...\")\n",
        "print(f\"Bottom {top_k} values\")\n",
        "for i in range(top_k, 0, -1):\n",
        "    print(f\"{bias_values[-i].item():.2f} {repr(model.to_string(bias_indices[-i]))}\")"
      ]
    },
    {
      "cell_type": "markdown",
      "metadata": {
        "id": "VIJ9IvvRbRkn"
      },
      "source": [
        "This can have real consequences for interpretability - for example, this bias favours \" John\" over \" Mary\" by about 1.2, about 1/3 of the effect size of the Indirect Object Identification Circuit! All other things being the same, this makes the John token 3.6x times more likely than the Mary token."
      ]
    },
    {
      "cell_type": "code",
      "execution_count": 28,
      "metadata": {
        "id": "Bay3Xsl3bRkn",
        "outputId": "dde8e8d5-ed06-4f1e-9a27-5e9dc8f60adc"
      },
      "outputs": [
        {
          "name": "stdout",
          "output_type": "stream",
          "text": [
            "John bias: 2.8995\n",
            "Mary bias: 1.6034\n",
            "Prob ratio bias: 3.6550x\n"
          ]
        }
      ],
      "source": [
        "john_bias = model.unembed.b_U[model.to_single_token(' John')]\n",
        "mary_bias = model.unembed.b_U[model.to_single_token(' Mary')]\n",
        "\n",
        "print(f\"John bias: {john_bias.item():.4f}\")\n",
        "print(f\"Mary bias: {mary_bias.item():.4f}\")\n",
        "print(f\"Prob ratio bias: {torch.exp(john_bias - mary_bias).item():.4f}x\")"
      ]
    },
    {
      "cell_type": "markdown",
      "metadata": {
        "id": "zyVbLhd6bRkn"
      },
      "source": [
        "# Features\n",
        "\n",
        "An overview of some other important features of the library. I recommend checking out the [Exploratory Analysis Demo](https://colab.research.google.com/github/TransformerLensOrg/Easy-Transformer/blob/main/Exploratory_Analysis_Demo.ipynb) for some other important features not mentioned here, and for a demo of what using the library in practice looks like."
      ]
    },
    {
      "cell_type": "markdown",
      "metadata": {
        "id": "cfdes46fbRkn"
      },
      "source": [
        "## Dealing with tokens\n",
        "\n",
        "**Tokenization** is one of the most annoying features of studying language models. We want language models to be able to take in arbitrary text as input, but the transformer architecture needs the inputs to be elements of a fixed, finite vocabulary. The solution to this is **tokens**, a fixed vocabulary of \"sub-words\", that any natural language can be broken down into with a **tokenizer**. This is invertible, and we can recover the original text, called **de-tokenization**.\n",
        "\n",
        "TransformerLens comes with a range of utility functions to deal with tokenization. Different models can have different tokenizers, so these are all methods on the model.\n",
        "\n",
        "get_token_position, to_tokens, to_string, to_str_tokens, prepend_bos, to_single_token"
      ]
    },
    {
      "cell_type": "markdown",
      "metadata": {
        "id": "mA7lVPJobRkn"
      },
      "source": [
        "The first thing you need to figure out is *how* things are tokenized. `model.to_str_tokens` splits a string into the tokens *as a list of substrings*, and so lets you explore what the text looks like. To demonstrate this, let's use it on this paragraph.\n",
        "\n",
        "Some observations - there are a lot of arbitrary-ish details in here!\n",
        "* The tokenizer splits on spaces, so no token contains two words.\n",
        "* Tokens include the preceding space, and whether the first token is a capital letter. `how` and ` how` are different tokens!\n",
        "* Common words are single tokens, even if fairly long (` paragraph`) while uncommon words are split into multiple tokens (` token|ized`).\n",
        "* Tokens *mostly* split on punctuation characters (eg `*` and `.`), but eg `'s` is a single token."
      ]
    },
    {
      "cell_type": "code",
      "execution_count": 29,
      "metadata": {
        "id": "s5xucAf0bRko",
        "outputId": "caf441d0-79e4-46f5-f7c6-18919ebea8dc"
      },
      "outputs": [
        {
          "name": "stdout",
          "output_type": "stream",
          "text": [
            "['<|endoftext|>', 'The', ' first', ' thing', ' you', ' need', ' to', ' figure', ' out', ' is', ' *', 'how', '*', ' things', ' are', ' token', 'ized', '.', ' `', 'model', '.', 'to', '_', 'str', '_', 't', 'ok', 'ens', '`', ' splits', ' a', ' string', ' into', ' the', ' tokens', ' *', 'as', ' a', ' list', ' of', ' sub', 'strings', '*,', ' and', ' so', ' lets', ' you', ' explore', ' what', ' the', ' text', ' looks', ' like', '.', ' To', ' demonstrate', ' this', ',', ' let', \"'s\", ' use', ' it', ' on', ' this', ' paragraph', '.']\n"
          ]
        }
      ],
      "source": [
        "example_text = \"The first thing you need to figure out is *how* things are tokenized. `model.to_str_tokens` splits a string into the tokens *as a list of substrings*, and so lets you explore what the text looks like. To demonstrate this, let's use it on this paragraph.\"\n",
        "example_text_str_tokens = model.to_str_tokens(example_text)\n",
        "print(example_text_str_tokens)"
      ]
    },
    {
      "cell_type": "markdown",
      "metadata": {
        "id": "gbSxm0eZbRko"
      },
      "source": [
        "The transformer needs to take in a sequence of integers, not strings, so we need to convert these tokens into integers. `model.to_tokens` does this, and returns a tensor of integers on the model's device (shape `[batch, position]`). It maps a string to a batch of size 1."
      ]
    },
    {
      "cell_type": "code",
      "execution_count": 30,
      "metadata": {
        "id": "UE_TXNIbbRko",
        "outputId": "c6dc4380-4244-4e6b-ce56-ebf0cb58acf7"
      },
      "outputs": [
        {
          "name": "stdout",
          "output_type": "stream",
          "text": [
            "tensor([[50256,   464,   717,  1517,   345,   761,   284,  3785,   503,   318,\n",
            "          1635,  4919,     9,  1243,   389, 11241,  1143,    13,  4600, 19849,\n",
            "            13,  1462,    62,  2536,    62,    83,   482,   641,    63, 30778,\n",
            "           257,  4731,   656,   262, 16326,  1635,   292,   257,  1351,   286,\n",
            "           850, 37336, 25666,   290,   523,  8781,   345,  7301,   644,   262,\n",
            "          2420,  3073,   588,    13,  1675, 10176,   428,    11,  1309,   338,\n",
            "           779,   340,   319,   428,  7322,    13]], device='cuda:0')\n"
          ]
        }
      ],
      "source": [
        "example_text_tokens = model.to_tokens(example_text)\n",
        "print(example_text_tokens)"
      ]
    },
    {
      "cell_type": "markdown",
      "metadata": {
        "id": "Aen5oOAdbRko"
      },
      "source": [
        "`to_tokens` can also take in a list of strings, and return a batch of size `len(strings)`. If the strings are different numbers of tokens, it adds a PAD token to the end of the shorter strings to make them the same length.\n",
        "\n",
        "(Note: In GPT-2, 50256 signifies both the beginning of sequence, end of sequence and padding token - see the `prepend_bos` section for details)"
      ]
    },
    {
      "cell_type": "code",
      "execution_count": 31,
      "metadata": {
        "id": "Q34sDxSVbRko",
        "outputId": "7c7ad9c3-d088-483b-f740-138dcf144021"
      },
      "outputs": [
        {
          "name": "stdout",
          "output_type": "stream",
          "text": [
            "tensor([[50256,   464,  3797,  3332,   319,   262,  2603,    13, 50256, 50256],\n",
            "        [50256,   464,  3797,  3332,   319,   262,  2603,  1107,  1327,    13]],\n",
            "       device='cuda:0')\n"
          ]
        }
      ],
      "source": [
        "example_multi_text = [\"The cat sat on the mat.\", \"The cat sat on the mat really hard.\"]\n",
        "example_multi_text_tokens = model.to_tokens(example_multi_text)\n",
        "print(example_multi_text_tokens)"
      ]
    },
    {
      "cell_type": "markdown",
      "metadata": {
        "id": "IVOPcLJfbRko"
      },
      "source": [
        "`model.to_single_token` is a convenience function that takes in a string corresponding to a *single* token and returns the corresponding integer. This is useful for eg looking up the logit corresponding to a single token.\n",
        "\n",
        "For example, let's input `The cat sat on the mat.` to GPT-2, and look at the log prob predicting that the next token is ` The`.\n",
        "\n",
        "<details><summary>Technical notes</summary>\n",
        "\n",
        "Note that if we input a string to the model, it's implicitly converted to a string with `to_tokens`.\n",
        "\n",
        "Note further that the log probs have shape `[batch, position, d_vocab]==[1, 8, 50257]`, with a vector of log probs predicting the next token for *every* token position. GPT-2 uses causal attention which means heads can only look backwards (equivalently, information can only move forwards in the model.), so the log probs at position k are only a function of the first k tokens, and it can't just cheat and look at the k+1 th token. This structure lets it generate text more efficiently, and lets it treat every *token* as a training example, rather than every *sequence*.\n",
        "</details>"
      ]
    },
    {
      "cell_type": "code",
      "execution_count": 32,
      "metadata": {
        "id": "DhX__hFkbRkp",
        "outputId": "2da393c1-5168-4652-e714-c6792290d30f"
      },
      "outputs": [
        {
          "name": "stdout",
          "output_type": "stream",
          "text": [
            "Probability tensor shape [batch, position, d_vocab] == torch.Size([1, 8, 50257])\n",
            "| The| probability: 11.98%\n"
          ]
        }
      ],
      "source": [
        "cat_text = \"The cat sat on the mat.\"\n",
        "cat_logits = model(cat_text)\n",
        "cat_probs = cat_logits.softmax(dim=-1)\n",
        "print(f\"Probability tensor shape [batch, position, d_vocab] == {cat_probs.shape}\")\n",
        "\n",
        "capital_the_token_index = model.to_single_token(\" The\")\n",
        "print(f\"| The| probability: {cat_probs[0, -1, capital_the_token_index].item():.2%}\")"
      ]
    },
    {
      "cell_type": "markdown",
      "metadata": {
        "id": "Nk084VQBbRkp"
      },
      "source": [
        "`model.to_string` is the inverse of `to_tokens` and maps a tensor of integers to a string or list of strings. It also works on integers and lists of integers.\n",
        "\n",
        "For example, let's look up token 256 (due to technical details of tokenization, this will be the most common pair of ASCII characters!), and also verify that our tokens above map back to a string."
      ]
    },
    {
      "cell_type": "code",
      "execution_count": 33,
      "metadata": {
        "id": "0wz5XgKYbRkp",
        "outputId": "b02835aa-311c-40fb-cd79-d515a9b7b939"
      },
      "outputs": [
        {
          "name": "stdout",
          "output_type": "stream",
          "text": [
            "Token 256 - the most common pair of ASCII characters: | t|\n",
            "De-Tokenizing the example tokens: <|endoftext|>The first thing you need to figure out is *how* things are tokenized. `model.to_str_tokens` splits a string into the tokens *as a list of substrings*, and so lets you explore what the text looks like. To demonstrate this, let's use it on this paragraph.\n"
          ]
        }
      ],
      "source": [
        "print(f\"Token 256 - the most common pair of ASCII characters: |{model.to_string(256)}|\")\n",
        "# Squeeze means to remove dimensions of length 1.\n",
        "# Here, that removes the dummy batch dimension so it's a rank 1 tensor and returns a string\n",
        "# Rank 2 tensors map to a list of strings\n",
        "print(f\"De-Tokenizing the example tokens: {model.to_string(example_text_tokens.squeeze())}\")"
      ]
    },
    {
      "cell_type": "markdown",
      "metadata": {
        "id": "xA2PzV2-bRkp"
      },
      "source": [
        "A related annoyance of tokenization is that it's hard to figure out how many tokens a string will break into. `model.get_token_position(single_token, tokens)` returns the position of `single_token` in `tokens`. `tokens` can be either a string or a tensor of tokens.\n",
        "\n",
        "Note that position is zero-indexed, it's two (ie third) because there's a beginning of sequence token automatically prepended (see the next section for details)"
      ]
    },
    {
      "cell_type": "code",
      "execution_count": 34,
      "metadata": {
        "id": "drRq3RC6bRkp",
        "outputId": "5435539c-3fd7-481d-a10d-aed75a0d5161"
      },
      "outputs": [
        {
          "name": "stdout",
          "output_type": "stream",
          "text": [
            "With BOS: 2\n",
            "Without BOS: 1\n"
          ]
        }
      ],
      "source": [
        "print(\"With BOS:\", model.get_token_position(\" cat\", \"The cat sat on the mat\"))\n",
        "print(\"Without BOS:\", model.get_token_position(\" cat\", \"The cat sat on the mat\", prepend_bos=False))"
      ]
    },
    {
      "cell_type": "markdown",
      "metadata": {
        "id": "qeRCpcasbRkp"
      },
      "source": [
        "If there are multiple copies of the token, we can set `mode=\"first\"` to find the first occurence's position and `mode=\"last\"` to find the last"
      ]
    },
    {
      "cell_type": "code",
      "execution_count": 35,
      "metadata": {
        "id": "nH4OxRN1bRkp",
        "outputId": "503e0983-3cef-4133-d410-cdbbb277a69e"
      },
      "outputs": [
        {
          "name": "stdout",
          "output_type": "stream",
          "text": [
            "First occurence 2\n",
            "Final occurence 13\n"
          ]
        }
      ],
      "source": [
        "print(\"First occurence\", model.get_token_position(\n",
        "    \" cat\",\n",
        "    \"The cat sat on the mat. The mat sat on the cat.\",\n",
        "    mode=\"first\"))\n",
        "print(\"Final occurence\", model.get_token_position(\n",
        "    \" cat\",\n",
        "    \"The cat sat on the mat. The mat sat on the cat.\",\n",
        "    mode=\"last\"))"
      ]
    },
    {
      "cell_type": "markdown",
      "metadata": {
        "id": "sLcTql2dbRkp"
      },
      "source": [
        "In general, tokenization is a pain, and full of gotchas. I highly recommend just playing around with different inputs and their tokenization and getting a feel for it. As another \"fun\" example, let's look at the tokenization of arithmetic expressions - tokens do *not* contain consistent numbers of digits. (This makes it even more impressive that GPT-3 can do arithmetic!)"
      ]
    },
    {
      "cell_type": "code",
      "execution_count": 36,
      "metadata": {
        "id": "qXKe0WjnbRkp",
        "outputId": "c3bd9c5f-edad-45a1-b108-34404256a281"
      },
      "outputs": [
        {
          "name": "stdout",
          "output_type": "stream",
          "text": [
            "['<|endoftext|>', '23', '42', '+', '2017', '=', '214', '45']\n",
            "['<|endoftext|>', '1000', '+', '1', '000000', '=', '9999', '99']\n"
          ]
        }
      ],
      "source": [
        "print(model.to_str_tokens(\"2342+2017=21445\"))\n",
        "print(model.to_str_tokens(\"1000+1000000=999999\"))"
      ]
    },
    {
      "cell_type": "markdown",
      "metadata": {
        "id": "aDfD0XhfbRkp"
      },
      "source": [
        "I also *highly* recommend investigating prompts with easy tokenization when starting out - ideally key words should form a single token, be in the same position in different prompts, have the same total length, etc. Eg study Indirect Object Identification with common English names like ` Tim` rather than ` Ne|el`. Transformers need to spend some parameters in early layers converting multi-token words to a single feature, and then de-converting this in the late layers, and unless this is what you're explicitly investigating, this will make the behaviour you're investigating be messier."
      ]
    },
    {
      "cell_type": "markdown",
      "metadata": {
        "id": "QNv_F4aObRkp"
      },
      "source": [
        "### Gotcha: `prepend_bos`\n",
        "\n",
        "Key Takeaway: **If you get weird off-by-one errors, check whether there's an unexpected `prepend_bos`!**"
      ]
    },
    {
      "cell_type": "markdown",
      "metadata": {
        "id": "bJJWfYEtbRkp"
      },
      "source": [
        "A weirdness you may have noticed in the above is that `to_tokens` and `to_str_tokens` added a weird `<|endoftext|>` to the start of each prompt. TransformerLens does this by default, and it can easily trip up new users. Notably, **this includes `model.forward`** (which is what's implicitly used when you do eg `model(\"Hello World\")`). This is called a **Beginning of Sequence (BOS)** token, and it's a special token used to mark the beginning of the sequence. Confusingly, in GPT-2, the End of Sequence (EOS), Beginning of Sequence (BOS) and Padding (PAD) tokens are all the same, `<|endoftext|>` with index `50256`.\n",
        "\n",
        "**Gotcha:** You only want to prepend a BOS token at the *start* of a prompt. If you, eg, want to input a question followed by an answer, and want to tokenize these separately, you do *not* want to prepend_bos on the answer."
      ]
    },
    {
      "cell_type": "code",
      "execution_count": 37,
      "metadata": {
        "id": "XAhK5aHPbRkp",
        "outputId": "d229d285-b4a2-4252-9084-46ab201438c4"
      },
      "outputs": [
        {
          "name": "stdout",
          "output_type": "stream",
          "text": [
            "Logits shape by default (with BOS) torch.Size([1, 3, 50257])\n",
            "Logits shape with BOS torch.Size([1, 3, 50257])\n",
            "Logits shape without BOS - only 2 positions! torch.Size([1, 2, 50257])\n"
          ]
        }
      ],
      "source": [
        "print(\"Logits shape by default (with BOS)\", model(\"Hello World\").shape)\n",
        "print(\"Logits shape with BOS\", model(\"Hello World\", prepend_bos=True).shape)\n",
        "print(\"Logits shape without BOS - only 2 positions!\", model(\"Hello World\", prepend_bos=False).shape)"
      ]
    },
    {
      "cell_type": "markdown",
      "metadata": {
        "id": "MZG83QyKbRkp"
      },
      "source": [
        "`prepend_bos` is a bit of a hack, and I've gone back and forth on what the correct default here is. The reason I do this is that transformers tend to treat the first token weirdly - this doesn't really matter in training (where all inputs are >1000 tokens), but this can be a big issue when investigating short prompts! The reason for this is that attention patterns are a probability distribution and so need to add up to one, so to simulate being \"off\" they normally look at the first token. Giving them a BOS token lets the heads rest by looking at that, preserving the information in the first \"real\" token.\n",
        "\n",
        "Further, *some* models are trained to need a BOS token (OPT and my interpretability-friendly models are, GPT-2 and GPT-Neo are not). But despite GPT-2 not being trained with this, empirically it seems to make interpretability easier.\n",
        "\n",
        "(However, if you want to change the default behaviour to *not* prepending a BOS token, pass `default_prepend_bos=False` when you instantiate the model, e.g., `model = HookedTransformer.from_pretrained('gpt2', default_prepend_bos=False)`.)\n",
        "\n",
        "For example, the model can get much worse at Indirect Object Identification without a BOS (and with a name as the first token):"
      ]
    },
    {
      "cell_type": "code",
      "execution_count": 38,
      "metadata": {
        "id": "gCXxzRuBbRkp",
        "outputId": "f52dc7b2-9396-4ddc-ea7b-2816d7d23d42"
      },
      "outputs": [
        {
          "name": "stdout",
          "output_type": "stream",
          "text": [
            "Logit difference with BOS: 6.754\n",
            "Logit difference without BOS: 2.782\n"
          ]
        }
      ],
      "source": [
        "ioi_logits_with_bos = model(\"Claire and Mary went to the shops, then Mary gave a bottle of milk to\", prepend_bos=True)\n",
        "mary_logit_with_bos = ioi_logits_with_bos[0, -1, model.to_single_token(\" Mary\")].item()\n",
        "claire_logit_with_bos = ioi_logits_with_bos[0, -1, model.to_single_token(\" Claire\")].item()\n",
        "print(f\"Logit difference with BOS: {(claire_logit_with_bos - mary_logit_with_bos):.3f}\")\n",
        "\n",
        "ioi_logits_without_bos = model(\"Claire and Mary went to the shops, then Mary gave a bottle of milk to\", prepend_bos=False)\n",
        "mary_logit_without_bos = ioi_logits_without_bos[0, -1, model.to_single_token(\" Mary\")].item()\n",
        "claire_logit_without_bos = ioi_logits_without_bos[0, -1, model.to_single_token(\" Claire\")].item()\n",
        "print(f\"Logit difference without BOS: {(claire_logit_without_bos - mary_logit_without_bos):.3f}\")"
      ]
    },
    {
      "cell_type": "markdown",
      "metadata": {
        "id": "e1mzoLnybRkq"
      },
      "source": [
        "Though, note that this also illustrates another gotcha - when `Claire` is at the start of a sentence (no preceding space), it's actually *two* tokens, not one, which probably confuses the relevant circuit. (Note - in this test we put `prepend_bos=False`, because we want to analyse the tokenization of a specific string, not to give an input to the model!)"
      ]
    },
    {
      "cell_type": "code",
      "execution_count": 39,
      "metadata": {
        "id": "mWmly_iPbRkq",
        "outputId": "e290789d-5ce4-473a-f5a8-5523b773e561"
      },
      "outputs": [
        {
          "name": "stdout",
          "output_type": "stream",
          "text": [
            "| Claire| -> [' Claire']\n",
            "|Claire| -> ['Cl', 'aire']\n"
          ]
        }
      ],
      "source": [
        "print(f\"| Claire| -> {model.to_str_tokens(' Claire', prepend_bos=False)}\")\n",
        "print(f\"|Claire| -> {model.to_str_tokens('Claire', prepend_bos=False)}\")"
      ]
    },
    {
      "cell_type": "markdown",
      "metadata": {
        "id": "eFuOWfDgbRkq"
      },
      "source": [
        "## Factored Matrix Class\n",
        "\n",
        "In transformer interpretability, we often need to analyse low rank factorized matrices - a matrix $M = AB$, where M is `[large, large]`, but A is `[large, small]` and B is `[small, large]`. This is a common structure in transformers, and the `FactoredMatrix` class is a convenient way to work with these. It implements efficient algorithms for various operations on these, such as computing the trace, eigenvalues, Frobenius norm, singular value decomposition, and products with other matrices. It can (approximately) act as a drop-in replacement for the original matrix, and supports leading batch dimensions to the factored matrix.\n",
        "\n",
        "<details><summary>Why are low-rank factorized matrices useful for transformer interpretability?</summary>\n",
        "\n",
        "As argued in [A Mathematical Framework](https://transformer-circuits.pub/2021/framework/index.html), an unexpected fact about transformer attention heads is that rather than being best understood as keys, queries and values (and the requisite weight matrices), they're actually best understood as two low rank factorized matrices.\n",
        "* **Where to move information from:** $W_QK = W_Q W_K^T$, used for determining the attention pattern - what source positions to move information from and what destination positions to move them to.\n",
        "    * Intuitively, residual stream -> query and residual stream -> key are linear maps, *and* `attention_score = query @ key.T` is a linear map, so the whole thing can be factored into one big bilinear form `residual @ W_QK @ residual.T`\n",
        "* **What information to move:** $W_OV = W_V W_O$, used to determine what information to copy from the source position to the destination position (weighted by the attention pattern weight from that destination to that source).\n",
        "    * Intuitively, the residual stream is a `[position, d_model]` tensor (ignoring batch). The attention pattern acts on the *position* dimension (where to move information from and to) and the value and output weights act on the *d_model* dimension - ie *what* information is contained at that source position. So we can factor it all into `attention_pattern @ residual @ W_V @ W_O`, and so only need to care about `W_OV = W_V @ W_O`\n",
        "* Note - the internal head dimension is smaller than the residual stream dimension, so the factorization is low rank. (here, `d_model=768` and `d_head=64`)\n",
        "</details>"
      ]
    },
    {
      "cell_type": "markdown",
      "metadata": {
        "id": "lxBAgk6jbRkq"
      },
      "source": [
        "### Basic Examples"
      ]
    },
    {
      "cell_type": "markdown",
      "metadata": {
        "id": "jjRQS7zTbRkq"
      },
      "source": [
        "We can use the basic class directly - let's make a factored matrix directly and look at the basic operations:"
      ]
    },
    {
      "cell_type": "code",
      "execution_count": 40,
      "metadata": {
        "id": "cTg-iwO5bRkq",
        "outputId": "55d540fb-efc9-48e5-86e4-70ea3826a628"
      },
      "outputs": [
        {
          "name": "stdout",
          "output_type": "stream",
          "text": [
            "Norms:\n",
            "tensor(7.6002)\n",
            "tensor(7.6002)\n",
            "Right dimension: 5, Left dimension: 5, Hidden dimension: 2\n"
          ]
        }
      ],
      "source": [
        "if IN_GITHUB:\n",
        "    torch.manual_seed(50)\n",
        "A = torch.randn(5, 2)\n",
        "B = torch.randn(2, 5)\n",
        "\n",
        "AB = A @ B\n",
        "AB_factor = FactoredMatrix(A, B)\n",
        "print(\"Norms:\")\n",
        "print(AB.norm())\n",
        "print(AB_factor.norm())\n",
        "\n",
        "print(f\"Right dimension: {AB_factor.rdim}, Left dimension: {AB_factor.ldim}, Hidden dimension: {AB_factor.mdim}\")"
      ]
    },
    {
      "cell_type": "markdown",
      "metadata": {
        "id": "g6u7DesRbRkq"
      },
      "source": [
        "We can also look at the eigenvalues and singular values of the matrix. Note that, because the matrix is rank 2 but 5 by 5, the final 3 eigenvalues and singular values are zero - the factored class omits the zeros."
      ]
    },
    {
      "cell_type": "code",
      "execution_count": 41,
      "metadata": {
        "id": "uDdNnFZTbRkq",
        "outputId": "4df30859-58bd-4afc-f3de-d982567ea6be"
      },
      "outputs": [
        {
          "name": "stdout",
          "output_type": "stream",
          "text": [
            "Eigenvalues:\n",
            "tensor([ 2.7596e+00+0.0000e+00j, -6.4923e-01+0.0000e+00j,\n",
            "        -3.5738e-07+0.0000e+00j,  7.3725e-08+4.9021e-08j,\n",
            "         7.3725e-08-4.9021e-08j])\n",
            "tensor([-0.6492+0.j,  2.7596+0.j])\n",
            "\n",
            "Singular Values:\n",
            "tensor([7.4109e+00, 1.6856e+00, 2.7213e-07, 2.0498e-08, 8.3113e-09])\n",
            "tensor([7.4109, 1.6856])\n"
          ]
        }
      ],
      "source": [
        "# NBVAL_IGNORE_OUTPUT\n",
        "print(\"Eigenvalues:\")\n",
        "print(torch.linalg.eig(AB).eigenvalues)\n",
        "print(AB_factor.eigenvalues)\n",
        "print()\n",
        "print(\"Singular Values:\")\n",
        "print(torch.linalg.svd(AB).S)\n",
        "print(AB_factor.S)"
      ]
    },
    {
      "cell_type": "markdown",
      "metadata": {
        "id": "irF_4icpbRkq"
      },
      "source": [
        "We can multiply with other matrices - it automatically chooses the smallest possible dimension to factor along (here it's 2, rather than 5)"
      ]
    },
    {
      "cell_type": "code",
      "execution_count": 42,
      "metadata": {
        "id": "TB_zfsOKbRkq",
        "outputId": "a993d940-36f9-4aea-dc64-60bc1698799e"
      },
      "outputs": [
        {
          "name": "stdout",
          "output_type": "stream",
          "text": [
            "Unfactored: torch.Size([5, 300]) tensor(117.3010)\n",
            "Factored: torch.Size([5, 300]) tensor(117.3010)\n",
            "Right dimension: 300, Left dimension: 5, Hidden dimension: 2\n"
          ]
        }
      ],
      "source": [
        "if IN_GITHUB:\n",
        "    torch.manual_seed(50)\n",
        "\n",
        "C = torch.randn(5, 300)\n",
        "\n",
        "ABC = AB @ C\n",
        "ABC_factor = AB_factor @ C\n",
        "print(\"Unfactored:\", ABC.shape, ABC.norm().round(decimals=3))\n",
        "print(\"Factored:\", ABC_factor.shape, ABC_factor.norm().round(decimals=3))\n",
        "print(f\"Right dimension: {ABC_factor.rdim}, Left dimension: {ABC_factor.ldim}, Hidden dimension: {ABC_factor.mdim}\")"
      ]
    },
    {
      "cell_type": "markdown",
      "metadata": {
        "id": "9uGeoEbvbRkq"
      },
      "source": [
        "If we want to collapse this back to an unfactored matrix, we can use the AB property to get the product:"
      ]
    },
    {
      "cell_type": "code",
      "execution_count": 43,
      "metadata": {
        "id": "A2_PNmk_bRkr",
        "outputId": "6ab1999d-b872-471e-a1aa-9a506e89bb64"
      },
      "outputs": [
        {
          "name": "stdout",
          "output_type": "stream",
          "text": [
            "tensor(True)\n"
          ]
        }
      ],
      "source": [
        "AB_unfactored = AB_factor.AB\n",
        "print(torch.isclose(AB_unfactored, AB).all())"
      ]
    },
    {
      "cell_type": "markdown",
      "metadata": {
        "id": "p3kKfrb8bRkr"
      },
      "source": [
        "### Medium Example: Eigenvalue Copying Scores\n",
        "\n",
        "(This is a more involved example of how to use the factored matrix class, skip it if you aren't following)\n",
        "\n",
        "For a more involved example, let's look at the eigenvalue copying score from [A Mathematical Framework](https://transformer-circuits.pub/2021/framework/index.html) of the OV circuit for various heads. The OV Circuit for a head (the factorised matrix $W_OV = W_V W_O$) is a linear map that determines what information is moved from the source position to the destination position. Because this is low rank, it can be thought of as *reading in* some low rank subspace of the source residual stream and *writing to* some low rank subspace of the destination residual stream (with maybe some processing happening in the middle).\n",
        "\n",
        "A common operation for this will just be to *copy*, ie to have the same reading and writing subspace, and to do minimal processing in the middle. Empirically, this tends to coincide with the OV Circuit having (approximately) positive real eigenvalues. I mostly assert this as an empirical fact, but intuitively, operations that involve mapping eigenvectors to different directions (eg rotations) tend to have complex eigenvalues. And operations that preserve eigenvector direction but negate it tend to have negative real eigenvalues. And \"what happens to the eigenvectors\" is a decent proxy for what happens to an arbitrary vector.\n",
        "\n",
        "We can get a score for \"how positive real the OV circuit eigenvalues are\" with $\\frac{\\sum \\lambda_i}{\\sum |\\lambda_i|}$, where $\\lambda_i$ are the eigenvalues of the OV circuit. This is a bit of a hack, but it seems to work well in practice."
      ]
    },
    {
      "cell_type": "markdown",
      "metadata": {
        "id": "qjDKkzZCbRkr"
      },
      "source": [
        "Let's use FactoredMatrix to compute this for every head in the model! We use the helper `model.OV` to get the concatenated OV circuits for all heads across all layers in the model. This has the shape `[n_layers, n_heads, d_model, d_model]`, where `n_layers` and `n_heads` are batch dimensions and the final two dimensions are factorised as `[n_layers, n_heads, d_model, d_head]` and `[n_layers, n_heads, d_head, d_model]` matrices.\n",
        "\n",
        "We can then get the eigenvalues for this, where there are separate eigenvalues for each element of the batch (a `[n_layers, n_heads, d_head]` tensor of complex numbers), and calculate the copying score."
      ]
    },
    {
      "cell_type": "code",
      "execution_count": 44,
      "metadata": {
        "id": "98oRE9HSbRkr",
        "outputId": "fa457d9f-def0-4be1-edf8-fde0d1bea41b"
      },
      "outputs": [
        {
          "name": "stdout",
          "output_type": "stream",
          "text": [
            "FactoredMatrix: Shape(torch.Size([12, 12, 768, 768])), Hidden Dim(64)\n"
          ]
        }
      ],
      "source": [
        "OV_circuit_all_heads = model.OV\n",
        "print(OV_circuit_all_heads)"
      ]
    },
    {
      "cell_type": "code",
      "execution_count": 45,
      "metadata": {
        "id": "XYi0LZ_RbRkr",
        "outputId": "0b5f8961-ebcb-4374-e37d-a189b530bc74"
      },
      "outputs": [
        {
          "name": "stdout",
          "output_type": "stream",
          "text": [
            "torch.Size([12, 12, 64])\n",
            "torch.complex64\n"
          ]
        }
      ],
      "source": [
        "OV_circuit_all_heads_eigenvalues = OV_circuit_all_heads.eigenvalues\n",
        "print(OV_circuit_all_heads_eigenvalues.shape)\n",
        "print(OV_circuit_all_heads_eigenvalues.dtype)"
      ]
    },
    {
      "cell_type": "code",
      "execution_count": 46,
      "metadata": {
        "id": "66an76BHbRkr",
        "outputId": "6764215f-5334-42ba-88b3-2c262b4a3a9a"
      },
      "outputs": [
        {
          "data": {
            "text/html": [
              "<div>                            <div id=\"99030479-f6df-46a9-8709-08f9840adf35\" class=\"plotly-graph-div\" style=\"height:525px; width:100%;\"></div>            <script type=\"text/javascript\">                require([\"plotly\"], function(Plotly) {                    window.PLOTLYENV=window.PLOTLYENV || {};                                    if (document.getElementById(\"99030479-f6df-46a9-8709-08f9840adf35\")) {                    Plotly.newPlot(                        \"99030479-f6df-46a9-8709-08f9840adf35\",                        [{\"coloraxis\":\"coloraxis\",\"name\":\"0\",\"z\":[[0.77750105,0.35272682,0.25961873,0.66702574,0.83842576,0.5584431,0.8444747,0.4137908,0.2448898,0.028157681,0.35840988,0.16288285],[-0.45419112,-0.6529325,-0.54845667,-0.799037,-0.77364254,-0.8522582,0.9774324,0.662625,-0.7303224,-0.7007022,-0.69466245,-0.99967223],[-0.7837162,0.89677566,0.4750955,-0.66719747,0.7881462,-0.85477495,-0.9054183,-0.5749383,-0.32175112,-0.02859414,-0.9247618,-0.9699269],[0.5864037,-0.76143473,0.5971696,0.7854394,-0.87888837,0.39087465,0.04473848,0.11027989,-0.8169987,0.22129557,-0.99395794,0.57744014],[0.52547914,0.30490106,-0.10729142,0.94331527,-0.93144286,0.52736324,-0.42647117,-0.9984429,0.5296755,0.86042947,-0.8895052,0.955697],[0.6629189,0.4295697,0.97368586,0.65554816,0.12201871,0.744277,0.50379544,0.95253587,-0.6507165,-0.9316278,0.97915107,-0.99725866],[0.9613031,0.75017774,-0.38066605,0.6429787,0.9557768,-0.9428838,-0.994808,0.7852987,0.96573013,0.7073016,0.3687232,0.81280106],[0.9659484,0.97301215,0.3190064,-0.30290508,0.97909534,0.93579227,-0.55503154,-0.0054664426,0.98677766,0.8249568,0.5664297,0.10005259],[-0.9464488,-0.25471967,0.6522328,0.14152552,0.98841405,0.98605835,0.6949273,0.9901811,0.97912043,-0.2359553,-0.98207116,0.6506688],[0.9895944,-0.2917817,0.9714025,0.9951602,0.18783769,-0.9460936,0.47801912,-0.24891919,0.94370997,0.11866217,0.9941242,-0.38088208],[0.9564488,0.5542725,0.42118052,0.662879,0.8659592,0.99371177,0.90690756,0.398111,-0.41342205,0.99719155,0.34596682,0.99386585],[0.5891268,0.93137383,0.9268401,0.9993563,0.6227541,0.8463947,0.65843457,0.8423126,0.2978499,0.87286764,0.99631435,0.9867526]],\"type\":\"heatmap\",\"xaxis\":\"x\",\"yaxis\":\"y\",\"hovertemplate\":\"Head: %{x}\\u003cbr\\u003eLayer: %{y}\\u003cbr\\u003ecolor: %{z}\\u003cextra\\u003e\\u003c\\u002fextra\\u003e\"}],                        {\"template\":{\"data\":{\"histogram2dcontour\":[{\"type\":\"histogram2dcontour\",\"colorbar\":{\"outlinewidth\":0,\"ticks\":\"\"},\"colorscale\":[[0.0,\"#0d0887\"],[0.1111111111111111,\"#46039f\"],[0.2222222222222222,\"#7201a8\"],[0.3333333333333333,\"#9c179e\"],[0.4444444444444444,\"#bd3786\"],[0.5555555555555556,\"#d8576b\"],[0.6666666666666666,\"#ed7953\"],[0.7777777777777778,\"#fb9f3a\"],[0.8888888888888888,\"#fdca26\"],[1.0,\"#f0f921\"]]}],\"choropleth\":[{\"type\":\"choropleth\",\"colorbar\":{\"outlinewidth\":0,\"ticks\":\"\"}}],\"histogram2d\":[{\"type\":\"histogram2d\",\"colorbar\":{\"outlinewidth\":0,\"ticks\":\"\"},\"colorscale\":[[0.0,\"#0d0887\"],[0.1111111111111111,\"#46039f\"],[0.2222222222222222,\"#7201a8\"],[0.3333333333333333,\"#9c179e\"],[0.4444444444444444,\"#bd3786\"],[0.5555555555555556,\"#d8576b\"],[0.6666666666666666,\"#ed7953\"],[0.7777777777777778,\"#fb9f3a\"],[0.8888888888888888,\"#fdca26\"],[1.0,\"#f0f921\"]]}],\"heatmap\":[{\"type\":\"heatmap\",\"colorbar\":{\"outlinewidth\":0,\"ticks\":\"\"},\"colorscale\":[[0.0,\"#0d0887\"],[0.1111111111111111,\"#46039f\"],[0.2222222222222222,\"#7201a8\"],[0.3333333333333333,\"#9c179e\"],[0.4444444444444444,\"#bd3786\"],[0.5555555555555556,\"#d8576b\"],[0.6666666666666666,\"#ed7953\"],[0.7777777777777778,\"#fb9f3a\"],[0.8888888888888888,\"#fdca26\"],[1.0,\"#f0f921\"]]}],\"heatmapgl\":[{\"type\":\"heatmapgl\",\"colorbar\":{\"outlinewidth\":0,\"ticks\":\"\"},\"colorscale\":[[0.0,\"#0d0887\"],[0.1111111111111111,\"#46039f\"],[0.2222222222222222,\"#7201a8\"],[0.3333333333333333,\"#9c179e\"],[0.4444444444444444,\"#bd3786\"],[0.5555555555555556,\"#d8576b\"],[0.6666666666666666,\"#ed7953\"],[0.7777777777777778,\"#fb9f3a\"],[0.8888888888888888,\"#fdca26\"],[1.0,\"#f0f921\"]]}],\"contourcarpet\":[{\"type\":\"contourcarpet\",\"colorbar\":{\"outlinewidth\":0,\"ticks\":\"\"}}],\"contour\":[{\"type\":\"contour\",\"colorbar\":{\"outlinewidth\":0,\"ticks\":\"\"},\"colorscale\":[[0.0,\"#0d0887\"],[0.1111111111111111,\"#46039f\"],[0.2222222222222222,\"#7201a8\"],[0.3333333333333333,\"#9c179e\"],[0.4444444444444444,\"#bd3786\"],[0.5555555555555556,\"#d8576b\"],[0.6666666666666666,\"#ed7953\"],[0.7777777777777778,\"#fb9f3a\"],[0.8888888888888888,\"#fdca26\"],[1.0,\"#f0f921\"]]}],\"surface\":[{\"type\":\"surface\",\"colorbar\":{\"outlinewidth\":0,\"ticks\":\"\"},\"colorscale\":[[0.0,\"#0d0887\"],[0.1111111111111111,\"#46039f\"],[0.2222222222222222,\"#7201a8\"],[0.3333333333333333,\"#9c179e\"],[0.4444444444444444,\"#bd3786\"],[0.5555555555555556,\"#d8576b\"],[0.6666666666666666,\"#ed7953\"],[0.7777777777777778,\"#fb9f3a\"],[0.8888888888888888,\"#fdca26\"],[1.0,\"#f0f921\"]]}],\"mesh3d\":[{\"type\":\"mesh3d\",\"colorbar\":{\"outlinewidth\":0,\"ticks\":\"\"}}],\"scatter\":[{\"fillpattern\":{\"fillmode\":\"overlay\",\"size\":10,\"solidity\":0.2},\"type\":\"scatter\"}],\"parcoords\":[{\"type\":\"parcoords\",\"line\":{\"colorbar\":{\"outlinewidth\":0,\"ticks\":\"\"}}}],\"scatterpolargl\":[{\"type\":\"scatterpolargl\",\"marker\":{\"colorbar\":{\"outlinewidth\":0,\"ticks\":\"\"}}}],\"bar\":[{\"error_x\":{\"color\":\"#2a3f5f\"},\"error_y\":{\"color\":\"#2a3f5f\"},\"marker\":{\"line\":{\"color\":\"#E5ECF6\",\"width\":0.5},\"pattern\":{\"fillmode\":\"overlay\",\"size\":10,\"solidity\":0.2}},\"type\":\"bar\"}],\"scattergeo\":[{\"type\":\"scattergeo\",\"marker\":{\"colorbar\":{\"outlinewidth\":0,\"ticks\":\"\"}}}],\"scatterpolar\":[{\"type\":\"scatterpolar\",\"marker\":{\"colorbar\":{\"outlinewidth\":0,\"ticks\":\"\"}}}],\"histogram\":[{\"marker\":{\"pattern\":{\"fillmode\":\"overlay\",\"size\":10,\"solidity\":0.2}},\"type\":\"histogram\"}],\"scattergl\":[{\"type\":\"scattergl\",\"marker\":{\"colorbar\":{\"outlinewidth\":0,\"ticks\":\"\"}}}],\"scatter3d\":[{\"type\":\"scatter3d\",\"line\":{\"colorbar\":{\"outlinewidth\":0,\"ticks\":\"\"}},\"marker\":{\"colorbar\":{\"outlinewidth\":0,\"ticks\":\"\"}}}],\"scattermapbox\":[{\"type\":\"scattermapbox\",\"marker\":{\"colorbar\":{\"outlinewidth\":0,\"ticks\":\"\"}}}],\"scatterternary\":[{\"type\":\"scatterternary\",\"marker\":{\"colorbar\":{\"outlinewidth\":0,\"ticks\":\"\"}}}],\"scattercarpet\":[{\"type\":\"scattercarpet\",\"marker\":{\"colorbar\":{\"outlinewidth\":0,\"ticks\":\"\"}}}],\"carpet\":[{\"aaxis\":{\"endlinecolor\":\"#2a3f5f\",\"gridcolor\":\"white\",\"linecolor\":\"white\",\"minorgridcolor\":\"white\",\"startlinecolor\":\"#2a3f5f\"},\"baxis\":{\"endlinecolor\":\"#2a3f5f\",\"gridcolor\":\"white\",\"linecolor\":\"white\",\"minorgridcolor\":\"white\",\"startlinecolor\":\"#2a3f5f\"},\"type\":\"carpet\"}],\"table\":[{\"cells\":{\"fill\":{\"color\":\"#EBF0F8\"},\"line\":{\"color\":\"white\"}},\"header\":{\"fill\":{\"color\":\"#C8D4E3\"},\"line\":{\"color\":\"white\"}},\"type\":\"table\"}],\"barpolar\":[{\"marker\":{\"line\":{\"color\":\"#E5ECF6\",\"width\":0.5},\"pattern\":{\"fillmode\":\"overlay\",\"size\":10,\"solidity\":0.2}},\"type\":\"barpolar\"}],\"pie\":[{\"automargin\":true,\"type\":\"pie\"}]},\"layout\":{\"autotypenumbers\":\"strict\",\"colorway\":[\"#636efa\",\"#EF553B\",\"#00cc96\",\"#ab63fa\",\"#FFA15A\",\"#19d3f3\",\"#FF6692\",\"#B6E880\",\"#FF97FF\",\"#FECB52\"],\"font\":{\"color\":\"#2a3f5f\"},\"hovermode\":\"closest\",\"hoverlabel\":{\"align\":\"left\"},\"paper_bgcolor\":\"white\",\"plot_bgcolor\":\"#E5ECF6\",\"polar\":{\"bgcolor\":\"#E5ECF6\",\"angularaxis\":{\"gridcolor\":\"white\",\"linecolor\":\"white\",\"ticks\":\"\"},\"radialaxis\":{\"gridcolor\":\"white\",\"linecolor\":\"white\",\"ticks\":\"\"}},\"ternary\":{\"bgcolor\":\"#E5ECF6\",\"aaxis\":{\"gridcolor\":\"white\",\"linecolor\":\"white\",\"ticks\":\"\"},\"baxis\":{\"gridcolor\":\"white\",\"linecolor\":\"white\",\"ticks\":\"\"},\"caxis\":{\"gridcolor\":\"white\",\"linecolor\":\"white\",\"ticks\":\"\"}},\"coloraxis\":{\"colorbar\":{\"outlinewidth\":0,\"ticks\":\"\"}},\"colorscale\":{\"sequential\":[[0.0,\"#0d0887\"],[0.1111111111111111,\"#46039f\"],[0.2222222222222222,\"#7201a8\"],[0.3333333333333333,\"#9c179e\"],[0.4444444444444444,\"#bd3786\"],[0.5555555555555556,\"#d8576b\"],[0.6666666666666666,\"#ed7953\"],[0.7777777777777778,\"#fb9f3a\"],[0.8888888888888888,\"#fdca26\"],[1.0,\"#f0f921\"]],\"sequentialminus\":[[0.0,\"#0d0887\"],[0.1111111111111111,\"#46039f\"],[0.2222222222222222,\"#7201a8\"],[0.3333333333333333,\"#9c179e\"],[0.4444444444444444,\"#bd3786\"],[0.5555555555555556,\"#d8576b\"],[0.6666666666666666,\"#ed7953\"],[0.7777777777777778,\"#fb9f3a\"],[0.8888888888888888,\"#fdca26\"],[1.0,\"#f0f921\"]],\"diverging\":[[0,\"#8e0152\"],[0.1,\"#c51b7d\"],[0.2,\"#de77ae\"],[0.3,\"#f1b6da\"],[0.4,\"#fde0ef\"],[0.5,\"#f7f7f7\"],[0.6,\"#e6f5d0\"],[0.7,\"#b8e186\"],[0.8,\"#7fbc41\"],[0.9,\"#4d9221\"],[1,\"#276419\"]]},\"xaxis\":{\"gridcolor\":\"white\",\"linecolor\":\"white\",\"ticks\":\"\",\"title\":{\"standoff\":15},\"zerolinecolor\":\"white\",\"automargin\":true,\"zerolinewidth\":2},\"yaxis\":{\"gridcolor\":\"white\",\"linecolor\":\"white\",\"ticks\":\"\",\"title\":{\"standoff\":15},\"zerolinecolor\":\"white\",\"automargin\":true,\"zerolinewidth\":2},\"scene\":{\"xaxis\":{\"backgroundcolor\":\"#E5ECF6\",\"gridcolor\":\"white\",\"linecolor\":\"white\",\"showbackground\":true,\"ticks\":\"\",\"zerolinecolor\":\"white\",\"gridwidth\":2},\"yaxis\":{\"backgroundcolor\":\"#E5ECF6\",\"gridcolor\":\"white\",\"linecolor\":\"white\",\"showbackground\":true,\"ticks\":\"\",\"zerolinecolor\":\"white\",\"gridwidth\":2},\"zaxis\":{\"backgroundcolor\":\"#E5ECF6\",\"gridcolor\":\"white\",\"linecolor\":\"white\",\"showbackground\":true,\"ticks\":\"\",\"zerolinecolor\":\"white\",\"gridwidth\":2}},\"shapedefaults\":{\"line\":{\"color\":\"#2a3f5f\"}},\"annotationdefaults\":{\"arrowcolor\":\"#2a3f5f\",\"arrowhead\":0,\"arrowwidth\":1},\"geo\":{\"bgcolor\":\"white\",\"landcolor\":\"#E5ECF6\",\"subunitcolor\":\"white\",\"showland\":true,\"showlakes\":true,\"lakecolor\":\"white\"},\"title\":{\"x\":0.05},\"mapbox\":{\"style\":\"light\"}}},\"xaxis\":{\"anchor\":\"y\",\"domain\":[0.0,1.0],\"scaleanchor\":\"y\",\"constrain\":\"domain\",\"title\":{\"text\":\"Head\"}},\"yaxis\":{\"anchor\":\"x\",\"domain\":[0.0,1.0],\"autorange\":\"reversed\",\"constrain\":\"domain\",\"title\":{\"text\":\"Layer\"}},\"coloraxis\":{\"colorscale\":[[0.0,\"rgb(103,0,31)\"],[0.1,\"rgb(178,24,43)\"],[0.2,\"rgb(214,96,77)\"],[0.3,\"rgb(244,165,130)\"],[0.4,\"rgb(253,219,199)\"],[0.5,\"rgb(247,247,247)\"],[0.6,\"rgb(209,229,240)\"],[0.7,\"rgb(146,197,222)\"],[0.8,\"rgb(67,147,195)\"],[0.9,\"rgb(33,102,172)\"],[1.0,\"rgb(5,48,97)\"]],\"cmid\":0.0,\"cmin\":-1.0,\"cmax\":1.0},\"title\":{\"text\":\"OV Copying Score for each head in GPT-2 Small\"}},                        {\"responsive\": true}                    ).then(function(){\n",
              "                            \n",
              "var gd = document.getElementById('99030479-f6df-46a9-8709-08f9840adf35');\n",
              "var x = new MutationObserver(function (mutations, observer) {{\n",
              "        var display = window.getComputedStyle(gd).display;\n",
              "        if (!display || display === 'none') {{\n",
              "            console.log([gd, 'removed!']);\n",
              "            Plotly.purge(gd);\n",
              "            observer.disconnect();\n",
              "        }}\n",
              "}});\n",
              "\n",
              "// Listen for the removal of the full notebook cells\n",
              "var notebookContainer = gd.closest('#notebook-container');\n",
              "if (notebookContainer) {{\n",
              "    x.observe(notebookContainer, {childList: true});\n",
              "}}\n",
              "\n",
              "// Listen for the clearing of the current output cell\n",
              "var outputEl = gd.closest('.output');\n",
              "if (outputEl) {{\n",
              "    x.observe(outputEl, {childList: true});\n",
              "}}\n",
              "\n",
              "                        })                };                });            </script>        </div>"
            ]
          },
          "metadata": {},
          "output_type": "display_data"
        }
      ],
      "source": [
        "OV_copying_score = OV_circuit_all_heads_eigenvalues.sum(dim=-1).real / OV_circuit_all_heads_eigenvalues.abs().sum(dim=-1)\n",
        "imshow(utils.to_numpy(OV_copying_score), xaxis=\"Head\", yaxis=\"Layer\", title=\"OV Copying Score for each head in GPT-2 Small\", zmax=1.0, zmin=-1.0)"
      ]
    },
    {
      "cell_type": "markdown",
      "metadata": {
        "id": "FOfFL4hfbRkr"
      },
      "source": [
        "Head 11 in Layer 11 (L11H11) has a high copying score, and if we plot the eigenvalues they look approximately as expected."
      ]
    },
    {
      "cell_type": "code",
      "execution_count": 47,
      "metadata": {
        "id": "0v4GhESLbRkr",
        "outputId": "acb53575-d4fe-4e80-c08c-2c7087079692"
      },
      "outputs": [
        {
          "data": {
            "text/html": [
              "<div>                            <div id=\"02b5b4d4-7975-430e-93a3-a63ad96b8d06\" class=\"plotly-graph-div\" style=\"height:525px; width:100%;\"></div>            <script type=\"text/javascript\">                require([\"plotly\"], function(Plotly) {                    window.PLOTLYENV=window.PLOTLYENV || {};                                    if (document.getElementById(\"02b5b4d4-7975-430e-93a3-a63ad96b8d06\")) {                    Plotly.newPlot(                        \"02b5b4d4-7975-430e-93a3-a63ad96b8d06\",                        [{\"hovertemplate\":\"Real=%{x}\\u003cbr\\u003eImaginary=%{y}\\u003cextra\\u003e\\u003c\\u002fextra\\u003e\",\"legendgroup\":\"\",\"marker\":{\"color\":\"#636efa\",\"symbol\":\"circle\"},\"mode\":\"markers\",\"name\":\"\",\"orientation\":\"v\",\"showlegend\":false,\"x\":[-2.1397295,1.4152669,3.4444509,4.02767,8.88266,8.477557,8.216803,8.216803,4.8667727,4.8667727,4.8436985,4.8436985,7.8554506,7.8554506,5.078615,5.3657646,5.3657646,7.769127,7.769127,7.042287,7.042287,5.563432,5.563432,5.421717,7.6785808,7.6785808,7.6729336,6.5733223,6.5733223,7.172203,7.172203,5.6751447,5.6751447,7.4236126,7.4236126,7.4708176,6.0890923,6.0890923,6.3068376,6.3068376,6.5117526,6.5117526,5.9552355,5.9552355,5.8588095,5.8588095,7.1478853,7.1478853,7.1857176,7.1857176,6.6705995,6.6705995,6.735981,6.735981,6.1497607,6.1497607,6.2887893,6.2887893,6.3447866,6.6255684,6.6255684,6.8991833,6.8991833,6.85642],\"xaxis\":\"x\",\"y\":[0.0,0.0,0.0,0.0,0.0,0.0,0.40868986,-0.40868986,0.41852313,-0.41852313,0.090790324,-0.090790324,0.70072055,-0.70072055,0.0,0.46421352,-0.46421352,0.47057194,-0.47057194,1.0298707,-1.0298707,0.5558288,-0.5558288,0.0,0.33564487,-0.33564487,0.0,0.9988695,-0.9988695,0.75317675,-0.75317675,0.4825338,-0.4825338,0.4257584,-0.4257584,0.0,0.643625,-0.643625,0.7701701,-0.7701701,0.7557999,-0.7557999,0.25910804,-0.25910804,0.013025469,-0.013025469,0.4016674,-0.4016674,0.28191918,-0.28191918,0.61462265,-0.61462265,0.5391278,-0.5391278,0.28233925,-0.28233925,0.35283524,-0.35283524,0.0,0.24867576,-0.24867576,0.15546031,-0.15546031,0.0],\"yaxis\":\"y\",\"type\":\"scatter\"}],                        {\"template\":{\"data\":{\"histogram2dcontour\":[{\"type\":\"histogram2dcontour\",\"colorbar\":{\"outlinewidth\":0,\"ticks\":\"\"},\"colorscale\":[[0.0,\"#0d0887\"],[0.1111111111111111,\"#46039f\"],[0.2222222222222222,\"#7201a8\"],[0.3333333333333333,\"#9c179e\"],[0.4444444444444444,\"#bd3786\"],[0.5555555555555556,\"#d8576b\"],[0.6666666666666666,\"#ed7953\"],[0.7777777777777778,\"#fb9f3a\"],[0.8888888888888888,\"#fdca26\"],[1.0,\"#f0f921\"]]}],\"choropleth\":[{\"type\":\"choropleth\",\"colorbar\":{\"outlinewidth\":0,\"ticks\":\"\"}}],\"histogram2d\":[{\"type\":\"histogram2d\",\"colorbar\":{\"outlinewidth\":0,\"ticks\":\"\"},\"colorscale\":[[0.0,\"#0d0887\"],[0.1111111111111111,\"#46039f\"],[0.2222222222222222,\"#7201a8\"],[0.3333333333333333,\"#9c179e\"],[0.4444444444444444,\"#bd3786\"],[0.5555555555555556,\"#d8576b\"],[0.6666666666666666,\"#ed7953\"],[0.7777777777777778,\"#fb9f3a\"],[0.8888888888888888,\"#fdca26\"],[1.0,\"#f0f921\"]]}],\"heatmap\":[{\"type\":\"heatmap\",\"colorbar\":{\"outlinewidth\":0,\"ticks\":\"\"},\"colorscale\":[[0.0,\"#0d0887\"],[0.1111111111111111,\"#46039f\"],[0.2222222222222222,\"#7201a8\"],[0.3333333333333333,\"#9c179e\"],[0.4444444444444444,\"#bd3786\"],[0.5555555555555556,\"#d8576b\"],[0.6666666666666666,\"#ed7953\"],[0.7777777777777778,\"#fb9f3a\"],[0.8888888888888888,\"#fdca26\"],[1.0,\"#f0f921\"]]}],\"heatmapgl\":[{\"type\":\"heatmapgl\",\"colorbar\":{\"outlinewidth\":0,\"ticks\":\"\"},\"colorscale\":[[0.0,\"#0d0887\"],[0.1111111111111111,\"#46039f\"],[0.2222222222222222,\"#7201a8\"],[0.3333333333333333,\"#9c179e\"],[0.4444444444444444,\"#bd3786\"],[0.5555555555555556,\"#d8576b\"],[0.6666666666666666,\"#ed7953\"],[0.7777777777777778,\"#fb9f3a\"],[0.8888888888888888,\"#fdca26\"],[1.0,\"#f0f921\"]]}],\"contourcarpet\":[{\"type\":\"contourcarpet\",\"colorbar\":{\"outlinewidth\":0,\"ticks\":\"\"}}],\"contour\":[{\"type\":\"contour\",\"colorbar\":{\"outlinewidth\":0,\"ticks\":\"\"},\"colorscale\":[[0.0,\"#0d0887\"],[0.1111111111111111,\"#46039f\"],[0.2222222222222222,\"#7201a8\"],[0.3333333333333333,\"#9c179e\"],[0.4444444444444444,\"#bd3786\"],[0.5555555555555556,\"#d8576b\"],[0.6666666666666666,\"#ed7953\"],[0.7777777777777778,\"#fb9f3a\"],[0.8888888888888888,\"#fdca26\"],[1.0,\"#f0f921\"]]}],\"surface\":[{\"type\":\"surface\",\"colorbar\":{\"outlinewidth\":0,\"ticks\":\"\"},\"colorscale\":[[0.0,\"#0d0887\"],[0.1111111111111111,\"#46039f\"],[0.2222222222222222,\"#7201a8\"],[0.3333333333333333,\"#9c179e\"],[0.4444444444444444,\"#bd3786\"],[0.5555555555555556,\"#d8576b\"],[0.6666666666666666,\"#ed7953\"],[0.7777777777777778,\"#fb9f3a\"],[0.8888888888888888,\"#fdca26\"],[1.0,\"#f0f921\"]]}],\"mesh3d\":[{\"type\":\"mesh3d\",\"colorbar\":{\"outlinewidth\":0,\"ticks\":\"\"}}],\"scatter\":[{\"fillpattern\":{\"fillmode\":\"overlay\",\"size\":10,\"solidity\":0.2},\"type\":\"scatter\"}],\"parcoords\":[{\"type\":\"parcoords\",\"line\":{\"colorbar\":{\"outlinewidth\":0,\"ticks\":\"\"}}}],\"scatterpolargl\":[{\"type\":\"scatterpolargl\",\"marker\":{\"colorbar\":{\"outlinewidth\":0,\"ticks\":\"\"}}}],\"bar\":[{\"error_x\":{\"color\":\"#2a3f5f\"},\"error_y\":{\"color\":\"#2a3f5f\"},\"marker\":{\"line\":{\"color\":\"#E5ECF6\",\"width\":0.5},\"pattern\":{\"fillmode\":\"overlay\",\"size\":10,\"solidity\":0.2}},\"type\":\"bar\"}],\"scattergeo\":[{\"type\":\"scattergeo\",\"marker\":{\"colorbar\":{\"outlinewidth\":0,\"ticks\":\"\"}}}],\"scatterpolar\":[{\"type\":\"scatterpolar\",\"marker\":{\"colorbar\":{\"outlinewidth\":0,\"ticks\":\"\"}}}],\"histogram\":[{\"marker\":{\"pattern\":{\"fillmode\":\"overlay\",\"size\":10,\"solidity\":0.2}},\"type\":\"histogram\"}],\"scattergl\":[{\"type\":\"scattergl\",\"marker\":{\"colorbar\":{\"outlinewidth\":0,\"ticks\":\"\"}}}],\"scatter3d\":[{\"type\":\"scatter3d\",\"line\":{\"colorbar\":{\"outlinewidth\":0,\"ticks\":\"\"}},\"marker\":{\"colorbar\":{\"outlinewidth\":0,\"ticks\":\"\"}}}],\"scattermapbox\":[{\"type\":\"scattermapbox\",\"marker\":{\"colorbar\":{\"outlinewidth\":0,\"ticks\":\"\"}}}],\"scatterternary\":[{\"type\":\"scatterternary\",\"marker\":{\"colorbar\":{\"outlinewidth\":0,\"ticks\":\"\"}}}],\"scattercarpet\":[{\"type\":\"scattercarpet\",\"marker\":{\"colorbar\":{\"outlinewidth\":0,\"ticks\":\"\"}}}],\"carpet\":[{\"aaxis\":{\"endlinecolor\":\"#2a3f5f\",\"gridcolor\":\"white\",\"linecolor\":\"white\",\"minorgridcolor\":\"white\",\"startlinecolor\":\"#2a3f5f\"},\"baxis\":{\"endlinecolor\":\"#2a3f5f\",\"gridcolor\":\"white\",\"linecolor\":\"white\",\"minorgridcolor\":\"white\",\"startlinecolor\":\"#2a3f5f\"},\"type\":\"carpet\"}],\"table\":[{\"cells\":{\"fill\":{\"color\":\"#EBF0F8\"},\"line\":{\"color\":\"white\"}},\"header\":{\"fill\":{\"color\":\"#C8D4E3\"},\"line\":{\"color\":\"white\"}},\"type\":\"table\"}],\"barpolar\":[{\"marker\":{\"line\":{\"color\":\"#E5ECF6\",\"width\":0.5},\"pattern\":{\"fillmode\":\"overlay\",\"size\":10,\"solidity\":0.2}},\"type\":\"barpolar\"}],\"pie\":[{\"automargin\":true,\"type\":\"pie\"}]},\"layout\":{\"autotypenumbers\":\"strict\",\"colorway\":[\"#636efa\",\"#EF553B\",\"#00cc96\",\"#ab63fa\",\"#FFA15A\",\"#19d3f3\",\"#FF6692\",\"#B6E880\",\"#FF97FF\",\"#FECB52\"],\"font\":{\"color\":\"#2a3f5f\"},\"hovermode\":\"closest\",\"hoverlabel\":{\"align\":\"left\"},\"paper_bgcolor\":\"white\",\"plot_bgcolor\":\"#E5ECF6\",\"polar\":{\"bgcolor\":\"#E5ECF6\",\"angularaxis\":{\"gridcolor\":\"white\",\"linecolor\":\"white\",\"ticks\":\"\"},\"radialaxis\":{\"gridcolor\":\"white\",\"linecolor\":\"white\",\"ticks\":\"\"}},\"ternary\":{\"bgcolor\":\"#E5ECF6\",\"aaxis\":{\"gridcolor\":\"white\",\"linecolor\":\"white\",\"ticks\":\"\"},\"baxis\":{\"gridcolor\":\"white\",\"linecolor\":\"white\",\"ticks\":\"\"},\"caxis\":{\"gridcolor\":\"white\",\"linecolor\":\"white\",\"ticks\":\"\"}},\"coloraxis\":{\"colorbar\":{\"outlinewidth\":0,\"ticks\":\"\"}},\"colorscale\":{\"sequential\":[[0.0,\"#0d0887\"],[0.1111111111111111,\"#46039f\"],[0.2222222222222222,\"#7201a8\"],[0.3333333333333333,\"#9c179e\"],[0.4444444444444444,\"#bd3786\"],[0.5555555555555556,\"#d8576b\"],[0.6666666666666666,\"#ed7953\"],[0.7777777777777778,\"#fb9f3a\"],[0.8888888888888888,\"#fdca26\"],[1.0,\"#f0f921\"]],\"sequentialminus\":[[0.0,\"#0d0887\"],[0.1111111111111111,\"#46039f\"],[0.2222222222222222,\"#7201a8\"],[0.3333333333333333,\"#9c179e\"],[0.4444444444444444,\"#bd3786\"],[0.5555555555555556,\"#d8576b\"],[0.6666666666666666,\"#ed7953\"],[0.7777777777777778,\"#fb9f3a\"],[0.8888888888888888,\"#fdca26\"],[1.0,\"#f0f921\"]],\"diverging\":[[0,\"#8e0152\"],[0.1,\"#c51b7d\"],[0.2,\"#de77ae\"],[0.3,\"#f1b6da\"],[0.4,\"#fde0ef\"],[0.5,\"#f7f7f7\"],[0.6,\"#e6f5d0\"],[0.7,\"#b8e186\"],[0.8,\"#7fbc41\"],[0.9,\"#4d9221\"],[1,\"#276419\"]]},\"xaxis\":{\"gridcolor\":\"white\",\"linecolor\":\"white\",\"ticks\":\"\",\"title\":{\"standoff\":15},\"zerolinecolor\":\"white\",\"automargin\":true,\"zerolinewidth\":2},\"yaxis\":{\"gridcolor\":\"white\",\"linecolor\":\"white\",\"ticks\":\"\",\"title\":{\"standoff\":15},\"zerolinecolor\":\"white\",\"automargin\":true,\"zerolinewidth\":2},\"scene\":{\"xaxis\":{\"backgroundcolor\":\"#E5ECF6\",\"gridcolor\":\"white\",\"linecolor\":\"white\",\"showbackground\":true,\"ticks\":\"\",\"zerolinecolor\":\"white\",\"gridwidth\":2},\"yaxis\":{\"backgroundcolor\":\"#E5ECF6\",\"gridcolor\":\"white\",\"linecolor\":\"white\",\"showbackground\":true,\"ticks\":\"\",\"zerolinecolor\":\"white\",\"gridwidth\":2},\"zaxis\":{\"backgroundcolor\":\"#E5ECF6\",\"gridcolor\":\"white\",\"linecolor\":\"white\",\"showbackground\":true,\"ticks\":\"\",\"zerolinecolor\":\"white\",\"gridwidth\":2}},\"shapedefaults\":{\"line\":{\"color\":\"#2a3f5f\"}},\"annotationdefaults\":{\"arrowcolor\":\"#2a3f5f\",\"arrowhead\":0,\"arrowwidth\":1},\"geo\":{\"bgcolor\":\"white\",\"landcolor\":\"#E5ECF6\",\"subunitcolor\":\"white\",\"showland\":true,\"showlakes\":true,\"lakecolor\":\"white\"},\"title\":{\"x\":0.05},\"mapbox\":{\"style\":\"light\"}}},\"xaxis\":{\"anchor\":\"y\",\"domain\":[0.0,1.0],\"title\":{\"text\":\"Real\"}},\"yaxis\":{\"anchor\":\"x\",\"domain\":[0.0,1.0],\"title\":{\"text\":\"Imaginary\"}},\"legend\":{\"tracegroupgap\":0},\"title\":{\"text\":\"Eigenvalues of Head L11H11 of GPT-2 Small\"}},                        {\"responsive\": true}                    ).then(function(){\n",
              "                            \n",
              "var gd = document.getElementById('02b5b4d4-7975-430e-93a3-a63ad96b8d06');\n",
              "var x = new MutationObserver(function (mutations, observer) {{\n",
              "        var display = window.getComputedStyle(gd).display;\n",
              "        if (!display || display === 'none') {{\n",
              "            console.log([gd, 'removed!']);\n",
              "            Plotly.purge(gd);\n",
              "            observer.disconnect();\n",
              "        }}\n",
              "}});\n",
              "\n",
              "// Listen for the removal of the full notebook cells\n",
              "var notebookContainer = gd.closest('#notebook-container');\n",
              "if (notebookContainer) {{\n",
              "    x.observe(notebookContainer, {childList: true});\n",
              "}}\n",
              "\n",
              "// Listen for the clearing of the current output cell\n",
              "var outputEl = gd.closest('.output');\n",
              "if (outputEl) {{\n",
              "    x.observe(outputEl, {childList: true});\n",
              "}}\n",
              "\n",
              "                        })                };                });            </script>        </div>"
            ]
          },
          "metadata": {},
          "output_type": "display_data"
        }
      ],
      "source": [
        "scatter(x=OV_circuit_all_heads_eigenvalues[-1, -1, :].real, y=OV_circuit_all_heads_eigenvalues[-1, -1, :].imag, title=\"Eigenvalues of Head L11H11 of GPT-2 Small\", xaxis=\"Real\", yaxis=\"Imaginary\")"
      ]
    },
    {
      "cell_type": "markdown",
      "metadata": {
        "id": "wrcvKua4bRkr"
      },
      "source": [
        "We can even look at the full OV circuit, from the input tokens to output tokens: $W_E W_V W_O W_U$. This is a `[d_vocab, d_vocab]==[50257, 50257]` matrix, so absolutely enormous, even for a single head. But with the FactoredMatrix class, we can compute the full eigenvalue copying score of every head in a few seconds."
      ]
    },
    {
      "cell_type": "code",
      "execution_count": 48,
      "metadata": {
        "id": "7DTRAbHybRkr",
        "outputId": "4cc30d8c-b3af-491a-fd77-d7d49d7662fe"
      },
      "outputs": [
        {
          "name": "stdout",
          "output_type": "stream",
          "text": [
            "FactoredMatrix: Shape(torch.Size([12, 12, 50257, 50257])), Hidden Dim(64)\n"
          ]
        }
      ],
      "source": [
        "full_OV_circuit = model.embed.W_E @ OV_circuit_all_heads @ model.unembed.W_U\n",
        "print(full_OV_circuit)"
      ]
    },
    {
      "cell_type": "code",
      "execution_count": 49,
      "metadata": {
        "id": "nHKICZjpbRkr",
        "outputId": "182b06f0-0a1b-44bd-eb84-f59d5003244c"
      },
      "outputs": [
        {
          "name": "stdout",
          "output_type": "stream",
          "text": [
            "torch.Size([12, 12, 64])\n",
            "torch.complex64\n"
          ]
        }
      ],
      "source": [
        "full_OV_circuit_eigenvalues = full_OV_circuit.eigenvalues\n",
        "print(full_OV_circuit_eigenvalues.shape)\n",
        "print(full_OV_circuit_eigenvalues.dtype)"
      ]
    },
    {
      "cell_type": "code",
      "execution_count": 50,
      "metadata": {
        "id": "G-RvvTg1bRks",
        "outputId": "b9e39750-f875-4f29-a022-b5c94129e598"
      },
      "outputs": [
        {
          "data": {
            "text/html": [
              "<div>                            <div id=\"048d4dd7-0d0f-4ba4-bb62-97ca10ed8b0e\" class=\"plotly-graph-div\" style=\"height:525px; width:100%;\"></div>            <script type=\"text/javascript\">                require([\"plotly\"], function(Plotly) {                    window.PLOTLYENV=window.PLOTLYENV || {};                                    if (document.getElementById(\"048d4dd7-0d0f-4ba4-bb62-97ca10ed8b0e\")) {                    Plotly.newPlot(                        \"048d4dd7-0d0f-4ba4-bb62-97ca10ed8b0e\",                        [{\"coloraxis\":\"coloraxis\",\"name\":\"0\",\"z\":[[0.8356367,0.5853538,0.5105842,0.78433764,0.86441565,0.70265836,0.89699244,0.5868825,0.42486507,-0.16337526,0.46268556,0.27605388],[-0.052920155,-0.31773117,-0.48105797,-0.7838065,-0.63602084,-0.7758682,0.96818036,0.81191164,-0.7510466,-0.68784463,-0.64298844,-0.9985855],[-0.6598329,0.9152503,0.54614973,-0.48743948,0.7720561,-0.7541062,-0.84724486,-0.69489855,-0.15575103,0.24442281,-0.9106624,-0.9439151],[0.6486898,-0.55929124,0.5935595,0.78430367,-0.8150344,0.61300474,0.16785854,0.35195908,-0.68372655,0.22237691,-0.99292195,0.653582],[0.5740951,0.3640131,0.09609045,0.9359625,-0.9228775,0.61910766,-0.33572632,-0.9984648,0.6448632,0.8468659,-0.7557655,0.95279706],[0.7326544,0.5324169,0.973267,0.7239247,0.25538945,0.81584126,0.665579,0.92871,-0.5660437,-0.89087456,0.9834233,-0.99811804],[0.96986914,0.74396724,-0.35639313,0.6022986,0.9708117,-0.9278277,-0.9962316,0.834521,0.9714328,0.8158543,0.5902575,0.8199346],[0.98202264,0.9859328,0.5152457,-0.56105167,0.96636665,0.949516,-0.5204813,0.31047523,0.9859085,0.7797459,0.67385346,0.39197412],[-0.9062039,0.117509924,0.80778754,0.41693044,0.9829014,0.9902303,0.78471035,0.9945631,0.9868024,-0.26804444,-0.99088675,0.7457928],[0.9906192,-0.18231118,0.9757837,0.99867505,0.2544331,-0.9544061,0.5869241,-0.23537982,0.9550503,0.25511965,0.992987,0.09052583],[0.9707273,0.69560957,0.6280025,0.79028636,0.9343841,0.9895794,0.94362825,-0.10834976,-0.3431112,0.99867094,0.5086735,0.99495095],[0.8283137,0.9432437,0.94917667,0.9995352,0.5712319,0.8055237,0.6781867,0.82725734,0.83147985,0.87786573,0.9944959,0.9973867]],\"type\":\"heatmap\",\"xaxis\":\"x\",\"yaxis\":\"y\",\"hovertemplate\":\"Head: %{x}\\u003cbr\\u003eLayer: %{y}\\u003cbr\\u003ecolor: %{z}\\u003cextra\\u003e\\u003c\\u002fextra\\u003e\"}],                        {\"template\":{\"data\":{\"histogram2dcontour\":[{\"type\":\"histogram2dcontour\",\"colorbar\":{\"outlinewidth\":0,\"ticks\":\"\"},\"colorscale\":[[0.0,\"#0d0887\"],[0.1111111111111111,\"#46039f\"],[0.2222222222222222,\"#7201a8\"],[0.3333333333333333,\"#9c179e\"],[0.4444444444444444,\"#bd3786\"],[0.5555555555555556,\"#d8576b\"],[0.6666666666666666,\"#ed7953\"],[0.7777777777777778,\"#fb9f3a\"],[0.8888888888888888,\"#fdca26\"],[1.0,\"#f0f921\"]]}],\"choropleth\":[{\"type\":\"choropleth\",\"colorbar\":{\"outlinewidth\":0,\"ticks\":\"\"}}],\"histogram2d\":[{\"type\":\"histogram2d\",\"colorbar\":{\"outlinewidth\":0,\"ticks\":\"\"},\"colorscale\":[[0.0,\"#0d0887\"],[0.1111111111111111,\"#46039f\"],[0.2222222222222222,\"#7201a8\"],[0.3333333333333333,\"#9c179e\"],[0.4444444444444444,\"#bd3786\"],[0.5555555555555556,\"#d8576b\"],[0.6666666666666666,\"#ed7953\"],[0.7777777777777778,\"#fb9f3a\"],[0.8888888888888888,\"#fdca26\"],[1.0,\"#f0f921\"]]}],\"heatmap\":[{\"type\":\"heatmap\",\"colorbar\":{\"outlinewidth\":0,\"ticks\":\"\"},\"colorscale\":[[0.0,\"#0d0887\"],[0.1111111111111111,\"#46039f\"],[0.2222222222222222,\"#7201a8\"],[0.3333333333333333,\"#9c179e\"],[0.4444444444444444,\"#bd3786\"],[0.5555555555555556,\"#d8576b\"],[0.6666666666666666,\"#ed7953\"],[0.7777777777777778,\"#fb9f3a\"],[0.8888888888888888,\"#fdca26\"],[1.0,\"#f0f921\"]]}],\"heatmapgl\":[{\"type\":\"heatmapgl\",\"colorbar\":{\"outlinewidth\":0,\"ticks\":\"\"},\"colorscale\":[[0.0,\"#0d0887\"],[0.1111111111111111,\"#46039f\"],[0.2222222222222222,\"#7201a8\"],[0.3333333333333333,\"#9c179e\"],[0.4444444444444444,\"#bd3786\"],[0.5555555555555556,\"#d8576b\"],[0.6666666666666666,\"#ed7953\"],[0.7777777777777778,\"#fb9f3a\"],[0.8888888888888888,\"#fdca26\"],[1.0,\"#f0f921\"]]}],\"contourcarpet\":[{\"type\":\"contourcarpet\",\"colorbar\":{\"outlinewidth\":0,\"ticks\":\"\"}}],\"contour\":[{\"type\":\"contour\",\"colorbar\":{\"outlinewidth\":0,\"ticks\":\"\"},\"colorscale\":[[0.0,\"#0d0887\"],[0.1111111111111111,\"#46039f\"],[0.2222222222222222,\"#7201a8\"],[0.3333333333333333,\"#9c179e\"],[0.4444444444444444,\"#bd3786\"],[0.5555555555555556,\"#d8576b\"],[0.6666666666666666,\"#ed7953\"],[0.7777777777777778,\"#fb9f3a\"],[0.8888888888888888,\"#fdca26\"],[1.0,\"#f0f921\"]]}],\"surface\":[{\"type\":\"surface\",\"colorbar\":{\"outlinewidth\":0,\"ticks\":\"\"},\"colorscale\":[[0.0,\"#0d0887\"],[0.1111111111111111,\"#46039f\"],[0.2222222222222222,\"#7201a8\"],[0.3333333333333333,\"#9c179e\"],[0.4444444444444444,\"#bd3786\"],[0.5555555555555556,\"#d8576b\"],[0.6666666666666666,\"#ed7953\"],[0.7777777777777778,\"#fb9f3a\"],[0.8888888888888888,\"#fdca26\"],[1.0,\"#f0f921\"]]}],\"mesh3d\":[{\"type\":\"mesh3d\",\"colorbar\":{\"outlinewidth\":0,\"ticks\":\"\"}}],\"scatter\":[{\"fillpattern\":{\"fillmode\":\"overlay\",\"size\":10,\"solidity\":0.2},\"type\":\"scatter\"}],\"parcoords\":[{\"type\":\"parcoords\",\"line\":{\"colorbar\":{\"outlinewidth\":0,\"ticks\":\"\"}}}],\"scatterpolargl\":[{\"type\":\"scatterpolargl\",\"marker\":{\"colorbar\":{\"outlinewidth\":0,\"ticks\":\"\"}}}],\"bar\":[{\"error_x\":{\"color\":\"#2a3f5f\"},\"error_y\":{\"color\":\"#2a3f5f\"},\"marker\":{\"line\":{\"color\":\"#E5ECF6\",\"width\":0.5},\"pattern\":{\"fillmode\":\"overlay\",\"size\":10,\"solidity\":0.2}},\"type\":\"bar\"}],\"scattergeo\":[{\"type\":\"scattergeo\",\"marker\":{\"colorbar\":{\"outlinewidth\":0,\"ticks\":\"\"}}}],\"scatterpolar\":[{\"type\":\"scatterpolar\",\"marker\":{\"colorbar\":{\"outlinewidth\":0,\"ticks\":\"\"}}}],\"histogram\":[{\"marker\":{\"pattern\":{\"fillmode\":\"overlay\",\"size\":10,\"solidity\":0.2}},\"type\":\"histogram\"}],\"scattergl\":[{\"type\":\"scattergl\",\"marker\":{\"colorbar\":{\"outlinewidth\":0,\"ticks\":\"\"}}}],\"scatter3d\":[{\"type\":\"scatter3d\",\"line\":{\"colorbar\":{\"outlinewidth\":0,\"ticks\":\"\"}},\"marker\":{\"colorbar\":{\"outlinewidth\":0,\"ticks\":\"\"}}}],\"scattermapbox\":[{\"type\":\"scattermapbox\",\"marker\":{\"colorbar\":{\"outlinewidth\":0,\"ticks\":\"\"}}}],\"scatterternary\":[{\"type\":\"scatterternary\",\"marker\":{\"colorbar\":{\"outlinewidth\":0,\"ticks\":\"\"}}}],\"scattercarpet\":[{\"type\":\"scattercarpet\",\"marker\":{\"colorbar\":{\"outlinewidth\":0,\"ticks\":\"\"}}}],\"carpet\":[{\"aaxis\":{\"endlinecolor\":\"#2a3f5f\",\"gridcolor\":\"white\",\"linecolor\":\"white\",\"minorgridcolor\":\"white\",\"startlinecolor\":\"#2a3f5f\"},\"baxis\":{\"endlinecolor\":\"#2a3f5f\",\"gridcolor\":\"white\",\"linecolor\":\"white\",\"minorgridcolor\":\"white\",\"startlinecolor\":\"#2a3f5f\"},\"type\":\"carpet\"}],\"table\":[{\"cells\":{\"fill\":{\"color\":\"#EBF0F8\"},\"line\":{\"color\":\"white\"}},\"header\":{\"fill\":{\"color\":\"#C8D4E3\"},\"line\":{\"color\":\"white\"}},\"type\":\"table\"}],\"barpolar\":[{\"marker\":{\"line\":{\"color\":\"#E5ECF6\",\"width\":0.5},\"pattern\":{\"fillmode\":\"overlay\",\"size\":10,\"solidity\":0.2}},\"type\":\"barpolar\"}],\"pie\":[{\"automargin\":true,\"type\":\"pie\"}]},\"layout\":{\"autotypenumbers\":\"strict\",\"colorway\":[\"#636efa\",\"#EF553B\",\"#00cc96\",\"#ab63fa\",\"#FFA15A\",\"#19d3f3\",\"#FF6692\",\"#B6E880\",\"#FF97FF\",\"#FECB52\"],\"font\":{\"color\":\"#2a3f5f\"},\"hovermode\":\"closest\",\"hoverlabel\":{\"align\":\"left\"},\"paper_bgcolor\":\"white\",\"plot_bgcolor\":\"#E5ECF6\",\"polar\":{\"bgcolor\":\"#E5ECF6\",\"angularaxis\":{\"gridcolor\":\"white\",\"linecolor\":\"white\",\"ticks\":\"\"},\"radialaxis\":{\"gridcolor\":\"white\",\"linecolor\":\"white\",\"ticks\":\"\"}},\"ternary\":{\"bgcolor\":\"#E5ECF6\",\"aaxis\":{\"gridcolor\":\"white\",\"linecolor\":\"white\",\"ticks\":\"\"},\"baxis\":{\"gridcolor\":\"white\",\"linecolor\":\"white\",\"ticks\":\"\"},\"caxis\":{\"gridcolor\":\"white\",\"linecolor\":\"white\",\"ticks\":\"\"}},\"coloraxis\":{\"colorbar\":{\"outlinewidth\":0,\"ticks\":\"\"}},\"colorscale\":{\"sequential\":[[0.0,\"#0d0887\"],[0.1111111111111111,\"#46039f\"],[0.2222222222222222,\"#7201a8\"],[0.3333333333333333,\"#9c179e\"],[0.4444444444444444,\"#bd3786\"],[0.5555555555555556,\"#d8576b\"],[0.6666666666666666,\"#ed7953\"],[0.7777777777777778,\"#fb9f3a\"],[0.8888888888888888,\"#fdca26\"],[1.0,\"#f0f921\"]],\"sequentialminus\":[[0.0,\"#0d0887\"],[0.1111111111111111,\"#46039f\"],[0.2222222222222222,\"#7201a8\"],[0.3333333333333333,\"#9c179e\"],[0.4444444444444444,\"#bd3786\"],[0.5555555555555556,\"#d8576b\"],[0.6666666666666666,\"#ed7953\"],[0.7777777777777778,\"#fb9f3a\"],[0.8888888888888888,\"#fdca26\"],[1.0,\"#f0f921\"]],\"diverging\":[[0,\"#8e0152\"],[0.1,\"#c51b7d\"],[0.2,\"#de77ae\"],[0.3,\"#f1b6da\"],[0.4,\"#fde0ef\"],[0.5,\"#f7f7f7\"],[0.6,\"#e6f5d0\"],[0.7,\"#b8e186\"],[0.8,\"#7fbc41\"],[0.9,\"#4d9221\"],[1,\"#276419\"]]},\"xaxis\":{\"gridcolor\":\"white\",\"linecolor\":\"white\",\"ticks\":\"\",\"title\":{\"standoff\":15},\"zerolinecolor\":\"white\",\"automargin\":true,\"zerolinewidth\":2},\"yaxis\":{\"gridcolor\":\"white\",\"linecolor\":\"white\",\"ticks\":\"\",\"title\":{\"standoff\":15},\"zerolinecolor\":\"white\",\"automargin\":true,\"zerolinewidth\":2},\"scene\":{\"xaxis\":{\"backgroundcolor\":\"#E5ECF6\",\"gridcolor\":\"white\",\"linecolor\":\"white\",\"showbackground\":true,\"ticks\":\"\",\"zerolinecolor\":\"white\",\"gridwidth\":2},\"yaxis\":{\"backgroundcolor\":\"#E5ECF6\",\"gridcolor\":\"white\",\"linecolor\":\"white\",\"showbackground\":true,\"ticks\":\"\",\"zerolinecolor\":\"white\",\"gridwidth\":2},\"zaxis\":{\"backgroundcolor\":\"#E5ECF6\",\"gridcolor\":\"white\",\"linecolor\":\"white\",\"showbackground\":true,\"ticks\":\"\",\"zerolinecolor\":\"white\",\"gridwidth\":2}},\"shapedefaults\":{\"line\":{\"color\":\"#2a3f5f\"}},\"annotationdefaults\":{\"arrowcolor\":\"#2a3f5f\",\"arrowhead\":0,\"arrowwidth\":1},\"geo\":{\"bgcolor\":\"white\",\"landcolor\":\"#E5ECF6\",\"subunitcolor\":\"white\",\"showland\":true,\"showlakes\":true,\"lakecolor\":\"white\"},\"title\":{\"x\":0.05},\"mapbox\":{\"style\":\"light\"}}},\"xaxis\":{\"anchor\":\"y\",\"domain\":[0.0,1.0],\"scaleanchor\":\"y\",\"constrain\":\"domain\",\"title\":{\"text\":\"Head\"}},\"yaxis\":{\"anchor\":\"x\",\"domain\":[0.0,1.0],\"autorange\":\"reversed\",\"constrain\":\"domain\",\"title\":{\"text\":\"Layer\"}},\"coloraxis\":{\"colorscale\":[[0.0,\"rgb(103,0,31)\"],[0.1,\"rgb(178,24,43)\"],[0.2,\"rgb(214,96,77)\"],[0.3,\"rgb(244,165,130)\"],[0.4,\"rgb(253,219,199)\"],[0.5,\"rgb(247,247,247)\"],[0.6,\"rgb(209,229,240)\"],[0.7,\"rgb(146,197,222)\"],[0.8,\"rgb(67,147,195)\"],[0.9,\"rgb(33,102,172)\"],[1.0,\"rgb(5,48,97)\"]],\"cmid\":0.0,\"cmin\":-1.0,\"cmax\":1.0},\"title\":{\"text\":\"OV Copying Score for each head in GPT-2 Small\"}},                        {\"responsive\": true}                    ).then(function(){\n",
              "                            \n",
              "var gd = document.getElementById('048d4dd7-0d0f-4ba4-bb62-97ca10ed8b0e');\n",
              "var x = new MutationObserver(function (mutations, observer) {{\n",
              "        var display = window.getComputedStyle(gd).display;\n",
              "        if (!display || display === 'none') {{\n",
              "            console.log([gd, 'removed!']);\n",
              "            Plotly.purge(gd);\n",
              "            observer.disconnect();\n",
              "        }}\n",
              "}});\n",
              "\n",
              "// Listen for the removal of the full notebook cells\n",
              "var notebookContainer = gd.closest('#notebook-container');\n",
              "if (notebookContainer) {{\n",
              "    x.observe(notebookContainer, {childList: true});\n",
              "}}\n",
              "\n",
              "// Listen for the clearing of the current output cell\n",
              "var outputEl = gd.closest('.output');\n",
              "if (outputEl) {{\n",
              "    x.observe(outputEl, {childList: true});\n",
              "}}\n",
              "\n",
              "                        })                };                });            </script>        </div>"
            ]
          },
          "metadata": {},
          "output_type": "display_data"
        }
      ],
      "source": [
        "full_OV_copying_score = full_OV_circuit_eigenvalues.sum(dim=-1).real / full_OV_circuit_eigenvalues.abs().sum(dim=-1)\n",
        "imshow(utils.to_numpy(full_OV_copying_score), xaxis=\"Head\", yaxis=\"Layer\", title=\"OV Copying Score for each head in GPT-2 Small\", zmax=1.0, zmin=-1.0)"
      ]
    },
    {
      "cell_type": "markdown",
      "metadata": {
        "id": "mydWJCSwbRks"
      },
      "source": [
        "Interestingly, these are highly (but not perfectly!) correlated. I'm not sure what to read from this, or what's up with the weird outlier heads!"
      ]
    },
    {
      "cell_type": "code",
      "execution_count": 51,
      "metadata": {
        "id": "vHKQSDGMbRks",
        "outputId": "28f5192d-d519-4cb7-812d-86a45749cda0"
      },
      "outputs": [
        {
          "data": {
            "text/html": [
              "<div>                            <div id=\"50a4d6de-32b2-4eca-a7c4-01dc5b8c1886\" class=\"plotly-graph-div\" style=\"height:525px; width:100%;\"></div>            <script type=\"text/javascript\">                require([\"plotly\"], function(Plotly) {                    window.PLOTLYENV=window.PLOTLYENV || {};                                    if (document.getElementById(\"50a4d6de-32b2-4eca-a7c4-01dc5b8c1886\")) {                    Plotly.newPlot(                        \"50a4d6de-32b2-4eca-a7c4-01dc5b8c1886\",                        [{\"hovertemplate\":\"\\u003cb\\u003e%{hovertext}\\u003c\\u002fb\\u003e\\u003cbr\\u003e\\u003cbr\\u003eFull OV Copying Score=%{x}\\u003cbr\\u003eOV Copying Score=%{y}\\u003cextra\\u003e\\u003c\\u002fextra\\u003e\",\"hovertext\":[\"L0H0\",\"L0H1\",\"L0H2\",\"L0H3\",\"L0H4\",\"L0H5\",\"L0H6\",\"L0H7\",\"L0H8\",\"L0H9\",\"L0H10\",\"L0H11\",\"L1H0\",\"L1H1\",\"L1H2\",\"L1H3\",\"L1H4\",\"L1H5\",\"L1H6\",\"L1H7\",\"L1H8\",\"L1H9\",\"L1H10\",\"L1H11\",\"L2H0\",\"L2H1\",\"L2H2\",\"L2H3\",\"L2H4\",\"L2H5\",\"L2H6\",\"L2H7\",\"L2H8\",\"L2H9\",\"L2H10\",\"L2H11\",\"L3H0\",\"L3H1\",\"L3H2\",\"L3H3\",\"L3H4\",\"L3H5\",\"L3H6\",\"L3H7\",\"L3H8\",\"L3H9\",\"L3H10\",\"L3H11\",\"L4H0\",\"L4H1\",\"L4H2\",\"L4H3\",\"L4H4\",\"L4H5\",\"L4H6\",\"L4H7\",\"L4H8\",\"L4H9\",\"L4H10\",\"L4H11\",\"L5H0\",\"L5H1\",\"L5H2\",\"L5H3\",\"L5H4\",\"L5H5\",\"L5H6\",\"L5H7\",\"L5H8\",\"L5H9\",\"L5H10\",\"L5H11\",\"L6H0\",\"L6H1\",\"L6H2\",\"L6H3\",\"L6H4\",\"L6H5\",\"L6H6\",\"L6H7\",\"L6H8\",\"L6H9\",\"L6H10\",\"L6H11\",\"L7H0\",\"L7H1\",\"L7H2\",\"L7H3\",\"L7H4\",\"L7H5\",\"L7H6\",\"L7H7\",\"L7H8\",\"L7H9\",\"L7H10\",\"L7H11\",\"L8H0\",\"L8H1\",\"L8H2\",\"L8H3\",\"L8H4\",\"L8H5\",\"L8H6\",\"L8H7\",\"L8H8\",\"L8H9\",\"L8H10\",\"L8H11\",\"L9H0\",\"L9H1\",\"L9H2\",\"L9H3\",\"L9H4\",\"L9H5\",\"L9H6\",\"L9H7\",\"L9H8\",\"L9H9\",\"L9H10\",\"L9H11\",\"L10H0\",\"L10H1\",\"L10H2\",\"L10H3\",\"L10H4\",\"L10H5\",\"L10H6\",\"L10H7\",\"L10H8\",\"L10H9\",\"L10H10\",\"L10H11\",\"L11H0\",\"L11H1\",\"L11H2\",\"L11H3\",\"L11H4\",\"L11H5\",\"L11H6\",\"L11H7\",\"L11H8\",\"L11H9\",\"L11H10\",\"L11H11\"],\"legendgroup\":\"\",\"marker\":{\"color\":\"#636efa\",\"symbol\":\"circle\"},\"mode\":\"markers\",\"name\":\"\",\"orientation\":\"v\",\"showlegend\":false,\"x\":[0.8356367,0.5853538,0.5105842,0.78433764,0.86441565,0.70265836,0.89699244,0.5868825,0.42486507,-0.16337526,0.46268556,0.27605388,-0.052920155,-0.31773117,-0.48105797,-0.7838065,-0.63602084,-0.7758682,0.96818036,0.81191164,-0.7510466,-0.68784463,-0.64298844,-0.9985855,-0.6598329,0.9152503,0.54614973,-0.48743948,0.7720561,-0.7541062,-0.84724486,-0.69489855,-0.15575103,0.24442281,-0.9106624,-0.9439151,0.6486898,-0.55929124,0.5935595,0.78430367,-0.8150344,0.61300474,0.16785854,0.35195908,-0.68372655,0.22237691,-0.99292195,0.653582,0.5740951,0.3640131,0.09609045,0.9359625,-0.9228775,0.61910766,-0.33572632,-0.9984648,0.6448632,0.8468659,-0.7557655,0.95279706,0.7326544,0.5324169,0.973267,0.7239247,0.25538945,0.81584126,0.665579,0.92871,-0.5660437,-0.89087456,0.9834233,-0.99811804,0.96986914,0.74396724,-0.35639313,0.6022986,0.9708117,-0.9278277,-0.9962316,0.834521,0.9714328,0.8158543,0.5902575,0.8199346,0.98202264,0.9859328,0.5152457,-0.56105167,0.96636665,0.949516,-0.5204813,0.31047523,0.9859085,0.7797459,0.67385346,0.39197412,-0.9062039,0.117509924,0.80778754,0.41693044,0.9829014,0.9902303,0.78471035,0.9945631,0.9868024,-0.26804444,-0.99088675,0.7457928,0.9906192,-0.18231118,0.9757837,0.99867505,0.2544331,-0.9544061,0.5869241,-0.23537982,0.9550503,0.25511965,0.992987,0.09052583,0.9707273,0.69560957,0.6280025,0.79028636,0.9343841,0.9895794,0.94362825,-0.10834976,-0.3431112,0.99867094,0.5086735,0.99495095,0.8283137,0.9432437,0.94917667,0.9995352,0.5712319,0.8055237,0.6781867,0.82725734,0.83147985,0.87786573,0.9944959,0.9973867],\"xaxis\":\"x\",\"y\":[0.77750105,0.35272682,0.25961873,0.66702574,0.83842576,0.5584431,0.8444747,0.4137908,0.2448898,0.028157681,0.35840988,0.16288285,-0.45419112,-0.6529325,-0.54845667,-0.799037,-0.77364254,-0.8522582,0.9774324,0.662625,-0.7303224,-0.7007022,-0.69466245,-0.99967223,-0.7837162,0.89677566,0.4750955,-0.66719747,0.7881462,-0.85477495,-0.9054183,-0.5749383,-0.32175112,-0.02859414,-0.9247618,-0.9699269,0.5864037,-0.76143473,0.5971696,0.7854394,-0.87888837,0.39087465,0.04473848,0.11027989,-0.8169987,0.22129557,-0.99395794,0.57744014,0.52547914,0.30490106,-0.10729142,0.94331527,-0.93144286,0.52736324,-0.42647117,-0.9984429,0.5296755,0.86042947,-0.8895052,0.955697,0.6629189,0.4295697,0.97368586,0.65554816,0.12201871,0.744277,0.50379544,0.95253587,-0.6507165,-0.9316278,0.97915107,-0.99725866,0.9613031,0.75017774,-0.38066605,0.6429787,0.9557768,-0.9428838,-0.994808,0.7852987,0.96573013,0.7073016,0.3687232,0.81280106,0.9659484,0.97301215,0.3190064,-0.30290508,0.97909534,0.93579227,-0.55503154,-0.0054664426,0.98677766,0.8249568,0.5664297,0.10005259,-0.9464488,-0.25471967,0.6522328,0.14152552,0.98841405,0.98605835,0.6949273,0.9901811,0.97912043,-0.2359553,-0.98207116,0.6506688,0.9895944,-0.2917817,0.9714025,0.9951602,0.18783769,-0.9460936,0.47801912,-0.24891919,0.94370997,0.11866217,0.9941242,-0.38088208,0.9564488,0.5542725,0.42118052,0.662879,0.8659592,0.99371177,0.90690756,0.398111,-0.41342205,0.99719155,0.34596682,0.99386585,0.5891268,0.93137383,0.9268401,0.9993563,0.6227541,0.8463947,0.65843457,0.8423126,0.2978499,0.87286764,0.99631435,0.9867526],\"yaxis\":\"y\",\"type\":\"scatter\"}],                        {\"template\":{\"data\":{\"histogram2dcontour\":[{\"type\":\"histogram2dcontour\",\"colorbar\":{\"outlinewidth\":0,\"ticks\":\"\"},\"colorscale\":[[0.0,\"#0d0887\"],[0.1111111111111111,\"#46039f\"],[0.2222222222222222,\"#7201a8\"],[0.3333333333333333,\"#9c179e\"],[0.4444444444444444,\"#bd3786\"],[0.5555555555555556,\"#d8576b\"],[0.6666666666666666,\"#ed7953\"],[0.7777777777777778,\"#fb9f3a\"],[0.8888888888888888,\"#fdca26\"],[1.0,\"#f0f921\"]]}],\"choropleth\":[{\"type\":\"choropleth\",\"colorbar\":{\"outlinewidth\":0,\"ticks\":\"\"}}],\"histogram2d\":[{\"type\":\"histogram2d\",\"colorbar\":{\"outlinewidth\":0,\"ticks\":\"\"},\"colorscale\":[[0.0,\"#0d0887\"],[0.1111111111111111,\"#46039f\"],[0.2222222222222222,\"#7201a8\"],[0.3333333333333333,\"#9c179e\"],[0.4444444444444444,\"#bd3786\"],[0.5555555555555556,\"#d8576b\"],[0.6666666666666666,\"#ed7953\"],[0.7777777777777778,\"#fb9f3a\"],[0.8888888888888888,\"#fdca26\"],[1.0,\"#f0f921\"]]}],\"heatmap\":[{\"type\":\"heatmap\",\"colorbar\":{\"outlinewidth\":0,\"ticks\":\"\"},\"colorscale\":[[0.0,\"#0d0887\"],[0.1111111111111111,\"#46039f\"],[0.2222222222222222,\"#7201a8\"],[0.3333333333333333,\"#9c179e\"],[0.4444444444444444,\"#bd3786\"],[0.5555555555555556,\"#d8576b\"],[0.6666666666666666,\"#ed7953\"],[0.7777777777777778,\"#fb9f3a\"],[0.8888888888888888,\"#fdca26\"],[1.0,\"#f0f921\"]]}],\"heatmapgl\":[{\"type\":\"heatmapgl\",\"colorbar\":{\"outlinewidth\":0,\"ticks\":\"\"},\"colorscale\":[[0.0,\"#0d0887\"],[0.1111111111111111,\"#46039f\"],[0.2222222222222222,\"#7201a8\"],[0.3333333333333333,\"#9c179e\"],[0.4444444444444444,\"#bd3786\"],[0.5555555555555556,\"#d8576b\"],[0.6666666666666666,\"#ed7953\"],[0.7777777777777778,\"#fb9f3a\"],[0.8888888888888888,\"#fdca26\"],[1.0,\"#f0f921\"]]}],\"contourcarpet\":[{\"type\":\"contourcarpet\",\"colorbar\":{\"outlinewidth\":0,\"ticks\":\"\"}}],\"contour\":[{\"type\":\"contour\",\"colorbar\":{\"outlinewidth\":0,\"ticks\":\"\"},\"colorscale\":[[0.0,\"#0d0887\"],[0.1111111111111111,\"#46039f\"],[0.2222222222222222,\"#7201a8\"],[0.3333333333333333,\"#9c179e\"],[0.4444444444444444,\"#bd3786\"],[0.5555555555555556,\"#d8576b\"],[0.6666666666666666,\"#ed7953\"],[0.7777777777777778,\"#fb9f3a\"],[0.8888888888888888,\"#fdca26\"],[1.0,\"#f0f921\"]]}],\"surface\":[{\"type\":\"surface\",\"colorbar\":{\"outlinewidth\":0,\"ticks\":\"\"},\"colorscale\":[[0.0,\"#0d0887\"],[0.1111111111111111,\"#46039f\"],[0.2222222222222222,\"#7201a8\"],[0.3333333333333333,\"#9c179e\"],[0.4444444444444444,\"#bd3786\"],[0.5555555555555556,\"#d8576b\"],[0.6666666666666666,\"#ed7953\"],[0.7777777777777778,\"#fb9f3a\"],[0.8888888888888888,\"#fdca26\"],[1.0,\"#f0f921\"]]}],\"mesh3d\":[{\"type\":\"mesh3d\",\"colorbar\":{\"outlinewidth\":0,\"ticks\":\"\"}}],\"scatter\":[{\"fillpattern\":{\"fillmode\":\"overlay\",\"size\":10,\"solidity\":0.2},\"type\":\"scatter\"}],\"parcoords\":[{\"type\":\"parcoords\",\"line\":{\"colorbar\":{\"outlinewidth\":0,\"ticks\":\"\"}}}],\"scatterpolargl\":[{\"type\":\"scatterpolargl\",\"marker\":{\"colorbar\":{\"outlinewidth\":0,\"ticks\":\"\"}}}],\"bar\":[{\"error_x\":{\"color\":\"#2a3f5f\"},\"error_y\":{\"color\":\"#2a3f5f\"},\"marker\":{\"line\":{\"color\":\"#E5ECF6\",\"width\":0.5},\"pattern\":{\"fillmode\":\"overlay\",\"size\":10,\"solidity\":0.2}},\"type\":\"bar\"}],\"scattergeo\":[{\"type\":\"scattergeo\",\"marker\":{\"colorbar\":{\"outlinewidth\":0,\"ticks\":\"\"}}}],\"scatterpolar\":[{\"type\":\"scatterpolar\",\"marker\":{\"colorbar\":{\"outlinewidth\":0,\"ticks\":\"\"}}}],\"histogram\":[{\"marker\":{\"pattern\":{\"fillmode\":\"overlay\",\"size\":10,\"solidity\":0.2}},\"type\":\"histogram\"}],\"scattergl\":[{\"type\":\"scattergl\",\"marker\":{\"colorbar\":{\"outlinewidth\":0,\"ticks\":\"\"}}}],\"scatter3d\":[{\"type\":\"scatter3d\",\"line\":{\"colorbar\":{\"outlinewidth\":0,\"ticks\":\"\"}},\"marker\":{\"colorbar\":{\"outlinewidth\":0,\"ticks\":\"\"}}}],\"scattermapbox\":[{\"type\":\"scattermapbox\",\"marker\":{\"colorbar\":{\"outlinewidth\":0,\"ticks\":\"\"}}}],\"scatterternary\":[{\"type\":\"scatterternary\",\"marker\":{\"colorbar\":{\"outlinewidth\":0,\"ticks\":\"\"}}}],\"scattercarpet\":[{\"type\":\"scattercarpet\",\"marker\":{\"colorbar\":{\"outlinewidth\":0,\"ticks\":\"\"}}}],\"carpet\":[{\"aaxis\":{\"endlinecolor\":\"#2a3f5f\",\"gridcolor\":\"white\",\"linecolor\":\"white\",\"minorgridcolor\":\"white\",\"startlinecolor\":\"#2a3f5f\"},\"baxis\":{\"endlinecolor\":\"#2a3f5f\",\"gridcolor\":\"white\",\"linecolor\":\"white\",\"minorgridcolor\":\"white\",\"startlinecolor\":\"#2a3f5f\"},\"type\":\"carpet\"}],\"table\":[{\"cells\":{\"fill\":{\"color\":\"#EBF0F8\"},\"line\":{\"color\":\"white\"}},\"header\":{\"fill\":{\"color\":\"#C8D4E3\"},\"line\":{\"color\":\"white\"}},\"type\":\"table\"}],\"barpolar\":[{\"marker\":{\"line\":{\"color\":\"#E5ECF6\",\"width\":0.5},\"pattern\":{\"fillmode\":\"overlay\",\"size\":10,\"solidity\":0.2}},\"type\":\"barpolar\"}],\"pie\":[{\"automargin\":true,\"type\":\"pie\"}]},\"layout\":{\"autotypenumbers\":\"strict\",\"colorway\":[\"#636efa\",\"#EF553B\",\"#00cc96\",\"#ab63fa\",\"#FFA15A\",\"#19d3f3\",\"#FF6692\",\"#B6E880\",\"#FF97FF\",\"#FECB52\"],\"font\":{\"color\":\"#2a3f5f\"},\"hovermode\":\"closest\",\"hoverlabel\":{\"align\":\"left\"},\"paper_bgcolor\":\"white\",\"plot_bgcolor\":\"#E5ECF6\",\"polar\":{\"bgcolor\":\"#E5ECF6\",\"angularaxis\":{\"gridcolor\":\"white\",\"linecolor\":\"white\",\"ticks\":\"\"},\"radialaxis\":{\"gridcolor\":\"white\",\"linecolor\":\"white\",\"ticks\":\"\"}},\"ternary\":{\"bgcolor\":\"#E5ECF6\",\"aaxis\":{\"gridcolor\":\"white\",\"linecolor\":\"white\",\"ticks\":\"\"},\"baxis\":{\"gridcolor\":\"white\",\"linecolor\":\"white\",\"ticks\":\"\"},\"caxis\":{\"gridcolor\":\"white\",\"linecolor\":\"white\",\"ticks\":\"\"}},\"coloraxis\":{\"colorbar\":{\"outlinewidth\":0,\"ticks\":\"\"}},\"colorscale\":{\"sequential\":[[0.0,\"#0d0887\"],[0.1111111111111111,\"#46039f\"],[0.2222222222222222,\"#7201a8\"],[0.3333333333333333,\"#9c179e\"],[0.4444444444444444,\"#bd3786\"],[0.5555555555555556,\"#d8576b\"],[0.6666666666666666,\"#ed7953\"],[0.7777777777777778,\"#fb9f3a\"],[0.8888888888888888,\"#fdca26\"],[1.0,\"#f0f921\"]],\"sequentialminus\":[[0.0,\"#0d0887\"],[0.1111111111111111,\"#46039f\"],[0.2222222222222222,\"#7201a8\"],[0.3333333333333333,\"#9c179e\"],[0.4444444444444444,\"#bd3786\"],[0.5555555555555556,\"#d8576b\"],[0.6666666666666666,\"#ed7953\"],[0.7777777777777778,\"#fb9f3a\"],[0.8888888888888888,\"#fdca26\"],[1.0,\"#f0f921\"]],\"diverging\":[[0,\"#8e0152\"],[0.1,\"#c51b7d\"],[0.2,\"#de77ae\"],[0.3,\"#f1b6da\"],[0.4,\"#fde0ef\"],[0.5,\"#f7f7f7\"],[0.6,\"#e6f5d0\"],[0.7,\"#b8e186\"],[0.8,\"#7fbc41\"],[0.9,\"#4d9221\"],[1,\"#276419\"]]},\"xaxis\":{\"gridcolor\":\"white\",\"linecolor\":\"white\",\"ticks\":\"\",\"title\":{\"standoff\":15},\"zerolinecolor\":\"white\",\"automargin\":true,\"zerolinewidth\":2},\"yaxis\":{\"gridcolor\":\"white\",\"linecolor\":\"white\",\"ticks\":\"\",\"title\":{\"standoff\":15},\"zerolinecolor\":\"white\",\"automargin\":true,\"zerolinewidth\":2},\"scene\":{\"xaxis\":{\"backgroundcolor\":\"#E5ECF6\",\"gridcolor\":\"white\",\"linecolor\":\"white\",\"showbackground\":true,\"ticks\":\"\",\"zerolinecolor\":\"white\",\"gridwidth\":2},\"yaxis\":{\"backgroundcolor\":\"#E5ECF6\",\"gridcolor\":\"white\",\"linecolor\":\"white\",\"showbackground\":true,\"ticks\":\"\",\"zerolinecolor\":\"white\",\"gridwidth\":2},\"zaxis\":{\"backgroundcolor\":\"#E5ECF6\",\"gridcolor\":\"white\",\"linecolor\":\"white\",\"showbackground\":true,\"ticks\":\"\",\"zerolinecolor\":\"white\",\"gridwidth\":2}},\"shapedefaults\":{\"line\":{\"color\":\"#2a3f5f\"}},\"annotationdefaults\":{\"arrowcolor\":\"#2a3f5f\",\"arrowhead\":0,\"arrowwidth\":1},\"geo\":{\"bgcolor\":\"white\",\"landcolor\":\"#E5ECF6\",\"subunitcolor\":\"white\",\"showland\":true,\"showlakes\":true,\"lakecolor\":\"white\"},\"title\":{\"x\":0.05},\"mapbox\":{\"style\":\"light\"}}},\"xaxis\":{\"anchor\":\"y\",\"domain\":[0.0,1.0],\"title\":{\"text\":\"Full OV Copying Score\"}},\"yaxis\":{\"anchor\":\"x\",\"domain\":[0.0,1.0],\"title\":{\"text\":\"OV Copying Score\"}},\"legend\":{\"tracegroupgap\":0},\"title\":{\"text\":\"OV Copying Score for each head in GPT-2 Small\"}},                        {\"responsive\": true}                    ).then(function(){\n",
              "                            \n",
              "var gd = document.getElementById('50a4d6de-32b2-4eca-a7c4-01dc5b8c1886');\n",
              "var x = new MutationObserver(function (mutations, observer) {{\n",
              "        var display = window.getComputedStyle(gd).display;\n",
              "        if (!display || display === 'none') {{\n",
              "            console.log([gd, 'removed!']);\n",
              "            Plotly.purge(gd);\n",
              "            observer.disconnect();\n",
              "        }}\n",
              "}});\n",
              "\n",
              "// Listen for the removal of the full notebook cells\n",
              "var notebookContainer = gd.closest('#notebook-container');\n",
              "if (notebookContainer) {{\n",
              "    x.observe(notebookContainer, {childList: true});\n",
              "}}\n",
              "\n",
              "// Listen for the clearing of the current output cell\n",
              "var outputEl = gd.closest('.output');\n",
              "if (outputEl) {{\n",
              "    x.observe(outputEl, {childList: true});\n",
              "}}\n",
              "\n",
              "                        })                };                });            </script>        </div>"
            ]
          },
          "metadata": {},
          "output_type": "display_data"
        }
      ],
      "source": [
        "scatter(x=full_OV_copying_score.flatten(), y=OV_copying_score.flatten(), hover_name=[f\"L{layer}H{head}\" for layer in range(12) for head in range(12)], title=\"OV Copying Score for each head in GPT-2 Small\", xaxis=\"Full OV Copying Score\", yaxis=\"OV Copying Score\")"
      ]
    },
    {
      "cell_type": "code",
      "execution_count": 52,
      "metadata": {
        "id": "pR43BdmWbRks",
        "outputId": "36cf2967-d348-4496-aeaf-eeea3ecc6351"
      },
      "outputs": [
        {
          "name": "stdout",
          "output_type": "stream",
          "text": [
            "Token 256 - the most common pair of ASCII characters: | t|\n",
            "De-Tokenizing the example tokens: <|endoftext|>The first thing you need to figure out is *how* things are tokenized. `model.to_str_tokens` splits a string into the tokens *as a list of substrings*, and so lets you explore what the text looks like. To demonstrate this, let's use it on this paragraph.\n"
          ]
        }
      ],
      "source": [
        "print(f\"Token 256 - the most common pair of ASCII characters: |{model.to_string(256)}|\")\n",
        "# Squeeze means to remove dimensions of length 1.\n",
        "# Here, that removes the dummy batch dimension so it's a rank 1 tensor and returns a string\n",
        "# Rank 2 tensors map to a list of strings\n",
        "print(f\"De-Tokenizing the example tokens: {model.to_string(example_text_tokens.squeeze())}\")"
      ]
    },
    {
      "cell_type": "markdown",
      "metadata": {
        "id": "vju-qss8bRks"
      },
      "source": [
        "## Generating Text"
      ]
    },
    {
      "cell_type": "markdown",
      "metadata": {
        "id": "QzA_CdIUbRks"
      },
      "source": [
        "TransformerLens also has basic text generation functionality, which can be useful for generally exploring what the model is capable of (thanks to Ansh Radhakrishnan for adding this!). This is pretty rough functionality, and where possible I recommend using more established libraries like HuggingFace for this."
      ]
    },
    {
      "cell_type": "code",
      "execution_count": 53,
      "metadata": {
        "colab": {
          "referenced_widgets": [
            "f16e699caef243e3bd730cd876600c4a"
          ]
        },
        "id": "VvXRGgz8bRks",
        "outputId": "2c49aac8-5b43-43be-bf2f-eb7b6a178cf6"
      },
      "outputs": [
        {
          "data": {
            "application/vnd.jupyter.widget-view+json": {
              "model_id": "2431ed7660674c15b002ce538468e8cf",
              "version_major": 2,
              "version_minor": 0
            },
            "text/plain": [
              "  0%|          | 0/50 [00:00<?, ?it/s]"
            ]
          },
          "metadata": {},
          "output_type": "display_data"
        },
        {
          "data": {
            "text/plain": [
              "'(CNN) President Barack Obama caught in embarrassing new scandal\\n\\nA former White House aide to the president, John Podesta, Jr., who has been arrested and charged with two felonies, has been charged with two counts of conspiracy to launder money, two counts of wire fraud, and one count of tax'"
            ]
          },
          "execution_count": 53,
          "metadata": {},
          "output_type": "execute_result"
        }
      ],
      "source": [
        "# NBVAL_IGNORE_OUTPUT\n",
        "model.generate(\"(CNN) President Barack Obama caught in embarrassing new scandal\\n\", max_new_tokens=50, temperature=0.7, prepend_bos=True)"
      ]
    },
    {
      "cell_type": "markdown",
      "metadata": {
        "id": "-7kaoA94bRks"
      },
      "source": [
        "## Hook Points\n",
        "\n",
        "The key part of TransformerLens that lets us access and edit intermediate activations are the HookPoints around every model activation. Importantly, this technique will work for *any* model architecture, not just transformers, so long as you're able to edit the model code to add in HookPoints! This is essentially a lightweight library bundled with TransformerLens that should let you take an arbitrary model and make it easier to study."
      ]
    },
    {
      "cell_type": "markdown",
      "metadata": {
        "id": "cfKy9KQJbRks"
      },
      "source": [
        "This is implemented by having a HookPoint layer. Each transformer component has a HookPoint for every activation, which wraps around that activation. The HookPoint acts as an identity function, but has a variety of helper functions that allows us to put PyTorch hooks in to edit and access the relevant activation.\n",
        "\n",
        "There is also a `HookedRootModule` class - this is a utility class that the root module should inherit from (root module = the model we run) - it has several utility functions for using hooks well, notably `reset_hooks`, `run_with_cache` and `run_with_hooks`.\n",
        "\n",
        "The default interface is the `run_with_hooks` function on the root module, which lets us run a forwards pass on the model, and pass on a list of hooks paired with layer names to run on that pass.\n",
        "\n",
        "The syntax for a hook is `function(activation, hook)` where `activation` is the activation the hook is wrapped around, and `hook` is the `HookPoint` class the function is attached to. If the function returns a new activation or edits the activation in-place, that replaces the old one, if it returns None then the activation remains as is.\n"
      ]
    },
    {
      "cell_type": "markdown",
      "metadata": {
        "id": "RDkxEERYbRks"
      },
      "source": [
        "### Toy Example"
      ]
    },
    {
      "cell_type": "markdown",
      "metadata": {
        "id": "EeqRHJarbRks"
      },
      "source": [
        "\n",
        "Here's a simple example of defining a small network with HookPoints:\n",
        "\n",
        "We define a basic network with two layers that each take a scalar input $x$, square it, and add a constant:\n",
        "$x_0=x$, $x_1=x_0^2+3$, $x_2=x_1^2-4$.\n",
        "\n",
        "We wrap the input, each layer's output, and the intermediate value of each layer (the square) in a hook point.\n",
        "\n"
      ]
    },
    {
      "cell_type": "code",
      "execution_count": 54,
      "metadata": {
        "id": "4tH539LzbRks"
      },
      "outputs": [],
      "source": [
        "\n",
        "from transformer_lens.hook_points import HookedRootModule, HookPoint\n",
        "\n",
        "\n",
        "class SquareThenAdd(nn.Module):\n",
        "    def __init__(self, offset):\n",
        "        super().__init__()\n",
        "        self.offset = nn.Parameter(torch.tensor(offset))\n",
        "        self.hook_square = HookPoint()\n",
        "\n",
        "    def forward(self, x):\n",
        "        # The hook_square doesn't change the value, but lets us access it\n",
        "        square = self.hook_square(x * x)\n",
        "        return self.offset + square\n",
        "\n",
        "\n",
        "class TwoLayerModel(HookedRootModule):\n",
        "    def __init__(self):\n",
        "        super().__init__()\n",
        "        self.layer1 = SquareThenAdd(3.0)\n",
        "        self.layer2 = SquareThenAdd(-4.0)\n",
        "        self.hook_in = HookPoint()\n",
        "        self.hook_mid = HookPoint()\n",
        "        self.hook_out = HookPoint()\n",
        "\n",
        "        # We need to call the setup function of HookedRootModule to build an\n",
        "        # internal dictionary of modules and hooks, and to give each hook a name\n",
        "        super().setup()\n",
        "\n",
        "    def forward(self, x):\n",
        "        # We wrap the input and each layer's output in a hook - they leave the\n",
        "        # value unchanged (unless there's a hook added to explicitly change it),\n",
        "        # but allow us to access it.\n",
        "        x_in = self.hook_in(x)\n",
        "        x_mid = self.hook_mid(self.layer1(x_in))\n",
        "        x_out = self.hook_out(self.layer2(x_mid))\n",
        "        return x_out\n",
        "\n",
        "\n",
        "model = TwoLayerModel()\n"
      ]
    },
    {
      "cell_type": "markdown",
      "metadata": {
        "id": "GcuNb9NlbRks"
      },
      "source": [
        "\n",
        "We can add a cache, to save the activation at each hook point\n",
        "\n",
        "(There's a custom `run_with_cache` function on the root module as a convenience, which is a wrapper around model.forward that return model_out, cache_object - we could also manually add hooks with `run_with_hooks` that store activations in a global caching dictionary. This is often useful if we only want to store, eg, subsets or functions of some activations.)\n"
      ]
    },
    {
      "cell_type": "code",
      "execution_count": 55,
      "metadata": {
        "id": "T-HXR0XgbRks",
        "outputId": "1b6680f5-4d32-4dcc-a78c-0c090d1882c1"
      },
      "outputs": [
        {
          "name": "stdout",
          "output_type": "stream",
          "text": [
            "Model output: 780.0\n",
            "Value cached at hook hook_in 5.0\n",
            "Value cached at hook layer1.hook_square 25.0\n",
            "Value cached at hook hook_mid 28.0\n",
            "Value cached at hook layer2.hook_square 784.0\n",
            "Value cached at hook hook_out 780.0\n"
          ]
        }
      ],
      "source": [
        "\n",
        "out, cache = model.run_with_cache(torch.tensor(5.0))\n",
        "print(\"Model output:\", out.item())\n",
        "for key in cache:\n",
        "    print(f\"Value cached at hook {key}\", cache[key].item())\n",
        "\n"
      ]
    },
    {
      "cell_type": "markdown",
      "metadata": {
        "id": "lKoPxoOKbRkt"
      },
      "source": [
        "\n",
        "We can also use hooks to intervene on activations - eg, we can set the intermediate value in layer 2 to zero to change the output to -5\n"
      ]
    },
    {
      "cell_type": "code",
      "execution_count": 56,
      "metadata": {
        "id": "zMM2wt2QbRkt",
        "outputId": "f5838b08-2756-48ce-ec96-aa4f16130c99"
      },
      "outputs": [
        {
          "name": "stdout",
          "output_type": "stream",
          "text": [
            "layer2.hook_square\n",
            "Output after intervening on layer2.hook_scaled -4.0\n"
          ]
        }
      ],
      "source": [
        "\n",
        "def set_to_zero_hook(tensor, hook):\n",
        "    print(hook.name)\n",
        "    return torch.tensor(0.0)\n",
        "\n",
        "\n",
        "print(\n",
        "    \"Output after intervening on layer2.hook_scaled\",\n",
        "    model.run_with_hooks(\n",
        "        torch.tensor(5.0), fwd_hooks=[(\"layer2.hook_square\", set_to_zero_hook)]\n",
        "    ).item(),\n",
        ")"
      ]
    },
    {
      "cell_type": "markdown",
      "metadata": {
        "id": "jorSZX0abRkt"
      },
      "source": [
        "## Loading Pre-Trained Checkpoints\n",
        "\n",
        "There are a lot of interesting questions combining mechanistic interpretability and training dynamics - analysing model capabilities and the underlying circuits that make them possible, and how these change as we train the model.\n",
        "\n",
        "TransformerLens supports these by having several model families with checkpoints throughout training. `HookedTransformer.from_pretrained` can load a checkpoint of a model with the `checkpoint_index` (the label 0 to `num_checkpoints-1`) or `checkpoint_value` (the step or token number, depending on how the checkpoints were labelled)."
      ]
    },
    {
      "cell_type": "markdown",
      "metadata": {
        "id": "8-002-cObRkt"
      },
      "source": [
        "\n",
        "Available models:\n",
        "* All of my interpretability-friendly models have checkpoints available, including:\n",
        "    * The toy models - `attn-only`, `solu`, `gelu` 1L to 4L\n",
        "        * These have ~200 checkpoints, taken on a piecewise linear schedule (more checkpoints near the start of training), up to 22B tokens. Labelled by number of tokens seen.\n",
        "    * The SoLU models trained on 80% Web Text and 20% Python Code (`solu-6l` to `solu-12l`)\n",
        "        * Same checkpoint schedule as the toy models, this time up to 30B tokens\n",
        "    * The SoLU models trained on the pile (`solu-1l-pile` to `solu-12l-pile`)\n",
        "        * These have ~100 checkpoints, taken on a linear schedule, up to 15B tokens. Labelled by number of steps.\n",
        "        * The 12L training crashed around 11B tokens, so is truncated.\n",
        "* The Stanford Centre for Research of Foundation Models trained 5 GPT-2 Small sized and 5 GPT-2 Medium sized models (`stanford-gpt2-small-a` to `e` and `stanford-gpt2-medium-a` to `e`)\n",
        "    * 600 checkpoints, taken on a piecewise linear schedule, labelled by the number of steps."
      ]
    },
    {
      "cell_type": "markdown",
      "metadata": {
        "id": "OOwSF8VTbRkt"
      },
      "source": [
        "The checkpoint structure and labels is somewhat messy and ad-hoc, so I mostly recommend using the `checkpoint_index` syntax (where you can just count from 0 to the number of checkpoints) rather than `checkpoint_value` syntax (where you need to know the checkpoint schedule, and whether it was labelled with the number of tokens or steps). The helper function `get_checkpoint_labels` tells you the checkpoint schedule for a given model - ie what point was each checkpoint taken at, and what type of label was used.\n",
        "\n",
        "Here are graphs of the schedules for several checkpointed models: (note that the first 3 use a log scale, latter 2 use a linear scale)"
      ]
    },
    {
      "cell_type": "code",
      "execution_count": 57,
      "metadata": {
        "id": "_RT3xQRBbRkt",
        "outputId": "1e9d756d-57e6-485f-a925-fecc40847636"
      },
      "outputs": [
        {
          "data": {
            "text/html": [
              "<div>                            <div id=\"85f74b47-6949-42d7-ab18-ef3d5e4ea075\" class=\"plotly-graph-div\" style=\"height:525px; width:100%;\"></div>            <script type=\"text/javascript\">                require([\"plotly\"], function(Plotly) {                    window.PLOTLYENV=window.PLOTLYENV || {};                                    if (document.getElementById(\"85f74b47-6949-42d7-ab18-ef3d5e4ea075\")) {                    Plotly.newPlot(                        \"85f74b47-6949-42d7-ab18-ef3d5e4ea075\",                        [{\"hovertemplate\":\"variable=0\\u003cbr\\u003eindex=%{x}\\u003cbr\\u003evalue=%{y}\\u003cextra\\u003e\\u003c\\u002fextra\\u003e\",\"legendgroup\":\"0\",\"line\":{\"color\":\"#636efa\",\"dash\":\"solid\"},\"marker\":{\"symbol\":\"circle\"},\"mode\":\"lines+markers\",\"name\":\"0\",\"orientation\":\"v\",\"showlegend\":true,\"x\":[0,1,2,3,4,5,6,7,8,9,10,11,12,13,14,15,16,17,18,19,20,21,22,23,24,25,26,27,28,29,30,31,32,33,34,35,36,37,38,39,40,41,42,43,44,45,46,47,48,49,50,51,52,53,54,55,56,57,58,59,60,61,62,63,64,65,66,67,68,69,70,71,72,73,74,75,76,77,78,79,80,81,82,83,84,85,86,87,88,89,90,91,92,93,94,95,96,97,98,99,100,101,102,103,104,105,106,107,108,109,110,111,112,113,114,115,116,117,118,119,120,121,122,123,124,125,126,127,128,129,130,131,132,133,134,135,136,137,138,139,140,141,142,143,144,145,146,147,148,149,150,151,152,153,154,155,156,157,158,159,160,161,162],\"xaxis\":\"x\",\"y\":[262144,2621440,4718592,7077888,9175040,11272192,13631488,15728640,18087936,20185088,22282240,33292288,44302336,55312384,66322432,77332480,88342528,99352576,110362624,121372672,132382720,143392768,154402816,165412864,176422912,187432960,198443008,209453056,220463104,264503296,308281344,352321536,396361728,440401920,484442112,528482304,572522496,616300544,660340736,704380928,748421120,792461312,836501504,880279552,924319744,968359936,1012400128,1056440320,1100480512,1144520704,1188298752,1232338944,1276379136,1320419328,1364459520,1408499712,1452277760,1496317952,1540358144,1584398336,1628438528,1672478720,1716518912,1760296960,1804337152,1848377344,1892417536,1936457728,1980497920,2024275968,2068316160,2112356352,2156396544,2200436736,2420375552,2640314368,2860515328,3080454144,3300392960,3520331776,3740270592,3960471552,4180410368,4400349184,4620288000,4840488960,5060427776,5280366592,5500305408,5720506368,5940445184,6160384000,6380322816,6600523776,6820462592,7040401408,7260340224,7480279040,7700480000,7920418816,8140357632,8360296448,8580497408,8800436224,9020375040,9240313856,9460514816,9680453632,9900392448,10120331264,10340270080,10560471040,10780409856,11000348672,11220287488,11440488448,11660427264,11880366080,12100304896,12320505856,12540444672,12760383488,12980322304,13200523264,13420462080,13640400896,13860339712,14080278528,14300479488,14520418304,14740357120,14960295936,15180496896,15400435712,15620374528,15840313344,16060514304,16280453120,16500391936,16720330752,16940269568,17160470528,17380409344,17600348160,17820286976,18040487936,18260426752,18480365568,18700304384,18920505344,19140444160,19360382976,19580321792,19800522752,20020461568,20240400384,20460339200,20680278016,20900478976,21120417792,21340356608,21560295424,21780496384],\"yaxis\":\"y\",\"type\":\"scatter\"}],                        {\"template\":{\"data\":{\"histogram2dcontour\":[{\"type\":\"histogram2dcontour\",\"colorbar\":{\"outlinewidth\":0,\"ticks\":\"\"},\"colorscale\":[[0.0,\"#0d0887\"],[0.1111111111111111,\"#46039f\"],[0.2222222222222222,\"#7201a8\"],[0.3333333333333333,\"#9c179e\"],[0.4444444444444444,\"#bd3786\"],[0.5555555555555556,\"#d8576b\"],[0.6666666666666666,\"#ed7953\"],[0.7777777777777778,\"#fb9f3a\"],[0.8888888888888888,\"#fdca26\"],[1.0,\"#f0f921\"]]}],\"choropleth\":[{\"type\":\"choropleth\",\"colorbar\":{\"outlinewidth\":0,\"ticks\":\"\"}}],\"histogram2d\":[{\"type\":\"histogram2d\",\"colorbar\":{\"outlinewidth\":0,\"ticks\":\"\"},\"colorscale\":[[0.0,\"#0d0887\"],[0.1111111111111111,\"#46039f\"],[0.2222222222222222,\"#7201a8\"],[0.3333333333333333,\"#9c179e\"],[0.4444444444444444,\"#bd3786\"],[0.5555555555555556,\"#d8576b\"],[0.6666666666666666,\"#ed7953\"],[0.7777777777777778,\"#fb9f3a\"],[0.8888888888888888,\"#fdca26\"],[1.0,\"#f0f921\"]]}],\"heatmap\":[{\"type\":\"heatmap\",\"colorbar\":{\"outlinewidth\":0,\"ticks\":\"\"},\"colorscale\":[[0.0,\"#0d0887\"],[0.1111111111111111,\"#46039f\"],[0.2222222222222222,\"#7201a8\"],[0.3333333333333333,\"#9c179e\"],[0.4444444444444444,\"#bd3786\"],[0.5555555555555556,\"#d8576b\"],[0.6666666666666666,\"#ed7953\"],[0.7777777777777778,\"#fb9f3a\"],[0.8888888888888888,\"#fdca26\"],[1.0,\"#f0f921\"]]}],\"heatmapgl\":[{\"type\":\"heatmapgl\",\"colorbar\":{\"outlinewidth\":0,\"ticks\":\"\"},\"colorscale\":[[0.0,\"#0d0887\"],[0.1111111111111111,\"#46039f\"],[0.2222222222222222,\"#7201a8\"],[0.3333333333333333,\"#9c179e\"],[0.4444444444444444,\"#bd3786\"],[0.5555555555555556,\"#d8576b\"],[0.6666666666666666,\"#ed7953\"],[0.7777777777777778,\"#fb9f3a\"],[0.8888888888888888,\"#fdca26\"],[1.0,\"#f0f921\"]]}],\"contourcarpet\":[{\"type\":\"contourcarpet\",\"colorbar\":{\"outlinewidth\":0,\"ticks\":\"\"}}],\"contour\":[{\"type\":\"contour\",\"colorbar\":{\"outlinewidth\":0,\"ticks\":\"\"},\"colorscale\":[[0.0,\"#0d0887\"],[0.1111111111111111,\"#46039f\"],[0.2222222222222222,\"#7201a8\"],[0.3333333333333333,\"#9c179e\"],[0.4444444444444444,\"#bd3786\"],[0.5555555555555556,\"#d8576b\"],[0.6666666666666666,\"#ed7953\"],[0.7777777777777778,\"#fb9f3a\"],[0.8888888888888888,\"#fdca26\"],[1.0,\"#f0f921\"]]}],\"surface\":[{\"type\":\"surface\",\"colorbar\":{\"outlinewidth\":0,\"ticks\":\"\"},\"colorscale\":[[0.0,\"#0d0887\"],[0.1111111111111111,\"#46039f\"],[0.2222222222222222,\"#7201a8\"],[0.3333333333333333,\"#9c179e\"],[0.4444444444444444,\"#bd3786\"],[0.5555555555555556,\"#d8576b\"],[0.6666666666666666,\"#ed7953\"],[0.7777777777777778,\"#fb9f3a\"],[0.8888888888888888,\"#fdca26\"],[1.0,\"#f0f921\"]]}],\"mesh3d\":[{\"type\":\"mesh3d\",\"colorbar\":{\"outlinewidth\":0,\"ticks\":\"\"}}],\"scatter\":[{\"fillpattern\":{\"fillmode\":\"overlay\",\"size\":10,\"solidity\":0.2},\"type\":\"scatter\"}],\"parcoords\":[{\"type\":\"parcoords\",\"line\":{\"colorbar\":{\"outlinewidth\":0,\"ticks\":\"\"}}}],\"scatterpolargl\":[{\"type\":\"scatterpolargl\",\"marker\":{\"colorbar\":{\"outlinewidth\":0,\"ticks\":\"\"}}}],\"bar\":[{\"error_x\":{\"color\":\"#2a3f5f\"},\"error_y\":{\"color\":\"#2a3f5f\"},\"marker\":{\"line\":{\"color\":\"#E5ECF6\",\"width\":0.5},\"pattern\":{\"fillmode\":\"overlay\",\"size\":10,\"solidity\":0.2}},\"type\":\"bar\"}],\"scattergeo\":[{\"type\":\"scattergeo\",\"marker\":{\"colorbar\":{\"outlinewidth\":0,\"ticks\":\"\"}}}],\"scatterpolar\":[{\"type\":\"scatterpolar\",\"marker\":{\"colorbar\":{\"outlinewidth\":0,\"ticks\":\"\"}}}],\"histogram\":[{\"marker\":{\"pattern\":{\"fillmode\":\"overlay\",\"size\":10,\"solidity\":0.2}},\"type\":\"histogram\"}],\"scattergl\":[{\"type\":\"scattergl\",\"marker\":{\"colorbar\":{\"outlinewidth\":0,\"ticks\":\"\"}}}],\"scatter3d\":[{\"type\":\"scatter3d\",\"line\":{\"colorbar\":{\"outlinewidth\":0,\"ticks\":\"\"}},\"marker\":{\"colorbar\":{\"outlinewidth\":0,\"ticks\":\"\"}}}],\"scattermapbox\":[{\"type\":\"scattermapbox\",\"marker\":{\"colorbar\":{\"outlinewidth\":0,\"ticks\":\"\"}}}],\"scatterternary\":[{\"type\":\"scatterternary\",\"marker\":{\"colorbar\":{\"outlinewidth\":0,\"ticks\":\"\"}}}],\"scattercarpet\":[{\"type\":\"scattercarpet\",\"marker\":{\"colorbar\":{\"outlinewidth\":0,\"ticks\":\"\"}}}],\"carpet\":[{\"aaxis\":{\"endlinecolor\":\"#2a3f5f\",\"gridcolor\":\"white\",\"linecolor\":\"white\",\"minorgridcolor\":\"white\",\"startlinecolor\":\"#2a3f5f\"},\"baxis\":{\"endlinecolor\":\"#2a3f5f\",\"gridcolor\":\"white\",\"linecolor\":\"white\",\"minorgridcolor\":\"white\",\"startlinecolor\":\"#2a3f5f\"},\"type\":\"carpet\"}],\"table\":[{\"cells\":{\"fill\":{\"color\":\"#EBF0F8\"},\"line\":{\"color\":\"white\"}},\"header\":{\"fill\":{\"color\":\"#C8D4E3\"},\"line\":{\"color\":\"white\"}},\"type\":\"table\"}],\"barpolar\":[{\"marker\":{\"line\":{\"color\":\"#E5ECF6\",\"width\":0.5},\"pattern\":{\"fillmode\":\"overlay\",\"size\":10,\"solidity\":0.2}},\"type\":\"barpolar\"}],\"pie\":[{\"automargin\":true,\"type\":\"pie\"}]},\"layout\":{\"autotypenumbers\":\"strict\",\"colorway\":[\"#636efa\",\"#EF553B\",\"#00cc96\",\"#ab63fa\",\"#FFA15A\",\"#19d3f3\",\"#FF6692\",\"#B6E880\",\"#FF97FF\",\"#FECB52\"],\"font\":{\"color\":\"#2a3f5f\"},\"hovermode\":\"closest\",\"hoverlabel\":{\"align\":\"left\"},\"paper_bgcolor\":\"white\",\"plot_bgcolor\":\"#E5ECF6\",\"polar\":{\"bgcolor\":\"#E5ECF6\",\"angularaxis\":{\"gridcolor\":\"white\",\"linecolor\":\"white\",\"ticks\":\"\"},\"radialaxis\":{\"gridcolor\":\"white\",\"linecolor\":\"white\",\"ticks\":\"\"}},\"ternary\":{\"bgcolor\":\"#E5ECF6\",\"aaxis\":{\"gridcolor\":\"white\",\"linecolor\":\"white\",\"ticks\":\"\"},\"baxis\":{\"gridcolor\":\"white\",\"linecolor\":\"white\",\"ticks\":\"\"},\"caxis\":{\"gridcolor\":\"white\",\"linecolor\":\"white\",\"ticks\":\"\"}},\"coloraxis\":{\"colorbar\":{\"outlinewidth\":0,\"ticks\":\"\"}},\"colorscale\":{\"sequential\":[[0.0,\"#0d0887\"],[0.1111111111111111,\"#46039f\"],[0.2222222222222222,\"#7201a8\"],[0.3333333333333333,\"#9c179e\"],[0.4444444444444444,\"#bd3786\"],[0.5555555555555556,\"#d8576b\"],[0.6666666666666666,\"#ed7953\"],[0.7777777777777778,\"#fb9f3a\"],[0.8888888888888888,\"#fdca26\"],[1.0,\"#f0f921\"]],\"sequentialminus\":[[0.0,\"#0d0887\"],[0.1111111111111111,\"#46039f\"],[0.2222222222222222,\"#7201a8\"],[0.3333333333333333,\"#9c179e\"],[0.4444444444444444,\"#bd3786\"],[0.5555555555555556,\"#d8576b\"],[0.6666666666666666,\"#ed7953\"],[0.7777777777777778,\"#fb9f3a\"],[0.8888888888888888,\"#fdca26\"],[1.0,\"#f0f921\"]],\"diverging\":[[0,\"#8e0152\"],[0.1,\"#c51b7d\"],[0.2,\"#de77ae\"],[0.3,\"#f1b6da\"],[0.4,\"#fde0ef\"],[0.5,\"#f7f7f7\"],[0.6,\"#e6f5d0\"],[0.7,\"#b8e186\"],[0.8,\"#7fbc41\"],[0.9,\"#4d9221\"],[1,\"#276419\"]]},\"xaxis\":{\"gridcolor\":\"white\",\"linecolor\":\"white\",\"ticks\":\"\",\"title\":{\"standoff\":15},\"zerolinecolor\":\"white\",\"automargin\":true,\"zerolinewidth\":2},\"yaxis\":{\"gridcolor\":\"white\",\"linecolor\":\"white\",\"ticks\":\"\",\"title\":{\"standoff\":15},\"zerolinecolor\":\"white\",\"automargin\":true,\"zerolinewidth\":2},\"scene\":{\"xaxis\":{\"backgroundcolor\":\"#E5ECF6\",\"gridcolor\":\"white\",\"linecolor\":\"white\",\"showbackground\":true,\"ticks\":\"\",\"zerolinecolor\":\"white\",\"gridwidth\":2},\"yaxis\":{\"backgroundcolor\":\"#E5ECF6\",\"gridcolor\":\"white\",\"linecolor\":\"white\",\"showbackground\":true,\"ticks\":\"\",\"zerolinecolor\":\"white\",\"gridwidth\":2},\"zaxis\":{\"backgroundcolor\":\"#E5ECF6\",\"gridcolor\":\"white\",\"linecolor\":\"white\",\"showbackground\":true,\"ticks\":\"\",\"zerolinecolor\":\"white\",\"gridwidth\":2}},\"shapedefaults\":{\"line\":{\"color\":\"#2a3f5f\"}},\"annotationdefaults\":{\"arrowcolor\":\"#2a3f5f\",\"arrowhead\":0,\"arrowwidth\":1},\"geo\":{\"bgcolor\":\"white\",\"landcolor\":\"#E5ECF6\",\"subunitcolor\":\"white\",\"showland\":true,\"showlakes\":true,\"lakecolor\":\"white\"},\"title\":{\"x\":0.05},\"mapbox\":{\"style\":\"light\"}}},\"xaxis\":{\"anchor\":\"y\",\"domain\":[0.0,1.0],\"title\":{\"text\":\"index\"}},\"yaxis\":{\"anchor\":\"x\",\"domain\":[0.0,1.0],\"title\":{\"text\":\"value\"},\"type\":\"log\"},\"legend\":{\"title\":{\"text\":\"variable\"},\"tracegroupgap\":0},\"title\":{\"text\":\"Checkpoint Values for attn-only-2l (Log scale)\"}},                        {\"responsive\": true}                    ).then(function(){\n",
              "                            \n",
              "var gd = document.getElementById('85f74b47-6949-42d7-ab18-ef3d5e4ea075');\n",
              "var x = new MutationObserver(function (mutations, observer) {{\n",
              "        var display = window.getComputedStyle(gd).display;\n",
              "        if (!display || display === 'none') {{\n",
              "            console.log([gd, 'removed!']);\n",
              "            Plotly.purge(gd);\n",
              "            observer.disconnect();\n",
              "        }}\n",
              "}});\n",
              "\n",
              "// Listen for the removal of the full notebook cells\n",
              "var notebookContainer = gd.closest('#notebook-container');\n",
              "if (notebookContainer) {{\n",
              "    x.observe(notebookContainer, {childList: true});\n",
              "}}\n",
              "\n",
              "// Listen for the clearing of the current output cell\n",
              "var outputEl = gd.closest('.output');\n",
              "if (outputEl) {{\n",
              "    x.observe(outputEl, {childList: true});\n",
              "}}\n",
              "\n",
              "                        })                };                });            </script>        </div>"
            ]
          },
          "metadata": {},
          "output_type": "display_data"
        },
        {
          "data": {
            "text/html": [
              "<div>                            <div id=\"cb2c6fb3-3d21-48bb-aaff-4cd795ccce91\" class=\"plotly-graph-div\" style=\"height:525px; width:100%;\"></div>            <script type=\"text/javascript\">                require([\"plotly\"], function(Plotly) {                    window.PLOTLYENV=window.PLOTLYENV || {};                                    if (document.getElementById(\"cb2c6fb3-3d21-48bb-aaff-4cd795ccce91\")) {                    Plotly.newPlot(                        \"cb2c6fb3-3d21-48bb-aaff-4cd795ccce91\",                        [{\"hovertemplate\":\"variable=0\\u003cbr\\u003eindex=%{x}\\u003cbr\\u003evalue=%{y}\\u003cextra\\u003e\\u003c\\u002fextra\\u003e\",\"legendgroup\":\"0\",\"line\":{\"color\":\"#636efa\",\"dash\":\"solid\"},\"marker\":{\"symbol\":\"circle\"},\"mode\":\"lines+markers\",\"name\":\"0\",\"orientation\":\"v\",\"showlegend\":true,\"x\":[0,1,2,3,4,5,6,7,8,9,10,11,12,13,14,15,16,17,18,19,20,21,22,23,24,25,26,27,28,29,30,31,32,33,34,35,36,37,38,39,40,41,42,43,44,45,46,47,48,49,50,51,52,53,54,55,56,57,58,59,60,61,62,63,64,65,66,67,68,69,70,71,72,73,74,75,76,77,78,79,80,81,82,83,84,85,86,87,88,89,90,91,92,93,94,95,96,97,98,99,100,101,102,103,104,105,106,107,108,109,110,111,112,113,114,115,116,117,118,119,120,121,122,123,124,125,126,127,128,129,130,131,132,133,134,135,136,137,138,139,140,141,142,143,144,145,146,147,148,149,150,151,152,153,154,155,156,157,158,159,160,161,162],\"xaxis\":\"x\",\"y\":[196608,3342336,6291456,9240576,12386304,15335424,18284544,21233664,24379392,27328512,30277632,45219840,60358656,75300864,90243072,105381888,120324096,135266304,150208512,165347328,180289536,195231744,210370560,225312768,240254976,255197184,270336000,285278208,300220416,360382464,420347904,480313344,540278784,600244224,660209664,720371712,780337152,840302592,900268032,960233472,1020198912,1080360960,1140326400,1200291840,1260257280,1320222720,1380384768,1440350208,1500315648,1560281088,1620246528,1680211968,1740374016,1800339456,1860304896,1920270336,1980235776,2040201216,2100363264,2160328704,2220294144,2280259584,2340225024,2400387072,2460352512,2520317952,2580283392,2640248832,2700214272,2760376320,2820341760,2880307200,2940272640,3000238080,3300261888,3600285696,3900309504,4200333312,4500357120,4800380928,5100208128,5400231936,5700255744,6000279552,6300303360,6600327168,6900350976,7200374784,7500201984,7800225792,8100249600,8400273408,8700297216,9000321024,9300344832,9600368640,9900392448,10200219648,10500243456,10800267264,11100291072,11400314880,11700338688,12000362496,12300386304,12600213504,12900237312,13200261120,13500284928,13800308736,14100332544,14400356352,14700380160,15000207360,15300231168,15600254976,15900278784,16200302592,16500326400,16800350208,17100374016,17400201216,17700225024,18000248832,18300272640,18600296448,18900320256,19200344064,19500367872,19800391680,20100218880,20400242688,20700266496,21000290304,21300314112,21600337920,21900361728,22200385536,22500212736,22800236544,23100260352,23400284160,23700307968,24000331776,24300355584,24600379392,24900206592,25200230400,25500254208,25800278016,26100301824,26400325632,26700349440,27000373248,27300200448,27600224256,27900248064,28200271872,28500295680,28800319488,29100343296,29400367104,29700390912],\"yaxis\":\"y\",\"type\":\"scatter\"}],                        {\"template\":{\"data\":{\"histogram2dcontour\":[{\"type\":\"histogram2dcontour\",\"colorbar\":{\"outlinewidth\":0,\"ticks\":\"\"},\"colorscale\":[[0.0,\"#0d0887\"],[0.1111111111111111,\"#46039f\"],[0.2222222222222222,\"#7201a8\"],[0.3333333333333333,\"#9c179e\"],[0.4444444444444444,\"#bd3786\"],[0.5555555555555556,\"#d8576b\"],[0.6666666666666666,\"#ed7953\"],[0.7777777777777778,\"#fb9f3a\"],[0.8888888888888888,\"#fdca26\"],[1.0,\"#f0f921\"]]}],\"choropleth\":[{\"type\":\"choropleth\",\"colorbar\":{\"outlinewidth\":0,\"ticks\":\"\"}}],\"histogram2d\":[{\"type\":\"histogram2d\",\"colorbar\":{\"outlinewidth\":0,\"ticks\":\"\"},\"colorscale\":[[0.0,\"#0d0887\"],[0.1111111111111111,\"#46039f\"],[0.2222222222222222,\"#7201a8\"],[0.3333333333333333,\"#9c179e\"],[0.4444444444444444,\"#bd3786\"],[0.5555555555555556,\"#d8576b\"],[0.6666666666666666,\"#ed7953\"],[0.7777777777777778,\"#fb9f3a\"],[0.8888888888888888,\"#fdca26\"],[1.0,\"#f0f921\"]]}],\"heatmap\":[{\"type\":\"heatmap\",\"colorbar\":{\"outlinewidth\":0,\"ticks\":\"\"},\"colorscale\":[[0.0,\"#0d0887\"],[0.1111111111111111,\"#46039f\"],[0.2222222222222222,\"#7201a8\"],[0.3333333333333333,\"#9c179e\"],[0.4444444444444444,\"#bd3786\"],[0.5555555555555556,\"#d8576b\"],[0.6666666666666666,\"#ed7953\"],[0.7777777777777778,\"#fb9f3a\"],[0.8888888888888888,\"#fdca26\"],[1.0,\"#f0f921\"]]}],\"heatmapgl\":[{\"type\":\"heatmapgl\",\"colorbar\":{\"outlinewidth\":0,\"ticks\":\"\"},\"colorscale\":[[0.0,\"#0d0887\"],[0.1111111111111111,\"#46039f\"],[0.2222222222222222,\"#7201a8\"],[0.3333333333333333,\"#9c179e\"],[0.4444444444444444,\"#bd3786\"],[0.5555555555555556,\"#d8576b\"],[0.6666666666666666,\"#ed7953\"],[0.7777777777777778,\"#fb9f3a\"],[0.8888888888888888,\"#fdca26\"],[1.0,\"#f0f921\"]]}],\"contourcarpet\":[{\"type\":\"contourcarpet\",\"colorbar\":{\"outlinewidth\":0,\"ticks\":\"\"}}],\"contour\":[{\"type\":\"contour\",\"colorbar\":{\"outlinewidth\":0,\"ticks\":\"\"},\"colorscale\":[[0.0,\"#0d0887\"],[0.1111111111111111,\"#46039f\"],[0.2222222222222222,\"#7201a8\"],[0.3333333333333333,\"#9c179e\"],[0.4444444444444444,\"#bd3786\"],[0.5555555555555556,\"#d8576b\"],[0.6666666666666666,\"#ed7953\"],[0.7777777777777778,\"#fb9f3a\"],[0.8888888888888888,\"#fdca26\"],[1.0,\"#f0f921\"]]}],\"surface\":[{\"type\":\"surface\",\"colorbar\":{\"outlinewidth\":0,\"ticks\":\"\"},\"colorscale\":[[0.0,\"#0d0887\"],[0.1111111111111111,\"#46039f\"],[0.2222222222222222,\"#7201a8\"],[0.3333333333333333,\"#9c179e\"],[0.4444444444444444,\"#bd3786\"],[0.5555555555555556,\"#d8576b\"],[0.6666666666666666,\"#ed7953\"],[0.7777777777777778,\"#fb9f3a\"],[0.8888888888888888,\"#fdca26\"],[1.0,\"#f0f921\"]]}],\"mesh3d\":[{\"type\":\"mesh3d\",\"colorbar\":{\"outlinewidth\":0,\"ticks\":\"\"}}],\"scatter\":[{\"fillpattern\":{\"fillmode\":\"overlay\",\"size\":10,\"solidity\":0.2},\"type\":\"scatter\"}],\"parcoords\":[{\"type\":\"parcoords\",\"line\":{\"colorbar\":{\"outlinewidth\":0,\"ticks\":\"\"}}}],\"scatterpolargl\":[{\"type\":\"scatterpolargl\",\"marker\":{\"colorbar\":{\"outlinewidth\":0,\"ticks\":\"\"}}}],\"bar\":[{\"error_x\":{\"color\":\"#2a3f5f\"},\"error_y\":{\"color\":\"#2a3f5f\"},\"marker\":{\"line\":{\"color\":\"#E5ECF6\",\"width\":0.5},\"pattern\":{\"fillmode\":\"overlay\",\"size\":10,\"solidity\":0.2}},\"type\":\"bar\"}],\"scattergeo\":[{\"type\":\"scattergeo\",\"marker\":{\"colorbar\":{\"outlinewidth\":0,\"ticks\":\"\"}}}],\"scatterpolar\":[{\"type\":\"scatterpolar\",\"marker\":{\"colorbar\":{\"outlinewidth\":0,\"ticks\":\"\"}}}],\"histogram\":[{\"marker\":{\"pattern\":{\"fillmode\":\"overlay\",\"size\":10,\"solidity\":0.2}},\"type\":\"histogram\"}],\"scattergl\":[{\"type\":\"scattergl\",\"marker\":{\"colorbar\":{\"outlinewidth\":0,\"ticks\":\"\"}}}],\"scatter3d\":[{\"type\":\"scatter3d\",\"line\":{\"colorbar\":{\"outlinewidth\":0,\"ticks\":\"\"}},\"marker\":{\"colorbar\":{\"outlinewidth\":0,\"ticks\":\"\"}}}],\"scattermapbox\":[{\"type\":\"scattermapbox\",\"marker\":{\"colorbar\":{\"outlinewidth\":0,\"ticks\":\"\"}}}],\"scatterternary\":[{\"type\":\"scatterternary\",\"marker\":{\"colorbar\":{\"outlinewidth\":0,\"ticks\":\"\"}}}],\"scattercarpet\":[{\"type\":\"scattercarpet\",\"marker\":{\"colorbar\":{\"outlinewidth\":0,\"ticks\":\"\"}}}],\"carpet\":[{\"aaxis\":{\"endlinecolor\":\"#2a3f5f\",\"gridcolor\":\"white\",\"linecolor\":\"white\",\"minorgridcolor\":\"white\",\"startlinecolor\":\"#2a3f5f\"},\"baxis\":{\"endlinecolor\":\"#2a3f5f\",\"gridcolor\":\"white\",\"linecolor\":\"white\",\"minorgridcolor\":\"white\",\"startlinecolor\":\"#2a3f5f\"},\"type\":\"carpet\"}],\"table\":[{\"cells\":{\"fill\":{\"color\":\"#EBF0F8\"},\"line\":{\"color\":\"white\"}},\"header\":{\"fill\":{\"color\":\"#C8D4E3\"},\"line\":{\"color\":\"white\"}},\"type\":\"table\"}],\"barpolar\":[{\"marker\":{\"line\":{\"color\":\"#E5ECF6\",\"width\":0.5},\"pattern\":{\"fillmode\":\"overlay\",\"size\":10,\"solidity\":0.2}},\"type\":\"barpolar\"}],\"pie\":[{\"automargin\":true,\"type\":\"pie\"}]},\"layout\":{\"autotypenumbers\":\"strict\",\"colorway\":[\"#636efa\",\"#EF553B\",\"#00cc96\",\"#ab63fa\",\"#FFA15A\",\"#19d3f3\",\"#FF6692\",\"#B6E880\",\"#FF97FF\",\"#FECB52\"],\"font\":{\"color\":\"#2a3f5f\"},\"hovermode\":\"closest\",\"hoverlabel\":{\"align\":\"left\"},\"paper_bgcolor\":\"white\",\"plot_bgcolor\":\"#E5ECF6\",\"polar\":{\"bgcolor\":\"#E5ECF6\",\"angularaxis\":{\"gridcolor\":\"white\",\"linecolor\":\"white\",\"ticks\":\"\"},\"radialaxis\":{\"gridcolor\":\"white\",\"linecolor\":\"white\",\"ticks\":\"\"}},\"ternary\":{\"bgcolor\":\"#E5ECF6\",\"aaxis\":{\"gridcolor\":\"white\",\"linecolor\":\"white\",\"ticks\":\"\"},\"baxis\":{\"gridcolor\":\"white\",\"linecolor\":\"white\",\"ticks\":\"\"},\"caxis\":{\"gridcolor\":\"white\",\"linecolor\":\"white\",\"ticks\":\"\"}},\"coloraxis\":{\"colorbar\":{\"outlinewidth\":0,\"ticks\":\"\"}},\"colorscale\":{\"sequential\":[[0.0,\"#0d0887\"],[0.1111111111111111,\"#46039f\"],[0.2222222222222222,\"#7201a8\"],[0.3333333333333333,\"#9c179e\"],[0.4444444444444444,\"#bd3786\"],[0.5555555555555556,\"#d8576b\"],[0.6666666666666666,\"#ed7953\"],[0.7777777777777778,\"#fb9f3a\"],[0.8888888888888888,\"#fdca26\"],[1.0,\"#f0f921\"]],\"sequentialminus\":[[0.0,\"#0d0887\"],[0.1111111111111111,\"#46039f\"],[0.2222222222222222,\"#7201a8\"],[0.3333333333333333,\"#9c179e\"],[0.4444444444444444,\"#bd3786\"],[0.5555555555555556,\"#d8576b\"],[0.6666666666666666,\"#ed7953\"],[0.7777777777777778,\"#fb9f3a\"],[0.8888888888888888,\"#fdca26\"],[1.0,\"#f0f921\"]],\"diverging\":[[0,\"#8e0152\"],[0.1,\"#c51b7d\"],[0.2,\"#de77ae\"],[0.3,\"#f1b6da\"],[0.4,\"#fde0ef\"],[0.5,\"#f7f7f7\"],[0.6,\"#e6f5d0\"],[0.7,\"#b8e186\"],[0.8,\"#7fbc41\"],[0.9,\"#4d9221\"],[1,\"#276419\"]]},\"xaxis\":{\"gridcolor\":\"white\",\"linecolor\":\"white\",\"ticks\":\"\",\"title\":{\"standoff\":15},\"zerolinecolor\":\"white\",\"automargin\":true,\"zerolinewidth\":2},\"yaxis\":{\"gridcolor\":\"white\",\"linecolor\":\"white\",\"ticks\":\"\",\"title\":{\"standoff\":15},\"zerolinecolor\":\"white\",\"automargin\":true,\"zerolinewidth\":2},\"scene\":{\"xaxis\":{\"backgroundcolor\":\"#E5ECF6\",\"gridcolor\":\"white\",\"linecolor\":\"white\",\"showbackground\":true,\"ticks\":\"\",\"zerolinecolor\":\"white\",\"gridwidth\":2},\"yaxis\":{\"backgroundcolor\":\"#E5ECF6\",\"gridcolor\":\"white\",\"linecolor\":\"white\",\"showbackground\":true,\"ticks\":\"\",\"zerolinecolor\":\"white\",\"gridwidth\":2},\"zaxis\":{\"backgroundcolor\":\"#E5ECF6\",\"gridcolor\":\"white\",\"linecolor\":\"white\",\"showbackground\":true,\"ticks\":\"\",\"zerolinecolor\":\"white\",\"gridwidth\":2}},\"shapedefaults\":{\"line\":{\"color\":\"#2a3f5f\"}},\"annotationdefaults\":{\"arrowcolor\":\"#2a3f5f\",\"arrowhead\":0,\"arrowwidth\":1},\"geo\":{\"bgcolor\":\"white\",\"landcolor\":\"#E5ECF6\",\"subunitcolor\":\"white\",\"showland\":true,\"showlakes\":true,\"lakecolor\":\"white\"},\"title\":{\"x\":0.05},\"mapbox\":{\"style\":\"light\"}}},\"xaxis\":{\"anchor\":\"y\",\"domain\":[0.0,1.0],\"title\":{\"text\":\"index\"}},\"yaxis\":{\"anchor\":\"x\",\"domain\":[0.0,1.0],\"title\":{\"text\":\"value\"},\"type\":\"log\"},\"legend\":{\"title\":{\"text\":\"variable\"},\"tracegroupgap\":0},\"title\":{\"text\":\"Checkpoint Values for solu-12l (Log scale)\"}},                        {\"responsive\": true}                    ).then(function(){\n",
              "                            \n",
              "var gd = document.getElementById('cb2c6fb3-3d21-48bb-aaff-4cd795ccce91');\n",
              "var x = new MutationObserver(function (mutations, observer) {{\n",
              "        var display = window.getComputedStyle(gd).display;\n",
              "        if (!display || display === 'none') {{\n",
              "            console.log([gd, 'removed!']);\n",
              "            Plotly.purge(gd);\n",
              "            observer.disconnect();\n",
              "        }}\n",
              "}});\n",
              "\n",
              "// Listen for the removal of the full notebook cells\n",
              "var notebookContainer = gd.closest('#notebook-container');\n",
              "if (notebookContainer) {{\n",
              "    x.observe(notebookContainer, {childList: true});\n",
              "}}\n",
              "\n",
              "// Listen for the clearing of the current output cell\n",
              "var outputEl = gd.closest('.output');\n",
              "if (outputEl) {{\n",
              "    x.observe(outputEl, {childList: true});\n",
              "}}\n",
              "\n",
              "                        })                };                });            </script>        </div>"
            ]
          },
          "metadata": {},
          "output_type": "display_data"
        },
        {
          "data": {
            "text/html": [
              "<div>                            <div id=\"b1733200-c384-44c6-929a-5dafcf608a37\" class=\"plotly-graph-div\" style=\"height:525px; width:100%;\"></div>            <script type=\"text/javascript\">                require([\"plotly\"], function(Plotly) {                    window.PLOTLYENV=window.PLOTLYENV || {};                                    if (document.getElementById(\"b1733200-c384-44c6-929a-5dafcf608a37\")) {                    Plotly.newPlot(                        \"b1733200-c384-44c6-929a-5dafcf608a37\",                        [{\"hovertemplate\":\"variable=0\\u003cbr\\u003eindex=%{x}\\u003cbr\\u003evalue=%{y}\\u003cextra\\u003e\\u003c\\u002fextra\\u003e\",\"legendgroup\":\"0\",\"line\":{\"color\":\"#636efa\",\"dash\":\"solid\"},\"marker\":{\"symbol\":\"circle\"},\"mode\":\"lines+markers\",\"name\":\"0\",\"orientation\":\"v\",\"showlegend\":true,\"x\":[0,1,2,3,4,5,6,7,8,9,10,11,12,13,14,15,16,17,18,19,20,21,22,23,24,25,26,27,28,29,30,31,32,33,34,35,36,37,38,39,40,41,42,43,44,45,46,47,48,49,50,51,52,53,54,55,56,57,58,59,60,61,62,63,64,65,66,67,68,69,70,71,72,73,74,75,76,77,78,79,80,81,82,83,84,85,86,87,88,89,90,91,92,93,94,95,96,97,98,99,100,101,102,103,104,105,106,107,108,109,110,111,112,113,114,115,116,117,118,119,120,121,122,123,124,125,126,127,128,129,130,131,132,133,134,135,136,137,138,139,140,141,142,143,144,145,146,147,148,149,150,151,152,153,154,155,156,157,158,159,160,161,162,163,164,165,166,167,168,169,170,171,172,173,174,175,176,177,178,179,180,181,182,183,184,185,186,187,188,189,190,191,192,193,194,195,196,197,198,199,200,201,202,203,204,205,206,207,208,209,210,211,212,213,214,215,216,217,218,219,220,221,222,223,224,225,226,227,228,229,230,231,232,233,234,235,236,237,238,239,240,241,242,243,244,245,246,247,248,249,250,251,252,253,254,255,256,257,258,259,260,261,262,263,264,265,266,267,268,269,270,271,272,273,274,275,276,277,278,279,280,281,282,283,284,285,286,287,288,289,290,291,292,293,294,295,296,297,298,299,300,301,302,303,304,305,306,307,308,309,310,311,312,313,314,315,316,317,318,319,320,321,322,323,324,325,326,327,328,329,330,331,332,333,334,335,336,337,338,339,340,341,342,343,344,345,346,347,348,349,350,351,352,353,354,355,356,357,358,359,360,361,362,363,364,365,366,367,368,369,370,371,372,373,374,375,376,377,378,379,380,381,382,383,384,385,386,387,388,389,390,391,392,393,394,395,396,397,398,399,400,401,402,403,404,405,406,407,408,409,410,411,412,413,414,415,416,417,418,419,420,421,422,423,424,425,426,427,428,429,430,431,432,433,434,435,436,437,438,439,440,441,442,443,444,445,446,447,448,449,450,451,452,453,454,455,456,457,458,459,460,461,462,463,464,465,466,467,468,469,470,471,472,473,474,475,476,477,478,479,480,481,482,483,484,485,486,487,488,489,490,491,492,493,494,495,496,497,498,499,500,501,502,503,504,505,506,507,508,509,510,511,512,513,514,515,516,517,518,519,520,521,522,523,524,525,526,527,528,529,530,531,532,533,534,535,536,537,538,539,540,541,542,543,544,545,546,547,548,549,550,551,552,553,554,555,556,557,558,559,560,561,562,563,564,565,566,567,568,569,570,571,572,573,574,575,576,577,578,579,580,581,582,583,584,585,586,587,588,589,590,591,592,593,594,595,596,597,598,599,600,601,602,603,604,605,606,607,608],\"xaxis\":\"x\",\"y\":[0,10,20,30,40,50,60,70,80,90,100,150,200,250,300,350,400,450,500,550,600,650,700,750,800,850,900,950,1000,1050,1100,1150,1200,1250,1300,1350,1400,1450,1500,1550,1600,1650,1700,1750,1800,1850,1900,1950,2000,2100,2200,2300,2400,2500,2600,2700,2800,2900,3000,3100,3200,3300,3400,3500,3600,3700,3800,3900,4000,4100,4200,4300,4400,4500,4600,4700,4800,4900,5000,5100,5200,5300,5400,5500,5600,5700,5800,5900,6000,6100,6200,6300,6400,6500,6600,6700,6800,6900,7000,7100,7200,7300,7400,7500,7600,7700,7800,7900,8000,8100,8200,8300,8400,8500,8600,8700,8800,8900,9000,9100,9200,9300,9400,9500,9600,9700,9800,9900,10000,10100,10200,10300,10400,10500,10600,10700,10800,10900,11000,11100,11200,11300,11400,11500,11600,11700,11800,11900,12000,12100,12200,12300,12400,12500,12600,12700,12800,12900,13000,13100,13200,13300,13400,13500,13600,13700,13800,13900,14000,14100,14200,14300,14400,14500,14600,14700,14800,14900,15000,15100,15200,15300,15400,15500,15600,15700,15800,15900,16000,16100,16200,16300,16400,16500,16600,16700,16800,16900,17000,17100,17200,17300,17400,17500,17600,17700,17800,17900,18000,18100,18200,18300,18400,18500,18600,18700,18800,18900,19000,19100,19200,19300,19400,19500,19600,19700,19800,19900,20000,21000,22000,23000,24000,25000,26000,27000,28000,29000,30000,31000,32000,33000,34000,35000,36000,37000,38000,39000,40000,41000,42000,43000,44000,45000,46000,47000,48000,49000,50000,51000,52000,53000,54000,55000,56000,57000,58000,59000,60000,61000,62000,63000,64000,65000,66000,67000,68000,69000,70000,71000,72000,73000,74000,75000,76000,77000,78000,79000,80000,81000,82000,83000,84000,85000,86000,87000,88000,89000,90000,91000,92000,93000,94000,95000,96000,97000,98000,99000,100000,101000,102000,103000,104000,105000,106000,107000,108000,109000,110000,111000,112000,113000,114000,115000,116000,117000,118000,119000,120000,121000,122000,123000,124000,125000,126000,127000,128000,129000,130000,131000,132000,133000,134000,135000,136000,137000,138000,139000,140000,141000,142000,143000,144000,145000,146000,147000,148000,149000,150000,151000,152000,153000,154000,155000,156000,157000,158000,159000,160000,161000,162000,163000,164000,165000,166000,167000,168000,169000,170000,171000,172000,173000,174000,175000,176000,177000,178000,179000,180000,181000,182000,183000,184000,185000,186000,187000,188000,189000,190000,191000,192000,193000,194000,195000,196000,197000,198000,199000,200000,201000,202000,203000,204000,205000,206000,207000,208000,209000,210000,211000,212000,213000,214000,215000,216000,217000,218000,219000,220000,221000,222000,223000,224000,225000,226000,227000,228000,229000,230000,231000,232000,233000,234000,235000,236000,237000,238000,239000,240000,241000,242000,243000,244000,245000,246000,247000,248000,249000,250000,251000,252000,253000,254000,255000,256000,257000,258000,259000,260000,261000,262000,263000,264000,265000,266000,267000,268000,269000,270000,271000,272000,273000,274000,275000,276000,277000,278000,279000,280000,281000,282000,283000,284000,285000,286000,287000,288000,289000,290000,291000,292000,293000,294000,295000,296000,297000,298000,299000,300000,301000,302000,303000,304000,305000,306000,307000,308000,309000,310000,311000,312000,313000,314000,315000,316000,317000,318000,319000,320000,321000,322000,323000,324000,325000,326000,327000,328000,329000,330000,331000,332000,333000,334000,335000,336000,337000,338000,339000,340000,341000,342000,343000,344000,345000,346000,347000,348000,349000,350000,351000,352000,353000,354000,355000,356000,357000,358000,359000,360000,361000,362000,363000,364000,365000,366000,367000,368000,369000,370000,371000,372000,373000,374000,375000,376000,377000,378000,379000,380000,381000,382000,383000,384000,385000,386000,387000,388000,389000,390000,391000,392000,393000,394000,395000,396000,397000,398000,399000,400000],\"yaxis\":\"y\",\"type\":\"scatter\"}],                        {\"template\":{\"data\":{\"histogram2dcontour\":[{\"type\":\"histogram2dcontour\",\"colorbar\":{\"outlinewidth\":0,\"ticks\":\"\"},\"colorscale\":[[0.0,\"#0d0887\"],[0.1111111111111111,\"#46039f\"],[0.2222222222222222,\"#7201a8\"],[0.3333333333333333,\"#9c179e\"],[0.4444444444444444,\"#bd3786\"],[0.5555555555555556,\"#d8576b\"],[0.6666666666666666,\"#ed7953\"],[0.7777777777777778,\"#fb9f3a\"],[0.8888888888888888,\"#fdca26\"],[1.0,\"#f0f921\"]]}],\"choropleth\":[{\"type\":\"choropleth\",\"colorbar\":{\"outlinewidth\":0,\"ticks\":\"\"}}],\"histogram2d\":[{\"type\":\"histogram2d\",\"colorbar\":{\"outlinewidth\":0,\"ticks\":\"\"},\"colorscale\":[[0.0,\"#0d0887\"],[0.1111111111111111,\"#46039f\"],[0.2222222222222222,\"#7201a8\"],[0.3333333333333333,\"#9c179e\"],[0.4444444444444444,\"#bd3786\"],[0.5555555555555556,\"#d8576b\"],[0.6666666666666666,\"#ed7953\"],[0.7777777777777778,\"#fb9f3a\"],[0.8888888888888888,\"#fdca26\"],[1.0,\"#f0f921\"]]}],\"heatmap\":[{\"type\":\"heatmap\",\"colorbar\":{\"outlinewidth\":0,\"ticks\":\"\"},\"colorscale\":[[0.0,\"#0d0887\"],[0.1111111111111111,\"#46039f\"],[0.2222222222222222,\"#7201a8\"],[0.3333333333333333,\"#9c179e\"],[0.4444444444444444,\"#bd3786\"],[0.5555555555555556,\"#d8576b\"],[0.6666666666666666,\"#ed7953\"],[0.7777777777777778,\"#fb9f3a\"],[0.8888888888888888,\"#fdca26\"],[1.0,\"#f0f921\"]]}],\"heatmapgl\":[{\"type\":\"heatmapgl\",\"colorbar\":{\"outlinewidth\":0,\"ticks\":\"\"},\"colorscale\":[[0.0,\"#0d0887\"],[0.1111111111111111,\"#46039f\"],[0.2222222222222222,\"#7201a8\"],[0.3333333333333333,\"#9c179e\"],[0.4444444444444444,\"#bd3786\"],[0.5555555555555556,\"#d8576b\"],[0.6666666666666666,\"#ed7953\"],[0.7777777777777778,\"#fb9f3a\"],[0.8888888888888888,\"#fdca26\"],[1.0,\"#f0f921\"]]}],\"contourcarpet\":[{\"type\":\"contourcarpet\",\"colorbar\":{\"outlinewidth\":0,\"ticks\":\"\"}}],\"contour\":[{\"type\":\"contour\",\"colorbar\":{\"outlinewidth\":0,\"ticks\":\"\"},\"colorscale\":[[0.0,\"#0d0887\"],[0.1111111111111111,\"#46039f\"],[0.2222222222222222,\"#7201a8\"],[0.3333333333333333,\"#9c179e\"],[0.4444444444444444,\"#bd3786\"],[0.5555555555555556,\"#d8576b\"],[0.6666666666666666,\"#ed7953\"],[0.7777777777777778,\"#fb9f3a\"],[0.8888888888888888,\"#fdca26\"],[1.0,\"#f0f921\"]]}],\"surface\":[{\"type\":\"surface\",\"colorbar\":{\"outlinewidth\":0,\"ticks\":\"\"},\"colorscale\":[[0.0,\"#0d0887\"],[0.1111111111111111,\"#46039f\"],[0.2222222222222222,\"#7201a8\"],[0.3333333333333333,\"#9c179e\"],[0.4444444444444444,\"#bd3786\"],[0.5555555555555556,\"#d8576b\"],[0.6666666666666666,\"#ed7953\"],[0.7777777777777778,\"#fb9f3a\"],[0.8888888888888888,\"#fdca26\"],[1.0,\"#f0f921\"]]}],\"mesh3d\":[{\"type\":\"mesh3d\",\"colorbar\":{\"outlinewidth\":0,\"ticks\":\"\"}}],\"scatter\":[{\"fillpattern\":{\"fillmode\":\"overlay\",\"size\":10,\"solidity\":0.2},\"type\":\"scatter\"}],\"parcoords\":[{\"type\":\"parcoords\",\"line\":{\"colorbar\":{\"outlinewidth\":0,\"ticks\":\"\"}}}],\"scatterpolargl\":[{\"type\":\"scatterpolargl\",\"marker\":{\"colorbar\":{\"outlinewidth\":0,\"ticks\":\"\"}}}],\"bar\":[{\"error_x\":{\"color\":\"#2a3f5f\"},\"error_y\":{\"color\":\"#2a3f5f\"},\"marker\":{\"line\":{\"color\":\"#E5ECF6\",\"width\":0.5},\"pattern\":{\"fillmode\":\"overlay\",\"size\":10,\"solidity\":0.2}},\"type\":\"bar\"}],\"scattergeo\":[{\"type\":\"scattergeo\",\"marker\":{\"colorbar\":{\"outlinewidth\":0,\"ticks\":\"\"}}}],\"scatterpolar\":[{\"type\":\"scatterpolar\",\"marker\":{\"colorbar\":{\"outlinewidth\":0,\"ticks\":\"\"}}}],\"histogram\":[{\"marker\":{\"pattern\":{\"fillmode\":\"overlay\",\"size\":10,\"solidity\":0.2}},\"type\":\"histogram\"}],\"scattergl\":[{\"type\":\"scattergl\",\"marker\":{\"colorbar\":{\"outlinewidth\":0,\"ticks\":\"\"}}}],\"scatter3d\":[{\"type\":\"scatter3d\",\"line\":{\"colorbar\":{\"outlinewidth\":0,\"ticks\":\"\"}},\"marker\":{\"colorbar\":{\"outlinewidth\":0,\"ticks\":\"\"}}}],\"scattermapbox\":[{\"type\":\"scattermapbox\",\"marker\":{\"colorbar\":{\"outlinewidth\":0,\"ticks\":\"\"}}}],\"scatterternary\":[{\"type\":\"scatterternary\",\"marker\":{\"colorbar\":{\"outlinewidth\":0,\"ticks\":\"\"}}}],\"scattercarpet\":[{\"type\":\"scattercarpet\",\"marker\":{\"colorbar\":{\"outlinewidth\":0,\"ticks\":\"\"}}}],\"carpet\":[{\"aaxis\":{\"endlinecolor\":\"#2a3f5f\",\"gridcolor\":\"white\",\"linecolor\":\"white\",\"minorgridcolor\":\"white\",\"startlinecolor\":\"#2a3f5f\"},\"baxis\":{\"endlinecolor\":\"#2a3f5f\",\"gridcolor\":\"white\",\"linecolor\":\"white\",\"minorgridcolor\":\"white\",\"startlinecolor\":\"#2a3f5f\"},\"type\":\"carpet\"}],\"table\":[{\"cells\":{\"fill\":{\"color\":\"#EBF0F8\"},\"line\":{\"color\":\"white\"}},\"header\":{\"fill\":{\"color\":\"#C8D4E3\"},\"line\":{\"color\":\"white\"}},\"type\":\"table\"}],\"barpolar\":[{\"marker\":{\"line\":{\"color\":\"#E5ECF6\",\"width\":0.5},\"pattern\":{\"fillmode\":\"overlay\",\"size\":10,\"solidity\":0.2}},\"type\":\"barpolar\"}],\"pie\":[{\"automargin\":true,\"type\":\"pie\"}]},\"layout\":{\"autotypenumbers\":\"strict\",\"colorway\":[\"#636efa\",\"#EF553B\",\"#00cc96\",\"#ab63fa\",\"#FFA15A\",\"#19d3f3\",\"#FF6692\",\"#B6E880\",\"#FF97FF\",\"#FECB52\"],\"font\":{\"color\":\"#2a3f5f\"},\"hovermode\":\"closest\",\"hoverlabel\":{\"align\":\"left\"},\"paper_bgcolor\":\"white\",\"plot_bgcolor\":\"#E5ECF6\",\"polar\":{\"bgcolor\":\"#E5ECF6\",\"angularaxis\":{\"gridcolor\":\"white\",\"linecolor\":\"white\",\"ticks\":\"\"},\"radialaxis\":{\"gridcolor\":\"white\",\"linecolor\":\"white\",\"ticks\":\"\"}},\"ternary\":{\"bgcolor\":\"#E5ECF6\",\"aaxis\":{\"gridcolor\":\"white\",\"linecolor\":\"white\",\"ticks\":\"\"},\"baxis\":{\"gridcolor\":\"white\",\"linecolor\":\"white\",\"ticks\":\"\"},\"caxis\":{\"gridcolor\":\"white\",\"linecolor\":\"white\",\"ticks\":\"\"}},\"coloraxis\":{\"colorbar\":{\"outlinewidth\":0,\"ticks\":\"\"}},\"colorscale\":{\"sequential\":[[0.0,\"#0d0887\"],[0.1111111111111111,\"#46039f\"],[0.2222222222222222,\"#7201a8\"],[0.3333333333333333,\"#9c179e\"],[0.4444444444444444,\"#bd3786\"],[0.5555555555555556,\"#d8576b\"],[0.6666666666666666,\"#ed7953\"],[0.7777777777777778,\"#fb9f3a\"],[0.8888888888888888,\"#fdca26\"],[1.0,\"#f0f921\"]],\"sequentialminus\":[[0.0,\"#0d0887\"],[0.1111111111111111,\"#46039f\"],[0.2222222222222222,\"#7201a8\"],[0.3333333333333333,\"#9c179e\"],[0.4444444444444444,\"#bd3786\"],[0.5555555555555556,\"#d8576b\"],[0.6666666666666666,\"#ed7953\"],[0.7777777777777778,\"#fb9f3a\"],[0.8888888888888888,\"#fdca26\"],[1.0,\"#f0f921\"]],\"diverging\":[[0,\"#8e0152\"],[0.1,\"#c51b7d\"],[0.2,\"#de77ae\"],[0.3,\"#f1b6da\"],[0.4,\"#fde0ef\"],[0.5,\"#f7f7f7\"],[0.6,\"#e6f5d0\"],[0.7,\"#b8e186\"],[0.8,\"#7fbc41\"],[0.9,\"#4d9221\"],[1,\"#276419\"]]},\"xaxis\":{\"gridcolor\":\"white\",\"linecolor\":\"white\",\"ticks\":\"\",\"title\":{\"standoff\":15},\"zerolinecolor\":\"white\",\"automargin\":true,\"zerolinewidth\":2},\"yaxis\":{\"gridcolor\":\"white\",\"linecolor\":\"white\",\"ticks\":\"\",\"title\":{\"standoff\":15},\"zerolinecolor\":\"white\",\"automargin\":true,\"zerolinewidth\":2},\"scene\":{\"xaxis\":{\"backgroundcolor\":\"#E5ECF6\",\"gridcolor\":\"white\",\"linecolor\":\"white\",\"showbackground\":true,\"ticks\":\"\",\"zerolinecolor\":\"white\",\"gridwidth\":2},\"yaxis\":{\"backgroundcolor\":\"#E5ECF6\",\"gridcolor\":\"white\",\"linecolor\":\"white\",\"showbackground\":true,\"ticks\":\"\",\"zerolinecolor\":\"white\",\"gridwidth\":2},\"zaxis\":{\"backgroundcolor\":\"#E5ECF6\",\"gridcolor\":\"white\",\"linecolor\":\"white\",\"showbackground\":true,\"ticks\":\"\",\"zerolinecolor\":\"white\",\"gridwidth\":2}},\"shapedefaults\":{\"line\":{\"color\":\"#2a3f5f\"}},\"annotationdefaults\":{\"arrowcolor\":\"#2a3f5f\",\"arrowhead\":0,\"arrowwidth\":1},\"geo\":{\"bgcolor\":\"white\",\"landcolor\":\"#E5ECF6\",\"subunitcolor\":\"white\",\"showland\":true,\"showlakes\":true,\"lakecolor\":\"white\"},\"title\":{\"x\":0.05},\"mapbox\":{\"style\":\"light\"}}},\"xaxis\":{\"anchor\":\"y\",\"domain\":[0.0,1.0],\"title\":{\"text\":\"index\"}},\"yaxis\":{\"anchor\":\"x\",\"domain\":[0.0,1.0],\"title\":{\"text\":\"value\"},\"type\":\"log\"},\"legend\":{\"title\":{\"text\":\"variable\"},\"tracegroupgap\":0},\"title\":{\"text\":\"Checkpoint Values for stanford-gpt2-small-a (Log scale)\"}},                        {\"responsive\": true}                    ).then(function(){\n",
              "                            \n",
              "var gd = document.getElementById('b1733200-c384-44c6-929a-5dafcf608a37');\n",
              "var x = new MutationObserver(function (mutations, observer) {{\n",
              "        var display = window.getComputedStyle(gd).display;\n",
              "        if (!display || display === 'none') {{\n",
              "            console.log([gd, 'removed!']);\n",
              "            Plotly.purge(gd);\n",
              "            observer.disconnect();\n",
              "        }}\n",
              "}});\n",
              "\n",
              "// Listen for the removal of the full notebook cells\n",
              "var notebookContainer = gd.closest('#notebook-container');\n",
              "if (notebookContainer) {{\n",
              "    x.observe(notebookContainer, {childList: true});\n",
              "}}\n",
              "\n",
              "// Listen for the clearing of the current output cell\n",
              "var outputEl = gd.closest('.output');\n",
              "if (outputEl) {{\n",
              "    x.observe(outputEl, {childList: true});\n",
              "}}\n",
              "\n",
              "                        })                };                });            </script>        </div>"
            ]
          },
          "metadata": {},
          "output_type": "display_data"
        },
        {
          "data": {
            "text/html": [
              "<div>                            <div id=\"dfeedba2-2877-401e-9e3e-0d4a693b3c3c\" class=\"plotly-graph-div\" style=\"height:525px; width:100%;\"></div>            <script type=\"text/javascript\">                require([\"plotly\"], function(Plotly) {                    window.PLOTLYENV=window.PLOTLYENV || {};                                    if (document.getElementById(\"dfeedba2-2877-401e-9e3e-0d4a693b3c3c\")) {                    Plotly.newPlot(                        \"dfeedba2-2877-401e-9e3e-0d4a693b3c3c\",                        [{\"hovertemplate\":\"variable=0\\u003cbr\\u003eindex=%{x}\\u003cbr\\u003evalue=%{y}\\u003cextra\\u003e\\u003c\\u002fextra\\u003e\",\"legendgroup\":\"0\",\"line\":{\"color\":\"#636efa\",\"dash\":\"solid\"},\"marker\":{\"symbol\":\"circle\"},\"mode\":\"lines+markers\",\"name\":\"0\",\"orientation\":\"v\",\"showlegend\":true,\"x\":[0,1,2,3,4,5,6,7,8,9,10,11,12,13,14,15,16,17,18,19,20,21,22,23,24,25,26,27,28,29,30,31,32,33,34,35,36,37,38,39,40,41,42,43,44,45,46,47,48,49],\"xaxis\":\"x\",\"y\":[832,1664,2496,3328,4160,4992,5824,6656,7488,8320,9152,9984,10816,11648,12480,13312,14144,14976,15808,16640,17472,18304,19136,19968,20800,21632,22464,23296,24128,24960,25792,26624,27456,28288,29120,29952,30784,31616,32448,33280,34112,34944,35776,36608,37440,38272,39104,39936,40768,41600],\"yaxis\":\"y\",\"type\":\"scatter\"}],                        {\"template\":{\"data\":{\"histogram2dcontour\":[{\"type\":\"histogram2dcontour\",\"colorbar\":{\"outlinewidth\":0,\"ticks\":\"\"},\"colorscale\":[[0.0,\"#0d0887\"],[0.1111111111111111,\"#46039f\"],[0.2222222222222222,\"#7201a8\"],[0.3333333333333333,\"#9c179e\"],[0.4444444444444444,\"#bd3786\"],[0.5555555555555556,\"#d8576b\"],[0.6666666666666666,\"#ed7953\"],[0.7777777777777778,\"#fb9f3a\"],[0.8888888888888888,\"#fdca26\"],[1.0,\"#f0f921\"]]}],\"choropleth\":[{\"type\":\"choropleth\",\"colorbar\":{\"outlinewidth\":0,\"ticks\":\"\"}}],\"histogram2d\":[{\"type\":\"histogram2d\",\"colorbar\":{\"outlinewidth\":0,\"ticks\":\"\"},\"colorscale\":[[0.0,\"#0d0887\"],[0.1111111111111111,\"#46039f\"],[0.2222222222222222,\"#7201a8\"],[0.3333333333333333,\"#9c179e\"],[0.4444444444444444,\"#bd3786\"],[0.5555555555555556,\"#d8576b\"],[0.6666666666666666,\"#ed7953\"],[0.7777777777777778,\"#fb9f3a\"],[0.8888888888888888,\"#fdca26\"],[1.0,\"#f0f921\"]]}],\"heatmap\":[{\"type\":\"heatmap\",\"colorbar\":{\"outlinewidth\":0,\"ticks\":\"\"},\"colorscale\":[[0.0,\"#0d0887\"],[0.1111111111111111,\"#46039f\"],[0.2222222222222222,\"#7201a8\"],[0.3333333333333333,\"#9c179e\"],[0.4444444444444444,\"#bd3786\"],[0.5555555555555556,\"#d8576b\"],[0.6666666666666666,\"#ed7953\"],[0.7777777777777778,\"#fb9f3a\"],[0.8888888888888888,\"#fdca26\"],[1.0,\"#f0f921\"]]}],\"heatmapgl\":[{\"type\":\"heatmapgl\",\"colorbar\":{\"outlinewidth\":0,\"ticks\":\"\"},\"colorscale\":[[0.0,\"#0d0887\"],[0.1111111111111111,\"#46039f\"],[0.2222222222222222,\"#7201a8\"],[0.3333333333333333,\"#9c179e\"],[0.4444444444444444,\"#bd3786\"],[0.5555555555555556,\"#d8576b\"],[0.6666666666666666,\"#ed7953\"],[0.7777777777777778,\"#fb9f3a\"],[0.8888888888888888,\"#fdca26\"],[1.0,\"#f0f921\"]]}],\"contourcarpet\":[{\"type\":\"contourcarpet\",\"colorbar\":{\"outlinewidth\":0,\"ticks\":\"\"}}],\"contour\":[{\"type\":\"contour\",\"colorbar\":{\"outlinewidth\":0,\"ticks\":\"\"},\"colorscale\":[[0.0,\"#0d0887\"],[0.1111111111111111,\"#46039f\"],[0.2222222222222222,\"#7201a8\"],[0.3333333333333333,\"#9c179e\"],[0.4444444444444444,\"#bd3786\"],[0.5555555555555556,\"#d8576b\"],[0.6666666666666666,\"#ed7953\"],[0.7777777777777778,\"#fb9f3a\"],[0.8888888888888888,\"#fdca26\"],[1.0,\"#f0f921\"]]}],\"surface\":[{\"type\":\"surface\",\"colorbar\":{\"outlinewidth\":0,\"ticks\":\"\"},\"colorscale\":[[0.0,\"#0d0887\"],[0.1111111111111111,\"#46039f\"],[0.2222222222222222,\"#7201a8\"],[0.3333333333333333,\"#9c179e\"],[0.4444444444444444,\"#bd3786\"],[0.5555555555555556,\"#d8576b\"],[0.6666666666666666,\"#ed7953\"],[0.7777777777777778,\"#fb9f3a\"],[0.8888888888888888,\"#fdca26\"],[1.0,\"#f0f921\"]]}],\"mesh3d\":[{\"type\":\"mesh3d\",\"colorbar\":{\"outlinewidth\":0,\"ticks\":\"\"}}],\"scatter\":[{\"fillpattern\":{\"fillmode\":\"overlay\",\"size\":10,\"solidity\":0.2},\"type\":\"scatter\"}],\"parcoords\":[{\"type\":\"parcoords\",\"line\":{\"colorbar\":{\"outlinewidth\":0,\"ticks\":\"\"}}}],\"scatterpolargl\":[{\"type\":\"scatterpolargl\",\"marker\":{\"colorbar\":{\"outlinewidth\":0,\"ticks\":\"\"}}}],\"bar\":[{\"error_x\":{\"color\":\"#2a3f5f\"},\"error_y\":{\"color\":\"#2a3f5f\"},\"marker\":{\"line\":{\"color\":\"#E5ECF6\",\"width\":0.5},\"pattern\":{\"fillmode\":\"overlay\",\"size\":10,\"solidity\":0.2}},\"type\":\"bar\"}],\"scattergeo\":[{\"type\":\"scattergeo\",\"marker\":{\"colorbar\":{\"outlinewidth\":0,\"ticks\":\"\"}}}],\"scatterpolar\":[{\"type\":\"scatterpolar\",\"marker\":{\"colorbar\":{\"outlinewidth\":0,\"ticks\":\"\"}}}],\"histogram\":[{\"marker\":{\"pattern\":{\"fillmode\":\"overlay\",\"size\":10,\"solidity\":0.2}},\"type\":\"histogram\"}],\"scattergl\":[{\"type\":\"scattergl\",\"marker\":{\"colorbar\":{\"outlinewidth\":0,\"ticks\":\"\"}}}],\"scatter3d\":[{\"type\":\"scatter3d\",\"line\":{\"colorbar\":{\"outlinewidth\":0,\"ticks\":\"\"}},\"marker\":{\"colorbar\":{\"outlinewidth\":0,\"ticks\":\"\"}}}],\"scattermapbox\":[{\"type\":\"scattermapbox\",\"marker\":{\"colorbar\":{\"outlinewidth\":0,\"ticks\":\"\"}}}],\"scatterternary\":[{\"type\":\"scatterternary\",\"marker\":{\"colorbar\":{\"outlinewidth\":0,\"ticks\":\"\"}}}],\"scattercarpet\":[{\"type\":\"scattercarpet\",\"marker\":{\"colorbar\":{\"outlinewidth\":0,\"ticks\":\"\"}}}],\"carpet\":[{\"aaxis\":{\"endlinecolor\":\"#2a3f5f\",\"gridcolor\":\"white\",\"linecolor\":\"white\",\"minorgridcolor\":\"white\",\"startlinecolor\":\"#2a3f5f\"},\"baxis\":{\"endlinecolor\":\"#2a3f5f\",\"gridcolor\":\"white\",\"linecolor\":\"white\",\"minorgridcolor\":\"white\",\"startlinecolor\":\"#2a3f5f\"},\"type\":\"carpet\"}],\"table\":[{\"cells\":{\"fill\":{\"color\":\"#EBF0F8\"},\"line\":{\"color\":\"white\"}},\"header\":{\"fill\":{\"color\":\"#C8D4E3\"},\"line\":{\"color\":\"white\"}},\"type\":\"table\"}],\"barpolar\":[{\"marker\":{\"line\":{\"color\":\"#E5ECF6\",\"width\":0.5},\"pattern\":{\"fillmode\":\"overlay\",\"size\":10,\"solidity\":0.2}},\"type\":\"barpolar\"}],\"pie\":[{\"automargin\":true,\"type\":\"pie\"}]},\"layout\":{\"autotypenumbers\":\"strict\",\"colorway\":[\"#636efa\",\"#EF553B\",\"#00cc96\",\"#ab63fa\",\"#FFA15A\",\"#19d3f3\",\"#FF6692\",\"#B6E880\",\"#FF97FF\",\"#FECB52\"],\"font\":{\"color\":\"#2a3f5f\"},\"hovermode\":\"closest\",\"hoverlabel\":{\"align\":\"left\"},\"paper_bgcolor\":\"white\",\"plot_bgcolor\":\"#E5ECF6\",\"polar\":{\"bgcolor\":\"#E5ECF6\",\"angularaxis\":{\"gridcolor\":\"white\",\"linecolor\":\"white\",\"ticks\":\"\"},\"radialaxis\":{\"gridcolor\":\"white\",\"linecolor\":\"white\",\"ticks\":\"\"}},\"ternary\":{\"bgcolor\":\"#E5ECF6\",\"aaxis\":{\"gridcolor\":\"white\",\"linecolor\":\"white\",\"ticks\":\"\"},\"baxis\":{\"gridcolor\":\"white\",\"linecolor\":\"white\",\"ticks\":\"\"},\"caxis\":{\"gridcolor\":\"white\",\"linecolor\":\"white\",\"ticks\":\"\"}},\"coloraxis\":{\"colorbar\":{\"outlinewidth\":0,\"ticks\":\"\"}},\"colorscale\":{\"sequential\":[[0.0,\"#0d0887\"],[0.1111111111111111,\"#46039f\"],[0.2222222222222222,\"#7201a8\"],[0.3333333333333333,\"#9c179e\"],[0.4444444444444444,\"#bd3786\"],[0.5555555555555556,\"#d8576b\"],[0.6666666666666666,\"#ed7953\"],[0.7777777777777778,\"#fb9f3a\"],[0.8888888888888888,\"#fdca26\"],[1.0,\"#f0f921\"]],\"sequentialminus\":[[0.0,\"#0d0887\"],[0.1111111111111111,\"#46039f\"],[0.2222222222222222,\"#7201a8\"],[0.3333333333333333,\"#9c179e\"],[0.4444444444444444,\"#bd3786\"],[0.5555555555555556,\"#d8576b\"],[0.6666666666666666,\"#ed7953\"],[0.7777777777777778,\"#fb9f3a\"],[0.8888888888888888,\"#fdca26\"],[1.0,\"#f0f921\"]],\"diverging\":[[0,\"#8e0152\"],[0.1,\"#c51b7d\"],[0.2,\"#de77ae\"],[0.3,\"#f1b6da\"],[0.4,\"#fde0ef\"],[0.5,\"#f7f7f7\"],[0.6,\"#e6f5d0\"],[0.7,\"#b8e186\"],[0.8,\"#7fbc41\"],[0.9,\"#4d9221\"],[1,\"#276419\"]]},\"xaxis\":{\"gridcolor\":\"white\",\"linecolor\":\"white\",\"ticks\":\"\",\"title\":{\"standoff\":15},\"zerolinecolor\":\"white\",\"automargin\":true,\"zerolinewidth\":2},\"yaxis\":{\"gridcolor\":\"white\",\"linecolor\":\"white\",\"ticks\":\"\",\"title\":{\"standoff\":15},\"zerolinecolor\":\"white\",\"automargin\":true,\"zerolinewidth\":2},\"scene\":{\"xaxis\":{\"backgroundcolor\":\"#E5ECF6\",\"gridcolor\":\"white\",\"linecolor\":\"white\",\"showbackground\":true,\"ticks\":\"\",\"zerolinecolor\":\"white\",\"gridwidth\":2},\"yaxis\":{\"backgroundcolor\":\"#E5ECF6\",\"gridcolor\":\"white\",\"linecolor\":\"white\",\"showbackground\":true,\"ticks\":\"\",\"zerolinecolor\":\"white\",\"gridwidth\":2},\"zaxis\":{\"backgroundcolor\":\"#E5ECF6\",\"gridcolor\":\"white\",\"linecolor\":\"white\",\"showbackground\":true,\"ticks\":\"\",\"zerolinecolor\":\"white\",\"gridwidth\":2}},\"shapedefaults\":{\"line\":{\"color\":\"#2a3f5f\"}},\"annotationdefaults\":{\"arrowcolor\":\"#2a3f5f\",\"arrowhead\":0,\"arrowwidth\":1},\"geo\":{\"bgcolor\":\"white\",\"landcolor\":\"#E5ECF6\",\"subunitcolor\":\"white\",\"showland\":true,\"showlakes\":true,\"lakecolor\":\"white\"},\"title\":{\"x\":0.05},\"mapbox\":{\"style\":\"light\"}}},\"xaxis\":{\"anchor\":\"y\",\"domain\":[0.0,1.0],\"title\":{\"text\":\"index\"}},\"yaxis\":{\"anchor\":\"x\",\"domain\":[0.0,1.0],\"title\":{\"text\":\"value\"}},\"legend\":{\"title\":{\"text\":\"variable\"},\"tracegroupgap\":0},\"title\":{\"text\":\"Checkpoint Values for solu-1l-pile (Linear scale)\"}},                        {\"responsive\": true}                    ).then(function(){\n",
              "                            \n",
              "var gd = document.getElementById('dfeedba2-2877-401e-9e3e-0d4a693b3c3c');\n",
              "var x = new MutationObserver(function (mutations, observer) {{\n",
              "        var display = window.getComputedStyle(gd).display;\n",
              "        if (!display || display === 'none') {{\n",
              "            console.log([gd, 'removed!']);\n",
              "            Plotly.purge(gd);\n",
              "            observer.disconnect();\n",
              "        }}\n",
              "}});\n",
              "\n",
              "// Listen for the removal of the full notebook cells\n",
              "var notebookContainer = gd.closest('#notebook-container');\n",
              "if (notebookContainer) {{\n",
              "    x.observe(notebookContainer, {childList: true});\n",
              "}}\n",
              "\n",
              "// Listen for the clearing of the current output cell\n",
              "var outputEl = gd.closest('.output');\n",
              "if (outputEl) {{\n",
              "    x.observe(outputEl, {childList: true});\n",
              "}}\n",
              "\n",
              "                        })                };                });            </script>        </div>"
            ]
          },
          "metadata": {},
          "output_type": "display_data"
        },
        {
          "data": {
            "text/html": [
              "<div>                            <div id=\"b1370b36-d145-4612-8486-aeaaf2e27864\" class=\"plotly-graph-div\" style=\"height:525px; width:100%;\"></div>            <script type=\"text/javascript\">                require([\"plotly\"], function(Plotly) {                    window.PLOTLYENV=window.PLOTLYENV || {};                                    if (document.getElementById(\"b1370b36-d145-4612-8486-aeaaf2e27864\")) {                    Plotly.newPlot(                        \"b1370b36-d145-4612-8486-aeaaf2e27864\",                        [{\"hovertemplate\":\"variable=0\\u003cbr\\u003eindex=%{x}\\u003cbr\\u003evalue=%{y}\\u003cextra\\u003e\\u003c\\u002fextra\\u003e\",\"legendgroup\":\"0\",\"line\":{\"color\":\"#636efa\",\"dash\":\"solid\"},\"marker\":{\"symbol\":\"circle\"},\"mode\":\"lines+markers\",\"name\":\"0\",\"orientation\":\"v\",\"showlegend\":true,\"x\":[0,1,2,3,4,5,6,7,8,9,10,11,12,13,14,15,16,17,18,19,20,21,22,23,24,25,26,27,28,29,30,31,32,33,34,35,36,37,38,39,40,41,42,43,44,45,46,47,48,49,50,51,52,53,54,55,56,57,58,59,60,61,62,63,64,65,66,67,68,69,70,71,72,73,74,75,76,77,78,79,80,81,82,83,84,85,86,87,88,89,90,91,92,93,94,95,96,97,98,99],\"xaxis\":\"x\",\"y\":[326,652,978,1304,1630,1956,2282,2608,2934,3260,3586,3912,4238,4564,4890,5216,5542,5868,6194,6520,6846,7172,7498,7824,8150,8476,8802,9128,9454,9780,10106,10432,10758,11084,11410,11736,12062,12388,12714,13040,13366,13692,14018,14344,14670,14996,15322,15648,15974,16300,16626,16952,17278,17604,17930,18256,18582,18908,19234,19560,19886,20212,20538,20864,21190,21516,21842,22168,22494,22820,23146,23472,23798,24124,24450,24776,25102,25428,25754,26080,26406,26732,27058,27384,27710,28036,28362,28688,29014,29340,29666,29992,30318,30644,30970,31296,31622,31948,32274,32600],\"yaxis\":\"y\",\"type\":\"scatter\"}],                        {\"template\":{\"data\":{\"histogram2dcontour\":[{\"type\":\"histogram2dcontour\",\"colorbar\":{\"outlinewidth\":0,\"ticks\":\"\"},\"colorscale\":[[0.0,\"#0d0887\"],[0.1111111111111111,\"#46039f\"],[0.2222222222222222,\"#7201a8\"],[0.3333333333333333,\"#9c179e\"],[0.4444444444444444,\"#bd3786\"],[0.5555555555555556,\"#d8576b\"],[0.6666666666666666,\"#ed7953\"],[0.7777777777777778,\"#fb9f3a\"],[0.8888888888888888,\"#fdca26\"],[1.0,\"#f0f921\"]]}],\"choropleth\":[{\"type\":\"choropleth\",\"colorbar\":{\"outlinewidth\":0,\"ticks\":\"\"}}],\"histogram2d\":[{\"type\":\"histogram2d\",\"colorbar\":{\"outlinewidth\":0,\"ticks\":\"\"},\"colorscale\":[[0.0,\"#0d0887\"],[0.1111111111111111,\"#46039f\"],[0.2222222222222222,\"#7201a8\"],[0.3333333333333333,\"#9c179e\"],[0.4444444444444444,\"#bd3786\"],[0.5555555555555556,\"#d8576b\"],[0.6666666666666666,\"#ed7953\"],[0.7777777777777778,\"#fb9f3a\"],[0.8888888888888888,\"#fdca26\"],[1.0,\"#f0f921\"]]}],\"heatmap\":[{\"type\":\"heatmap\",\"colorbar\":{\"outlinewidth\":0,\"ticks\":\"\"},\"colorscale\":[[0.0,\"#0d0887\"],[0.1111111111111111,\"#46039f\"],[0.2222222222222222,\"#7201a8\"],[0.3333333333333333,\"#9c179e\"],[0.4444444444444444,\"#bd3786\"],[0.5555555555555556,\"#d8576b\"],[0.6666666666666666,\"#ed7953\"],[0.7777777777777778,\"#fb9f3a\"],[0.8888888888888888,\"#fdca26\"],[1.0,\"#f0f921\"]]}],\"heatmapgl\":[{\"type\":\"heatmapgl\",\"colorbar\":{\"outlinewidth\":0,\"ticks\":\"\"},\"colorscale\":[[0.0,\"#0d0887\"],[0.1111111111111111,\"#46039f\"],[0.2222222222222222,\"#7201a8\"],[0.3333333333333333,\"#9c179e\"],[0.4444444444444444,\"#bd3786\"],[0.5555555555555556,\"#d8576b\"],[0.6666666666666666,\"#ed7953\"],[0.7777777777777778,\"#fb9f3a\"],[0.8888888888888888,\"#fdca26\"],[1.0,\"#f0f921\"]]}],\"contourcarpet\":[{\"type\":\"contourcarpet\",\"colorbar\":{\"outlinewidth\":0,\"ticks\":\"\"}}],\"contour\":[{\"type\":\"contour\",\"colorbar\":{\"outlinewidth\":0,\"ticks\":\"\"},\"colorscale\":[[0.0,\"#0d0887\"],[0.1111111111111111,\"#46039f\"],[0.2222222222222222,\"#7201a8\"],[0.3333333333333333,\"#9c179e\"],[0.4444444444444444,\"#bd3786\"],[0.5555555555555556,\"#d8576b\"],[0.6666666666666666,\"#ed7953\"],[0.7777777777777778,\"#fb9f3a\"],[0.8888888888888888,\"#fdca26\"],[1.0,\"#f0f921\"]]}],\"surface\":[{\"type\":\"surface\",\"colorbar\":{\"outlinewidth\":0,\"ticks\":\"\"},\"colorscale\":[[0.0,\"#0d0887\"],[0.1111111111111111,\"#46039f\"],[0.2222222222222222,\"#7201a8\"],[0.3333333333333333,\"#9c179e\"],[0.4444444444444444,\"#bd3786\"],[0.5555555555555556,\"#d8576b\"],[0.6666666666666666,\"#ed7953\"],[0.7777777777777778,\"#fb9f3a\"],[0.8888888888888888,\"#fdca26\"],[1.0,\"#f0f921\"]]}],\"mesh3d\":[{\"type\":\"mesh3d\",\"colorbar\":{\"outlinewidth\":0,\"ticks\":\"\"}}],\"scatter\":[{\"fillpattern\":{\"fillmode\":\"overlay\",\"size\":10,\"solidity\":0.2},\"type\":\"scatter\"}],\"parcoords\":[{\"type\":\"parcoords\",\"line\":{\"colorbar\":{\"outlinewidth\":0,\"ticks\":\"\"}}}],\"scatterpolargl\":[{\"type\":\"scatterpolargl\",\"marker\":{\"colorbar\":{\"outlinewidth\":0,\"ticks\":\"\"}}}],\"bar\":[{\"error_x\":{\"color\":\"#2a3f5f\"},\"error_y\":{\"color\":\"#2a3f5f\"},\"marker\":{\"line\":{\"color\":\"#E5ECF6\",\"width\":0.5},\"pattern\":{\"fillmode\":\"overlay\",\"size\":10,\"solidity\":0.2}},\"type\":\"bar\"}],\"scattergeo\":[{\"type\":\"scattergeo\",\"marker\":{\"colorbar\":{\"outlinewidth\":0,\"ticks\":\"\"}}}],\"scatterpolar\":[{\"type\":\"scatterpolar\",\"marker\":{\"colorbar\":{\"outlinewidth\":0,\"ticks\":\"\"}}}],\"histogram\":[{\"marker\":{\"pattern\":{\"fillmode\":\"overlay\",\"size\":10,\"solidity\":0.2}},\"type\":\"histogram\"}],\"scattergl\":[{\"type\":\"scattergl\",\"marker\":{\"colorbar\":{\"outlinewidth\":0,\"ticks\":\"\"}}}],\"scatter3d\":[{\"type\":\"scatter3d\",\"line\":{\"colorbar\":{\"outlinewidth\":0,\"ticks\":\"\"}},\"marker\":{\"colorbar\":{\"outlinewidth\":0,\"ticks\":\"\"}}}],\"scattermapbox\":[{\"type\":\"scattermapbox\",\"marker\":{\"colorbar\":{\"outlinewidth\":0,\"ticks\":\"\"}}}],\"scatterternary\":[{\"type\":\"scatterternary\",\"marker\":{\"colorbar\":{\"outlinewidth\":0,\"ticks\":\"\"}}}],\"scattercarpet\":[{\"type\":\"scattercarpet\",\"marker\":{\"colorbar\":{\"outlinewidth\":0,\"ticks\":\"\"}}}],\"carpet\":[{\"aaxis\":{\"endlinecolor\":\"#2a3f5f\",\"gridcolor\":\"white\",\"linecolor\":\"white\",\"minorgridcolor\":\"white\",\"startlinecolor\":\"#2a3f5f\"},\"baxis\":{\"endlinecolor\":\"#2a3f5f\",\"gridcolor\":\"white\",\"linecolor\":\"white\",\"minorgridcolor\":\"white\",\"startlinecolor\":\"#2a3f5f\"},\"type\":\"carpet\"}],\"table\":[{\"cells\":{\"fill\":{\"color\":\"#EBF0F8\"},\"line\":{\"color\":\"white\"}},\"header\":{\"fill\":{\"color\":\"#C8D4E3\"},\"line\":{\"color\":\"white\"}},\"type\":\"table\"}],\"barpolar\":[{\"marker\":{\"line\":{\"color\":\"#E5ECF6\",\"width\":0.5},\"pattern\":{\"fillmode\":\"overlay\",\"size\":10,\"solidity\":0.2}},\"type\":\"barpolar\"}],\"pie\":[{\"automargin\":true,\"type\":\"pie\"}]},\"layout\":{\"autotypenumbers\":\"strict\",\"colorway\":[\"#636efa\",\"#EF553B\",\"#00cc96\",\"#ab63fa\",\"#FFA15A\",\"#19d3f3\",\"#FF6692\",\"#B6E880\",\"#FF97FF\",\"#FECB52\"],\"font\":{\"color\":\"#2a3f5f\"},\"hovermode\":\"closest\",\"hoverlabel\":{\"align\":\"left\"},\"paper_bgcolor\":\"white\",\"plot_bgcolor\":\"#E5ECF6\",\"polar\":{\"bgcolor\":\"#E5ECF6\",\"angularaxis\":{\"gridcolor\":\"white\",\"linecolor\":\"white\",\"ticks\":\"\"},\"radialaxis\":{\"gridcolor\":\"white\",\"linecolor\":\"white\",\"ticks\":\"\"}},\"ternary\":{\"bgcolor\":\"#E5ECF6\",\"aaxis\":{\"gridcolor\":\"white\",\"linecolor\":\"white\",\"ticks\":\"\"},\"baxis\":{\"gridcolor\":\"white\",\"linecolor\":\"white\",\"ticks\":\"\"},\"caxis\":{\"gridcolor\":\"white\",\"linecolor\":\"white\",\"ticks\":\"\"}},\"coloraxis\":{\"colorbar\":{\"outlinewidth\":0,\"ticks\":\"\"}},\"colorscale\":{\"sequential\":[[0.0,\"#0d0887\"],[0.1111111111111111,\"#46039f\"],[0.2222222222222222,\"#7201a8\"],[0.3333333333333333,\"#9c179e\"],[0.4444444444444444,\"#bd3786\"],[0.5555555555555556,\"#d8576b\"],[0.6666666666666666,\"#ed7953\"],[0.7777777777777778,\"#fb9f3a\"],[0.8888888888888888,\"#fdca26\"],[1.0,\"#f0f921\"]],\"sequentialminus\":[[0.0,\"#0d0887\"],[0.1111111111111111,\"#46039f\"],[0.2222222222222222,\"#7201a8\"],[0.3333333333333333,\"#9c179e\"],[0.4444444444444444,\"#bd3786\"],[0.5555555555555556,\"#d8576b\"],[0.6666666666666666,\"#ed7953\"],[0.7777777777777778,\"#fb9f3a\"],[0.8888888888888888,\"#fdca26\"],[1.0,\"#f0f921\"]],\"diverging\":[[0,\"#8e0152\"],[0.1,\"#c51b7d\"],[0.2,\"#de77ae\"],[0.3,\"#f1b6da\"],[0.4,\"#fde0ef\"],[0.5,\"#f7f7f7\"],[0.6,\"#e6f5d0\"],[0.7,\"#b8e186\"],[0.8,\"#7fbc41\"],[0.9,\"#4d9221\"],[1,\"#276419\"]]},\"xaxis\":{\"gridcolor\":\"white\",\"linecolor\":\"white\",\"ticks\":\"\",\"title\":{\"standoff\":15},\"zerolinecolor\":\"white\",\"automargin\":true,\"zerolinewidth\":2},\"yaxis\":{\"gridcolor\":\"white\",\"linecolor\":\"white\",\"ticks\":\"\",\"title\":{\"standoff\":15},\"zerolinecolor\":\"white\",\"automargin\":true,\"zerolinewidth\":2},\"scene\":{\"xaxis\":{\"backgroundcolor\":\"#E5ECF6\",\"gridcolor\":\"white\",\"linecolor\":\"white\",\"showbackground\":true,\"ticks\":\"\",\"zerolinecolor\":\"white\",\"gridwidth\":2},\"yaxis\":{\"backgroundcolor\":\"#E5ECF6\",\"gridcolor\":\"white\",\"linecolor\":\"white\",\"showbackground\":true,\"ticks\":\"\",\"zerolinecolor\":\"white\",\"gridwidth\":2},\"zaxis\":{\"backgroundcolor\":\"#E5ECF6\",\"gridcolor\":\"white\",\"linecolor\":\"white\",\"showbackground\":true,\"ticks\":\"\",\"zerolinecolor\":\"white\",\"gridwidth\":2}},\"shapedefaults\":{\"line\":{\"color\":\"#2a3f5f\"}},\"annotationdefaults\":{\"arrowcolor\":\"#2a3f5f\",\"arrowhead\":0,\"arrowwidth\":1},\"geo\":{\"bgcolor\":\"white\",\"landcolor\":\"#E5ECF6\",\"subunitcolor\":\"white\",\"showland\":true,\"showlakes\":true,\"lakecolor\":\"white\"},\"title\":{\"x\":0.05},\"mapbox\":{\"style\":\"light\"}}},\"xaxis\":{\"anchor\":\"y\",\"domain\":[0.0,1.0],\"title\":{\"text\":\"index\"}},\"yaxis\":{\"anchor\":\"x\",\"domain\":[0.0,1.0],\"title\":{\"text\":\"value\"}},\"legend\":{\"title\":{\"text\":\"variable\"},\"tracegroupgap\":0},\"title\":{\"text\":\"Checkpoint Values for solu-6l-pile (Linear scale)\"}},                        {\"responsive\": true}                    ).then(function(){\n",
              "                            \n",
              "var gd = document.getElementById('b1370b36-d145-4612-8486-aeaaf2e27864');\n",
              "var x = new MutationObserver(function (mutations, observer) {{\n",
              "        var display = window.getComputedStyle(gd).display;\n",
              "        if (!display || display === 'none') {{\n",
              "            console.log([gd, 'removed!']);\n",
              "            Plotly.purge(gd);\n",
              "            observer.disconnect();\n",
              "        }}\n",
              "}});\n",
              "\n",
              "// Listen for the removal of the full notebook cells\n",
              "var notebookContainer = gd.closest('#notebook-container');\n",
              "if (notebookContainer) {{\n",
              "    x.observe(notebookContainer, {childList: true});\n",
              "}}\n",
              "\n",
              "// Listen for the clearing of the current output cell\n",
              "var outputEl = gd.closest('.output');\n",
              "if (outputEl) {{\n",
              "    x.observe(outputEl, {childList: true});\n",
              "}}\n",
              "\n",
              "                        })                };                });            </script>        </div>"
            ]
          },
          "metadata": {},
          "output_type": "display_data"
        }
      ],
      "source": [
        "from transformer_lens.loading_from_pretrained import get_checkpoint_labels\n",
        "for model_name in [\"attn-only-2l\", \"solu-12l\", \"stanford-gpt2-small-a\"]:\n",
        "    checkpoint_labels, checkpoint_label_type = get_checkpoint_labels(model_name)\n",
        "    line(checkpoint_labels, xaxis=\"Checkpoint Index\", yaxis=f\"Checkpoint Value ({checkpoint_label_type})\", title=f\"Checkpoint Values for {model_name} (Log scale)\", log_y=True, markers=True)\n",
        "for model_name in [\"solu-1l-pile\", \"solu-6l-pile\"]:\n",
        "    checkpoint_labels, checkpoint_label_type = get_checkpoint_labels(model_name)\n",
        "    line(checkpoint_labels, xaxis=\"Checkpoint Index\", yaxis=f\"Checkpoint Value ({checkpoint_label_type})\", title=f\"Checkpoint Values for {model_name} (Linear scale)\", log_y=False, markers=True)"
      ]
    },
    {
      "cell_type": "markdown",
      "metadata": {
        "id": "DTK97Q4pbRkt"
      },
      "source": [
        "### Example: Induction Head Phase Transition"
      ]
    },
    {
      "cell_type": "markdown",
      "metadata": {
        "id": "jIHhAQYZbRkt"
      },
      "source": [
        "One of the more interesting results analysing circuit formation during training is the [induction head phase transition](https://transformer-circuits.pub/2022/in-context-learning-and-induction-heads/index.html). They find a pretty dramatic shift in models during training - there's a brief period where models go from not having induction heads to having them, which leads to the models suddenly becoming much better at in-context learning (using far back tokens to predict the next token, eg over 500 words back). This is enough of a big deal that it leads to a visible *bump* in the loss curve, where the model's rate of improvement briefly increases."
      ]
    },
    {
      "cell_type": "markdown",
      "metadata": {
        "id": "2wEbaQIsbRkt"
      },
      "source": [
        "As a brief demonstration of the existence of the phase transition, let's load some checkpoints of a two layer model, and see whether they have induction heads. An easy test, as we used above, is to give the model a repeated sequence of random tokens, and to check how good its loss is on the second half. `evals.induction_loss` is a rough util that runs this test on a model.\n",
        "(Note - this is deliberately a rough, non-rigorous test for the purposes of demonstration, eg `evals.induction_loss` by default just runs it on 4 sequences of 384 tokens repeated twice. These results totally don't do the paper justice - go check it out if you want to see the full results!)"
      ]
    },
    {
      "cell_type": "markdown",
      "metadata": {
        "id": "oVXrnlbDbRkt"
      },
      "source": [
        "In the interests of time and memory, let's look at a handful of checkpoints (chosen to be around the phase change), indices `[10, 25, 35, 60, -1]`. These are roughly 22M, 200M, 500M, 1.6B and 21.8B tokens through training, respectively. (I generally recommend looking things up based on indices, rather than checkpoint value!)."
      ]
    },
    {
      "cell_type": "code",
      "execution_count": 58,
      "metadata": {
        "id": "grFK6uhnbRkt"
      },
      "outputs": [],
      "source": [
        "from transformer_lens import evals\n",
        "# We use the two layer model with SoLU activations, chosen fairly arbitrarily as being both small (so fast to download and keep in memory) and pretty good at the induction task.\n",
        "model_name = \"solu-2l\"\n",
        "# We can load a model from a checkpoint by specifying the checkpoint_index, -1 means the final checkpoint\n",
        "checkpoint_indices = [10, 25, 35, 60, -1]\n",
        "checkpointed_models = []\n",
        "tokens_trained_on = []\n",
        "induction_losses = []"
      ]
    },
    {
      "cell_type": "markdown",
      "metadata": {
        "id": "E1jd5OEobRkt"
      },
      "source": [
        "We load the models, cache them in a list, and"
      ]
    },
    {
      "cell_type": "code",
      "execution_count": 59,
      "metadata": {
        "id": "ShpTzQY8bRku"
      },
      "outputs": [
        {
          "name": "stdout",
          "output_type": "stream",
          "text": [
            "Loaded pretrained model solu-2l into HookedTransformer\n",
            "Loaded pretrained model solu-2l into HookedTransformer\n",
            "Loaded pretrained model solu-2l into HookedTransformer\n",
            "Loaded pretrained model solu-2l into HookedTransformer\n",
            "Loaded pretrained model solu-2l into HookedTransformer\n"
          ]
        }
      ],
      "source": [
        "if not IN_GITHUB:\n",
        "    for index in checkpoint_indices:\n",
        "        # Load the model from the relevant checkpoint by index\n",
        "        model_for_this_checkpoint = HookedTransformer.from_pretrained(model_name, checkpoint_index=index, device=device)\n",
        "        checkpointed_models.append(model_for_this_checkpoint)\n",
        "\n",
        "        tokens_seen_for_this_checkpoint = model_for_this_checkpoint.cfg.checkpoint_value\n",
        "        tokens_trained_on.append(tokens_seen_for_this_checkpoint)\n",
        "\n",
        "        induction_loss_for_this_checkpoint = evals.induction_loss(model_for_this_checkpoint, device=device).item()\n",
        "        induction_losses.append(induction_loss_for_this_checkpoint)"
      ]
    },
    {
      "cell_type": "markdown",
      "metadata": {
        "id": "e1bt_FjvbRku"
      },
      "source": [
        "We can plot this, and see there's a sharp shift from ~200-500M tokens trained on (note the log scale on the x axis). Interestingly, this is notably earlier than the phase transition in the paper, I'm not sure what's up with that.\n",
        "\n",
        "(To contextualise the numbers, the tokens in the random sequence are uniformly chosen from the first 20,000 tokens (out of ~48,000 total), so random performance is at least $\\ln(20000)\\approx 10$. A naive strategy like \"randomly choose a token that's already appeared in the first half of the sequence (384 elements)\" would get $\\ln(384)\\approx 5.95$, so the model is doing pretty well here.)"
      ]
    },
    {
      "cell_type": "code",
      "execution_count": 60,
      "metadata": {
        "id": "lhwjuxc2bRku",
        "outputId": "53cc6dc7-5b06-4566-b233-6f90693fdef7"
      },
      "outputs": [
        {
          "data": {
            "text/html": [
              "<div>                            <div id=\"d1420b30-d496-4751-b2df-9f49d61bf008\" class=\"plotly-graph-div\" style=\"height:525px; width:100%;\"></div>            <script type=\"text/javascript\">                require([\"plotly\"], function(Plotly) {                    window.PLOTLYENV=window.PLOTLYENV || {};                                    if (document.getElementById(\"d1420b30-d496-4751-b2df-9f49d61bf008\")) {                    Plotly.newPlot(                        \"d1420b30-d496-4751-b2df-9f49d61bf008\",                        [{\"hovertemplate\":\"Tokens Trained On=%{x}\\u003cbr\\u003eindex=%{y}\\u003cextra\\u003e\\u003c\\u002fextra\\u003e\",\"legendgroup\":\"\",\"line\":{\"color\":\"#636efa\",\"dash\":\"solid\"},\"marker\":{\"symbol\":\"circle\"},\"mode\":\"lines+markers\",\"name\":\"\",\"orientation\":\"h\",\"showlegend\":false,\"x\":[22282240,187432960,528482304,1628438528,21780496384],\"xaxis\":\"x\",\"y\":[0,1,2,3,4],\"yaxis\":\"y\",\"type\":\"scatter\"}],                        {\"template\":{\"data\":{\"histogram2dcontour\":[{\"type\":\"histogram2dcontour\",\"colorbar\":{\"outlinewidth\":0,\"ticks\":\"\"},\"colorscale\":[[0.0,\"#0d0887\"],[0.1111111111111111,\"#46039f\"],[0.2222222222222222,\"#7201a8\"],[0.3333333333333333,\"#9c179e\"],[0.4444444444444444,\"#bd3786\"],[0.5555555555555556,\"#d8576b\"],[0.6666666666666666,\"#ed7953\"],[0.7777777777777778,\"#fb9f3a\"],[0.8888888888888888,\"#fdca26\"],[1.0,\"#f0f921\"]]}],\"choropleth\":[{\"type\":\"choropleth\",\"colorbar\":{\"outlinewidth\":0,\"ticks\":\"\"}}],\"histogram2d\":[{\"type\":\"histogram2d\",\"colorbar\":{\"outlinewidth\":0,\"ticks\":\"\"},\"colorscale\":[[0.0,\"#0d0887\"],[0.1111111111111111,\"#46039f\"],[0.2222222222222222,\"#7201a8\"],[0.3333333333333333,\"#9c179e\"],[0.4444444444444444,\"#bd3786\"],[0.5555555555555556,\"#d8576b\"],[0.6666666666666666,\"#ed7953\"],[0.7777777777777778,\"#fb9f3a\"],[0.8888888888888888,\"#fdca26\"],[1.0,\"#f0f921\"]]}],\"heatmap\":[{\"type\":\"heatmap\",\"colorbar\":{\"outlinewidth\":0,\"ticks\":\"\"},\"colorscale\":[[0.0,\"#0d0887\"],[0.1111111111111111,\"#46039f\"],[0.2222222222222222,\"#7201a8\"],[0.3333333333333333,\"#9c179e\"],[0.4444444444444444,\"#bd3786\"],[0.5555555555555556,\"#d8576b\"],[0.6666666666666666,\"#ed7953\"],[0.7777777777777778,\"#fb9f3a\"],[0.8888888888888888,\"#fdca26\"],[1.0,\"#f0f921\"]]}],\"heatmapgl\":[{\"type\":\"heatmapgl\",\"colorbar\":{\"outlinewidth\":0,\"ticks\":\"\"},\"colorscale\":[[0.0,\"#0d0887\"],[0.1111111111111111,\"#46039f\"],[0.2222222222222222,\"#7201a8\"],[0.3333333333333333,\"#9c179e\"],[0.4444444444444444,\"#bd3786\"],[0.5555555555555556,\"#d8576b\"],[0.6666666666666666,\"#ed7953\"],[0.7777777777777778,\"#fb9f3a\"],[0.8888888888888888,\"#fdca26\"],[1.0,\"#f0f921\"]]}],\"contourcarpet\":[{\"type\":\"contourcarpet\",\"colorbar\":{\"outlinewidth\":0,\"ticks\":\"\"}}],\"contour\":[{\"type\":\"contour\",\"colorbar\":{\"outlinewidth\":0,\"ticks\":\"\"},\"colorscale\":[[0.0,\"#0d0887\"],[0.1111111111111111,\"#46039f\"],[0.2222222222222222,\"#7201a8\"],[0.3333333333333333,\"#9c179e\"],[0.4444444444444444,\"#bd3786\"],[0.5555555555555556,\"#d8576b\"],[0.6666666666666666,\"#ed7953\"],[0.7777777777777778,\"#fb9f3a\"],[0.8888888888888888,\"#fdca26\"],[1.0,\"#f0f921\"]]}],\"surface\":[{\"type\":\"surface\",\"colorbar\":{\"outlinewidth\":0,\"ticks\":\"\"},\"colorscale\":[[0.0,\"#0d0887\"],[0.1111111111111111,\"#46039f\"],[0.2222222222222222,\"#7201a8\"],[0.3333333333333333,\"#9c179e\"],[0.4444444444444444,\"#bd3786\"],[0.5555555555555556,\"#d8576b\"],[0.6666666666666666,\"#ed7953\"],[0.7777777777777778,\"#fb9f3a\"],[0.8888888888888888,\"#fdca26\"],[1.0,\"#f0f921\"]]}],\"mesh3d\":[{\"type\":\"mesh3d\",\"colorbar\":{\"outlinewidth\":0,\"ticks\":\"\"}}],\"scatter\":[{\"fillpattern\":{\"fillmode\":\"overlay\",\"size\":10,\"solidity\":0.2},\"type\":\"scatter\"}],\"parcoords\":[{\"type\":\"parcoords\",\"line\":{\"colorbar\":{\"outlinewidth\":0,\"ticks\":\"\"}}}],\"scatterpolargl\":[{\"type\":\"scatterpolargl\",\"marker\":{\"colorbar\":{\"outlinewidth\":0,\"ticks\":\"\"}}}],\"bar\":[{\"error_x\":{\"color\":\"#2a3f5f\"},\"error_y\":{\"color\":\"#2a3f5f\"},\"marker\":{\"line\":{\"color\":\"#E5ECF6\",\"width\":0.5},\"pattern\":{\"fillmode\":\"overlay\",\"size\":10,\"solidity\":0.2}},\"type\":\"bar\"}],\"scattergeo\":[{\"type\":\"scattergeo\",\"marker\":{\"colorbar\":{\"outlinewidth\":0,\"ticks\":\"\"}}}],\"scatterpolar\":[{\"type\":\"scatterpolar\",\"marker\":{\"colorbar\":{\"outlinewidth\":0,\"ticks\":\"\"}}}],\"histogram\":[{\"marker\":{\"pattern\":{\"fillmode\":\"overlay\",\"size\":10,\"solidity\":0.2}},\"type\":\"histogram\"}],\"scattergl\":[{\"type\":\"scattergl\",\"marker\":{\"colorbar\":{\"outlinewidth\":0,\"ticks\":\"\"}}}],\"scatter3d\":[{\"type\":\"scatter3d\",\"line\":{\"colorbar\":{\"outlinewidth\":0,\"ticks\":\"\"}},\"marker\":{\"colorbar\":{\"outlinewidth\":0,\"ticks\":\"\"}}}],\"scattermapbox\":[{\"type\":\"scattermapbox\",\"marker\":{\"colorbar\":{\"outlinewidth\":0,\"ticks\":\"\"}}}],\"scatterternary\":[{\"type\":\"scatterternary\",\"marker\":{\"colorbar\":{\"outlinewidth\":0,\"ticks\":\"\"}}}],\"scattercarpet\":[{\"type\":\"scattercarpet\",\"marker\":{\"colorbar\":{\"outlinewidth\":0,\"ticks\":\"\"}}}],\"carpet\":[{\"aaxis\":{\"endlinecolor\":\"#2a3f5f\",\"gridcolor\":\"white\",\"linecolor\":\"white\",\"minorgridcolor\":\"white\",\"startlinecolor\":\"#2a3f5f\"},\"baxis\":{\"endlinecolor\":\"#2a3f5f\",\"gridcolor\":\"white\",\"linecolor\":\"white\",\"minorgridcolor\":\"white\",\"startlinecolor\":\"#2a3f5f\"},\"type\":\"carpet\"}],\"table\":[{\"cells\":{\"fill\":{\"color\":\"#EBF0F8\"},\"line\":{\"color\":\"white\"}},\"header\":{\"fill\":{\"color\":\"#C8D4E3\"},\"line\":{\"color\":\"white\"}},\"type\":\"table\"}],\"barpolar\":[{\"marker\":{\"line\":{\"color\":\"#E5ECF6\",\"width\":0.5},\"pattern\":{\"fillmode\":\"overlay\",\"size\":10,\"solidity\":0.2}},\"type\":\"barpolar\"}],\"pie\":[{\"automargin\":true,\"type\":\"pie\"}]},\"layout\":{\"autotypenumbers\":\"strict\",\"colorway\":[\"#636efa\",\"#EF553B\",\"#00cc96\",\"#ab63fa\",\"#FFA15A\",\"#19d3f3\",\"#FF6692\",\"#B6E880\",\"#FF97FF\",\"#FECB52\"],\"font\":{\"color\":\"#2a3f5f\"},\"hovermode\":\"closest\",\"hoverlabel\":{\"align\":\"left\"},\"paper_bgcolor\":\"white\",\"plot_bgcolor\":\"#E5ECF6\",\"polar\":{\"bgcolor\":\"#E5ECF6\",\"angularaxis\":{\"gridcolor\":\"white\",\"linecolor\":\"white\",\"ticks\":\"\"},\"radialaxis\":{\"gridcolor\":\"white\",\"linecolor\":\"white\",\"ticks\":\"\"}},\"ternary\":{\"bgcolor\":\"#E5ECF6\",\"aaxis\":{\"gridcolor\":\"white\",\"linecolor\":\"white\",\"ticks\":\"\"},\"baxis\":{\"gridcolor\":\"white\",\"linecolor\":\"white\",\"ticks\":\"\"},\"caxis\":{\"gridcolor\":\"white\",\"linecolor\":\"white\",\"ticks\":\"\"}},\"coloraxis\":{\"colorbar\":{\"outlinewidth\":0,\"ticks\":\"\"}},\"colorscale\":{\"sequential\":[[0.0,\"#0d0887\"],[0.1111111111111111,\"#46039f\"],[0.2222222222222222,\"#7201a8\"],[0.3333333333333333,\"#9c179e\"],[0.4444444444444444,\"#bd3786\"],[0.5555555555555556,\"#d8576b\"],[0.6666666666666666,\"#ed7953\"],[0.7777777777777778,\"#fb9f3a\"],[0.8888888888888888,\"#fdca26\"],[1.0,\"#f0f921\"]],\"sequentialminus\":[[0.0,\"#0d0887\"],[0.1111111111111111,\"#46039f\"],[0.2222222222222222,\"#7201a8\"],[0.3333333333333333,\"#9c179e\"],[0.4444444444444444,\"#bd3786\"],[0.5555555555555556,\"#d8576b\"],[0.6666666666666666,\"#ed7953\"],[0.7777777777777778,\"#fb9f3a\"],[0.8888888888888888,\"#fdca26\"],[1.0,\"#f0f921\"]],\"diverging\":[[0,\"#8e0152\"],[0.1,\"#c51b7d\"],[0.2,\"#de77ae\"],[0.3,\"#f1b6da\"],[0.4,\"#fde0ef\"],[0.5,\"#f7f7f7\"],[0.6,\"#e6f5d0\"],[0.7,\"#b8e186\"],[0.8,\"#7fbc41\"],[0.9,\"#4d9221\"],[1,\"#276419\"]]},\"xaxis\":{\"gridcolor\":\"white\",\"linecolor\":\"white\",\"ticks\":\"\",\"title\":{\"standoff\":15},\"zerolinecolor\":\"white\",\"automargin\":true,\"zerolinewidth\":2},\"yaxis\":{\"gridcolor\":\"white\",\"linecolor\":\"white\",\"ticks\":\"\",\"title\":{\"standoff\":15},\"zerolinecolor\":\"white\",\"automargin\":true,\"zerolinewidth\":2},\"scene\":{\"xaxis\":{\"backgroundcolor\":\"#E5ECF6\",\"gridcolor\":\"white\",\"linecolor\":\"white\",\"showbackground\":true,\"ticks\":\"\",\"zerolinecolor\":\"white\",\"gridwidth\":2},\"yaxis\":{\"backgroundcolor\":\"#E5ECF6\",\"gridcolor\":\"white\",\"linecolor\":\"white\",\"showbackground\":true,\"ticks\":\"\",\"zerolinecolor\":\"white\",\"gridwidth\":2},\"zaxis\":{\"backgroundcolor\":\"#E5ECF6\",\"gridcolor\":\"white\",\"linecolor\":\"white\",\"showbackground\":true,\"ticks\":\"\",\"zerolinecolor\":\"white\",\"gridwidth\":2}},\"shapedefaults\":{\"line\":{\"color\":\"#2a3f5f\"}},\"annotationdefaults\":{\"arrowcolor\":\"#2a3f5f\",\"arrowhead\":0,\"arrowwidth\":1},\"geo\":{\"bgcolor\":\"white\",\"landcolor\":\"#E5ECF6\",\"subunitcolor\":\"white\",\"showland\":true,\"showlakes\":true,\"lakecolor\":\"white\"},\"title\":{\"x\":0.05},\"mapbox\":{\"style\":\"light\"}}},\"xaxis\":{\"anchor\":\"y\",\"domain\":[0.0,1.0],\"title\":{\"text\":\"Tokens Trained On\"},\"type\":\"log\"},\"yaxis\":{\"anchor\":\"x\",\"domain\":[0.0,1.0],\"title\":{\"text\":\"index\"}},\"legend\":{\"tracegroupgap\":0},\"title\":{\"text\":\"Induction Loss over training: solu-2l\"}},                        {\"responsive\": true}                    ).then(function(){\n",
              "                            \n",
              "var gd = document.getElementById('d1420b30-d496-4751-b2df-9f49d61bf008');\n",
              "var x = new MutationObserver(function (mutations, observer) {{\n",
              "        var display = window.getComputedStyle(gd).display;\n",
              "        if (!display || display === 'none') {{\n",
              "            console.log([gd, 'removed!']);\n",
              "            Plotly.purge(gd);\n",
              "            observer.disconnect();\n",
              "        }}\n",
              "}});\n",
              "\n",
              "// Listen for the removal of the full notebook cells\n",
              "var notebookContainer = gd.closest('#notebook-container');\n",
              "if (notebookContainer) {{\n",
              "    x.observe(notebookContainer, {childList: true});\n",
              "}}\n",
              "\n",
              "// Listen for the clearing of the current output cell\n",
              "var outputEl = gd.closest('.output');\n",
              "if (outputEl) {{\n",
              "    x.observe(outputEl, {childList: true});\n",
              "}}\n",
              "\n",
              "                        })                };                });            </script>        </div>"
            ]
          },
          "metadata": {},
          "output_type": "display_data"
        }
      ],
      "source": [
        "line(induction_losses, x=tokens_trained_on, xaxis=\"Tokens Trained On\", yaxis=\"Induction Loss\", title=\"Induction Loss over training: solu-2l\", markers=True, log_x=True)"
      ]
    }
  ],
  "metadata": {
    "accelerator": "GPU",
    "colab": {
      "gpuType": "T4",
      "provenance": []
    },
    "kernelspec": {
      "display_name": "Python 3",
      "name": "python3"
    },
    "language_info": {
      "codemirror_mode": {
        "name": "ipython",
        "version": 3
      },
      "file_extension": ".py",
      "mimetype": "text/x-python",
      "name": "python",
      "nbconvert_exporter": "python",
      "pygments_lexer": "ipython3",
      "version": "3.11.9"
    },
    "orig_nbformat": 4,
    "vscode": {
      "interpreter": {
        "hash": "eb812820b5094695c8a581672e17220e30dd2c15d704c018326e3cc2e1a566f1"
      }
    },
    "widgets": {
      "application/vnd.jupyter.widget-state+json": {
        "00140e12a26b40a0b72faa2ac6826248": {
          "model_module": "@jupyter-widgets/controls",
          "model_module_version": "1.5.0",
          "model_name": "FloatProgressModel",
          "state": {
            "_dom_classes": [],
            "_model_module": "@jupyter-widgets/controls",
            "_model_module_version": "1.5.0",
            "_model_name": "FloatProgressModel",
            "_view_count": null,
            "_view_module": "@jupyter-widgets/controls",
            "_view_module_version": "1.5.0",
            "_view_name": "ProgressView",
            "bar_style": "success",
            "description": "",
            "description_tooltip": null,
            "layout": "IPY_MODEL_ae0cf2774fde46bf9f970b10007db87c",
            "max": 456318,
            "min": 0,
            "orientation": "horizontal",
            "style": "IPY_MODEL_48ebc3da72eb44ac8f2af5800c1f1dcb",
            "value": 456318
          }
        },
        "03d47b90327e4fdd9985e48fcdae8e25": {
          "model_module": "@jupyter-widgets/controls",
          "model_module_version": "1.5.0",
          "model_name": "FloatProgressModel",
          "state": {
            "_dom_classes": [],
            "_model_module": "@jupyter-widgets/controls",
            "_model_module_version": "1.5.0",
            "_model_name": "FloatProgressModel",
            "_view_count": null,
            "_view_module": "@jupyter-widgets/controls",
            "_view_module_version": "1.5.0",
            "_view_name": "ProgressView",
            "bar_style": "success",
            "description": "",
            "description_tooltip": null,
            "layout": "IPY_MODEL_f2ad8c7d2ed64e808cd6ed587643d234",
            "max": 1042301,
            "min": 0,
            "orientation": "horizontal",
            "style": "IPY_MODEL_41d991faadee46e3bc547acf4bbd4830",
            "value": 1042301
          }
        },
        "0561f377fb504d1a9022116b29228e1f": {
          "model_module": "@jupyter-widgets/controls",
          "model_module_version": "1.5.0",
          "model_name": "HBoxModel",
          "state": {
            "_dom_classes": [],
            "_model_module": "@jupyter-widgets/controls",
            "_model_module_version": "1.5.0",
            "_model_name": "HBoxModel",
            "_view_count": null,
            "_view_module": "@jupyter-widgets/controls",
            "_view_module_version": "1.5.0",
            "_view_name": "HBoxView",
            "box_style": "",
            "children": [
              "IPY_MODEL_ee9aaa3201404ceeb0c4e0218720cbfb",
              "IPY_MODEL_909c23e863a54ddc980a0a36daabab40",
              "IPY_MODEL_ebeba379e63c455dbf5df4c6bffd6b00"
            ],
            "layout": "IPY_MODEL_38cc002474384348b33e2e82c0d90eea"
          }
        },
        "06e86995a9544e5abb1284c381ac0473": {
          "model_module": "@jupyter-widgets/base",
          "model_module_version": "1.2.0",
          "model_name": "LayoutModel",
          "state": {
            "_model_module": "@jupyter-widgets/base",
            "_model_module_version": "1.2.0",
            "_model_name": "LayoutModel",
            "_view_count": null,
            "_view_module": "@jupyter-widgets/base",
            "_view_module_version": "1.2.0",
            "_view_name": "LayoutView",
            "align_content": null,
            "align_items": null,
            "align_self": null,
            "border": null,
            "bottom": null,
            "display": null,
            "flex": null,
            "flex_flow": null,
            "grid_area": null,
            "grid_auto_columns": null,
            "grid_auto_flow": null,
            "grid_auto_rows": null,
            "grid_column": null,
            "grid_gap": null,
            "grid_row": null,
            "grid_template_areas": null,
            "grid_template_columns": null,
            "grid_template_rows": null,
            "height": null,
            "justify_content": null,
            "justify_items": null,
            "left": null,
            "margin": null,
            "max_height": null,
            "max_width": null,
            "min_height": null,
            "min_width": null,
            "object_fit": null,
            "object_position": null,
            "order": null,
            "overflow": null,
            "overflow_x": null,
            "overflow_y": null,
            "padding": null,
            "right": null,
            "top": null,
            "visibility": null,
            "width": null
          }
        },
        "0d701fc7e6284132ba8d87ac9d2a6308": {
          "model_module": "@jupyter-widgets/controls",
          "model_module_version": "1.5.0",
          "model_name": "HTMLModel",
          "state": {
            "_dom_classes": [],
            "_model_module": "@jupyter-widgets/controls",
            "_model_module_version": "1.5.0",
            "_model_name": "HTMLModel",
            "_view_count": null,
            "_view_module": "@jupyter-widgets/controls",
            "_view_module_version": "1.5.0",
            "_view_name": "HTMLView",
            "description": "",
            "description_tooltip": null,
            "layout": "IPY_MODEL_96f1137137514b50a5681b9abf2bd52a",
            "placeholder": "​",
            "style": "IPY_MODEL_da614f89f3a744c0991424e655053c46",
            "value": " 665/665 [00:00&lt;00:00, 12.5kB/s]"
          }
        },
        "0ddfbc2efa0b4e708bfcfd3e4f18671e": {
          "model_module": "@jupyter-widgets/base",
          "model_module_version": "1.2.0",
          "model_name": "LayoutModel",
          "state": {
            "_model_module": "@jupyter-widgets/base",
            "_model_module_version": "1.2.0",
            "_model_name": "LayoutModel",
            "_view_count": null,
            "_view_module": "@jupyter-widgets/base",
            "_view_module_version": "1.2.0",
            "_view_name": "LayoutView",
            "align_content": null,
            "align_items": null,
            "align_self": null,
            "border": null,
            "bottom": null,
            "display": null,
            "flex": null,
            "flex_flow": null,
            "grid_area": null,
            "grid_auto_columns": null,
            "grid_auto_flow": null,
            "grid_auto_rows": null,
            "grid_column": null,
            "grid_gap": null,
            "grid_row": null,
            "grid_template_areas": null,
            "grid_template_columns": null,
            "grid_template_rows": null,
            "height": null,
            "justify_content": null,
            "justify_items": null,
            "left": null,
            "margin": null,
            "max_height": null,
            "max_width": null,
            "min_height": null,
            "min_width": null,
            "object_fit": null,
            "object_position": null,
            "order": null,
            "overflow": null,
            "overflow_x": null,
            "overflow_y": null,
            "padding": null,
            "right": null,
            "top": null,
            "visibility": null,
            "width": null
          }
        },
        "11d04f97937f49599add9052707ba4c3": {
          "model_module": "@jupyter-widgets/controls",
          "model_module_version": "1.5.0",
          "model_name": "HBoxModel",
          "state": {
            "_dom_classes": [],
            "_model_module": "@jupyter-widgets/controls",
            "_model_module_version": "1.5.0",
            "_model_name": "HBoxModel",
            "_view_count": null,
            "_view_module": "@jupyter-widgets/controls",
            "_view_module_version": "1.5.0",
            "_view_name": "HBoxView",
            "box_style": "",
            "children": [
              "IPY_MODEL_4796ccd2bafa433a9af50de02fe6c78d",
              "IPY_MODEL_03d47b90327e4fdd9985e48fcdae8e25",
              "IPY_MODEL_60fe3118c48541f9a36da1bee0fe160d"
            ],
            "layout": "IPY_MODEL_2b6f8aff3ef54f13b4dfb8ea872549a6"
          }
        },
        "1452f3c0bd2d4cd5995718e40f27fde7": {
          "model_module": "@jupyter-widgets/base",
          "model_module_version": "1.2.0",
          "model_name": "LayoutModel",
          "state": {
            "_model_module": "@jupyter-widgets/base",
            "_model_module_version": "1.2.0",
            "_model_name": "LayoutModel",
            "_view_count": null,
            "_view_module": "@jupyter-widgets/base",
            "_view_module_version": "1.2.0",
            "_view_name": "LayoutView",
            "align_content": null,
            "align_items": null,
            "align_self": null,
            "border": null,
            "bottom": null,
            "display": null,
            "flex": null,
            "flex_flow": null,
            "grid_area": null,
            "grid_auto_columns": null,
            "grid_auto_flow": null,
            "grid_auto_rows": null,
            "grid_column": null,
            "grid_gap": null,
            "grid_row": null,
            "grid_template_areas": null,
            "grid_template_columns": null,
            "grid_template_rows": null,
            "height": null,
            "justify_content": null,
            "justify_items": null,
            "left": null,
            "margin": null,
            "max_height": null,
            "max_width": null,
            "min_height": null,
            "min_width": null,
            "object_fit": null,
            "object_position": null,
            "order": null,
            "overflow": null,
            "overflow_x": null,
            "overflow_y": null,
            "padding": null,
            "right": null,
            "top": null,
            "visibility": null,
            "width": null
          }
        },
        "192f3d55486840079c64781abdfec658": {
          "model_module": "@jupyter-widgets/controls",
          "model_module_version": "1.5.0",
          "model_name": "ProgressStyleModel",
          "state": {
            "_model_module": "@jupyter-widgets/controls",
            "_model_module_version": "1.5.0",
            "_model_name": "ProgressStyleModel",
            "_view_count": null,
            "_view_module": "@jupyter-widgets/base",
            "_view_module_version": "1.2.0",
            "_view_name": "StyleView",
            "bar_color": null,
            "description_width": ""
          }
        },
        "2344bb856de24fde847248e7357327e5": {
          "model_module": "@jupyter-widgets/base",
          "model_module_version": "1.2.0",
          "model_name": "LayoutModel",
          "state": {
            "_model_module": "@jupyter-widgets/base",
            "_model_module_version": "1.2.0",
            "_model_name": "LayoutModel",
            "_view_count": null,
            "_view_module": "@jupyter-widgets/base",
            "_view_module_version": "1.2.0",
            "_view_name": "LayoutView",
            "align_content": null,
            "align_items": null,
            "align_self": null,
            "border": null,
            "bottom": null,
            "display": null,
            "flex": null,
            "flex_flow": null,
            "grid_area": null,
            "grid_auto_columns": null,
            "grid_auto_flow": null,
            "grid_auto_rows": null,
            "grid_column": null,
            "grid_gap": null,
            "grid_row": null,
            "grid_template_areas": null,
            "grid_template_columns": null,
            "grid_template_rows": null,
            "height": null,
            "justify_content": null,
            "justify_items": null,
            "left": null,
            "margin": null,
            "max_height": null,
            "max_width": null,
            "min_height": null,
            "min_width": null,
            "object_fit": null,
            "object_position": null,
            "order": null,
            "overflow": null,
            "overflow_x": null,
            "overflow_y": null,
            "padding": null,
            "right": null,
            "top": null,
            "visibility": null,
            "width": null
          }
        },
        "25725301769c4ed4beca437f73a860f0": {
          "model_module": "@jupyter-widgets/controls",
          "model_module_version": "1.5.0",
          "model_name": "FloatProgressModel",
          "state": {
            "_dom_classes": [],
            "_model_module": "@jupyter-widgets/controls",
            "_model_module_version": "1.5.0",
            "_model_name": "FloatProgressModel",
            "_view_count": null,
            "_view_module": "@jupyter-widgets/controls",
            "_view_module_version": "1.5.0",
            "_view_name": "ProgressView",
            "bar_style": "success",
            "description": "",
            "description_tooltip": null,
            "layout": "IPY_MODEL_2e9f9ff2e4c648939a3d5b4ab6561529",
            "max": 548105171,
            "min": 0,
            "orientation": "horizontal",
            "style": "IPY_MODEL_76c249a6339d4c1ea066e06b6067c4a9",
            "value": 548105171
          }
        },
        "2872176dc7664548b137082ce36104a7": {
          "model_module": "@jupyter-widgets/controls",
          "model_module_version": "1.5.0",
          "model_name": "HTMLModel",
          "state": {
            "_dom_classes": [],
            "_model_module": "@jupyter-widgets/controls",
            "_model_module_version": "1.5.0",
            "_model_name": "HTMLModel",
            "_view_count": null,
            "_view_module": "@jupyter-widgets/controls",
            "_view_module_version": "1.5.0",
            "_view_name": "HTMLView",
            "description": "",
            "description_tooltip": null,
            "layout": "IPY_MODEL_d13786462f5d418f9a7cfcebfa5bfa76",
            "placeholder": "​",
            "style": "IPY_MODEL_79049b6f2aee43e788e447ce577c2299",
            "value": "tokenizer.json: 100%"
          }
        },
        "2b6f8aff3ef54f13b4dfb8ea872549a6": {
          "model_module": "@jupyter-widgets/base",
          "model_module_version": "1.2.0",
          "model_name": "LayoutModel",
          "state": {
            "_model_module": "@jupyter-widgets/base",
            "_model_module_version": "1.2.0",
            "_model_name": "LayoutModel",
            "_view_count": null,
            "_view_module": "@jupyter-widgets/base",
            "_view_module_version": "1.2.0",
            "_view_name": "LayoutView",
            "align_content": null,
            "align_items": null,
            "align_self": null,
            "border": null,
            "bottom": null,
            "display": null,
            "flex": null,
            "flex_flow": null,
            "grid_area": null,
            "grid_auto_columns": null,
            "grid_auto_flow": null,
            "grid_auto_rows": null,
            "grid_column": null,
            "grid_gap": null,
            "grid_row": null,
            "grid_template_areas": null,
            "grid_template_columns": null,
            "grid_template_rows": null,
            "height": null,
            "justify_content": null,
            "justify_items": null,
            "left": null,
            "margin": null,
            "max_height": null,
            "max_width": null,
            "min_height": null,
            "min_width": null,
            "object_fit": null,
            "object_position": null,
            "order": null,
            "overflow": null,
            "overflow_x": null,
            "overflow_y": null,
            "padding": null,
            "right": null,
            "top": null,
            "visibility": null,
            "width": null
          }
        },
        "2e9f9ff2e4c648939a3d5b4ab6561529": {
          "model_module": "@jupyter-widgets/base",
          "model_module_version": "1.2.0",
          "model_name": "LayoutModel",
          "state": {
            "_model_module": "@jupyter-widgets/base",
            "_model_module_version": "1.2.0",
            "_model_name": "LayoutModel",
            "_view_count": null,
            "_view_module": "@jupyter-widgets/base",
            "_view_module_version": "1.2.0",
            "_view_name": "LayoutView",
            "align_content": null,
            "align_items": null,
            "align_self": null,
            "border": null,
            "bottom": null,
            "display": null,
            "flex": null,
            "flex_flow": null,
            "grid_area": null,
            "grid_auto_columns": null,
            "grid_auto_flow": null,
            "grid_auto_rows": null,
            "grid_column": null,
            "grid_gap": null,
            "grid_row": null,
            "grid_template_areas": null,
            "grid_template_columns": null,
            "grid_template_rows": null,
            "height": null,
            "justify_content": null,
            "justify_items": null,
            "left": null,
            "margin": null,
            "max_height": null,
            "max_width": null,
            "min_height": null,
            "min_width": null,
            "object_fit": null,
            "object_position": null,
            "order": null,
            "overflow": null,
            "overflow_x": null,
            "overflow_y": null,
            "padding": null,
            "right": null,
            "top": null,
            "visibility": null,
            "width": null
          }
        },
        "38cc002474384348b33e2e82c0d90eea": {
          "model_module": "@jupyter-widgets/base",
          "model_module_version": "1.2.0",
          "model_name": "LayoutModel",
          "state": {
            "_model_module": "@jupyter-widgets/base",
            "_model_module_version": "1.2.0",
            "_model_name": "LayoutModel",
            "_view_count": null,
            "_view_module": "@jupyter-widgets/base",
            "_view_module_version": "1.2.0",
            "_view_name": "LayoutView",
            "align_content": null,
            "align_items": null,
            "align_self": null,
            "border": null,
            "bottom": null,
            "display": null,
            "flex": null,
            "flex_flow": null,
            "grid_area": null,
            "grid_auto_columns": null,
            "grid_auto_flow": null,
            "grid_auto_rows": null,
            "grid_column": null,
            "grid_gap": null,
            "grid_row": null,
            "grid_template_areas": null,
            "grid_template_columns": null,
            "grid_template_rows": null,
            "height": null,
            "justify_content": null,
            "justify_items": null,
            "left": null,
            "margin": null,
            "max_height": null,
            "max_width": null,
            "min_height": null,
            "min_width": null,
            "object_fit": null,
            "object_position": null,
            "order": null,
            "overflow": null,
            "overflow_x": null,
            "overflow_y": null,
            "padding": null,
            "right": null,
            "top": null,
            "visibility": null,
            "width": null
          }
        },
        "3e63f9dc7745403c93fc7a68171bd861": {
          "model_module": "@jupyter-widgets/controls",
          "model_module_version": "1.5.0",
          "model_name": "HTMLModel",
          "state": {
            "_dom_classes": [],
            "_model_module": "@jupyter-widgets/controls",
            "_model_module_version": "1.5.0",
            "_model_name": "HTMLModel",
            "_view_count": null,
            "_view_module": "@jupyter-widgets/controls",
            "_view_module_version": "1.5.0",
            "_view_name": "HTMLView",
            "description": "",
            "description_tooltip": null,
            "layout": "IPY_MODEL_70922681ed1d4a119a71dba2ae3efd82",
            "placeholder": "​",
            "style": "IPY_MODEL_feca77f950bf45d0a9408d50e645da70",
            "value": " 1.36M/1.36M [00:00&lt;00:00, 7.30MB/s]"
          }
        },
        "3fd6935cb01f41c3868854c13580b888": {
          "model_module": "@jupyter-widgets/base",
          "model_module_version": "1.2.0",
          "model_name": "LayoutModel",
          "state": {
            "_model_module": "@jupyter-widgets/base",
            "_model_module_version": "1.2.0",
            "_model_name": "LayoutModel",
            "_view_count": null,
            "_view_module": "@jupyter-widgets/base",
            "_view_module_version": "1.2.0",
            "_view_name": "LayoutView",
            "align_content": null,
            "align_items": null,
            "align_self": null,
            "border": null,
            "bottom": null,
            "display": null,
            "flex": null,
            "flex_flow": null,
            "grid_area": null,
            "grid_auto_columns": null,
            "grid_auto_flow": null,
            "grid_auto_rows": null,
            "grid_column": null,
            "grid_gap": null,
            "grid_row": null,
            "grid_template_areas": null,
            "grid_template_columns": null,
            "grid_template_rows": null,
            "height": null,
            "justify_content": null,
            "justify_items": null,
            "left": null,
            "margin": null,
            "max_height": null,
            "max_width": null,
            "min_height": null,
            "min_width": null,
            "object_fit": null,
            "object_position": null,
            "order": null,
            "overflow": null,
            "overflow_x": null,
            "overflow_y": null,
            "padding": null,
            "right": null,
            "top": null,
            "visibility": null,
            "width": null
          }
        },
        "4010626477de4b7584a97c9b9991cc4b": {
          "model_module": "@jupyter-widgets/controls",
          "model_module_version": "1.5.0",
          "model_name": "ProgressStyleModel",
          "state": {
            "_model_module": "@jupyter-widgets/controls",
            "_model_module_version": "1.5.0",
            "_model_name": "ProgressStyleModel",
            "_view_count": null,
            "_view_module": "@jupyter-widgets/base",
            "_view_module_version": "1.2.0",
            "_view_name": "StyleView",
            "bar_color": null,
            "description_width": ""
          }
        },
        "41d991faadee46e3bc547acf4bbd4830": {
          "model_module": "@jupyter-widgets/controls",
          "model_module_version": "1.5.0",
          "model_name": "ProgressStyleModel",
          "state": {
            "_model_module": "@jupyter-widgets/controls",
            "_model_module_version": "1.5.0",
            "_model_name": "ProgressStyleModel",
            "_view_count": null,
            "_view_module": "@jupyter-widgets/base",
            "_view_module_version": "1.2.0",
            "_view_name": "StyleView",
            "bar_color": null,
            "description_width": ""
          }
        },
        "43394f0c79124317a9a5804e20de8d11": {
          "model_module": "@jupyter-widgets/controls",
          "model_module_version": "1.5.0",
          "model_name": "ProgressStyleModel",
          "state": {
            "_model_module": "@jupyter-widgets/controls",
            "_model_module_version": "1.5.0",
            "_model_name": "ProgressStyleModel",
            "_view_count": null,
            "_view_module": "@jupyter-widgets/base",
            "_view_module_version": "1.2.0",
            "_view_name": "StyleView",
            "bar_color": null,
            "description_width": ""
          }
        },
        "451cc91bbd2940c782d5197bf53667dc": {
          "model_module": "@jupyter-widgets/controls",
          "model_module_version": "1.5.0",
          "model_name": "DescriptionStyleModel",
          "state": {
            "_model_module": "@jupyter-widgets/controls",
            "_model_module_version": "1.5.0",
            "_model_name": "DescriptionStyleModel",
            "_view_count": null,
            "_view_module": "@jupyter-widgets/base",
            "_view_module_version": "1.2.0",
            "_view_name": "StyleView",
            "description_width": ""
          }
        },
        "455ec39384fe4a5fb42911ee84a6043e": {
          "model_module": "@jupyter-widgets/controls",
          "model_module_version": "1.5.0",
          "model_name": "HBoxModel",
          "state": {
            "_dom_classes": [],
            "_model_module": "@jupyter-widgets/controls",
            "_model_module_version": "1.5.0",
            "_model_name": "HBoxModel",
            "_view_count": null,
            "_view_module": "@jupyter-widgets/controls",
            "_view_module_version": "1.5.0",
            "_view_name": "HBoxView",
            "box_style": "",
            "children": [
              "IPY_MODEL_a74b6c1ae41b4d71b3ad2e22dd4e67da",
              "IPY_MODEL_4e3a301b5d064f84a53abe6ce65fde98",
              "IPY_MODEL_6560c262d86f49ba9b04ea48e8d96d6f"
            ],
            "layout": "IPY_MODEL_c3d60de08edd493a8f07eb3c9d9ff0ec"
          }
        },
        "46f66b4293ab4213846d974ac17e2d29": {
          "model_module": "@jupyter-widgets/controls",
          "model_module_version": "1.5.0",
          "model_name": "HTMLModel",
          "state": {
            "_dom_classes": [],
            "_model_module": "@jupyter-widgets/controls",
            "_model_module_version": "1.5.0",
            "_model_name": "HTMLModel",
            "_view_count": null,
            "_view_module": "@jupyter-widgets/controls",
            "_view_module_version": "1.5.0",
            "_view_name": "HTMLView",
            "description": "",
            "description_tooltip": null,
            "layout": "IPY_MODEL_bc1b09a276814b779ab7d40f7a2a4252",
            "placeholder": "​",
            "style": "IPY_MODEL_e2e8ffdc58a244e298a784d7292b5329",
            "value": "model.safetensors: 100%"
          }
        },
        "4796ccd2bafa433a9af50de02fe6c78d": {
          "model_module": "@jupyter-widgets/controls",
          "model_module_version": "1.5.0",
          "model_name": "HTMLModel",
          "state": {
            "_dom_classes": [],
            "_model_module": "@jupyter-widgets/controls",
            "_model_module_version": "1.5.0",
            "_model_name": "HTMLModel",
            "_view_count": null,
            "_view_module": "@jupyter-widgets/controls",
            "_view_module_version": "1.5.0",
            "_view_name": "HTMLView",
            "description": "",
            "description_tooltip": null,
            "layout": "IPY_MODEL_a7b6ab7755de44d2a0b076cf79857c3d",
            "placeholder": "​",
            "style": "IPY_MODEL_acb15e9f757f458dab15cfd52092fa2e",
            "value": "vocab.json: 100%"
          }
        },
        "48ebc3da72eb44ac8f2af5800c1f1dcb": {
          "model_module": "@jupyter-widgets/controls",
          "model_module_version": "1.5.0",
          "model_name": "ProgressStyleModel",
          "state": {
            "_model_module": "@jupyter-widgets/controls",
            "_model_module_version": "1.5.0",
            "_model_name": "ProgressStyleModel",
            "_view_count": null,
            "_view_module": "@jupyter-widgets/base",
            "_view_module_version": "1.2.0",
            "_view_name": "StyleView",
            "bar_color": null,
            "description_width": ""
          }
        },
        "4e3a301b5d064f84a53abe6ce65fde98": {
          "model_module": "@jupyter-widgets/controls",
          "model_module_version": "1.5.0",
          "model_name": "FloatProgressModel",
          "state": {
            "_dom_classes": [],
            "_model_module": "@jupyter-widgets/controls",
            "_model_module_version": "1.5.0",
            "_model_name": "FloatProgressModel",
            "_view_count": null,
            "_view_module": "@jupyter-widgets/controls",
            "_view_module_version": "1.5.0",
            "_view_name": "ProgressView",
            "bar_style": "success",
            "description": "",
            "description_tooltip": null,
            "layout": "IPY_MODEL_0ddfbc2efa0b4e708bfcfd3e4f18671e",
            "max": 124,
            "min": 0,
            "orientation": "horizontal",
            "style": "IPY_MODEL_de932a5df085404aa87bc7b14291eb21",
            "value": 124
          }
        },
        "514ec6eccc1a4c589252ca41fc9e166d": {
          "model_module": "@jupyter-widgets/base",
          "model_module_version": "1.2.0",
          "model_name": "LayoutModel",
          "state": {
            "_model_module": "@jupyter-widgets/base",
            "_model_module_version": "1.2.0",
            "_model_name": "LayoutModel",
            "_view_count": null,
            "_view_module": "@jupyter-widgets/base",
            "_view_module_version": "1.2.0",
            "_view_name": "LayoutView",
            "align_content": null,
            "align_items": null,
            "align_self": null,
            "border": null,
            "bottom": null,
            "display": null,
            "flex": null,
            "flex_flow": null,
            "grid_area": null,
            "grid_auto_columns": null,
            "grid_auto_flow": null,
            "grid_auto_rows": null,
            "grid_column": null,
            "grid_gap": null,
            "grid_row": null,
            "grid_template_areas": null,
            "grid_template_columns": null,
            "grid_template_rows": null,
            "height": null,
            "justify_content": null,
            "justify_items": null,
            "left": null,
            "margin": null,
            "max_height": null,
            "max_width": null,
            "min_height": null,
            "min_width": null,
            "object_fit": null,
            "object_position": null,
            "order": null,
            "overflow": null,
            "overflow_x": null,
            "overflow_y": null,
            "padding": null,
            "right": null,
            "top": null,
            "visibility": null,
            "width": null
          }
        },
        "53dcaa7de1ec4e7eae667aef05ce45e6": {
          "model_module": "@jupyter-widgets/controls",
          "model_module_version": "1.5.0",
          "model_name": "FloatProgressModel",
          "state": {
            "_dom_classes": [],
            "_model_module": "@jupyter-widgets/controls",
            "_model_module_version": "1.5.0",
            "_model_name": "FloatProgressModel",
            "_view_count": null,
            "_view_module": "@jupyter-widgets/controls",
            "_view_module_version": "1.5.0",
            "_view_name": "ProgressView",
            "bar_style": "success",
            "description": "",
            "description_tooltip": null,
            "layout": "IPY_MODEL_fab84b2560214155b0c61ff40a05b8ef",
            "max": 1355256,
            "min": 0,
            "orientation": "horizontal",
            "style": "IPY_MODEL_43394f0c79124317a9a5804e20de8d11",
            "value": 1355256
          }
        },
        "5c2b46eee6e44247a54d104737a81900": {
          "model_module": "@jupyter-widgets/controls",
          "model_module_version": "1.5.0",
          "model_name": "HTMLModel",
          "state": {
            "_dom_classes": [],
            "_model_module": "@jupyter-widgets/controls",
            "_model_module_version": "1.5.0",
            "_model_name": "HTMLModel",
            "_view_count": null,
            "_view_module": "@jupyter-widgets/controls",
            "_view_module_version": "1.5.0",
            "_view_name": "HTMLView",
            "description": "",
            "description_tooltip": null,
            "layout": "IPY_MODEL_a629324eccc7408ab2ae97f430e1f71d",
            "placeholder": "​",
            "style": "IPY_MODEL_bd48ae00fea9432681dae469dc5e5d7e",
            "value": " 456k/456k [00:00&lt;00:00, 7.12MB/s]"
          }
        },
        "609e102f4a2941cfa88e03c9a746e014": {
          "model_module": "@jupyter-widgets/base",
          "model_module_version": "1.2.0",
          "model_name": "LayoutModel",
          "state": {
            "_model_module": "@jupyter-widgets/base",
            "_model_module_version": "1.2.0",
            "_model_name": "LayoutModel",
            "_view_count": null,
            "_view_module": "@jupyter-widgets/base",
            "_view_module_version": "1.2.0",
            "_view_name": "LayoutView",
            "align_content": null,
            "align_items": null,
            "align_self": null,
            "border": null,
            "bottom": null,
            "display": null,
            "flex": null,
            "flex_flow": null,
            "grid_area": null,
            "grid_auto_columns": null,
            "grid_auto_flow": null,
            "grid_auto_rows": null,
            "grid_column": null,
            "grid_gap": null,
            "grid_row": null,
            "grid_template_areas": null,
            "grid_template_columns": null,
            "grid_template_rows": null,
            "height": null,
            "justify_content": null,
            "justify_items": null,
            "left": null,
            "margin": null,
            "max_height": null,
            "max_width": null,
            "min_height": null,
            "min_width": null,
            "object_fit": null,
            "object_position": null,
            "order": null,
            "overflow": null,
            "overflow_x": null,
            "overflow_y": null,
            "padding": null,
            "right": null,
            "top": null,
            "visibility": null,
            "width": null
          }
        },
        "60fe3118c48541f9a36da1bee0fe160d": {
          "model_module": "@jupyter-widgets/controls",
          "model_module_version": "1.5.0",
          "model_name": "HTMLModel",
          "state": {
            "_dom_classes": [],
            "_model_module": "@jupyter-widgets/controls",
            "_model_module_version": "1.5.0",
            "_model_name": "HTMLModel",
            "_view_count": null,
            "_view_module": "@jupyter-widgets/controls",
            "_view_module_version": "1.5.0",
            "_view_name": "HTMLView",
            "description": "",
            "description_tooltip": null,
            "layout": "IPY_MODEL_2344bb856de24fde847248e7357327e5",
            "placeholder": "​",
            "style": "IPY_MODEL_d8d302937fb847f0bf2a53e41cae34b3",
            "value": " 1.04M/1.04M [00:00&lt;00:00, 5.99MB/s]"
          }
        },
        "6366c14586ae45148768493fefdcd5da": {
          "model_module": "@jupyter-widgets/controls",
          "model_module_version": "1.5.0",
          "model_name": "HBoxModel",
          "state": {
            "_dom_classes": [],
            "_model_module": "@jupyter-widgets/controls",
            "_model_module_version": "1.5.0",
            "_model_name": "HBoxModel",
            "_view_count": null,
            "_view_module": "@jupyter-widgets/controls",
            "_view_module_version": "1.5.0",
            "_view_name": "HBoxView",
            "box_style": "",
            "children": [
              "IPY_MODEL_78b2901343bc4a4f979e4c6c40dba9c3",
              "IPY_MODEL_00140e12a26b40a0b72faa2ac6826248",
              "IPY_MODEL_5c2b46eee6e44247a54d104737a81900"
            ],
            "layout": "IPY_MODEL_3fd6935cb01f41c3868854c13580b888"
          }
        },
        "6560c262d86f49ba9b04ea48e8d96d6f": {
          "model_module": "@jupyter-widgets/controls",
          "model_module_version": "1.5.0",
          "model_name": "HTMLModel",
          "state": {
            "_dom_classes": [],
            "_model_module": "@jupyter-widgets/controls",
            "_model_module_version": "1.5.0",
            "_model_name": "HTMLModel",
            "_view_count": null,
            "_view_module": "@jupyter-widgets/controls",
            "_view_module_version": "1.5.0",
            "_view_name": "HTMLView",
            "description": "",
            "description_tooltip": null,
            "layout": "IPY_MODEL_caf5ad38bfd647fb867bd4e7958bd900",
            "placeholder": "​",
            "style": "IPY_MODEL_d1569561995f4bb2bcec020fd3330ca4",
            "value": " 124/124 [00:00&lt;00:00, 3.23kB/s]"
          }
        },
        "697029b4409b43bca8f3172f69da401c": {
          "model_module": "@jupyter-widgets/controls",
          "model_module_version": "1.5.0",
          "model_name": "HBoxModel",
          "state": {
            "_dom_classes": [],
            "_model_module": "@jupyter-widgets/controls",
            "_model_module_version": "1.5.0",
            "_model_name": "HBoxModel",
            "_view_count": null,
            "_view_module": "@jupyter-widgets/controls",
            "_view_module_version": "1.5.0",
            "_view_name": "HBoxView",
            "box_style": "",
            "children": [
              "IPY_MODEL_ef5e3d8a9bc0496ab4ad1c4ada942206",
              "IPY_MODEL_ea8ffd96454b4d96ab332522420e5220",
              "IPY_MODEL_0d701fc7e6284132ba8d87ac9d2a6308"
            ],
            "layout": "IPY_MODEL_06e86995a9544e5abb1284c381ac0473"
          }
        },
        "69b214040a914aa09e470fc15b638fad": {
          "model_module": "@jupyter-widgets/controls",
          "model_module_version": "1.5.0",
          "model_name": "HBoxModel",
          "state": {
            "_dom_classes": [],
            "_model_module": "@jupyter-widgets/controls",
            "_model_module_version": "1.5.0",
            "_model_name": "HBoxModel",
            "_view_count": null,
            "_view_module": "@jupyter-widgets/controls",
            "_view_module_version": "1.5.0",
            "_view_name": "HBoxView",
            "box_style": "",
            "children": [
              "IPY_MODEL_46f66b4293ab4213846d974ac17e2d29",
              "IPY_MODEL_25725301769c4ed4beca437f73a860f0",
              "IPY_MODEL_7d996e6a43544bfea4d81206f9ed5341"
            ],
            "layout": "IPY_MODEL_514ec6eccc1a4c589252ca41fc9e166d"
          }
        },
        "70922681ed1d4a119a71dba2ae3efd82": {
          "model_module": "@jupyter-widgets/base",
          "model_module_version": "1.2.0",
          "model_name": "LayoutModel",
          "state": {
            "_model_module": "@jupyter-widgets/base",
            "_model_module_version": "1.2.0",
            "_model_name": "LayoutModel",
            "_view_count": null,
            "_view_module": "@jupyter-widgets/base",
            "_view_module_version": "1.2.0",
            "_view_name": "LayoutView",
            "align_content": null,
            "align_items": null,
            "align_self": null,
            "border": null,
            "bottom": null,
            "display": null,
            "flex": null,
            "flex_flow": null,
            "grid_area": null,
            "grid_auto_columns": null,
            "grid_auto_flow": null,
            "grid_auto_rows": null,
            "grid_column": null,
            "grid_gap": null,
            "grid_row": null,
            "grid_template_areas": null,
            "grid_template_columns": null,
            "grid_template_rows": null,
            "height": null,
            "justify_content": null,
            "justify_items": null,
            "left": null,
            "margin": null,
            "max_height": null,
            "max_width": null,
            "min_height": null,
            "min_width": null,
            "object_fit": null,
            "object_position": null,
            "order": null,
            "overflow": null,
            "overflow_x": null,
            "overflow_y": null,
            "padding": null,
            "right": null,
            "top": null,
            "visibility": null,
            "width": null
          }
        },
        "72afcf5c2e32494bb9759c8d50a2c8b0": {
          "model_module": "@jupyter-widgets/controls",
          "model_module_version": "1.5.0",
          "model_name": "DescriptionStyleModel",
          "state": {
            "_model_module": "@jupyter-widgets/controls",
            "_model_module_version": "1.5.0",
            "_model_name": "DescriptionStyleModel",
            "_view_count": null,
            "_view_module": "@jupyter-widgets/base",
            "_view_module_version": "1.2.0",
            "_view_name": "StyleView",
            "description_width": ""
          }
        },
        "76c249a6339d4c1ea066e06b6067c4a9": {
          "model_module": "@jupyter-widgets/controls",
          "model_module_version": "1.5.0",
          "model_name": "ProgressStyleModel",
          "state": {
            "_model_module": "@jupyter-widgets/controls",
            "_model_module_version": "1.5.0",
            "_model_name": "ProgressStyleModel",
            "_view_count": null,
            "_view_module": "@jupyter-widgets/base",
            "_view_module_version": "1.2.0",
            "_view_name": "StyleView",
            "bar_color": null,
            "description_width": ""
          }
        },
        "78b2901343bc4a4f979e4c6c40dba9c3": {
          "model_module": "@jupyter-widgets/controls",
          "model_module_version": "1.5.0",
          "model_name": "HTMLModel",
          "state": {
            "_dom_classes": [],
            "_model_module": "@jupyter-widgets/controls",
            "_model_module_version": "1.5.0",
            "_model_name": "HTMLModel",
            "_view_count": null,
            "_view_module": "@jupyter-widgets/controls",
            "_view_module_version": "1.5.0",
            "_view_name": "HTMLView",
            "description": "",
            "description_tooltip": null,
            "layout": "IPY_MODEL_1452f3c0bd2d4cd5995718e40f27fde7",
            "placeholder": "​",
            "style": "IPY_MODEL_451cc91bbd2940c782d5197bf53667dc",
            "value": "merges.txt: 100%"
          }
        },
        "79049b6f2aee43e788e447ce577c2299": {
          "model_module": "@jupyter-widgets/controls",
          "model_module_version": "1.5.0",
          "model_name": "DescriptionStyleModel",
          "state": {
            "_model_module": "@jupyter-widgets/controls",
            "_model_module_version": "1.5.0",
            "_model_name": "DescriptionStyleModel",
            "_view_count": null,
            "_view_module": "@jupyter-widgets/base",
            "_view_module_version": "1.2.0",
            "_view_name": "StyleView",
            "description_width": ""
          }
        },
        "7c20cca3da7a4e40a4d93cdcac4d41cb": {
          "model_module": "@jupyter-widgets/base",
          "model_module_version": "1.2.0",
          "model_name": "LayoutModel",
          "state": {
            "_model_module": "@jupyter-widgets/base",
            "_model_module_version": "1.2.0",
            "_model_name": "LayoutModel",
            "_view_count": null,
            "_view_module": "@jupyter-widgets/base",
            "_view_module_version": "1.2.0",
            "_view_name": "LayoutView",
            "align_content": null,
            "align_items": null,
            "align_self": null,
            "border": null,
            "bottom": null,
            "display": null,
            "flex": null,
            "flex_flow": null,
            "grid_area": null,
            "grid_auto_columns": null,
            "grid_auto_flow": null,
            "grid_auto_rows": null,
            "grid_column": null,
            "grid_gap": null,
            "grid_row": null,
            "grid_template_areas": null,
            "grid_template_columns": null,
            "grid_template_rows": null,
            "height": null,
            "justify_content": null,
            "justify_items": null,
            "left": null,
            "margin": null,
            "max_height": null,
            "max_width": null,
            "min_height": null,
            "min_width": null,
            "object_fit": null,
            "object_position": null,
            "order": null,
            "overflow": null,
            "overflow_x": null,
            "overflow_y": null,
            "padding": null,
            "right": null,
            "top": null,
            "visibility": null,
            "width": null
          }
        },
        "7cfce651c7664982ac1c2bc9c4606077": {
          "model_module": "@jupyter-widgets/base",
          "model_module_version": "1.2.0",
          "model_name": "LayoutModel",
          "state": {
            "_model_module": "@jupyter-widgets/base",
            "_model_module_version": "1.2.0",
            "_model_name": "LayoutModel",
            "_view_count": null,
            "_view_module": "@jupyter-widgets/base",
            "_view_module_version": "1.2.0",
            "_view_name": "LayoutView",
            "align_content": null,
            "align_items": null,
            "align_self": null,
            "border": null,
            "bottom": null,
            "display": null,
            "flex": null,
            "flex_flow": null,
            "grid_area": null,
            "grid_auto_columns": null,
            "grid_auto_flow": null,
            "grid_auto_rows": null,
            "grid_column": null,
            "grid_gap": null,
            "grid_row": null,
            "grid_template_areas": null,
            "grid_template_columns": null,
            "grid_template_rows": null,
            "height": null,
            "justify_content": null,
            "justify_items": null,
            "left": null,
            "margin": null,
            "max_height": null,
            "max_width": null,
            "min_height": null,
            "min_width": null,
            "object_fit": null,
            "object_position": null,
            "order": null,
            "overflow": null,
            "overflow_x": null,
            "overflow_y": null,
            "padding": null,
            "right": null,
            "top": null,
            "visibility": null,
            "width": null
          }
        },
        "7d996e6a43544bfea4d81206f9ed5341": {
          "model_module": "@jupyter-widgets/controls",
          "model_module_version": "1.5.0",
          "model_name": "HTMLModel",
          "state": {
            "_dom_classes": [],
            "_model_module": "@jupyter-widgets/controls",
            "_model_module_version": "1.5.0",
            "_model_name": "HTMLModel",
            "_view_count": null,
            "_view_module": "@jupyter-widgets/controls",
            "_view_module_version": "1.5.0",
            "_view_name": "HTMLView",
            "description": "",
            "description_tooltip": null,
            "layout": "IPY_MODEL_bf2bab9075684050b39ebcfc2e27b84e",
            "placeholder": "​",
            "style": "IPY_MODEL_c46a0051a4454bc9a1e277deb3e11969",
            "value": " 548M/548M [00:03&lt;00:00, 172MB/s]"
          }
        },
        "84ae561c89034794af7345c2d4553c25": {
          "model_module": "@jupyter-widgets/controls",
          "model_module_version": "1.5.0",
          "model_name": "DescriptionStyleModel",
          "state": {
            "_model_module": "@jupyter-widgets/controls",
            "_model_module_version": "1.5.0",
            "_model_name": "DescriptionStyleModel",
            "_view_count": null,
            "_view_module": "@jupyter-widgets/base",
            "_view_module_version": "1.2.0",
            "_view_name": "StyleView",
            "description_width": ""
          }
        },
        "9066fd55cc0940bb87cebc425afe0f55": {
          "model_module": "@jupyter-widgets/controls",
          "model_module_version": "1.5.0",
          "model_name": "DescriptionStyleModel",
          "state": {
            "_model_module": "@jupyter-widgets/controls",
            "_model_module_version": "1.5.0",
            "_model_name": "DescriptionStyleModel",
            "_view_count": null,
            "_view_module": "@jupyter-widgets/base",
            "_view_module_version": "1.2.0",
            "_view_name": "StyleView",
            "description_width": ""
          }
        },
        "909c23e863a54ddc980a0a36daabab40": {
          "model_module": "@jupyter-widgets/controls",
          "model_module_version": "1.5.0",
          "model_name": "FloatProgressModel",
          "state": {
            "_dom_classes": [],
            "_model_module": "@jupyter-widgets/controls",
            "_model_module_version": "1.5.0",
            "_model_name": "FloatProgressModel",
            "_view_count": null,
            "_view_module": "@jupyter-widgets/controls",
            "_view_module_version": "1.5.0",
            "_view_name": "ProgressView",
            "bar_style": "success",
            "description": "",
            "description_tooltip": null,
            "layout": "IPY_MODEL_c0cfca6863e34585b5aa1dfe969c5d83",
            "max": 26,
            "min": 0,
            "orientation": "horizontal",
            "style": "IPY_MODEL_192f3d55486840079c64781abdfec658",
            "value": 26
          }
        },
        "9281e146d98f4841886af6894bcc684b": {
          "model_module": "@jupyter-widgets/base",
          "model_module_version": "1.2.0",
          "model_name": "LayoutModel",
          "state": {
            "_model_module": "@jupyter-widgets/base",
            "_model_module_version": "1.2.0",
            "_model_name": "LayoutModel",
            "_view_count": null,
            "_view_module": "@jupyter-widgets/base",
            "_view_module_version": "1.2.0",
            "_view_name": "LayoutView",
            "align_content": null,
            "align_items": null,
            "align_self": null,
            "border": null,
            "bottom": null,
            "display": null,
            "flex": null,
            "flex_flow": null,
            "grid_area": null,
            "grid_auto_columns": null,
            "grid_auto_flow": null,
            "grid_auto_rows": null,
            "grid_column": null,
            "grid_gap": null,
            "grid_row": null,
            "grid_template_areas": null,
            "grid_template_columns": null,
            "grid_template_rows": null,
            "height": null,
            "justify_content": null,
            "justify_items": null,
            "left": null,
            "margin": null,
            "max_height": null,
            "max_width": null,
            "min_height": null,
            "min_width": null,
            "object_fit": null,
            "object_position": null,
            "order": null,
            "overflow": null,
            "overflow_x": null,
            "overflow_y": null,
            "padding": null,
            "right": null,
            "top": null,
            "visibility": null,
            "width": null
          }
        },
        "96f1137137514b50a5681b9abf2bd52a": {
          "model_module": "@jupyter-widgets/base",
          "model_module_version": "1.2.0",
          "model_name": "LayoutModel",
          "state": {
            "_model_module": "@jupyter-widgets/base",
            "_model_module_version": "1.2.0",
            "_model_name": "LayoutModel",
            "_view_count": null,
            "_view_module": "@jupyter-widgets/base",
            "_view_module_version": "1.2.0",
            "_view_name": "LayoutView",
            "align_content": null,
            "align_items": null,
            "align_self": null,
            "border": null,
            "bottom": null,
            "display": null,
            "flex": null,
            "flex_flow": null,
            "grid_area": null,
            "grid_auto_columns": null,
            "grid_auto_flow": null,
            "grid_auto_rows": null,
            "grid_column": null,
            "grid_gap": null,
            "grid_row": null,
            "grid_template_areas": null,
            "grid_template_columns": null,
            "grid_template_rows": null,
            "height": null,
            "justify_content": null,
            "justify_items": null,
            "left": null,
            "margin": null,
            "max_height": null,
            "max_width": null,
            "min_height": null,
            "min_width": null,
            "object_fit": null,
            "object_position": null,
            "order": null,
            "overflow": null,
            "overflow_x": null,
            "overflow_y": null,
            "padding": null,
            "right": null,
            "top": null,
            "visibility": null,
            "width": null
          }
        },
        "98c496fffd9a42778802574331bdfcc5": {
          "model_module": "@jupyter-widgets/controls",
          "model_module_version": "1.5.0",
          "model_name": "HBoxModel",
          "state": {
            "_dom_classes": [],
            "_model_module": "@jupyter-widgets/controls",
            "_model_module_version": "1.5.0",
            "_model_name": "HBoxModel",
            "_view_count": null,
            "_view_module": "@jupyter-widgets/controls",
            "_view_module_version": "1.5.0",
            "_view_name": "HBoxView",
            "box_style": "",
            "children": [
              "IPY_MODEL_2872176dc7664548b137082ce36104a7",
              "IPY_MODEL_53dcaa7de1ec4e7eae667aef05ce45e6",
              "IPY_MODEL_3e63f9dc7745403c93fc7a68171bd861"
            ],
            "layout": "IPY_MODEL_a22ebaed3b2548b7a456152d82ae7bb3"
          }
        },
        "a22ebaed3b2548b7a456152d82ae7bb3": {
          "model_module": "@jupyter-widgets/base",
          "model_module_version": "1.2.0",
          "model_name": "LayoutModel",
          "state": {
            "_model_module": "@jupyter-widgets/base",
            "_model_module_version": "1.2.0",
            "_model_name": "LayoutModel",
            "_view_count": null,
            "_view_module": "@jupyter-widgets/base",
            "_view_module_version": "1.2.0",
            "_view_name": "LayoutView",
            "align_content": null,
            "align_items": null,
            "align_self": null,
            "border": null,
            "bottom": null,
            "display": null,
            "flex": null,
            "flex_flow": null,
            "grid_area": null,
            "grid_auto_columns": null,
            "grid_auto_flow": null,
            "grid_auto_rows": null,
            "grid_column": null,
            "grid_gap": null,
            "grid_row": null,
            "grid_template_areas": null,
            "grid_template_columns": null,
            "grid_template_rows": null,
            "height": null,
            "justify_content": null,
            "justify_items": null,
            "left": null,
            "margin": null,
            "max_height": null,
            "max_width": null,
            "min_height": null,
            "min_width": null,
            "object_fit": null,
            "object_position": null,
            "order": null,
            "overflow": null,
            "overflow_x": null,
            "overflow_y": null,
            "padding": null,
            "right": null,
            "top": null,
            "visibility": null,
            "width": null
          }
        },
        "a5d059ea824d419b992609c18ca72615": {
          "model_module": "@jupyter-widgets/base",
          "model_module_version": "1.2.0",
          "model_name": "LayoutModel",
          "state": {
            "_model_module": "@jupyter-widgets/base",
            "_model_module_version": "1.2.0",
            "_model_name": "LayoutModel",
            "_view_count": null,
            "_view_module": "@jupyter-widgets/base",
            "_view_module_version": "1.2.0",
            "_view_name": "LayoutView",
            "align_content": null,
            "align_items": null,
            "align_self": null,
            "border": null,
            "bottom": null,
            "display": null,
            "flex": null,
            "flex_flow": null,
            "grid_area": null,
            "grid_auto_columns": null,
            "grid_auto_flow": null,
            "grid_auto_rows": null,
            "grid_column": null,
            "grid_gap": null,
            "grid_row": null,
            "grid_template_areas": null,
            "grid_template_columns": null,
            "grid_template_rows": null,
            "height": null,
            "justify_content": null,
            "justify_items": null,
            "left": null,
            "margin": null,
            "max_height": null,
            "max_width": null,
            "min_height": null,
            "min_width": null,
            "object_fit": null,
            "object_position": null,
            "order": null,
            "overflow": null,
            "overflow_x": null,
            "overflow_y": null,
            "padding": null,
            "right": null,
            "top": null,
            "visibility": null,
            "width": null
          }
        },
        "a629324eccc7408ab2ae97f430e1f71d": {
          "model_module": "@jupyter-widgets/base",
          "model_module_version": "1.2.0",
          "model_name": "LayoutModel",
          "state": {
            "_model_module": "@jupyter-widgets/base",
            "_model_module_version": "1.2.0",
            "_model_name": "LayoutModel",
            "_view_count": null,
            "_view_module": "@jupyter-widgets/base",
            "_view_module_version": "1.2.0",
            "_view_name": "LayoutView",
            "align_content": null,
            "align_items": null,
            "align_self": null,
            "border": null,
            "bottom": null,
            "display": null,
            "flex": null,
            "flex_flow": null,
            "grid_area": null,
            "grid_auto_columns": null,
            "grid_auto_flow": null,
            "grid_auto_rows": null,
            "grid_column": null,
            "grid_gap": null,
            "grid_row": null,
            "grid_template_areas": null,
            "grid_template_columns": null,
            "grid_template_rows": null,
            "height": null,
            "justify_content": null,
            "justify_items": null,
            "left": null,
            "margin": null,
            "max_height": null,
            "max_width": null,
            "min_height": null,
            "min_width": null,
            "object_fit": null,
            "object_position": null,
            "order": null,
            "overflow": null,
            "overflow_x": null,
            "overflow_y": null,
            "padding": null,
            "right": null,
            "top": null,
            "visibility": null,
            "width": null
          }
        },
        "a74b6c1ae41b4d71b3ad2e22dd4e67da": {
          "model_module": "@jupyter-widgets/controls",
          "model_module_version": "1.5.0",
          "model_name": "HTMLModel",
          "state": {
            "_dom_classes": [],
            "_model_module": "@jupyter-widgets/controls",
            "_model_module_version": "1.5.0",
            "_model_name": "HTMLModel",
            "_view_count": null,
            "_view_module": "@jupyter-widgets/controls",
            "_view_module_version": "1.5.0",
            "_view_name": "HTMLView",
            "description": "",
            "description_tooltip": null,
            "layout": "IPY_MODEL_7cfce651c7664982ac1c2bc9c4606077",
            "placeholder": "​",
            "style": "IPY_MODEL_84ae561c89034794af7345c2d4553c25",
            "value": "generation_config.json: 100%"
          }
        },
        "a7b6ab7755de44d2a0b076cf79857c3d": {
          "model_module": "@jupyter-widgets/base",
          "model_module_version": "1.2.0",
          "model_name": "LayoutModel",
          "state": {
            "_model_module": "@jupyter-widgets/base",
            "_model_module_version": "1.2.0",
            "_model_name": "LayoutModel",
            "_view_count": null,
            "_view_module": "@jupyter-widgets/base",
            "_view_module_version": "1.2.0",
            "_view_name": "LayoutView",
            "align_content": null,
            "align_items": null,
            "align_self": null,
            "border": null,
            "bottom": null,
            "display": null,
            "flex": null,
            "flex_flow": null,
            "grid_area": null,
            "grid_auto_columns": null,
            "grid_auto_flow": null,
            "grid_auto_rows": null,
            "grid_column": null,
            "grid_gap": null,
            "grid_row": null,
            "grid_template_areas": null,
            "grid_template_columns": null,
            "grid_template_rows": null,
            "height": null,
            "justify_content": null,
            "justify_items": null,
            "left": null,
            "margin": null,
            "max_height": null,
            "max_width": null,
            "min_height": null,
            "min_width": null,
            "object_fit": null,
            "object_position": null,
            "order": null,
            "overflow": null,
            "overflow_x": null,
            "overflow_y": null,
            "padding": null,
            "right": null,
            "top": null,
            "visibility": null,
            "width": null
          }
        },
        "acb15e9f757f458dab15cfd52092fa2e": {
          "model_module": "@jupyter-widgets/controls",
          "model_module_version": "1.5.0",
          "model_name": "DescriptionStyleModel",
          "state": {
            "_model_module": "@jupyter-widgets/controls",
            "_model_module_version": "1.5.0",
            "_model_name": "DescriptionStyleModel",
            "_view_count": null,
            "_view_module": "@jupyter-widgets/base",
            "_view_module_version": "1.2.0",
            "_view_name": "StyleView",
            "description_width": ""
          }
        },
        "ae0cf2774fde46bf9f970b10007db87c": {
          "model_module": "@jupyter-widgets/base",
          "model_module_version": "1.2.0",
          "model_name": "LayoutModel",
          "state": {
            "_model_module": "@jupyter-widgets/base",
            "_model_module_version": "1.2.0",
            "_model_name": "LayoutModel",
            "_view_count": null,
            "_view_module": "@jupyter-widgets/base",
            "_view_module_version": "1.2.0",
            "_view_name": "LayoutView",
            "align_content": null,
            "align_items": null,
            "align_self": null,
            "border": null,
            "bottom": null,
            "display": null,
            "flex": null,
            "flex_flow": null,
            "grid_area": null,
            "grid_auto_columns": null,
            "grid_auto_flow": null,
            "grid_auto_rows": null,
            "grid_column": null,
            "grid_gap": null,
            "grid_row": null,
            "grid_template_areas": null,
            "grid_template_columns": null,
            "grid_template_rows": null,
            "height": null,
            "justify_content": null,
            "justify_items": null,
            "left": null,
            "margin": null,
            "max_height": null,
            "max_width": null,
            "min_height": null,
            "min_width": null,
            "object_fit": null,
            "object_position": null,
            "order": null,
            "overflow": null,
            "overflow_x": null,
            "overflow_y": null,
            "padding": null,
            "right": null,
            "top": null,
            "visibility": null,
            "width": null
          }
        },
        "bc1b09a276814b779ab7d40f7a2a4252": {
          "model_module": "@jupyter-widgets/base",
          "model_module_version": "1.2.0",
          "model_name": "LayoutModel",
          "state": {
            "_model_module": "@jupyter-widgets/base",
            "_model_module_version": "1.2.0",
            "_model_name": "LayoutModel",
            "_view_count": null,
            "_view_module": "@jupyter-widgets/base",
            "_view_module_version": "1.2.0",
            "_view_name": "LayoutView",
            "align_content": null,
            "align_items": null,
            "align_self": null,
            "border": null,
            "bottom": null,
            "display": null,
            "flex": null,
            "flex_flow": null,
            "grid_area": null,
            "grid_auto_columns": null,
            "grid_auto_flow": null,
            "grid_auto_rows": null,
            "grid_column": null,
            "grid_gap": null,
            "grid_row": null,
            "grid_template_areas": null,
            "grid_template_columns": null,
            "grid_template_rows": null,
            "height": null,
            "justify_content": null,
            "justify_items": null,
            "left": null,
            "margin": null,
            "max_height": null,
            "max_width": null,
            "min_height": null,
            "min_width": null,
            "object_fit": null,
            "object_position": null,
            "order": null,
            "overflow": null,
            "overflow_x": null,
            "overflow_y": null,
            "padding": null,
            "right": null,
            "top": null,
            "visibility": null,
            "width": null
          }
        },
        "bd48ae00fea9432681dae469dc5e5d7e": {
          "model_module": "@jupyter-widgets/controls",
          "model_module_version": "1.5.0",
          "model_name": "DescriptionStyleModel",
          "state": {
            "_model_module": "@jupyter-widgets/controls",
            "_model_module_version": "1.5.0",
            "_model_name": "DescriptionStyleModel",
            "_view_count": null,
            "_view_module": "@jupyter-widgets/base",
            "_view_module_version": "1.2.0",
            "_view_name": "StyleView",
            "description_width": ""
          }
        },
        "bf2bab9075684050b39ebcfc2e27b84e": {
          "model_module": "@jupyter-widgets/base",
          "model_module_version": "1.2.0",
          "model_name": "LayoutModel",
          "state": {
            "_model_module": "@jupyter-widgets/base",
            "_model_module_version": "1.2.0",
            "_model_name": "LayoutModel",
            "_view_count": null,
            "_view_module": "@jupyter-widgets/base",
            "_view_module_version": "1.2.0",
            "_view_name": "LayoutView",
            "align_content": null,
            "align_items": null,
            "align_self": null,
            "border": null,
            "bottom": null,
            "display": null,
            "flex": null,
            "flex_flow": null,
            "grid_area": null,
            "grid_auto_columns": null,
            "grid_auto_flow": null,
            "grid_auto_rows": null,
            "grid_column": null,
            "grid_gap": null,
            "grid_row": null,
            "grid_template_areas": null,
            "grid_template_columns": null,
            "grid_template_rows": null,
            "height": null,
            "justify_content": null,
            "justify_items": null,
            "left": null,
            "margin": null,
            "max_height": null,
            "max_width": null,
            "min_height": null,
            "min_width": null,
            "object_fit": null,
            "object_position": null,
            "order": null,
            "overflow": null,
            "overflow_x": null,
            "overflow_y": null,
            "padding": null,
            "right": null,
            "top": null,
            "visibility": null,
            "width": null
          }
        },
        "c0cfca6863e34585b5aa1dfe969c5d83": {
          "model_module": "@jupyter-widgets/base",
          "model_module_version": "1.2.0",
          "model_name": "LayoutModel",
          "state": {
            "_model_module": "@jupyter-widgets/base",
            "_model_module_version": "1.2.0",
            "_model_name": "LayoutModel",
            "_view_count": null,
            "_view_module": "@jupyter-widgets/base",
            "_view_module_version": "1.2.0",
            "_view_name": "LayoutView",
            "align_content": null,
            "align_items": null,
            "align_self": null,
            "border": null,
            "bottom": null,
            "display": null,
            "flex": null,
            "flex_flow": null,
            "grid_area": null,
            "grid_auto_columns": null,
            "grid_auto_flow": null,
            "grid_auto_rows": null,
            "grid_column": null,
            "grid_gap": null,
            "grid_row": null,
            "grid_template_areas": null,
            "grid_template_columns": null,
            "grid_template_rows": null,
            "height": null,
            "justify_content": null,
            "justify_items": null,
            "left": null,
            "margin": null,
            "max_height": null,
            "max_width": null,
            "min_height": null,
            "min_width": null,
            "object_fit": null,
            "object_position": null,
            "order": null,
            "overflow": null,
            "overflow_x": null,
            "overflow_y": null,
            "padding": null,
            "right": null,
            "top": null,
            "visibility": null,
            "width": null
          }
        },
        "c3d60de08edd493a8f07eb3c9d9ff0ec": {
          "model_module": "@jupyter-widgets/base",
          "model_module_version": "1.2.0",
          "model_name": "LayoutModel",
          "state": {
            "_model_module": "@jupyter-widgets/base",
            "_model_module_version": "1.2.0",
            "_model_name": "LayoutModel",
            "_view_count": null,
            "_view_module": "@jupyter-widgets/base",
            "_view_module_version": "1.2.0",
            "_view_name": "LayoutView",
            "align_content": null,
            "align_items": null,
            "align_self": null,
            "border": null,
            "bottom": null,
            "display": null,
            "flex": null,
            "flex_flow": null,
            "grid_area": null,
            "grid_auto_columns": null,
            "grid_auto_flow": null,
            "grid_auto_rows": null,
            "grid_column": null,
            "grid_gap": null,
            "grid_row": null,
            "grid_template_areas": null,
            "grid_template_columns": null,
            "grid_template_rows": null,
            "height": null,
            "justify_content": null,
            "justify_items": null,
            "left": null,
            "margin": null,
            "max_height": null,
            "max_width": null,
            "min_height": null,
            "min_width": null,
            "object_fit": null,
            "object_position": null,
            "order": null,
            "overflow": null,
            "overflow_x": null,
            "overflow_y": null,
            "padding": null,
            "right": null,
            "top": null,
            "visibility": null,
            "width": null
          }
        },
        "c46a0051a4454bc9a1e277deb3e11969": {
          "model_module": "@jupyter-widgets/controls",
          "model_module_version": "1.5.0",
          "model_name": "DescriptionStyleModel",
          "state": {
            "_model_module": "@jupyter-widgets/controls",
            "_model_module_version": "1.5.0",
            "_model_name": "DescriptionStyleModel",
            "_view_count": null,
            "_view_module": "@jupyter-widgets/base",
            "_view_module_version": "1.2.0",
            "_view_name": "StyleView",
            "description_width": ""
          }
        },
        "caf5ad38bfd647fb867bd4e7958bd900": {
          "model_module": "@jupyter-widgets/base",
          "model_module_version": "1.2.0",
          "model_name": "LayoutModel",
          "state": {
            "_model_module": "@jupyter-widgets/base",
            "_model_module_version": "1.2.0",
            "_model_name": "LayoutModel",
            "_view_count": null,
            "_view_module": "@jupyter-widgets/base",
            "_view_module_version": "1.2.0",
            "_view_name": "LayoutView",
            "align_content": null,
            "align_items": null,
            "align_self": null,
            "border": null,
            "bottom": null,
            "display": null,
            "flex": null,
            "flex_flow": null,
            "grid_area": null,
            "grid_auto_columns": null,
            "grid_auto_flow": null,
            "grid_auto_rows": null,
            "grid_column": null,
            "grid_gap": null,
            "grid_row": null,
            "grid_template_areas": null,
            "grid_template_columns": null,
            "grid_template_rows": null,
            "height": null,
            "justify_content": null,
            "justify_items": null,
            "left": null,
            "margin": null,
            "max_height": null,
            "max_width": null,
            "min_height": null,
            "min_width": null,
            "object_fit": null,
            "object_position": null,
            "order": null,
            "overflow": null,
            "overflow_x": null,
            "overflow_y": null,
            "padding": null,
            "right": null,
            "top": null,
            "visibility": null,
            "width": null
          }
        },
        "d13786462f5d418f9a7cfcebfa5bfa76": {
          "model_module": "@jupyter-widgets/base",
          "model_module_version": "1.2.0",
          "model_name": "LayoutModel",
          "state": {
            "_model_module": "@jupyter-widgets/base",
            "_model_module_version": "1.2.0",
            "_model_name": "LayoutModel",
            "_view_count": null,
            "_view_module": "@jupyter-widgets/base",
            "_view_module_version": "1.2.0",
            "_view_name": "LayoutView",
            "align_content": null,
            "align_items": null,
            "align_self": null,
            "border": null,
            "bottom": null,
            "display": null,
            "flex": null,
            "flex_flow": null,
            "grid_area": null,
            "grid_auto_columns": null,
            "grid_auto_flow": null,
            "grid_auto_rows": null,
            "grid_column": null,
            "grid_gap": null,
            "grid_row": null,
            "grid_template_areas": null,
            "grid_template_columns": null,
            "grid_template_rows": null,
            "height": null,
            "justify_content": null,
            "justify_items": null,
            "left": null,
            "margin": null,
            "max_height": null,
            "max_width": null,
            "min_height": null,
            "min_width": null,
            "object_fit": null,
            "object_position": null,
            "order": null,
            "overflow": null,
            "overflow_x": null,
            "overflow_y": null,
            "padding": null,
            "right": null,
            "top": null,
            "visibility": null,
            "width": null
          }
        },
        "d1569561995f4bb2bcec020fd3330ca4": {
          "model_module": "@jupyter-widgets/controls",
          "model_module_version": "1.5.0",
          "model_name": "DescriptionStyleModel",
          "state": {
            "_model_module": "@jupyter-widgets/controls",
            "_model_module_version": "1.5.0",
            "_model_name": "DescriptionStyleModel",
            "_view_count": null,
            "_view_module": "@jupyter-widgets/base",
            "_view_module_version": "1.2.0",
            "_view_name": "StyleView",
            "description_width": ""
          }
        },
        "d8d302937fb847f0bf2a53e41cae34b3": {
          "model_module": "@jupyter-widgets/controls",
          "model_module_version": "1.5.0",
          "model_name": "DescriptionStyleModel",
          "state": {
            "_model_module": "@jupyter-widgets/controls",
            "_model_module_version": "1.5.0",
            "_model_name": "DescriptionStyleModel",
            "_view_count": null,
            "_view_module": "@jupyter-widgets/base",
            "_view_module_version": "1.2.0",
            "_view_name": "StyleView",
            "description_width": ""
          }
        },
        "da614f89f3a744c0991424e655053c46": {
          "model_module": "@jupyter-widgets/controls",
          "model_module_version": "1.5.0",
          "model_name": "DescriptionStyleModel",
          "state": {
            "_model_module": "@jupyter-widgets/controls",
            "_model_module_version": "1.5.0",
            "_model_name": "DescriptionStyleModel",
            "_view_count": null,
            "_view_module": "@jupyter-widgets/base",
            "_view_module_version": "1.2.0",
            "_view_name": "StyleView",
            "description_width": ""
          }
        },
        "de932a5df085404aa87bc7b14291eb21": {
          "model_module": "@jupyter-widgets/controls",
          "model_module_version": "1.5.0",
          "model_name": "ProgressStyleModel",
          "state": {
            "_model_module": "@jupyter-widgets/controls",
            "_model_module_version": "1.5.0",
            "_model_name": "ProgressStyleModel",
            "_view_count": null,
            "_view_module": "@jupyter-widgets/base",
            "_view_module_version": "1.2.0",
            "_view_name": "StyleView",
            "bar_color": null,
            "description_width": ""
          }
        },
        "e2e8ffdc58a244e298a784d7292b5329": {
          "model_module": "@jupyter-widgets/controls",
          "model_module_version": "1.5.0",
          "model_name": "DescriptionStyleModel",
          "state": {
            "_model_module": "@jupyter-widgets/controls",
            "_model_module_version": "1.5.0",
            "_model_name": "DescriptionStyleModel",
            "_view_count": null,
            "_view_module": "@jupyter-widgets/base",
            "_view_module_version": "1.2.0",
            "_view_name": "StyleView",
            "description_width": ""
          }
        },
        "e5bfc73ff1004b2ea9e5ee85a04927c9": {
          "model_module": "@jupyter-widgets/controls",
          "model_module_version": "1.5.0",
          "model_name": "DescriptionStyleModel",
          "state": {
            "_model_module": "@jupyter-widgets/controls",
            "_model_module_version": "1.5.0",
            "_model_name": "DescriptionStyleModel",
            "_view_count": null,
            "_view_module": "@jupyter-widgets/base",
            "_view_module_version": "1.2.0",
            "_view_name": "StyleView",
            "description_width": ""
          }
        },
        "ea8ffd96454b4d96ab332522420e5220": {
          "model_module": "@jupyter-widgets/controls",
          "model_module_version": "1.5.0",
          "model_name": "FloatProgressModel",
          "state": {
            "_dom_classes": [],
            "_model_module": "@jupyter-widgets/controls",
            "_model_module_version": "1.5.0",
            "_model_name": "FloatProgressModel",
            "_view_count": null,
            "_view_module": "@jupyter-widgets/controls",
            "_view_module_version": "1.5.0",
            "_view_name": "ProgressView",
            "bar_style": "success",
            "description": "",
            "description_tooltip": null,
            "layout": "IPY_MODEL_7c20cca3da7a4e40a4d93cdcac4d41cb",
            "max": 665,
            "min": 0,
            "orientation": "horizontal",
            "style": "IPY_MODEL_4010626477de4b7584a97c9b9991cc4b",
            "value": 665
          }
        },
        "ebeba379e63c455dbf5df4c6bffd6b00": {
          "model_module": "@jupyter-widgets/controls",
          "model_module_version": "1.5.0",
          "model_name": "HTMLModel",
          "state": {
            "_dom_classes": [],
            "_model_module": "@jupyter-widgets/controls",
            "_model_module_version": "1.5.0",
            "_model_name": "HTMLModel",
            "_view_count": null,
            "_view_module": "@jupyter-widgets/controls",
            "_view_module_version": "1.5.0",
            "_view_name": "HTMLView",
            "description": "",
            "description_tooltip": null,
            "layout": "IPY_MODEL_609e102f4a2941cfa88e03c9a746e014",
            "placeholder": "​",
            "style": "IPY_MODEL_e5bfc73ff1004b2ea9e5ee85a04927c9",
            "value": " 26.0/26.0 [00:00&lt;00:00, 664B/s]"
          }
        },
        "ee9aaa3201404ceeb0c4e0218720cbfb": {
          "model_module": "@jupyter-widgets/controls",
          "model_module_version": "1.5.0",
          "model_name": "HTMLModel",
          "state": {
            "_dom_classes": [],
            "_model_module": "@jupyter-widgets/controls",
            "_model_module_version": "1.5.0",
            "_model_name": "HTMLModel",
            "_view_count": null,
            "_view_module": "@jupyter-widgets/controls",
            "_view_module_version": "1.5.0",
            "_view_name": "HTMLView",
            "description": "",
            "description_tooltip": null,
            "layout": "IPY_MODEL_9281e146d98f4841886af6894bcc684b",
            "placeholder": "​",
            "style": "IPY_MODEL_9066fd55cc0940bb87cebc425afe0f55",
            "value": "tokenizer_config.json: 100%"
          }
        },
        "ef5e3d8a9bc0496ab4ad1c4ada942206": {
          "model_module": "@jupyter-widgets/controls",
          "model_module_version": "1.5.0",
          "model_name": "HTMLModel",
          "state": {
            "_dom_classes": [],
            "_model_module": "@jupyter-widgets/controls",
            "_model_module_version": "1.5.0",
            "_model_name": "HTMLModel",
            "_view_count": null,
            "_view_module": "@jupyter-widgets/controls",
            "_view_module_version": "1.5.0",
            "_view_name": "HTMLView",
            "description": "",
            "description_tooltip": null,
            "layout": "IPY_MODEL_a5d059ea824d419b992609c18ca72615",
            "placeholder": "​",
            "style": "IPY_MODEL_72afcf5c2e32494bb9759c8d50a2c8b0",
            "value": "config.json: 100%"
          }
        },
        "f2ad8c7d2ed64e808cd6ed587643d234": {
          "model_module": "@jupyter-widgets/base",
          "model_module_version": "1.2.0",
          "model_name": "LayoutModel",
          "state": {
            "_model_module": "@jupyter-widgets/base",
            "_model_module_version": "1.2.0",
            "_model_name": "LayoutModel",
            "_view_count": null,
            "_view_module": "@jupyter-widgets/base",
            "_view_module_version": "1.2.0",
            "_view_name": "LayoutView",
            "align_content": null,
            "align_items": null,
            "align_self": null,
            "border": null,
            "bottom": null,
            "display": null,
            "flex": null,
            "flex_flow": null,
            "grid_area": null,
            "grid_auto_columns": null,
            "grid_auto_flow": null,
            "grid_auto_rows": null,
            "grid_column": null,
            "grid_gap": null,
            "grid_row": null,
            "grid_template_areas": null,
            "grid_template_columns": null,
            "grid_template_rows": null,
            "height": null,
            "justify_content": null,
            "justify_items": null,
            "left": null,
            "margin": null,
            "max_height": null,
            "max_width": null,
            "min_height": null,
            "min_width": null,
            "object_fit": null,
            "object_position": null,
            "order": null,
            "overflow": null,
            "overflow_x": null,
            "overflow_y": null,
            "padding": null,
            "right": null,
            "top": null,
            "visibility": null,
            "width": null
          }
        },
        "fab84b2560214155b0c61ff40a05b8ef": {
          "model_module": "@jupyter-widgets/base",
          "model_module_version": "1.2.0",
          "model_name": "LayoutModel",
          "state": {
            "_model_module": "@jupyter-widgets/base",
            "_model_module_version": "1.2.0",
            "_model_name": "LayoutModel",
            "_view_count": null,
            "_view_module": "@jupyter-widgets/base",
            "_view_module_version": "1.2.0",
            "_view_name": "LayoutView",
            "align_content": null,
            "align_items": null,
            "align_self": null,
            "border": null,
            "bottom": null,
            "display": null,
            "flex": null,
            "flex_flow": null,
            "grid_area": null,
            "grid_auto_columns": null,
            "grid_auto_flow": null,
            "grid_auto_rows": null,
            "grid_column": null,
            "grid_gap": null,
            "grid_row": null,
            "grid_template_areas": null,
            "grid_template_columns": null,
            "grid_template_rows": null,
            "height": null,
            "justify_content": null,
            "justify_items": null,
            "left": null,
            "margin": null,
            "max_height": null,
            "max_width": null,
            "min_height": null,
            "min_width": null,
            "object_fit": null,
            "object_position": null,
            "order": null,
            "overflow": null,
            "overflow_x": null,
            "overflow_y": null,
            "padding": null,
            "right": null,
            "top": null,
            "visibility": null,
            "width": null
          }
        },
        "feca77f950bf45d0a9408d50e645da70": {
          "model_module": "@jupyter-widgets/controls",
          "model_module_version": "1.5.0",
          "model_name": "DescriptionStyleModel",
          "state": {
            "_model_module": "@jupyter-widgets/controls",
            "_model_module_version": "1.5.0",
            "_model_name": "DescriptionStyleModel",
            "_view_count": null,
            "_view_module": "@jupyter-widgets/base",
            "_view_module_version": "1.2.0",
            "_view_name": "StyleView",
            "description_width": ""
          }
        }
      }
    }
  },
  "nbformat": 4,
  "nbformat_minor": 0
}
