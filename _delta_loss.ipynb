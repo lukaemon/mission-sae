{
 "cells": [
  {
   "cell_type": "code",
   "execution_count": 1,
   "metadata": {},
   "outputs": [
    {
     "data": {
      "application/vnd.jupyter.widget-view+json": {
       "model_id": "9b609da0f8f944a88889b0a552e8d624",
       "version_major": 2,
       "version_minor": 0
      },
      "text/plain": [
       "Loading dataset from disk:   0%|          | 0/152 [00:00<?, ?it/s]"
      ]
     },
     "metadata": {},
     "output_type": "display_data"
    },
    {
     "name": "stdout",
     "output_type": "stream",
     "text": [
      "Loaded 8,013,769 sample texts from data/owt_tokenized\n"
     ]
    },
    {
     "name": "stderr",
     "output_type": "stream",
     "text": [
      "/home/lukaemon/miniconda3/envs/topk_sae/lib/python3.11/site-packages/huggingface_hub/file_download.py:1132: FutureWarning: `resume_download` is deprecated and will be removed in version 1.0.0. Downloads always resume when possible. If you want to force a new download, use `force_download=True`.\n",
      "  warnings.warn(\n"
     ]
    },
    {
     "name": "stdout",
     "output_type": "stream",
     "text": [
      "Loaded pretrained model gpt2 into HookedTransformer\n",
      "Loaded pretrained SAE data/sae/v5_32k_location_resid_post_mlp_layer_6.pt\n",
      "Loaded pretrained SAE data/sae/v5_128k_location_resid_post_mlp_layer_6.pt\n"
     ]
    }
   ],
   "source": [
    "\"\"\"dimension annotation\n",
    "b: batch\n",
    "t: token position\n",
    "d: d_model\n",
    "\n",
    "t64 means it's still a t dimension with size of 64\n",
    "\"\"\"\n",
    "\n",
    "from functools import partial\n",
    "\n",
    "import numpy as np\n",
    "import torch\n",
    "\n",
    "import transformer_lens.utils as utils\n",
    "from transformer_lens import HookedTransformer\n",
    "from tqdm import tqdm\n",
    "\n",
    "from openwebtext import load_owt, sample\n",
    "from pretrained_sae import load_sae\n",
    "\n",
    "torch.set_grad_enabled(False)\n",
    "\n",
    "seed = 42\n",
    "rng = np.random.default_rng(seed)\n",
    "\n",
    "layer_index = 6\n",
    "location = \"resid_post_mlp\"\n",
    "device = utils.get_device()\n",
    "\n",
    "ds = load_owt()\n",
    "gpt2 = HookedTransformer.from_pretrained(\"gpt2\", center_writing_weights=False)\n",
    "\n",
    "sae_32k = load_sae(32, location, layer_index, device)\n",
    "sae_128k = load_sae(128, location, layer_index, device)"
   ]
  },
  {
   "cell_type": "code",
   "execution_count": 2,
   "metadata": {},
   "outputs": [],
   "source": [
    "def hook_fn_reconstruct_act(act_btd, hook, sae):\n",
    "    latent, info = sae.encode(act_btd)\n",
    "    recon_act_btd = sae.decode(latent, info)\n",
    "\n",
    "    return recon_act_btd"
   ]
  },
  {
   "cell_type": "code",
   "execution_count": 3,
   "metadata": {},
   "outputs": [
    {
     "name": "stderr",
     "output_type": "stream",
     "text": [
      "  0%|          | 0/256 [00:00<?, ?batch/s]"
     ]
    },
    {
     "name": "stderr",
     "output_type": "stream",
     "text": [
      "100%|██████████| 256/256 [01:09<00:00,  3.69batch/s]\n"
     ]
    }
   ],
   "source": [
    "batch_size = 16\n",
    "n_batch = 256\n",
    "\n",
    "loss = []\n",
    "loss_sae32k = []\n",
    "loss_sae128k = []\n",
    "\n",
    "for _ in tqdm(range(n_batch), unit='batch'):\n",
    "    batch_bt64 = sample(ds, batch_size, rng=rng)\n",
    "\n",
    "    l = gpt2(batch_bt64, return_type='loss')\n",
    "    l32 = gpt2.run_with_hooks(\n",
    "        batch_bt64,\n",
    "        return_type='loss',\n",
    "        fwd_hooks=[(\n",
    "            utils.get_act_name('resid_post', layer_index),\n",
    "            partial(hook_fn_reconstruct_act, sae=sae_32k)\n",
    "        )]\n",
    "    )\n",
    "    l128 = gpt2.run_with_hooks(\n",
    "        batch_bt64,\n",
    "        return_type='loss',\n",
    "        fwd_hooks=[(\n",
    "            utils.get_act_name('resid_post', layer_index),\n",
    "            partial(hook_fn_reconstruct_act, sae=sae_128k)\n",
    "        )]\n",
    "    )\n",
    "\n",
    "    loss.append(l.item())\n",
    "    loss_sae32k.append(l32.item())\n",
    "    loss_sae128k.append(l128.item())\n"
   ]
  },
  {
   "cell_type": "code",
   "execution_count": 4,
   "metadata": {},
   "outputs": [
    {
     "name": "stdout",
     "output_type": "stream",
     "text": [
      "loss  3.733\n",
      "sae 32k loss  3.834\n",
      "sae 128k loss  3.792\n"
     ]
    }
   ],
   "source": [
    "print(f\"loss {np.mean(loss): .3f}\")\n",
    "print(f\"sae 32k loss {np.mean(loss_sae32k): .3f}\")\n",
    "print(f\"sae 128k loss {np.mean(loss_sae128k): .3f}\")"
   ]
  },
  {
   "cell_type": "code",
   "execution_count": 5,
   "metadata": {},
   "outputs": [
    {
     "name": "stdout",
     "output_type": "stream",
     "text": [
      "delta loss, sae 32k 0.10161\n",
      "delta loss, sae 128k 0.05963\n"
     ]
    }
   ],
   "source": [
    "print(f'delta loss, sae 32k {np.mean(loss_sae32k) - np.mean(loss):.5f}')\n",
    "print(f'delta loss, sae 128k {np.mean(loss_sae128k) - np.mean(loss):.5f}')"
   ]
  },
  {
   "cell_type": "code",
   "execution_count": null,
   "metadata": {},
   "outputs": [],
   "source": []
  }
 ],
 "metadata": {
  "kernelspec": {
   "display_name": "topk_sae",
   "language": "python",
   "name": "python3"
  },
  "language_info": {
   "codemirror_mode": {
    "name": "ipython",
    "version": 3
   },
   "file_extension": ".py",
   "mimetype": "text/x-python",
   "name": "python",
   "nbconvert_exporter": "python",
   "pygments_lexer": "ipython3",
   "version": "3.11.9"
  }
 },
 "nbformat": 4,
 "nbformat_minor": 2
}
