{
 "cells": [
  {
   "cell_type": "code",
   "execution_count": 1,
   "metadata": {},
   "outputs": [
    {
     "data": {
      "application/vnd.jupyter.widget-view+json": {
       "model_id": "4db8ffe9d40e4a7db923a03b32ada3a4",
       "version_major": 2,
       "version_minor": 0
      },
      "text/plain": [
       "Loading dataset from disk:   0%|          | 0/152 [00:00<?, ?it/s]"
      ]
     },
     "metadata": {},
     "output_type": "display_data"
    },
    {
     "name": "stdout",
     "output_type": "stream",
     "text": [
      "Loaded 8,013,769 sample texts from data/owt_tokenized\n"
     ]
    },
    {
     "name": "stderr",
     "output_type": "stream",
     "text": [
      "/home/lukaemon/miniconda3/envs/topk_sae/lib/python3.11/site-packages/huggingface_hub/file_download.py:1132: FutureWarning: `resume_download` is deprecated and will be removed in version 1.0.0. Downloads always resume when possible. If you want to force a new download, use `force_download=True`.\n",
      "  warnings.warn(\n"
     ]
    },
    {
     "name": "stdout",
     "output_type": "stream",
     "text": [
      "Loaded pretrained model gpt2 into HookedTransformer\n",
      "Loaded pretrained SAE data/sae/v5_32k_location_resid_post_mlp_layer_8.pt\n"
     ]
    }
   ],
   "source": [
    "\"\"\"dimension annotation\n",
    "b: batch\n",
    "t: token position\n",
    "d: d_model\n",
    "v: model token vocab size\n",
    "l: SAE n latent\n",
    "k: topk\n",
    "\"\"\"\n",
    "\n",
    "from functools import partial\n",
    "\n",
    "import numpy as np\n",
    "import torch\n",
    "\n",
    "import transformer_lens.utils as utils\n",
    "from transformer_lens import HookedTransformer\n",
    "from tqdm import tqdm\n",
    "\n",
    "from openwebtext import load_owt, sample\n",
    "from pretrained_sae import load_sae\n",
    "\n",
    "torch.set_grad_enabled(False)\n",
    "\n",
    "layer_index = 8\n",
    "location = \"resid_post_mlp\"\n",
    "device = utils.get_device()\n",
    "\n",
    "ds = load_owt()\n",
    "gpt2 = HookedTransformer.from_pretrained(\"gpt2\", center_writing_weights=False)\n",
    "sae = load_sae(32, location, layer_index, device)"
   ]
  },
  {
   "cell_type": "code",
   "execution_count": 2,
   "metadata": {},
   "outputs": [],
   "source": [
    "ablate_token_idx = 0\n",
    "V = 50257\n",
    "T = 16\n",
    "\n",
    "# IndexError: index 31 is out of bounds for dimension 1 with size 31\n",
    "# was using 32, some sample doesn't have 32 features, so do ablation on top 16 strongest activated feature\n",
    "K = 30 \n",
    "\n",
    "D = 768"
   ]
  },
  {
   "cell_type": "code",
   "execution_count": 3,
   "metadata": {},
   "outputs": [],
   "source": [
    "def fn_ablate_feature(act_btd, hook, ablate_feature_idx, ablate_token_idx):\n",
    "    lact_btk, _ = sae.encode(act_btd)\n",
    "    lact_k = lact_btk[0, ablate_token_idx]\n",
    "    \n",
    "    # Sort lact_k by absolute value, descending\n",
    "    sorted_indices = torch.argsort(lact_k.abs(), descending=True)\n",
    "    lact_k = lact_k[sorted_indices]\n",
    "\n",
    "    ldir_dk = sae.decoder.weight[:, sorted_indices]\n",
    "    all_feature_dk = ldir_dk * lact_k\n",
    "\n",
    "    active_feature = all_feature_dk[:, all_feature_dk.sum(dim=0) != 0]  # (d, 32)s\n",
    "    ablate_feature = active_feature[:, ablate_feature_idx]  # (d, )\n",
    "\n",
    "    act = act_btd.clone()\n",
    "\n",
    "    # subtract ablate_feature from target token AND all previous tokens's activation\n",
    "    # act[0, : ablate_token_idx + 1] -= ablate_feature\n",
    "\n",
    "    # subtract ablate_feature only from target token activation\n",
    "    act[0, ablate_token_idx] -= ablate_feature\n",
    "\n",
    "    return act"
   ]
  },
  {
   "cell_type": "code",
   "execution_count": 4,
   "metadata": {},
   "outputs": [],
   "source": [
    "def proc_ablate_feature(sample_1t):\n",
    "    logit_btv = gpt2(sample_1t)    \n",
    "    \n",
    "    bin = []\n",
    "    for i in range(K):\n",
    "        ablated_logit_btv = gpt2.run_with_hooks(\n",
    "            sample_1t,\n",
    "            return_type=\"logits\",\n",
    "            fwd_hooks=[\n",
    "                (\n",
    "                    utils.get_act_name(\"resid_post\", layer_index),\n",
    "                    partial(\n",
    "                        fn_ablate_feature,\n",
    "                        ablate_feature_idx=i,\n",
    "                        ablate_token_idx=ablate_token_idx,\n",
    "                    ),\n",
    "                )\n",
    "            ],\n",
    "        )\n",
    "\n",
    "        logit_diff_tv = (\n",
    "            logit_btv[0, ablate_token_idx : ablate_token_idx + T]\n",
    "            - ablated_logit_btv[0, ablate_token_idx : ablate_token_idx + T]\n",
    "        )\n",
    "\n",
    "        median_diff_t = torch.median(logit_diff_tv, dim=1)[0]\n",
    "\n",
    "        logit_diff_tv -= median_diff_t[..., None]\n",
    "        bin.append(logit_diff_tv)\n",
    "\n",
    "    vt = torch.stack(bin).view(-1, V * T)\n",
    "    l1 = torch.abs(vt).sum(-1)\n",
    "    l2 = (vt**2).sum(-1) ** 0.5\n",
    "\n",
    "    bench = (l1 / l2) ** 2\n",
    "    normalized_bench = bench / (V * T)\n",
    "\n",
    "    return normalized_bench.mean().item()"
   ]
  },
  {
   "cell_type": "code",
   "execution_count": 5,
   "metadata": {},
   "outputs": [],
   "source": [
    "def fn_ablate_resid_stream_channel(act_btd, hook, ablate_channel_idx, ablate_token_idx):\n",
    "    act = act_btd.clone()\n",
    "    act[:, ablate_token_idx, ablate_channel_idx] = 0 \n",
    "    return act"
   ]
  },
  {
   "cell_type": "code",
   "execution_count": 6,
   "metadata": {},
   "outputs": [],
   "source": [
    "def proc_ablate_resid_stream_channel(sample_1t):\n",
    "    logit_btv = gpt2(sample_1t)\n",
    "\n",
    "    bin = []\n",
    "    for i in range(D):\n",
    "        ablated_logit_btv = gpt2.run_with_hooks(\n",
    "            sample_1t,\n",
    "            return_type=\"logits\",\n",
    "            fwd_hooks=[\n",
    "                (\n",
    "                    utils.get_act_name(\"resid_post\", layer_index),\n",
    "                    partial(\n",
    "                        fn_ablate_resid_stream_channel,\n",
    "                        ablate_channel_idx=i,\n",
    "                        ablate_token_idx=ablate_token_idx,\n",
    "                    ),\n",
    "                )\n",
    "            ],\n",
    "        )\n",
    "\n",
    "        logit_diff_tv = (\n",
    "            logit_btv[0, ablate_token_idx : ablate_token_idx + T]\n",
    "            - ablated_logit_btv[0, ablate_token_idx : ablate_token_idx + T]\n",
    "        )\n",
    "\n",
    "        median_diff_t = torch.median(logit_diff_tv, dim=1)[0]\n",
    "\n",
    "        logit_diff_tv -= median_diff_t[..., None]\n",
    "        bin.append(logit_diff_tv)\n",
    "\n",
    "    vt = torch.stack(bin).view(-1, V * T)\n",
    "    l1 = torch.abs(vt).sum(-1)\n",
    "    l2 = (vt**2).sum(-1) ** 0.5\n",
    "\n",
    "    bench = (l1 / l2) ** 2\n",
    "    normalized_bench = bench / (V * T)\n",
    "    \n",
    "    return normalized_bench.mean().item()"
   ]
  },
  {
   "cell_type": "code",
   "execution_count": 7,
   "metadata": {},
   "outputs": [
    {
     "name": "stderr",
     "output_type": "stream",
     "text": [
      "100%|██████████| 64/64 [12:23<00:00, 11.62s/sample]\n"
     ]
    }
   ],
   "source": [
    "n_sample = 64\n",
    "sparsity_feature, sparsity_channel = [], []\n",
    "\n",
    "for _ in tqdm(range(n_sample), unit='sample'):\n",
    "    sample_1t = sample(ds, 1)\n",
    "    sf = proc_ablate_feature(sample_1t)\n",
    "    sparsity_feature.append(sf)\n",
    "\n",
    "    sc = proc_ablate_resid_stream_channel(sample_1t)\n",
    "    sparsity_channel.append(sc)"
   ]
  },
  {
   "cell_type": "code",
   "execution_count": 8,
   "metadata": {},
   "outputs": [
    {
     "name": "stdout",
     "output_type": "stream",
     "text": [
      "downstream effect sparsity of SAE feature: 19.31%\n",
      "downstream effect sparsity of resid stream channel: 24.81%\n"
     ]
    }
   ],
   "source": [
    "print(f\"downstream effect sparsity of SAE feature: {np.mean(sparsity_feature) * 100:.2f}%\")\n",
    "print(f\"downstream effect sparsity of resid stream channel: {np.mean(sparsity_channel) * 100:.2f}%\")"
   ]
  },
  {
   "cell_type": "code",
   "execution_count": null,
   "metadata": {},
   "outputs": [],
   "source": []
  }
 ],
 "metadata": {
  "kernelspec": {
   "display_name": "topk_sae",
   "language": "python",
   "name": "python3"
  },
  "language_info": {
   "codemirror_mode": {
    "name": "ipython",
    "version": 3
   },
   "file_extension": ".py",
   "mimetype": "text/x-python",
   "name": "python",
   "nbconvert_exporter": "python",
   "pygments_lexer": "ipython3",
   "version": "3.11.9"
  }
 },
 "nbformat": 4,
 "nbformat_minor": 2
}
