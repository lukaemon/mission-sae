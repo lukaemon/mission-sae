{
 "cells": [
  {
   "cell_type": "code",
   "execution_count": 1,
   "metadata": {},
   "outputs": [
    {
     "data": {
      "application/vnd.jupyter.widget-view+json": {
       "model_id": "d566366a505c4de393c6ac9b8be236a4",
       "version_major": 2,
       "version_minor": 0
      },
      "text/plain": [
       "Loading dataset from disk:   0%|          | 0/152 [00:00<?, ?it/s]"
      ]
     },
     "metadata": {},
     "output_type": "display_data"
    },
    {
     "name": "stdout",
     "output_type": "stream",
     "text": [
      "Loaded 8,013,769 sample texts from data/owt_tokenized\n"
     ]
    },
    {
     "name": "stderr",
     "output_type": "stream",
     "text": [
      "/home/lukaemon/miniconda3/envs/topk_sae/lib/python3.11/site-packages/huggingface_hub/file_download.py:1132: FutureWarning: `resume_download` is deprecated and will be removed in version 1.0.0. Downloads always resume when possible. If you want to force a new download, use `force_download=True`.\n",
      "  warnings.warn(\n"
     ]
    },
    {
     "name": "stdout",
     "output_type": "stream",
     "text": [
      "Loaded pretrained model gpt2 into HookedTransformer\n",
      "Loaded pretrained SAE data/sae/v5_32k_location_resid_post_mlp_layer_8.pt\n"
     ]
    }
   ],
   "source": [
    "\"\"\"dimension annotation\n",
    "b: batch\n",
    "t: token position\n",
    "d: d_model\n",
    "v: model token vocab size\n",
    "l: SAE n latent\n",
    "k: topk\n",
    "\"\"\"\n",
    "\n",
    "from functools import partial\n",
    "\n",
    "import numpy as np\n",
    "import torch\n",
    "import einops\n",
    "\n",
    "import transformer_lens.utils as utils\n",
    "from transformer_lens import HookedTransformer\n",
    "\n",
    "from openwebtext import load_owt, sample\n",
    "from pretrained_sae import load_sae\n",
    "\n",
    "torch.set_grad_enabled(False)\n",
    "\n",
    "layer_index = 8\n",
    "location = \"resid_post_mlp\"\n",
    "device = utils.get_device()\n",
    "\n",
    "ds = load_owt()\n",
    "gpt2 = HookedTransformer.from_pretrained(\"gpt2\", center_writing_weights=False)\n",
    "sae = load_sae(32, location, layer_index, device)"
   ]
  },
  {
   "cell_type": "code",
   "execution_count": 2,
   "metadata": {},
   "outputs": [],
   "source": [
    "ablate_token_idx = 32\n",
    "T = 16\n",
    "\n",
    "batch = sample(ds, 1)\n",
    "logit, cache = gpt2.run_with_cache(batch, return_type='logits')"
   ]
  },
  {
   "cell_type": "code",
   "execution_count": 3,
   "metadata": {},
   "outputs": [],
   "source": [
    "def fn(act_btd, hook, ablate_feature_idx, ablate_token_idx=ablate_token_idx):\n",
    "    lact_btk, _ = sae.encode(act_btd)\n",
    "    lact_k = lact_btk[0, ablate_token_idx]\n",
    "\n",
    "    ldir_dk = sae.decoder.weight\n",
    "    all_feature_dk = ldir_dk * lact_k\n",
    "\n",
    "    active_feature = all_feature_dk[:, all_feature_dk.sum(dim=0) != 0]  # (d, 32)\n",
    "    ablate_feature = active_feature[:, ablate_feature_idx]  # (d, )\n",
    "\n",
    "    act = act_btd.clone()\n",
    "\n",
    "    # subtrack ablate feature from target token activation\n",
    "    act[0, ablate_token_idx] -= ablate_feature\n",
    "\n",
    "    return act"
   ]
  },
  {
   "cell_type": "code",
   "execution_count": 4,
   "metadata": {},
   "outputs": [],
   "source": [
    "bin = []\n",
    "\n",
    "for i in range(32):\n",
    "    ablated_logit = gpt2.run_with_hooks(\n",
    "        batch,\n",
    "        return_type=\"logits\",\n",
    "        fwd_hooks=[\n",
    "            (\n",
    "                utils.get_act_name(\"resid_post\", layer_index),\n",
    "                partial(fn, ablate_feature_idx=0),\n",
    "            )\n",
    "        ],\n",
    "    )\n",
    "\n",
    "    logit_diff = (\n",
    "        logit[0, ablate_token_idx : ablate_token_idx + T]\n",
    "        - ablated_logit[0, ablate_token_idx : ablate_token_idx + T]\n",
    "    )\n",
    "\n",
    "    median_diff = torch.median(logit_diff, dim=1)[0]\n",
    "\n",
    "    logit_diff -= median_diff[..., None]\n",
    "    bin.append(logit_diff)\n"
   ]
  },
  {
   "cell_type": "code",
   "execution_count": 5,
   "metadata": {},
   "outputs": [
    {
     "data": {
      "text/plain": [
       "torch.Size([32, 16, 50257])"
      ]
     },
     "execution_count": 5,
     "metadata": {},
     "output_type": "execute_result"
    }
   ],
   "source": [
    "vt = torch.stack(bin)\n",
    "vt.shape"
   ]
  },
  {
   "cell_type": "code",
   "execution_count": 6,
   "metadata": {},
   "outputs": [
    {
     "data": {
      "text/plain": [
       "(torch.Size([32, 16]), torch.Size([32, 16]))"
      ]
     },
     "execution_count": 6,
     "metadata": {},
     "output_type": "execute_result"
    }
   ],
   "source": [
    "l1 = torch.abs(vt).sum(-1)\n",
    "l2 = (vt ** 2).sum(-1) ** 0.5\n",
    "\n",
    "l1.shape, l2.shape"
   ]
  },
  {
   "cell_type": "code",
   "execution_count": 7,
   "metadata": {},
   "outputs": [
    {
     "data": {
      "text/plain": [
       "torch.Size([32, 16])"
      ]
     },
     "execution_count": 7,
     "metadata": {},
     "output_type": "execute_result"
    }
   ],
   "source": [
    "bench = (l1 / l2) ** 2\n",
    "bench.shape\n"
   ]
  },
  {
   "cell_type": "code",
   "execution_count": 8,
   "metadata": {},
   "outputs": [
    {
     "data": {
      "text/plain": [
       "tensor(0.6502, device='cuda:0')"
      ]
     },
     "execution_count": 8,
     "metadata": {},
     "output_type": "execute_result"
    }
   ],
   "source": [
    "bench = (bench - bench.min()) / (bench.max() - bench.min())\n",
    "bench.mean()"
   ]
  },
  {
   "cell_type": "code",
   "execution_count": null,
   "metadata": {},
   "outputs": [],
   "source": []
  }
 ],
 "metadata": {
  "kernelspec": {
   "display_name": "topk_sae",
   "language": "python",
   "name": "python3"
  },
  "language_info": {
   "codemirror_mode": {
    "name": "ipython",
    "version": 3
   },
   "file_extension": ".py",
   "mimetype": "text/x-python",
   "name": "python",
   "nbconvert_exporter": "python",
   "pygments_lexer": "ipython3",
   "version": "3.11.9"
  }
 },
 "nbformat": 4,
 "nbformat_minor": 2
}
